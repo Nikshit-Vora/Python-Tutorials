{
 "cells": [
  {
   "cell_type": "markdown",
   "id": "21d0e255",
   "metadata": {},
   "source": [
    "# 15. Find Pythagorean triplets in an array"
   ]
  },
  {
   "cell_type": "code",
   "execution_count": 1,
   "id": "6b605a1f",
   "metadata": {},
   "outputs": [
    {
     "name": "stdout",
     "output_type": "stream",
     "text": [
      "3 4 5\n"
     ]
    }
   ],
   "source": [
    "from itertools import combinations\n",
    "\n",
    "l = [1,2,5,8,9,3,8,4,10]\n",
    "for i in combinations(l,3):\n",
    "    a,b,c = sorted(i)\n",
    "    if a**2 + b**2 == c**2:\n",
    "        print(a,b,c)\n"
   ]
  },
  {
   "cell_type": "code",
   "execution_count": null,
   "id": "5e18dbd9",
   "metadata": {},
   "outputs": [],
   "source": []
  },
  {
   "cell_type": "markdown",
   "id": "e66f3cf8",
   "metadata": {},
   "source": [
    "# 14. Find union of 2 arrays"
   ]
  },
  {
   "cell_type": "code",
   "execution_count": 2,
   "id": "89a04559",
   "metadata": {},
   "outputs": [
    {
     "name": "stdout",
     "output_type": "stream",
     "text": [
      "[1, 2, 3, 4, 5, 6, 7]\n"
     ]
    }
   ],
   "source": [
    "l1 = [1,2,3,4,5,6]\n",
    "l2 = [1,5,7]\n",
    "u = []\n",
    "\n",
    "i = 0\n",
    "j = 0\n",
    "while i < len(l1) and j < len(l2):\n",
    "    if l1[i] == l2[j]:\n",
    "        u.append(l1[i])\n",
    "        i += 1\n",
    "        j += 1\n",
    "    elif l1[i] < l2[j]:\n",
    "        u.append(l1[i])\n",
    "        i += 1\n",
    "    else:\n",
    "        u.append(l2[j])\n",
    "        j += 1\n",
    "\n",
    "# Append remaining elements from l\n",
    "while i < len(l1):\n",
    "    u.append(l1[i])\n",
    "    i += 1\n",
    "\n",
    "# Append remaining elements from m\n",
    "while j < len(l2):\n",
    "    u.append(l2[j])\n",
    "    j += 1\n",
    "\n",
    "print(u)"
   ]
  },
  {
   "cell_type": "code",
   "execution_count": null,
   "id": "c61caf36",
   "metadata": {},
   "outputs": [],
   "source": []
  },
  {
   "cell_type": "markdown",
   "id": "d71b2815",
   "metadata": {},
   "source": [
    "# 13. Maximum Product Subarray"
   ]
  },
  {
   "cell_type": "code",
   "execution_count": 3,
   "id": "b1f933a1",
   "metadata": {},
   "outputs": [
    {
     "name": "stdout",
     "output_type": "stream",
     "text": [
      "50\n"
     ]
    }
   ],
   "source": [
    "l = [1,2,3,4,-89,5,10]\n",
    "curr_prod = 0\n",
    "max_prod = 0\n",
    "for i in l:\n",
    "    curr_prod *= i\n",
    "    curr_prod = max(i,curr_prod)\n",
    "    max_prod = max(curr_prod,max_prod)\n",
    "print(max_prod)"
   ]
  },
  {
   "cell_type": "code",
   "execution_count": null,
   "id": "2d5454a5",
   "metadata": {},
   "outputs": [],
   "source": []
  },
  {
   "cell_type": "markdown",
   "id": "dbdfdb10",
   "metadata": {},
   "source": [
    "# 12. Move all -ve numbers to the end"
   ]
  },
  {
   "cell_type": "code",
   "execution_count": 4,
   "id": "c2262716",
   "metadata": {},
   "outputs": [
    {
     "name": "stdout",
     "output_type": "stream",
     "text": [
      "[7, 8, 5, 98, 8, 9, 6, 45, 7, 8, 52, 98, 5, -7, -85, -2, -5]\n"
     ]
    }
   ],
   "source": [
    "l = [7,8,5,98,-5,8,-7,9,6,-2,45,7,8,52,-85,98,5]\n",
    "\n",
    "for i in range(len(l)):\n",
    "    if l[i]<0:\n",
    "        l.append(l.pop(i))\n",
    "print(l)"
   ]
  },
  {
   "cell_type": "code",
   "execution_count": null,
   "id": "afec7ea0",
   "metadata": {},
   "outputs": [],
   "source": []
  },
  {
   "cell_type": "markdown",
   "id": "957f2074",
   "metadata": {},
   "source": [
    "# 11. Sort arrays with items 1 and 0"
   ]
  },
  {
   "cell_type": "code",
   "execution_count": 5,
   "id": "067c71bc",
   "metadata": {},
   "outputs": [
    {
     "name": "stdout",
     "output_type": "stream",
     "text": [
      "[0, 0, 0, 0, 0, 0, 0, 0, 0, 0, 0, 1, 1, 1, 1, 1, 1, 1, 1, 1, 1, 1, 1]\n"
     ]
    }
   ],
   "source": [
    "l = [1,0,1,0,1,0,1,0,0,0,0,1,1,1,1,1,0,1,0,1,0,1,0]\n",
    "for i in range(len(l)):\n",
    "    if l[i]==0:\n",
    "        l.insert(0,l.pop(i))\n",
    "print(l)"
   ]
  },
  {
   "cell_type": "code",
   "execution_count": 6,
   "id": "b6f4deee",
   "metadata": {},
   "outputs": [
    {
     "name": "stdout",
     "output_type": "stream",
     "text": [
      "[0, 0, 0, 0, 0, 0, 0, 0, 0, 0, 0, 1, 1, 1, 1, 1, 1, 1, 1, 1, 1, 1, 1]\n"
     ]
    }
   ],
   "source": [
    "l = [1,0,1,0,1,0,1,0,0,0,0,1,1,1,1,1,0,1,0,1,0,1,0]\n",
    "l = sorted(l)\n",
    "print(l)"
   ]
  },
  {
   "cell_type": "code",
   "execution_count": null,
   "id": "6debdc5a",
   "metadata": {},
   "outputs": [],
   "source": []
  },
  {
   "cell_type": "markdown",
   "id": "14b87827",
   "metadata": {},
   "source": [
    "# 10. Maximum Sum Subarray"
   ]
  },
  {
   "cell_type": "markdown",
   "id": "acd663cc",
   "metadata": {},
   "source": [
    "### Kadane's Algoritham"
   ]
  },
  {
   "cell_type": "code",
   "execution_count": 7,
   "id": "9b1fb342",
   "metadata": {},
   "outputs": [
    {
     "name": "stdout",
     "output_type": "stream",
     "text": [
      "22\n"
     ]
    }
   ],
   "source": [
    "# Max sum of subarray\n",
    "\n",
    "l = [-2,4,7,-1,6,-11,14,3,-1,-6]\n",
    "\n",
    "max_sum = float('-inf')\n",
    "curr_sum = 0\n",
    "\n",
    "for i in l:\n",
    "    curr_sum = curr_sum + i\n",
    "    curr_sum = max(i,curr_sum)\n",
    "    max_sum = max(max_sum,curr_sum)\n",
    "print(max_sum)"
   ]
  },
  {
   "cell_type": "code",
   "execution_count": 8,
   "id": "a95897b8",
   "metadata": {},
   "outputs": [
    {
     "name": "stdout",
     "output_type": "stream",
     "text": [
      "[4, 7, -1, 6, -11, 14, 3, -1, -6] 22\n"
     ]
    }
   ],
   "source": [
    "# 1st method --> return subarray\n",
    "# Time Complexity - O(N)^2\n",
    "\n",
    "L = [-2,4,7,-1,6,-11,14,3,-1,-6]\n",
    "d = {}\n",
    "\n",
    "for i in range(0,len(L)):\n",
    "    subarray = []\n",
    "    for j in range(i,len(L)):\n",
    "        subarray.append(L[j])\n",
    "        d[sum(subarray)]= subarray\n",
    "\n",
    "max_val = max(d.keys())\n",
    "\n",
    "for i in d:\n",
    "    if i==max_val:\n",
    "        print(d[i],max_val)       "
   ]
  },
  {
   "cell_type": "code",
   "execution_count": 9,
   "id": "b80248ea",
   "metadata": {},
   "outputs": [
    {
     "name": "stdout",
     "output_type": "stream",
     "text": [
      "[4, 7, -1, 6, -11, 14, 3, -1, -6] 22\n"
     ]
    }
   ],
   "source": [
    "# 2nd method \n",
    "# Time Complexity - O(N)\n",
    "\n",
    "L = [-2,4,7,-1,6,-11,14,3,-1,-6]\n",
    "\n",
    "curr_sum = 0\n",
    "curr_seq = []\n",
    "\n",
    "best_sum = 0\n",
    "best_seq = []\n",
    "\n",
    "for i in L:\n",
    "    if i + curr_sum > i:\n",
    "        curr_sum = curr_sum + i\n",
    "        curr_seq.append(i)\n",
    "    else:\n",
    "        curr_sum = i\n",
    "        curr_seq.clear()\n",
    "        curr_seq.append(i)\n",
    "    \n",
    "    if curr_sum > best_sum:\n",
    "        best_sum = curr_sum\n",
    "        best_seq = curr_seq\n",
    "    \n",
    "print(best_seq,best_sum)"
   ]
  },
  {
   "cell_type": "code",
   "execution_count": null,
   "id": "3d7d7c25",
   "metadata": {},
   "outputs": [],
   "source": []
  },
  {
   "cell_type": "code",
   "execution_count": 10,
   "id": "0709e67d",
   "metadata": {},
   "outputs": [
    {
     "name": "stdout",
     "output_type": "stream",
     "text": [
      "[4, 7, -1, 6, -11, 14, 3] 22\n"
     ]
    }
   ],
   "source": [
    "L = [-2, 4, 7, -1, 6, -11, 14, 3, -1, -6]\n",
    "\n",
    "curr_sum = 0\n",
    "curr_seq = []\n",
    "\n",
    "best_sum = 0\n",
    "best_seq = []\n",
    "\n",
    "for i in L:\n",
    "    if i + curr_sum > i:\n",
    "        curr_sum = curr_sum + i\n",
    "        curr_seq.append(i)\n",
    "    else:\n",
    "        curr_sum = i\n",
    "        curr_seq = [i] \n",
    "\n",
    "    if curr_sum > best_sum:\n",
    "        best_sum = curr_sum\n",
    "        best_seq = curr_seq[:]\n",
    "\n",
    "print(best_seq, best_sum)"
   ]
  },
  {
   "cell_type": "markdown",
   "id": "6ff8f9c6",
   "metadata": {},
   "source": [
    "# 9. Find element with left side smaller/right side greater in an array"
   ]
  },
  {
   "cell_type": "code",
   "execution_count": 11,
   "id": "e8941931",
   "metadata": {},
   "outputs": [
    {
     "name": "stdout",
     "output_type": "stream",
     "text": [
      "3\n",
      "5\n"
     ]
    }
   ],
   "source": [
    "# 1st method\n",
    "# Time Complexity - O(N)^2\n",
    "\n",
    "l = [2,1,3,5,8,7,9]\n",
    "for i in range(1,len(l)-1):\n",
    "    flag = True\n",
    "    for j in range(0,i):\n",
    "        if l[j]>l[i]:\n",
    "            flag = False\n",
    "    for k in range(i+1,len(l)):\n",
    "        if l[k]<l[i]:\n",
    "            flag = False\n",
    "    if flag:\n",
    "        print(l[i]) \n"
   ]
  },
  {
   "cell_type": "code",
   "execution_count": 12,
   "id": "ffd1751a",
   "metadata": {},
   "outputs": [
    {
     "name": "stdout",
     "output_type": "stream",
     "text": [
      "3\n",
      "5\n"
     ]
    }
   ],
   "source": [
    "# 2nd method\n",
    "# Time Complexity - O(N)^2\n",
    "\n",
    "l = [2,1,3,5,8,7,9]\n",
    "for i in range(1,len(l)-1):\n",
    "    if max(l[:i]) < l[i] < min(l[i+1:]):\n",
    "        print(l[i])"
   ]
  },
  {
   "cell_type": "code",
   "execution_count": 13,
   "id": "4cf41971",
   "metadata": {},
   "outputs": [
    {
     "name": "stdout",
     "output_type": "stream",
     "text": [
      "5\n"
     ]
    }
   ],
   "source": [
    "# 3rd method\n",
    "# Time Complexity - O(N) - NO Nested Loop\n",
    "\n",
    "l = [3,2,1,5,8,7,9]\n",
    "\n",
    "max_arr = []\n",
    "min_arr = []\n",
    "\n",
    "max_val = l[0]\n",
    "min_val = l[-1]\n",
    "\n",
    "for i in l:\n",
    "    if i>max_val:\n",
    "        max_val = i\n",
    "    max_arr.append(max_val)\n",
    "    \n",
    "for i in range(len(l)-1,-1,-1):\n",
    "    if l[i] < min_val:\n",
    "        min_val = l[i]\n",
    "    min_arr.insert(0,min_val)\n",
    "    \n",
    "for i in range(1,len(l)-1):\n",
    "    if max_arr[i-1] < l[i] < min_arr[i+1]:\n",
    "        print(l[i])\n",
    "        \n"
   ]
  },
  {
   "cell_type": "markdown",
   "id": "ae34e297",
   "metadata": {},
   "source": [
    "# 8. Find continous subarray with a given sum (given non negative numbers). Return the starting and ending index of the subarray. Return 1st subarray in case of multiple."
   ]
  },
  {
   "cell_type": "code",
   "execution_count": 14,
   "id": "cd46fd2e",
   "metadata": {},
   "outputs": [
    {
     "name": "stdout",
     "output_type": "stream",
     "text": [
      "[7, 9, 11]\n"
     ]
    }
   ],
   "source": [
    "# 1st method\n",
    "# Time Complexity - O(N)^2\n",
    "\n",
    "l = [1,22,13,7,9,11,10]\n",
    "s = 27\n",
    "\n",
    "for i in range(0,len(l)):    # O(N)\n",
    "    sub_array = []\n",
    "    for j in range(i,len(l)):   # O(N)\n",
    "        sub_array.append(l[j])\n",
    "        #print(sub_array)\n",
    "        if sum(sub_array) == s:\n",
    "            print(sub_array)"
   ]
  },
  {
   "cell_type": "code",
   "execution_count": 15,
   "id": "5534a684",
   "metadata": {},
   "outputs": [
    {
     "name": "stdout",
     "output_type": "stream",
     "text": [
      "3 5\n"
     ]
    }
   ],
   "source": [
    "# 2nd method\n",
    "# Time Complexity - O(N)\n",
    "\n",
    "l = [1,22,13,7,9,11,10]\n",
    "s = 27\n",
    "\n",
    "d = {}\n",
    "curr_sum = 0\n",
    "\n",
    "for i in range(len(l)):\n",
    "    curr_sum = curr_sum + l[i]\n",
    "    \n",
    "    if (curr_sum - s) in d:\n",
    "        print(d[curr_sum - s]+1,i)\n",
    "        break\n",
    "        \n",
    "    d[curr_sum] = i"
   ]
  },
  {
   "cell_type": "markdown",
   "id": "1843b664",
   "metadata": {},
   "source": [
    "# 7. Find Intersection of 2 Sorted Arrays"
   ]
  },
  {
   "cell_type": "code",
   "execution_count": 16,
   "id": "199a8d19",
   "metadata": {},
   "outputs": [
    {
     "name": "stdout",
     "output_type": "stream",
     "text": [
      "[3, 8]\n"
     ]
    }
   ],
   "source": [
    "# 1st method\n",
    "# Time Complexity - O(N)^2\n",
    "\n",
    "a = [1,2,3,4,5,8]\n",
    "b = [3,6,7,8]\n",
    "\n",
    "l = []\n",
    "for i in a:  # O(N)\n",
    "    if i in b:  # in operator is internal loop.. O(N)\n",
    "        l.append(i)\n",
    "print(l)"
   ]
  },
  {
   "cell_type": "code",
   "execution_count": 17,
   "id": "3366a382",
   "metadata": {},
   "outputs": [
    {
     "name": "stdout",
     "output_type": "stream",
     "text": [
      "3\n",
      "8\n"
     ]
    }
   ],
   "source": [
    "# 2nd method\n",
    "# Time Complexity - O(N)\n",
    "\n",
    "a = [1,2,3,4,5,8,9,10]\n",
    "b = [3,6,7,8]\n",
    "\n",
    "i=0\n",
    "j=0\n",
    "\n",
    "while i<len(a) and j<len(b):\n",
    "    if a[i]==b[j]:\n",
    "        print(a[i])\n",
    "        i+=1\n",
    "        j+=1\n",
    "    elif a[i]>b[j]:\n",
    "        j+=1\n",
    "    else:\n",
    "        i+=1"
   ]
  },
  {
   "cell_type": "code",
   "execution_count": null,
   "id": "599ab56d",
   "metadata": {},
   "outputs": [],
   "source": []
  },
  {
   "cell_type": "markdown",
   "id": "538eaa56",
   "metadata": {},
   "source": [
    "# 6. Rotate array to left d items"
   ]
  },
  {
   "cell_type": "code",
   "execution_count": 18,
   "id": "f7ac0fb3",
   "metadata": {},
   "outputs": [
    {
     "name": "stdout",
     "output_type": "stream",
     "text": [
      "[3, 4, 5, 1, 2]\n"
     ]
    }
   ],
   "source": [
    "l = [1,2,3,4,5]\n",
    "rotate = 2\n",
    "\n",
    "rot_count = 1\n",
    "while rot_count <=2:\n",
    "    x = l[0]\n",
    "    l.remove(l[0])\n",
    "    l.append(x)\n",
    "    rot_count +=1\n",
    "print(l)"
   ]
  },
  {
   "cell_type": "code",
   "execution_count": 19,
   "id": "d7247e89",
   "metadata": {},
   "outputs": [
    {
     "name": "stdout",
     "output_type": "stream",
     "text": [
      "rotation 1 : [2, 3, 4, 5, 1]\n",
      "rotation 2 : [3, 4, 5, 1, 2]\n",
      "[3, 4, 5, 1, 2]\n"
     ]
    }
   ],
   "source": [
    "l = [1,2,3,4,5]\n",
    "rotate = 2\n",
    "\n",
    "for i in range(rotate):\n",
    "    temp = l[0]\n",
    "    for j in range(0,len(l)-1):\n",
    "        l[j]=l[j+1]\n",
    "    l[len(l)-1] = temp\n",
    "    print('rotation',i+1,':',l)\n",
    "print(l)"
   ]
  },
  {
   "cell_type": "code",
   "execution_count": null,
   "id": "a6d97df6",
   "metadata": {},
   "outputs": [],
   "source": []
  },
  {
   "cell_type": "markdown",
   "id": "e7e73197",
   "metadata": {},
   "source": [
    "# 5. Find duplicated in an array"
   ]
  },
  {
   "cell_type": "code",
   "execution_count": 20,
   "id": "eb88aeb0",
   "metadata": {},
   "outputs": [
    {
     "name": "stdout",
     "output_type": "stream",
     "text": [
      "1\n",
      "4\n",
      "5\n"
     ]
    }
   ],
   "source": [
    "l = [1,1,2,3,4,4,5,5]\n",
    "\n",
    "d = {}\n",
    "for i in l:\n",
    "    if i in d:\n",
    "        d[i]+=1\n",
    "    else:\n",
    "        d[i]=1\n",
    "\n",
    "for i in d:\n",
    "    if d[i]>1:\n",
    "        print(i)"
   ]
  },
  {
   "cell_type": "code",
   "execution_count": null,
   "id": "a09b8db6",
   "metadata": {},
   "outputs": [],
   "source": []
  },
  {
   "cell_type": "markdown",
   "id": "455f4f1f",
   "metadata": {},
   "source": [
    "# 4. Find the first element to occur k times in an array"
   ]
  },
  {
   "cell_type": "code",
   "execution_count": 21,
   "id": "6ea37d53",
   "metadata": {},
   "outputs": [
    {
     "name": "stdout",
     "output_type": "stream",
     "text": [
      "4\n"
     ]
    }
   ],
   "source": [
    "l = [1,1,2,3,4,4,4,5,5]\n",
    "k = 3\n",
    "\n",
    "d = {}\n",
    "for i in l:\n",
    "    if i in d:\n",
    "        d[i]+=1\n",
    "    else:\n",
    "        d[i]=1\n",
    "\n",
    "for i in d:\n",
    "    if d[i]==k:\n",
    "        print(i)\n",
    "        break"
   ]
  },
  {
   "cell_type": "code",
   "execution_count": null,
   "id": "e6935434",
   "metadata": {},
   "outputs": [],
   "source": []
  },
  {
   "cell_type": "markdown",
   "id": "acdffd8a",
   "metadata": {},
   "source": [
    "# 3. Find Min/Max in a given array"
   ]
  },
  {
   "cell_type": "code",
   "execution_count": 22,
   "id": "158f8f32",
   "metadata": {},
   "outputs": [
    {
     "name": "stdout",
     "output_type": "stream",
     "text": [
      "56\n"
     ]
    }
   ],
   "source": [
    "l = [12,23,44,56,34,22,3]\n",
    "\n",
    "max_val = l[0]\n",
    "for i in l:\n",
    "    if i>max_val:\n",
    "        max_val = i\n",
    "print(max_val)    "
   ]
  },
  {
   "cell_type": "code",
   "execution_count": null,
   "id": "bb02c5b0",
   "metadata": {},
   "outputs": [],
   "source": []
  },
  {
   "cell_type": "markdown",
   "id": "6ca067b0",
   "metadata": {},
   "source": [
    "# 2. check if array is sorted or not."
   ]
  },
  {
   "cell_type": "code",
   "execution_count": 23,
   "id": "a650bb87",
   "metadata": {},
   "outputs": [
    {
     "name": "stdout",
     "output_type": "stream",
     "text": [
      "sorted\n"
     ]
    }
   ],
   "source": [
    "# sorted list\n",
    "l = [1,2,6,7,15,30]\n",
    "\n",
    "for i in range(len(l)-1):\n",
    "    if l[i+1]>=l[i]:\n",
    "        continue\n",
    "    else:\n",
    "        print('Not sorted.')\n",
    "        break\n",
    "else:\n",
    "    print('sorted')"
   ]
  },
  {
   "cell_type": "code",
   "execution_count": 24,
   "id": "e45cda40",
   "metadata": {},
   "outputs": [
    {
     "name": "stdout",
     "output_type": "stream",
     "text": [
      "Not sorted.\n"
     ]
    }
   ],
   "source": [
    "# not sorted list\n",
    "l = [1,2,6,7,15,30,5,1]\n",
    "\n",
    "for i in range(len(l)-1):\n",
    "    if l[i+1]>=l[i]:\n",
    "        continue\n",
    "    else:\n",
    "        print('Not sorted.')\n",
    "        break\n",
    "else:\n",
    "    print('sorted')"
   ]
  },
  {
   "cell_type": "code",
   "execution_count": null,
   "id": "44017a25",
   "metadata": {},
   "outputs": [],
   "source": []
  },
  {
   "cell_type": "markdown",
   "id": "68b452db",
   "metadata": {},
   "source": [
    "# 1. Find the kth largest/smallest item from list"
   ]
  },
  {
   "cell_type": "code",
   "execution_count": 25,
   "id": "791c21d4",
   "metadata": {},
   "outputs": [
    {
     "name": "stdout",
     "output_type": "stream",
     "text": [
      "23\n"
     ]
    }
   ],
   "source": [
    "# kth biggest number \n",
    "l = [12,23,1,4,56,34,22,3]\n",
    "k = 3\n",
    "\n",
    "l.sort()\n",
    "print(l[-k])"
   ]
  },
  {
   "cell_type": "code",
   "execution_count": 26,
   "id": "226858fe",
   "metadata": {},
   "outputs": [
    {
     "name": "stdout",
     "output_type": "stream",
     "text": [
      "4\n"
     ]
    }
   ],
   "source": [
    "# kth smallest number\n",
    "\n",
    "l = [12,23,1,4,56,34,22,3]\n",
    "k = 3\n",
    "\n",
    "l.sort()\n",
    "print(l[k-1])"
   ]
  },
  {
   "cell_type": "code",
   "execution_count": null,
   "id": "f6e8e2b8",
   "metadata": {},
   "outputs": [],
   "source": []
  },
  {
   "cell_type": "markdown",
   "id": "a5f49f53",
   "metadata": {},
   "source": [
    "### Sorting with key in List"
   ]
  },
  {
   "cell_type": "code",
   "execution_count": 27,
   "id": "3c74c418",
   "metadata": {},
   "outputs": [
    {
     "data": {
      "text/plain": [
       "[(56, 34), (12, 23), (1, 4), (22, 3)]"
      ]
     },
     "execution_count": 27,
     "metadata": {},
     "output_type": "execute_result"
    }
   ],
   "source": [
    "l = [(12,23),(1,4),(56,34),(22,3)]\n",
    "sorted(l,key = lambda x:x[1],reverse = True)"
   ]
  },
  {
   "cell_type": "code",
   "execution_count": null,
   "id": "5f982487",
   "metadata": {},
   "outputs": [],
   "source": []
  },
  {
   "cell_type": "markdown",
   "id": "3f2b6ff7",
   "metadata": {},
   "source": [
    "# LEETCODE  QUESTIONS - EASY"
   ]
  },
  {
   "cell_type": "markdown",
   "id": "2a860739",
   "metadata": {},
   "source": [
    "### 1. Two Sum Array"
   ]
  },
  {
   "cell_type": "code",
   "execution_count": 28,
   "id": "1ddbfae8",
   "metadata": {},
   "outputs": [
    {
     "name": "stdout",
     "output_type": "stream",
     "text": [
      "[1, 3]\n"
     ]
    }
   ],
   "source": [
    "nums = [1,2,1,35,8]\n",
    "target = 37\n",
    "d = {}\n",
    "for i in range(len(nums)):\n",
    "    if (target - nums[i]) in d:\n",
    "        print([d[target-nums[i]],i])\n",
    "        break\n",
    "    \n",
    "    d[nums[i]]=i"
   ]
  },
  {
   "cell_type": "code",
   "execution_count": null,
   "id": "e3e9a91e",
   "metadata": {},
   "outputs": [],
   "source": []
  },
  {
   "cell_type": "markdown",
   "id": "6a054c2f",
   "metadata": {},
   "source": [
    "### 9. Palindrome Number"
   ]
  },
  {
   "cell_type": "code",
   "execution_count": 29,
   "id": "b6a20968",
   "metadata": {},
   "outputs": [
    {
     "name": "stdout",
     "output_type": "stream",
     "text": [
      "yes\n"
     ]
    }
   ],
   "source": [
    "num = 12521\n",
    "n = 0\n",
    "x = num\n",
    "while x>0:\n",
    "    n = n*10 + x%10\n",
    "    x=x//10\n",
    "if num==n:\n",
    "    print('yes')\n",
    "else:\n",
    "    print('no')\n"
   ]
  },
  {
   "cell_type": "code",
   "execution_count": null,
   "id": "c805164c",
   "metadata": {},
   "outputs": [],
   "source": []
  },
  {
   "cell_type": "markdown",
   "id": "8fc78320",
   "metadata": {},
   "source": [
    "### 13. Roman to Integer"
   ]
  },
  {
   "cell_type": "code",
   "execution_count": 30,
   "id": "e732602c",
   "metadata": {},
   "outputs": [
    {
     "name": "stdout",
     "output_type": "stream",
     "text": [
      "1994\n"
     ]
    }
   ],
   "source": [
    "s = 'MCMXCIV'\n",
    "i = 0\n",
    "n = 0\n",
    "d = {\"I\":1,\"V\":5,\"X\":10,\"L\":50,\"C\":100,\"D\":500,\"M\":1000,'IV':4,'IX':9,'XL':40,'XC':90,'CD':400,'CM':900}\n",
    "while i < len(s):\n",
    "    if i+1 < len(s) and s[i:i+2] in d:\n",
    "        n = n + d[s[i:i+2]]\n",
    "        i = i + 2\n",
    "    else:\n",
    "            n = n + d[s[i]]\n",
    "            i = i + 1\n",
    "print(n)"
   ]
  },
  {
   "cell_type": "code",
   "execution_count": null,
   "id": "15507725",
   "metadata": {},
   "outputs": [],
   "source": []
  },
  {
   "cell_type": "markdown",
   "id": "20de8278",
   "metadata": {},
   "source": [
    "### 14. Longest Common Prefix"
   ]
  },
  {
   "cell_type": "code",
   "execution_count": 31,
   "id": "57a7073a",
   "metadata": {},
   "outputs": [],
   "source": [
    "s = [\"flowers\",\"flower\",'flow',\"flowe\",'floe','floe','flowe']"
   ]
  },
  {
   "cell_type": "code",
   "execution_count": 32,
   "id": "093f6e64",
   "metadata": {},
   "outputs": [
    {
     "name": "stdout",
     "output_type": "stream",
     "text": [
      "flo\n"
     ]
    }
   ],
   "source": [
    "c = ''\n",
    "i = 0\n",
    "while i < len(s):\n",
    "    if len(s)==1:\n",
    "        c=s[0]\n",
    "    else:\n",
    "        if i==0 and i+1 < len(s):\n",
    "            for j in range(min(len(s[i]),len(s[i+1]))):\n",
    "                if s[i][j]==s[i+1][j]:\n",
    "                    c = c + s[i][j]\n",
    "                else:\n",
    "                    break\n",
    "            i+=2\n",
    "        else:\n",
    "            p = ''\n",
    "            for k in range(len(c),0,-1):\n",
    "                if s[i].startswith(c[:k]):\n",
    "                    p = c[:k]\n",
    "                    break\n",
    "\n",
    "            c = p\n",
    "            i+=1    \n",
    "print(c)\n",
    "    "
   ]
  },
  {
   "cell_type": "code",
   "execution_count": null,
   "id": "ad78fed0",
   "metadata": {},
   "outputs": [],
   "source": []
  },
  {
   "cell_type": "markdown",
   "id": "1486e3d9",
   "metadata": {},
   "source": [
    "### 20. Valid Parenthesis"
   ]
  },
  {
   "cell_type": "code",
   "execution_count": 33,
   "id": "a16e25d0",
   "metadata": {},
   "outputs": [],
   "source": [
    "s = '[([()(){}]{}())]'"
   ]
  },
  {
   "cell_type": "code",
   "execution_count": 34,
   "id": "49c61c85",
   "metadata": {},
   "outputs": [
    {
     "name": "stdout",
     "output_type": "stream",
     "text": [
      "True\n"
     ]
    }
   ],
   "source": [
    "n = []\n",
    "\n",
    "if (s[0]=='[' and s[-1]==']') or (s[0]=='(' and s[-1]==')') or (s[0]=='{' and s[-1]=='}'):\n",
    "    for i in s:\n",
    "        n.append(i)\n",
    "        if len(n)>=2:\n",
    "            if n[-1]==')' and n[-2]=='(':\n",
    "                n.pop()\n",
    "                n.pop()\n",
    "        if len(n)>=2:\n",
    "            if n[-1]=='}' and n[-2]=='{':\n",
    "                n.pop()\n",
    "                n.pop()\n",
    "        if len(n)>=2:\n",
    "            if n[-1]==']' and n[-2]=='[':\n",
    "                n.pop()\n",
    "                n.pop()\n",
    "            \n",
    "if len(n)==0:\n",
    "    print(True)\n",
    "else:\n",
    "    print(False)     "
   ]
  },
  {
   "cell_type": "code",
   "execution_count": null,
   "id": "9e9b4682",
   "metadata": {},
   "outputs": [],
   "source": []
  },
  {
   "cell_type": "markdown",
   "id": "060b279d",
   "metadata": {},
   "source": [
    "### 21. Merge Two Sorted List"
   ]
  },
  {
   "cell_type": "code",
   "execution_count": 35,
   "id": "3833e55a",
   "metadata": {},
   "outputs": [],
   "source": [
    "list1 = [1,2,4]\n",
    "list2 = [1,3,4]"
   ]
  },
  {
   "cell_type": "code",
   "execution_count": 36,
   "id": "398775ea",
   "metadata": {},
   "outputs": [
    {
     "name": "stdout",
     "output_type": "stream",
     "text": [
      "[1, 2, 3, 4]\n"
     ]
    }
   ],
   "source": [
    "lst = []\n",
    "i = 0\n",
    "j = 0\n",
    "while i < len(list1) and j < len(list2):\n",
    "    if list1[i]==list2[j]:\n",
    "        lst.append(list1[i])\n",
    "        i+=1\n",
    "        j+=1\n",
    "    elif list1[i]<list2[j]:\n",
    "        lst.append(list1[i])\n",
    "        i+=1\n",
    "    else:\n",
    "        lst.append(list2[j])\n",
    "        j+=1\n",
    "while i<len(list1):\n",
    "    lst.append(list1[i])\n",
    "    i+=1\n",
    "    \n",
    "while j<len(list2):\n",
    "    lst.append(list2[j])\n",
    "    j+=1\n",
    "        \n",
    "print(lst)"
   ]
  },
  {
   "cell_type": "code",
   "execution_count": null,
   "id": "ff4f520b",
   "metadata": {},
   "outputs": [],
   "source": []
  },
  {
   "cell_type": "markdown",
   "id": "a6a5d3e6",
   "metadata": {},
   "source": [
    "### 26. Remove Duplicate From Array"
   ]
  },
  {
   "cell_type": "code",
   "execution_count": 37,
   "id": "c85209a2",
   "metadata": {},
   "outputs": [
    {
     "name": "stdout",
     "output_type": "stream",
     "text": [
      "5 [0, 1, 2, 3, 4, 0, 1, 1, 2, 3]\n"
     ]
    }
   ],
   "source": [
    "nums = [0,0,1,1,1,2,2,3,3,4]\n",
    "i = 0\n",
    "k = 0\n",
    "while i<len(nums):\n",
    "    j=i\n",
    "    temp = nums[i]\n",
    "    while j < len(nums) and temp==nums[j] and k < len(nums):\n",
    "        j+=1\n",
    "    nums.insert(k,nums.pop(j-1))\n",
    "    i=j\n",
    "    k+=1\n",
    "    \n",
    "print(k,nums)       "
   ]
  },
  {
   "cell_type": "code",
   "execution_count": null,
   "id": "b39ec15e",
   "metadata": {},
   "outputs": [],
   "source": []
  },
  {
   "cell_type": "markdown",
   "id": "124c3e16",
   "metadata": {},
   "source": [
    "### 27. Remove Element"
   ]
  },
  {
   "cell_type": "code",
   "execution_count": 38,
   "id": "58a65e78",
   "metadata": {},
   "outputs": [],
   "source": [
    "nums = [0,1,2,2,3,0,4,2]\n",
    "val = 2"
   ]
  },
  {
   "cell_type": "code",
   "execution_count": 39,
   "id": "60be07d8",
   "metadata": {},
   "outputs": [
    {
     "name": "stdout",
     "output_type": "stream",
     "text": [
      "3\n",
      "[0, 1, 3, 0, 4]\n"
     ]
    }
   ],
   "source": [
    "i = 0\n",
    "k = 0\n",
    "while i<len(nums):\n",
    "    if nums[i]==val:\n",
    "        nums.pop(i)\n",
    "        k+=1\n",
    "    else:\n",
    "        i+=1\n",
    "print(k)\n",
    "print(nums)\n"
   ]
  },
  {
   "cell_type": "code",
   "execution_count": null,
   "id": "b4ce38de",
   "metadata": {},
   "outputs": [],
   "source": []
  },
  {
   "cell_type": "markdown",
   "id": "c13853a8",
   "metadata": {},
   "source": [
    "### 28. Find the Index of First Occurance of given String "
   ]
  },
  {
   "cell_type": "code",
   "execution_count": 40,
   "id": "d75d949a",
   "metadata": {},
   "outputs": [
    {
     "name": "stdout",
     "output_type": "stream",
     "text": [
      "1\n"
     ]
    }
   ],
   "source": [
    "haystack = \"ssadbutsadsssss\"\n",
    "needle = \"sad\"\n",
    "\n",
    "i = 0\n",
    "while i < len(haystack):\n",
    "    if haystack[i] == needle[0]: \n",
    "        if haystack[i:i+len(needle)]==needle:\n",
    "            print(i)\n",
    "            break\n",
    "    i+=1\n",
    "else:\n",
    "    print(-1)\n"
   ]
  },
  {
   "cell_type": "code",
   "execution_count": null,
   "id": "ba2a96b9",
   "metadata": {},
   "outputs": [],
   "source": []
  },
  {
   "cell_type": "markdown",
   "id": "7e03f297",
   "metadata": {},
   "source": [
    "### 35. Serach Insert Position"
   ]
  },
  {
   "cell_type": "code",
   "execution_count": 41,
   "id": "0710a66e",
   "metadata": {},
   "outputs": [],
   "source": [
    "nums = [1,3,5,6]\n",
    "target = 7"
   ]
  },
  {
   "cell_type": "code",
   "execution_count": 42,
   "id": "26c7b19f",
   "metadata": {},
   "outputs": [
    {
     "name": "stdout",
     "output_type": "stream",
     "text": [
      "4\n"
     ]
    }
   ],
   "source": [
    "i = 0\n",
    "while i<len(nums) and nums[i]<=target:\n",
    "    if nums[i]==target:\n",
    "        break\n",
    "    i+=1\n",
    "else:\n",
    "    nums.insert(i,target)\n",
    "print(i)"
   ]
  },
  {
   "cell_type": "code",
   "execution_count": null,
   "id": "a4f4ce27",
   "metadata": {},
   "outputs": [],
   "source": []
  },
  {
   "cell_type": "markdown",
   "id": "2f709670",
   "metadata": {},
   "source": [
    "### 58. Length of the Last Word"
   ]
  },
  {
   "cell_type": "code",
   "execution_count": 43,
   "id": "8034436e",
   "metadata": {},
   "outputs": [],
   "source": [
    "s = \"   fly me   to   the moon  \""
   ]
  },
  {
   "cell_type": "code",
   "execution_count": 44,
   "id": "c24d6277",
   "metadata": {},
   "outputs": [
    {
     "name": "stdout",
     "output_type": "stream",
     "text": [
      "moon\n"
     ]
    }
   ],
   "source": [
    "i = -1\n",
    "n = ''\n",
    "while abs(i)<=len(s):\n",
    "    while s[i]==' ' and n=='':\n",
    "        i=i-1\n",
    "    if s[i]==' ':\n",
    "        break\n",
    "    n = s[i] + n\n",
    "    i = i-1\n",
    "print(n) "
   ]
  },
  {
   "cell_type": "code",
   "execution_count": null,
   "id": "627b5f8b",
   "metadata": {},
   "outputs": [],
   "source": []
  },
  {
   "cell_type": "markdown",
   "id": "611ccd83",
   "metadata": {},
   "source": [
    "### 66. Plus One"
   ]
  },
  {
   "cell_type": "code",
   "execution_count": 45,
   "id": "4e7e1248",
   "metadata": {},
   "outputs": [],
   "source": [
    "digits = [9,9,9,9,9,9,9]"
   ]
  },
  {
   "cell_type": "code",
   "execution_count": 46,
   "id": "d8b89cd9",
   "metadata": {},
   "outputs": [
    {
     "name": "stdout",
     "output_type": "stream",
     "text": [
      "[1, 0, 0, 0, 0, 0, 0, 0]\n"
     ]
    }
   ],
   "source": [
    "i = -1\n",
    "while abs(i)<=len(digits):\n",
    "    if digits[i]+1 <= 9:\n",
    "        digits[i]+=1\n",
    "        break\n",
    "    else:\n",
    "        digits[i]=0       \n",
    "    i=i-1\n",
    "if digits[0]==0:\n",
    "    digits.insert(0,1)\n",
    "        \n",
    "print(digits)"
   ]
  },
  {
   "cell_type": "code",
   "execution_count": null,
   "id": "38977a0b",
   "metadata": {},
   "outputs": [],
   "source": []
  },
  {
   "cell_type": "markdown",
   "id": "b12d8530",
   "metadata": {},
   "source": [
    "### 67. Add Binary "
   ]
  },
  {
   "cell_type": "code",
   "execution_count": 47,
   "id": "d49be412",
   "metadata": {},
   "outputs": [
    {
     "name": "stdout",
     "output_type": "stream",
     "text": [
      "0b100\n",
      "100\n"
     ]
    }
   ],
   "source": [
    "a = '11'\n",
    "b = '1'\n",
    "c = int(a,2) + int(b,2)\n",
    "print(bin(c))\n",
    "print(format(c,'b'))"
   ]
  },
  {
   "cell_type": "code",
   "execution_count": null,
   "id": "80e6c5ea",
   "metadata": {},
   "outputs": [],
   "source": []
  },
  {
   "cell_type": "markdown",
   "id": "02bd7582",
   "metadata": {},
   "source": [
    "### 69. Square root of x"
   ]
  },
  {
   "cell_type": "code",
   "execution_count": 48,
   "id": "5d19a00d",
   "metadata": {},
   "outputs": [
    {
     "name": "stdout",
     "output_type": "stream",
     "text": [
      "3\n"
     ]
    }
   ],
   "source": [
    "x = 8\n",
    "i = 0\n",
    "temp = 0\n",
    "while True:\n",
    "    temp = i*i\n",
    "    if temp >= x:\n",
    "        if temp==x:\n",
    "            print(i)\n",
    "        else:\n",
    "            print(i-1)\n",
    "        break\n",
    "    if temp!=0 and temp!=1:\n",
    "        i = temp\n",
    "    else:\n",
    "        i+=1"
   ]
  },
  {
   "cell_type": "code",
   "execution_count": null,
   "id": "fe07e28a",
   "metadata": {},
   "outputs": [],
   "source": []
  }
 ],
 "metadata": {
  "kernelspec": {
   "display_name": "Python 3",
   "language": "python",
   "name": "python3"
  },
  "language_info": {
   "codemirror_mode": {
    "name": "ipython",
    "version": 3
   },
   "file_extension": ".py",
   "mimetype": "text/x-python",
   "name": "python",
   "nbconvert_exporter": "python",
   "pygments_lexer": "ipython3",
   "version": "3.11.2"
  }
 },
 "nbformat": 4,
 "nbformat_minor": 5
}
