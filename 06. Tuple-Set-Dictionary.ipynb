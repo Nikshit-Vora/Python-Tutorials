{
 "cells": [
  {
   "cell_type": "markdown",
   "id": "afbf24b3",
   "metadata": {},
   "source": [
    "# 1. Tuple"
   ]
  },
  {
   "cell_type": "markdown",
   "id": "6aaeb7f1",
   "metadata": {},
   "source": [
    "- Built-in data type.\n",
    "- Sequence of comma separated items, eclosed in patentheses ().\n",
    "- can store any data type in tuple.\n",
    "- Tuple is immutable/ not changeable.\n",
    "- Ordered collection of items."
   ]
  },
  {
   "cell_type": "markdown",
   "id": "b45d538e",
   "metadata": {},
   "source": [
    "### Characteristics"
   ]
  },
  {
   "cell_type": "code",
   "execution_count": 41,
   "id": "44cb367b",
   "metadata": {},
   "outputs": [
    {
     "name": "stdout",
     "output_type": "stream",
     "text": [
      "False\n"
     ]
    }
   ],
   "source": [
    "# ordered\n",
    "\n",
    "a = (1,2,3)\n",
    "b = (2,3,1)\n",
    "print(a==b)"
   ]
  },
  {
   "cell_type": "code",
   "execution_count": 42,
   "id": "8605e7ef",
   "metadata": {},
   "outputs": [
    {
     "name": "stdout",
     "output_type": "stream",
     "text": [
      "(1, 2, 2, 3)\n"
     ]
    }
   ],
   "source": [
    "# allows duplicate value\n",
    "a = (1,2,2,3)\n",
    "print(a)"
   ]
  },
  {
   "cell_type": "markdown",
   "id": "088bd20a",
   "metadata": {},
   "source": [
    "**Immutability:**\n",
    "- Tuples are immutable, meaning their contents can't change after creation.\n",
    "- This allows Python to optimize memory usage and access speed, since it doesn't need to account for dynamic resizing or element changes."
   ]
  },
  {
   "cell_type": "code",
   "execution_count": 43,
   "id": "e69851a3",
   "metadata": {},
   "outputs": [
    {
     "name": "stdout",
     "output_type": "stream",
     "text": [
      "This is tuple a -  (1, 2, 3, 4)\n",
      "This is tuple b -  (1, 2, 3)\n",
      "2431514496352\n",
      "2431518216640\n"
     ]
    }
   ],
   "source": [
    "# Immutable/ not changeable\n",
    "a = (1,2,3)\n",
    "b = a\n",
    "a = a + (4,)  \n",
    "\n",
    "print('This is tuple a - ',a)\n",
    "print('This is tuple b - ',b) \n",
    "\n",
    "print(id(a))\n",
    "print(id(b)) # memory address is different."
   ]
  },
  {
   "cell_type": "code",
   "execution_count": 44,
   "id": "47328b35",
   "metadata": {},
   "outputs": [
    {
     "name": "stdout",
     "output_type": "stream",
     "text": [
      "list time 0.3821554183959961\n",
      "tuple time 0.043550729751586914\n"
     ]
    }
   ],
   "source": [
    "# Tuple are faster then list.\n",
    "\n",
    "import time\n",
    "\n",
    "l = list(range(10000000))\n",
    "t = tuple(range(1000000))\n",
    "\n",
    "start = time.time()\n",
    "for i in l:\n",
    "    i*5\n",
    "print('list time',time.time()-start)\n",
    "\n",
    "start = time.time()\n",
    "for i in t:\n",
    "    i*5\n",
    "print('tuple time',time.time()-start)"
   ]
  },
  {
   "cell_type": "markdown",
   "id": "02e0e068",
   "metadata": {},
   "source": [
    "**Memory Efficiency:**\n",
    "- Tuples use less memory than lists because they don’t need extra space for dynamic resizing.\n",
    "- This makes them lighter and quicker to access."
   ]
  },
  {
   "cell_type": "code",
   "execution_count": 45,
   "id": "27b685de",
   "metadata": {},
   "outputs": [
    {
     "name": "stdout",
     "output_type": "stream",
     "text": [
      "list size 80000056\n",
      "tuple size 8000040\n"
     ]
    }
   ],
   "source": [
    "import sys\n",
    "\n",
    "l = list(range(10000000))\n",
    "t = tuple(range(1000000))\n",
    "print('list size',sys.getsizeof(l))\n",
    "print('tuple size',sys.getsizeof(t))"
   ]
  },
  {
   "cell_type": "code",
   "execution_count": null,
   "id": "f4a96ba6",
   "metadata": {},
   "outputs": [],
   "source": []
  },
  {
   "cell_type": "markdown",
   "id": "b1113d13",
   "metadata": {},
   "source": [
    "### Creating Tuple"
   ]
  },
  {
   "cell_type": "code",
   "execution_count": 46,
   "id": "60a3117b",
   "metadata": {},
   "outputs": [
    {
     "name": "stdout",
     "output_type": "stream",
     "text": [
      "()\n",
      "<class 'tuple'>\n"
     ]
    }
   ],
   "source": [
    "# Empty Tuple\n",
    "t1 = ()\n",
    "print(t1)\n",
    "print(type(t1))"
   ]
  },
  {
   "cell_type": "code",
   "execution_count": 47,
   "id": "83863a34",
   "metadata": {},
   "outputs": [
    {
     "name": "stdout",
     "output_type": "stream",
     "text": [
      "2 <class 'int'>\n",
      "hello <class 'str'>\n",
      "(2,) <class 'tuple'>\n"
     ]
    }
   ],
   "source": [
    "# How to create tuple with single item\n",
    "\n",
    "t2 = (2)\n",
    "print(t2,type(t2))  # this will return int data type.\n",
    "\n",
    "t3 = ('hello')\n",
    "print(t3,type(t3))  # this will retrun string data type.\n",
    "\n",
    "t4 = (2,)  # need to place comma after single item\n",
    "print(t4,type(t4))"
   ]
  },
  {
   "cell_type": "code",
   "execution_count": 48,
   "id": "46714bc5",
   "metadata": {},
   "outputs": [
    {
     "name": "stdout",
     "output_type": "stream",
     "text": [
      "(1, 2, 3, 4)\n",
      "(1, 2, 'hello', True, (5+5j))\n",
      "(1, 2, (3, 4))\n",
      "('H', 'e', 'l', 'l', 'o')\n"
     ]
    }
   ],
   "source": [
    "# Homogeneous Tuple\n",
    "a = (1,2,3,4)\n",
    "print(a)\n",
    "\n",
    "# Heterogeneous Tuple\n",
    "a = (1,2,'hello',True,5+5j)\n",
    "print(a)\n",
    "\n",
    "# 2D Tuple\n",
    "a = (1,2,(3,4))\n",
    "print(a)\n",
    "\n",
    "# Type Conversion\n",
    "a = tuple('Hello')\n",
    "print(a)"
   ]
  },
  {
   "cell_type": "code",
   "execution_count": null,
   "id": "23e0965c",
   "metadata": {},
   "outputs": [],
   "source": []
  },
  {
   "cell_type": "markdown",
   "id": "90314652",
   "metadata": {},
   "source": [
    "### Accessing Tuple"
   ]
  },
  {
   "cell_type": "code",
   "execution_count": 49,
   "id": "6b27a035",
   "metadata": {},
   "outputs": [
    {
     "data": {
      "text/plain": [
       "'hello'"
      ]
     },
     "execution_count": 49,
     "metadata": {},
     "output_type": "execute_result"
    }
   ],
   "source": [
    "# indexing\n",
    "a = (1,2,'hello',True,5+5j)\n",
    "\n",
    "a[2]  # similar as list,strings"
   ]
  },
  {
   "cell_type": "code",
   "execution_count": 50,
   "id": "3f31bd2a",
   "metadata": {},
   "outputs": [
    {
     "data": {
      "text/plain": [
       "(1, 'hello', (5+5j))"
      ]
     },
     "execution_count": 50,
     "metadata": {},
     "output_type": "execute_result"
    }
   ],
   "source": [
    "# slicing\n",
    "a = (1,2,'hello',True,5+5j)\n",
    "a[0:5:2]"
   ]
  },
  {
   "cell_type": "code",
   "execution_count": null,
   "id": "91524ccb",
   "metadata": {},
   "outputs": [],
   "source": []
  },
  {
   "cell_type": "markdown",
   "id": "7cf58b4a",
   "metadata": {},
   "source": [
    "### Editing Items"
   ]
  },
  {
   "cell_type": "code",
   "execution_count": 51,
   "id": "b591860f",
   "metadata": {},
   "outputs": [
    {
     "ename": "TypeError",
     "evalue": "'tuple' object does not support item assignment",
     "output_type": "error",
     "traceback": [
      "\u001b[31m---------------------------------------------------------------------------\u001b[39m",
      "\u001b[31mTypeError\u001b[39m                                 Traceback (most recent call last)",
      "\u001b[36mCell\u001b[39m\u001b[36m \u001b[39m\u001b[32mIn[51]\u001b[39m\u001b[32m, line 3\u001b[39m\n\u001b[32m      1\u001b[39m \u001b[38;5;66;03m# immutable, can not be changed\u001b[39;00m\n\u001b[32m      2\u001b[39m a = (\u001b[32m1\u001b[39m,\u001b[32m2\u001b[39m,\u001b[33m'\u001b[39m\u001b[33mhello\u001b[39m\u001b[33m'\u001b[39m,\u001b[38;5;28;01mTrue\u001b[39;00m,\u001b[32m5\u001b[39m+\u001b[32m5\u001b[39mj)   \n\u001b[32m----> \u001b[39m\u001b[32m3\u001b[39m \u001b[43ma\u001b[49m\u001b[43m[\u001b[49m\u001b[32;43m0\u001b[39;49m\u001b[43m]\u001b[49m=\u001b[33m'\u001b[39m\u001b[33m456\u001b[39m\u001b[33m'\u001b[39m\n",
      "\u001b[31mTypeError\u001b[39m: 'tuple' object does not support item assignment"
     ]
    }
   ],
   "source": [
    "# immutable, can not be changed\n",
    "a = (1,2,'hello',True,5+5j)   \n",
    "a[0]='456'"
   ]
  },
  {
   "cell_type": "code",
   "execution_count": null,
   "id": "6ddc8ff3",
   "metadata": {},
   "outputs": [],
   "source": []
  },
  {
   "cell_type": "markdown",
   "id": "76fc59e2",
   "metadata": {},
   "source": [
    "### Adding Items"
   ]
  },
  {
   "cell_type": "code",
   "execution_count": 52,
   "id": "32449917",
   "metadata": {},
   "outputs": [
    {
     "name": "stdout",
     "output_type": "stream",
     "text": [
      "(1, 2, 'hello', True, (5+5j)) 2431518277392\n",
      "(1, 2, 'hello', True, (5+5j), 7, 8, 8, 9, 10) 2431516587456\n"
     ]
    }
   ],
   "source": [
    "# using concetenation\n",
    "a = (1,2,'hello',True,5+5j)\n",
    "print(a,id(a))\n",
    "\n",
    "a = a + (7,8,8,9,10) # creates new tuple at different memory address.\n",
    "print(a,id(a))\n"
   ]
  },
  {
   "cell_type": "code",
   "execution_count": null,
   "id": "b0d8934b",
   "metadata": {},
   "outputs": [],
   "source": []
  },
  {
   "cell_type": "markdown",
   "id": "146879cc",
   "metadata": {},
   "source": [
    "### Deleting Items"
   ]
  },
  {
   "cell_type": "code",
   "execution_count": 53,
   "id": "83262da0",
   "metadata": {},
   "outputs": [
    {
     "name": "stdout",
     "output_type": "stream",
     "text": [
      "(1, 2, 'hello', True, (5+5j))\n"
     ]
    },
    {
     "ename": "NameError",
     "evalue": "name 'a' is not defined",
     "output_type": "error",
     "traceback": [
      "\u001b[31m---------------------------------------------------------------------------\u001b[39m",
      "\u001b[31mNameError\u001b[39m                                 Traceback (most recent call last)",
      "\u001b[36mCell\u001b[39m\u001b[36m \u001b[39m\u001b[32mIn[53]\u001b[39m\u001b[32m, line 5\u001b[39m\n\u001b[32m      3\u001b[39m \u001b[38;5;28mprint\u001b[39m(a)\n\u001b[32m      4\u001b[39m \u001b[38;5;28;01mdel\u001b[39;00m a   \n\u001b[32m----> \u001b[39m\u001b[32m5\u001b[39m \u001b[38;5;28mprint\u001b[39m(\u001b[43ma\u001b[49m)\n",
      "\u001b[31mNameError\u001b[39m: name 'a' is not defined"
     ]
    }
   ],
   "source": [
    "# we can delete entire tuple but not delete or modify individual elements of a tuple\n",
    "a = (1,2,'hello',True,5+5j)\n",
    "print(a)\n",
    "del a   \n",
    "print(a)"
   ]
  },
  {
   "cell_type": "code",
   "execution_count": null,
   "id": "9399d0a8",
   "metadata": {},
   "outputs": [],
   "source": []
  },
  {
   "cell_type": "markdown",
   "id": "44376d62",
   "metadata": {},
   "source": [
    "### Operations "
   ]
  },
  {
   "cell_type": "code",
   "execution_count": 54,
   "id": "fc170f4d",
   "metadata": {},
   "outputs": [
    {
     "name": "stdout",
     "output_type": "stream",
     "text": [
      "(1, 2, 3, 4, 5, 6)\n",
      "(1, 2, 3, 1, 2, 3, 1, 2, 3)\n"
     ]
    }
   ],
   "source": [
    "# arithmatic operations\n",
    "\n",
    "# addition\n",
    "t1 = (1,2,3)\n",
    "t2 = (4,5,6)\n",
    "print(t1+t2)\n",
    "\n",
    "# Multiplication\n",
    "print(t1*3)"
   ]
  },
  {
   "cell_type": "code",
   "execution_count": 55,
   "id": "6fa5fbe6",
   "metadata": {},
   "outputs": [
    {
     "name": "stdout",
     "output_type": "stream",
     "text": [
      "True\n",
      "False\n"
     ]
    }
   ],
   "source": [
    "# Membership\n",
    "\n",
    "t1 = (1,2,3)\n",
    "print(1 in t1)\n",
    "print(6 not in t2)"
   ]
  },
  {
   "cell_type": "code",
   "execution_count": 56,
   "id": "def8670a",
   "metadata": {},
   "outputs": [
    {
     "name": "stdout",
     "output_type": "stream",
     "text": [
      "1\n",
      "2\n",
      "3\n"
     ]
    }
   ],
   "source": [
    "# loop\n",
    "t1 = (1,2,3)\n",
    "for i in t1:\n",
    "    print(i)"
   ]
  },
  {
   "cell_type": "code",
   "execution_count": 57,
   "id": "fd83202b",
   "metadata": {},
   "outputs": [
    {
     "name": "stdout",
     "output_type": "stream",
     "text": [
      "(0, 1)\n",
      "(1, 2)\n",
      "(2, 3)\n"
     ]
    }
   ],
   "source": [
    "# loop with enumerate function\n",
    "t1 = (1,2,3)\n",
    "for i in enumerate(t1):\n",
    "    print(i)"
   ]
  },
  {
   "cell_type": "code",
   "execution_count": null,
   "id": "774133e0",
   "metadata": {},
   "outputs": [],
   "source": []
  },
  {
   "cell_type": "markdown",
   "id": "90c36d5e",
   "metadata": {},
   "source": [
    "### Tuple Functions"
   ]
  },
  {
   "cell_type": "code",
   "execution_count": 1,
   "id": "190efaa8",
   "metadata": {},
   "outputs": [
    {
     "name": "stdout",
     "output_type": "stream",
     "text": [
      "7\n",
      "178\n",
      "1\n",
      "105\n",
      "[1, 2, 3, 4, 8, 55, 105]\n",
      "[105, 55, 8, 4, 3, 2, 1]\n"
     ]
    }
   ],
   "source": [
    "t = (1,2,3,4,8,55,105)\n",
    "\n",
    "print(len(t)) # return length of tuple\n",
    "print(sum(t)) # sum of tuple\n",
    "print(min(t)) # return min element\n",
    "print(max(t)) # return max element\n",
    "print(sorted(t)) # return list with temporary sorting ascending.\n",
    "print(sorted(t,reverse = True)) # temporary sorting descending."
   ]
  },
  {
   "cell_type": "code",
   "execution_count": null,
   "id": "331c87c0",
   "metadata": {},
   "outputs": [],
   "source": []
  },
  {
   "cell_type": "markdown",
   "id": "b0e44c1c",
   "metadata": {},
   "source": [
    "### Count & Index Functions"
   ]
  },
  {
   "cell_type": "code",
   "execution_count": null,
   "id": "e9d85823",
   "metadata": {},
   "outputs": [
    {
     "name": "stdout",
     "output_type": "stream",
     "text": [
      "3\n",
      "0\n"
     ]
    }
   ],
   "source": [
    "# count() - return frequency of items\n",
    "t = (1,2,3,4,8,2,55,105,2)\n",
    "print(t.count(2))\n",
    "print(t.count('hello')) # return 0 if element not found."
   ]
  },
  {
   "cell_type": "code",
   "execution_count": 61,
   "id": "e5834322",
   "metadata": {},
   "outputs": [
    {
     "name": "stdout",
     "output_type": "stream",
     "text": [
      "3\n"
     ]
    },
    {
     "ename": "ValueError",
     "evalue": "tuple.index(x): x not in tuple",
     "output_type": "error",
     "traceback": [
      "\u001b[31m---------------------------------------------------------------------------\u001b[39m",
      "\u001b[31mValueError\u001b[39m                                Traceback (most recent call last)",
      "\u001b[36mCell\u001b[39m\u001b[36m \u001b[39m\u001b[32mIn[61]\u001b[39m\u001b[32m, line 4\u001b[39m\n\u001b[32m      2\u001b[39m t = (\u001b[32m1\u001b[39m,\u001b[32m2\u001b[39m,\u001b[32m3\u001b[39m,\u001b[32m4\u001b[39m,\u001b[32m8\u001b[39m,\u001b[32m55\u001b[39m,\u001b[32m105\u001b[39m)\n\u001b[32m      3\u001b[39m \u001b[38;5;28mprint\u001b[39m(t.index(\u001b[32m4\u001b[39m))\n\u001b[32m----> \u001b[39m\u001b[32m4\u001b[39m \u001b[38;5;28mprint\u001b[39m(\u001b[43mt\u001b[49m\u001b[43m.\u001b[49m\u001b[43mindex\u001b[49m\u001b[43m(\u001b[49m\u001b[33;43m'\u001b[39;49m\u001b[33;43mHello\u001b[39;49m\u001b[33;43m'\u001b[39;49m\u001b[43m)\u001b[49m) \u001b[38;5;66;03m# raise ValueError if not found\u001b[39;00m\n",
      "\u001b[31mValueError\u001b[39m: tuple.index(x): x not in tuple"
     ]
    }
   ],
   "source": [
    "# index() - return index of specified element\n",
    "t = (1,2,3,4,8,55,105)\n",
    "print(t.index(4))\n",
    "print(t.index('Hello')) # raise ValueError if not found"
   ]
  },
  {
   "cell_type": "code",
   "execution_count": null,
   "id": "2d6d84cd",
   "metadata": {},
   "outputs": [],
   "source": []
  },
  {
   "cell_type": "markdown",
   "id": "daa0cd88",
   "metadata": {},
   "source": [
    "### Tuple Unpacking"
   ]
  },
  {
   "cell_type": "code",
   "execution_count": 62,
   "id": "20dc3bce",
   "metadata": {},
   "outputs": [
    {
     "name": "stdout",
     "output_type": "stream",
     "text": [
      "1 2 3\n"
     ]
    }
   ],
   "source": [
    "# variable assignment\n",
    "a,b,c = (1,2,3)\n",
    "print(a,b,c)"
   ]
  },
  {
   "cell_type": "code",
   "execution_count": 63,
   "id": "01f81ee2",
   "metadata": {},
   "outputs": [
    {
     "name": "stdout",
     "output_type": "stream",
     "text": [
      "2\n",
      "1\n"
     ]
    }
   ],
   "source": [
    "# variable swapping\n",
    "a=1\n",
    "b=2\n",
    "a,b=b,a\n",
    "print(a)\n",
    "print(b)"
   ]
  },
  {
   "cell_type": "code",
   "execution_count": 68,
   "id": "2e9a643b",
   "metadata": {},
   "outputs": [
    {
     "name": "stdout",
     "output_type": "stream",
     "text": [
      "1\n",
      "2\n",
      "[5, 8, 9]\n"
     ]
    }
   ],
   "source": [
    "# *other - to store rest values\n",
    "\n",
    "a,b,*other = (1,2,5,8,9)\n",
    "print(a)\n",
    "print(b)\n",
    "print(other)"
   ]
  },
  {
   "cell_type": "code",
   "execution_count": 69,
   "id": "695f6173",
   "metadata": {},
   "outputs": [
    {
     "name": "stdout",
     "output_type": "stream",
     "text": [
      "1\n",
      "[2, 3, 4, 5, 6, 7, 8]\n",
      "9\n",
      "10\n"
     ]
    }
   ],
   "source": [
    "a,*b,c,d = (1,2,3,4,5,6,7,8,9,10)\n",
    "print(a)\n",
    "print(b)\n",
    "print(c)\n",
    "print(d)"
   ]
  },
  {
   "cell_type": "code",
   "execution_count": 70,
   "id": "c754d780",
   "metadata": {},
   "outputs": [
    {
     "name": "stdout",
     "output_type": "stream",
     "text": [
      "[(1, 5), (2, 6), (3, 7)]\n",
      "((1, 5), (2, 6), (3, 7))\n"
     ]
    }
   ],
   "source": [
    "# zipping tuples\n",
    "a = (1,2,3)\n",
    "b = (5,6,7,8,9,10)\n",
    "print(list(zip(a,b)))\n",
    "print(tuple(zip(a,b)))"
   ]
  },
  {
   "cell_type": "code",
   "execution_count": null,
   "id": "dcdd9f18",
   "metadata": {},
   "outputs": [],
   "source": []
  },
  {
   "cell_type": "markdown",
   "id": "199ffa6d",
   "metadata": {},
   "source": [
    "# 2. Set"
   ]
  },
  {
   "cell_type": "markdown",
   "id": "92928361",
   "metadata": {},
   "source": [
    "- Unordered collection of unique items.\n",
    "- Does not allow duplicates — any repeated elements are automatically removed.\n",
    "- Mutable — we can add or remove items after the set is created.\n",
    "- Can only contain immutable items like numbers, strings, and tuples (not lists or dictionaries)."
   ]
  },
  {
   "cell_type": "code",
   "execution_count": 76,
   "id": "40417757",
   "metadata": {},
   "outputs": [
    {
     "name": "stdout",
     "output_type": "stream",
     "text": [
      "{1, 2, 3}\n",
      "{1, 2, 3}\n",
      "True\n"
     ]
    }
   ],
   "source": [
    "# unordered collection of unique items\n",
    "a = {1,2,3,2}\n",
    "b = {2,3,1}\n",
    "\n",
    "print(a)\n",
    "print(b)\n",
    "print(a==b)"
   ]
  },
  {
   "cell_type": "code",
   "execution_count": null,
   "id": "a3caca0d",
   "metadata": {},
   "outputs": [
    {
     "name": "stdout",
     "output_type": "stream",
     "text": [
      "{1, 2, 3, 4}\n"
     ]
    }
   ],
   "source": [
    "# allows no duplicates\n",
    "a = {1,2,2,3,3,4,4}\n",
    "print(a)"
   ]
  },
  {
   "cell_type": "code",
   "execution_count": null,
   "id": "93815bf8",
   "metadata": {},
   "outputs": [
    {
     "name": "stdout",
     "output_type": "stream",
     "text": [
      "{1, 2, 3, 4, (4, 5, 6)}\n"
     ]
    }
   ],
   "source": [
    "# tuple inside list\n",
    "\n",
    "s = {1,2,3,4,(4,5,6)}\n",
    "print(s)"
   ]
  },
  {
   "cell_type": "code",
   "execution_count": 78,
   "id": "d44b1ee3",
   "metadata": {},
   "outputs": [
    {
     "ename": "TypeError",
     "evalue": "unhashable type: 'set'",
     "output_type": "error",
     "traceback": [
      "\u001b[31m---------------------------------------------------------------------------\u001b[39m",
      "\u001b[31mTypeError\u001b[39m                                 Traceback (most recent call last)",
      "\u001b[36mCell\u001b[39m\u001b[36m \u001b[39m\u001b[32mIn[78]\u001b[39m\u001b[32m, line 2\u001b[39m\n\u001b[32m      1\u001b[39m \u001b[38;5;66;03m# can only store immutable items inside set\u001b[39;00m\n\u001b[32m----> \u001b[39m\u001b[32m2\u001b[39m a = {\u001b[32m1\u001b[39m,\u001b[32m2\u001b[39m,{\u001b[32m3\u001b[39m,\u001b[32m4\u001b[39m}}  \u001b[38;5;66;03m# set is mutable data type so we can not add it as element of set\u001b[39;00m\n",
      "\u001b[31mTypeError\u001b[39m: unhashable type: 'set'"
     ]
    }
   ],
   "source": [
    "# can only store immutable items inside set\n",
    "a = {1,2,{3,4}}  # set is mutable data type so we can not add it as element of set"
   ]
  },
  {
   "cell_type": "code",
   "execution_count": 79,
   "id": "c8958737",
   "metadata": {},
   "outputs": [
    {
     "ename": "TypeError",
     "evalue": "unhashable type: 'list'",
     "output_type": "error",
     "traceback": [
      "\u001b[31m---------------------------------------------------------------------------\u001b[39m",
      "\u001b[31mTypeError\u001b[39m                                 Traceback (most recent call last)",
      "\u001b[36mCell\u001b[39m\u001b[36m \u001b[39m\u001b[32mIn[79]\u001b[39m\u001b[32m, line 2\u001b[39m\n\u001b[32m      1\u001b[39m \u001b[38;5;66;03m# list is also mutable data type and can not be added inside set\u001b[39;00m\n\u001b[32m----> \u001b[39m\u001b[32m2\u001b[39m a = {\u001b[32m1\u001b[39m,\u001b[32m2\u001b[39m,\u001b[32m3\u001b[39m,[\u001b[32m5\u001b[39m,\u001b[32m6\u001b[39m,\u001b[32m8\u001b[39m]}   \n",
      "\u001b[31mTypeError\u001b[39m: unhashable type: 'list'"
     ]
    }
   ],
   "source": [
    "# list is also mutable data type and can not be added inside set\n",
    "a = {1,2,3,[5,6,8]}   "
   ]
  },
  {
   "cell_type": "code",
   "execution_count": 34,
   "id": "2079866f",
   "metadata": {},
   "outputs": [
    {
     "ename": "TypeError",
     "evalue": "unhashable type: 'dict'",
     "output_type": "error",
     "traceback": [
      "\u001b[31m---------------------------------------------------------------------------\u001b[39m",
      "\u001b[31mTypeError\u001b[39m                                 Traceback (most recent call last)",
      "\u001b[36mCell\u001b[39m\u001b[36m \u001b[39m\u001b[32mIn[34]\u001b[39m\u001b[32m, line 1\u001b[39m\n\u001b[32m----> \u001b[39m\u001b[32m1\u001b[39m a = {\u001b[32m1\u001b[39m,\u001b[32m2\u001b[39m,\u001b[32m3\u001b[39m,{\u001b[33m'\u001b[39m\u001b[33ma\u001b[39m\u001b[33m'\u001b[39m:\u001b[32m1\u001b[39m}}  \u001b[38;5;66;03m# dictionary also mutable data type, can not be added\u001b[39;00m\n",
      "\u001b[31mTypeError\u001b[39m: unhashable type: 'dict'"
     ]
    }
   ],
   "source": [
    "a = {1,2,3,{'a':1}}  # dictionary also mutable data type, can not be added"
   ]
  },
  {
   "cell_type": "code",
   "execution_count": null,
   "id": "874b27d8",
   "metadata": {},
   "outputs": [],
   "source": []
  },
  {
   "cell_type": "markdown",
   "id": "968c621f",
   "metadata": {},
   "source": [
    "### Creating Set"
   ]
  },
  {
   "cell_type": "code",
   "execution_count": 1,
   "id": "e6512a8b",
   "metadata": {},
   "outputs": [
    {
     "name": "stdout",
     "output_type": "stream",
     "text": [
      "{} <class 'dict'>\n",
      "set() <class 'set'>\n"
     ]
    }
   ],
   "source": [
    "# creating empty set\n",
    "\n",
    "s = {}  # also used for dictionary, default is dictionary\n",
    "print(s,type(s))\n",
    "\n",
    "p = set() # using type conversion\n",
    "print(p,type(p))\n"
   ]
  },
  {
   "cell_type": "code",
   "execution_count": 2,
   "id": "f82f78d7",
   "metadata": {},
   "outputs": [
    {
     "name": "stdout",
     "output_type": "stream",
     "text": [
      "{1, 2, 3}\n",
      "{'hello', 1, 2, 4.5}\n",
      "{1, 2, 3, (5, 5, 6)}\n",
      "{1, 2, 3, 4}\n"
     ]
    }
   ],
   "source": [
    "# Homogeneous set\n",
    "s1 = {1,2,3}\n",
    "print(s1)\n",
    "\n",
    "# heterogeneous set   \n",
    "a = {1,2,'hello',4.5, True} # True is 1, it will not be repeated.\n",
    "print(a)\n",
    "\n",
    "# tuple in set\n",
    "a = {1,2,3,(5,5,6)} # set can have only immutable nested elements\n",
    "print(a)\n",
    "\n",
    "# type conversion\n",
    "s = set([1,2,3,4])\n",
    "print(s)\n"
   ]
  },
  {
   "cell_type": "code",
   "execution_count": null,
   "id": "e317ed1f",
   "metadata": {},
   "outputs": [],
   "source": []
  },
  {
   "cell_type": "markdown",
   "id": "3ae57639",
   "metadata": {},
   "source": [
    "### Accessing Items"
   ]
  },
  {
   "cell_type": "code",
   "execution_count": 3,
   "id": "2fd249a8",
   "metadata": {},
   "outputs": [
    {
     "ename": "TypeError",
     "evalue": "'set' object is not subscriptable",
     "output_type": "error",
     "traceback": [
      "\u001b[31m---------------------------------------------------------------------------\u001b[39m",
      "\u001b[31mTypeError\u001b[39m                                 Traceback (most recent call last)",
      "\u001b[36mCell\u001b[39m\u001b[36m \u001b[39m\u001b[32mIn[3]\u001b[39m\u001b[32m, line 3\u001b[39m\n\u001b[32m      1\u001b[39m \u001b[38;5;66;03m# cannot access items as sets are unordered.\u001b[39;00m\n\u001b[32m      2\u001b[39m a = {\u001b[32m1\u001b[39m,\u001b[32m2\u001b[39m,\u001b[32m3\u001b[39m,\u001b[32m4\u001b[39m,\u001b[32m5\u001b[39m,\u001b[32m6\u001b[39m}\n\u001b[32m----> \u001b[39m\u001b[32m3\u001b[39m \u001b[43ma\u001b[49m\u001b[43m[\u001b[49m\u001b[32;43m0\u001b[39;49m\u001b[43m]\u001b[49m\n",
      "\u001b[31mTypeError\u001b[39m: 'set' object is not subscriptable"
     ]
    }
   ],
   "source": [
    "# cannot access items as sets are unordered.\n",
    "a = {1,2,3,4,5,6}\n",
    "a[0]"
   ]
  },
  {
   "cell_type": "code",
   "execution_count": null,
   "id": "48090283",
   "metadata": {},
   "outputs": [],
   "source": []
  },
  {
   "cell_type": "markdown",
   "id": "09b5688a",
   "metadata": {},
   "source": [
    "### Editing items"
   ]
  },
  {
   "cell_type": "code",
   "execution_count": 4,
   "id": "785ceac5",
   "metadata": {},
   "outputs": [
    {
     "name": "stdout",
     "output_type": "stream",
     "text": [
      "{1, 2, 3, 4, 5}\n",
      "{1, 2, 3, 4, 5, 6, 7}\n"
     ]
    }
   ],
   "source": [
    "a = {1,2,3,4,5}\n",
    "\n",
    "# add - add single item\n",
    "a.add(5)\n",
    "print(a)\n",
    "\n",
    "# update - add multiple items\n",
    "a.update([5,6,7])\n",
    "print(a)"
   ]
  },
  {
   "cell_type": "code",
   "execution_count": null,
   "id": "fac061db",
   "metadata": {},
   "outputs": [],
   "source": []
  },
  {
   "cell_type": "markdown",
   "id": "c1cfe14e",
   "metadata": {},
   "source": [
    "### Deleting items"
   ]
  },
  {
   "cell_type": "code",
   "execution_count": 5,
   "id": "b6606bb2",
   "metadata": {},
   "outputs": [
    {
     "name": "stdout",
     "output_type": "stream",
     "text": [
      "{1, 2, 3, 4, 5, 6}\n"
     ]
    },
    {
     "ename": "NameError",
     "evalue": "name 's' is not defined",
     "output_type": "error",
     "traceback": [
      "\u001b[31m---------------------------------------------------------------------------\u001b[39m",
      "\u001b[31mNameError\u001b[39m                                 Traceback (most recent call last)",
      "\u001b[36mCell\u001b[39m\u001b[36m \u001b[39m\u001b[32mIn[5]\u001b[39m\u001b[32m, line 5\u001b[39m\n\u001b[32m      3\u001b[39m \u001b[38;5;28mprint\u001b[39m(s)\n\u001b[32m      4\u001b[39m \u001b[38;5;28;01mdel\u001b[39;00m s\n\u001b[32m----> \u001b[39m\u001b[32m5\u001b[39m \u001b[38;5;28mprint\u001b[39m(\u001b[43ms\u001b[49m)\n",
      "\u001b[31mNameError\u001b[39m: name 's' is not defined"
     ]
    }
   ],
   "source": [
    "# del - delete entire set\n",
    "s = {1,2,3,4,5,6}\n",
    "print(s)\n",
    "del s\n",
    "print(s)"
   ]
  },
  {
   "cell_type": "code",
   "execution_count": 6,
   "id": "c62a80f1",
   "metadata": {},
   "outputs": [
    {
     "name": "stdout",
     "output_type": "stream",
     "text": [
      "{1, 2, 3, 4, 6}\n",
      "{1, 2, 3, 4, 6}\n"
     ]
    }
   ],
   "source": [
    "# discard() - deletes a specific item. \n",
    "s = {1,2,3,4,5,6}\n",
    "s.discard(5)\n",
    "print(s)\n",
    "\n",
    "s.discard('hello')   # Does not raise an error if the item is not found.\n",
    "print(s)"
   ]
  },
  {
   "cell_type": "code",
   "execution_count": 7,
   "id": "748b3d43",
   "metadata": {},
   "outputs": [
    {
     "name": "stdout",
     "output_type": "stream",
     "text": [
      "{1, 2, 3, 5, 6}\n"
     ]
    },
    {
     "ename": "KeyError",
     "evalue": "'hellow'",
     "output_type": "error",
     "traceback": [
      "\u001b[31m---------------------------------------------------------------------------\u001b[39m",
      "\u001b[31mKeyError\u001b[39m                                  Traceback (most recent call last)",
      "\u001b[36mCell\u001b[39m\u001b[36m \u001b[39m\u001b[32mIn[7]\u001b[39m\u001b[32m, line 7\u001b[39m\n\u001b[32m      4\u001b[39m s.remove(\u001b[32m4\u001b[39m)\n\u001b[32m      5\u001b[39m \u001b[38;5;28mprint\u001b[39m(s)\n\u001b[32m----> \u001b[39m\u001b[32m7\u001b[39m \u001b[43ms\u001b[49m\u001b[43m.\u001b[49m\u001b[43mremove\u001b[49m\u001b[43m(\u001b[49m\u001b[33;43m'\u001b[39;49m\u001b[33;43mhellow\u001b[39;49m\u001b[33;43m'\u001b[39;49m\u001b[43m)\u001b[49m  \u001b[38;5;66;03m#  Raises an error if the item is not found.\u001b[39;00m\n\u001b[32m      8\u001b[39m \u001b[38;5;28mprint\u001b[39m(s)\n",
      "\u001b[31mKeyError\u001b[39m: 'hellow'"
     ]
    }
   ],
   "source": [
    "# remove() - Deletes a specific item.\n",
    "\n",
    "s = {1,2,3,4,5,6}\n",
    "s.remove(4)\n",
    "print(s)\n",
    "\n",
    "s.remove('hellow')  #  Raises an error if the item is not found.\n",
    "print(s)"
   ]
  },
  {
   "cell_type": "code",
   "execution_count": 8,
   "id": "63684b23",
   "metadata": {},
   "outputs": [
    {
     "name": "stdout",
     "output_type": "stream",
     "text": [
      "{2, 3, 4, 5, 6}\n"
     ]
    }
   ],
   "source": [
    "# pop() - randomly delete the item\n",
    "s = {1,2,3,4,5,6}\n",
    "s.pop()\n",
    "print(s)"
   ]
  },
  {
   "cell_type": "code",
   "execution_count": 9,
   "id": "5c459df1",
   "metadata": {},
   "outputs": [
    {
     "name": "stdout",
     "output_type": "stream",
     "text": [
      "set()\n"
     ]
    }
   ],
   "source": [
    "# clear - to empty set\n",
    "s = {1,2,3,4,5,6}\n",
    "s.clear()\n",
    "print(s)"
   ]
  },
  {
   "cell_type": "code",
   "execution_count": null,
   "id": "e3b40639",
   "metadata": {},
   "outputs": [],
   "source": []
  },
  {
   "cell_type": "markdown",
   "id": "d8aecd55",
   "metadata": {},
   "source": [
    "### Set operations"
   ]
  },
  {
   "cell_type": "code",
   "execution_count": 24,
   "id": "111791c3",
   "metadata": {},
   "outputs": [
    {
     "name": "stdout",
     "output_type": "stream",
     "text": [
      "{1, 2, 3, 4, 5, 6, 7, 8}\n",
      "{1, 2, 3, 4, 5, 6, 7, 8}\n",
      "{1, 2, 3, 4, 5, 6, 7, 8}\n",
      "{4, 5, 6, 7, 8}\n"
     ]
    }
   ],
   "source": [
    "s1 = {1,2,3,4,5}\n",
    "s2 = {4,5,5,6,7,8}\n",
    "\n",
    "# union (|) : combines elements from both sets.\n",
    "print(s1|s2) \n",
    "print(s1.union(s2))\n",
    "\n",
    "# update() : combines elements parmanently.\n",
    "s1.update(s2) \n",
    "print(s1)\n",
    "print(s2)"
   ]
  },
  {
   "cell_type": "code",
   "execution_count": null,
   "id": "d61e058d",
   "metadata": {},
   "outputs": [
    {
     "name": "stdout",
     "output_type": "stream",
     "text": [
      "{4, 5}\n",
      "{4, 5}\n",
      "{4, 5}\n",
      "{4, 5, 6, 7, 8}\n"
     ]
    }
   ],
   "source": [
    "s1 = {1,2,3,4,5}\n",
    "s2 = {4,5,5,6,7,8}\n",
    "\n",
    "# intersection (&) : Returns elements common to both sets.\n",
    "print(s1&s2)\n",
    "print(s1.intersection(s2))\n",
    "\n",
    "# intersection_update() : keeps only elements found in both sets.\n",
    "s1.intersection_update(s2)\n",
    "print(s1)\n",
    "print(s2)"
   ]
  },
  {
   "cell_type": "code",
   "execution_count": 28,
   "id": "b0ef12ec",
   "metadata": {},
   "outputs": [
    {
     "name": "stdout",
     "output_type": "stream",
     "text": [
      "{1, 2, 3}\n",
      "{8, 6, 7}\n",
      "{1, 2, 3}\n",
      "{1, 2, 3}\n",
      "{4, 5, 6, 7, 8}\n"
     ]
    }
   ],
   "source": [
    "s1 = {1,2,3,4,5}\n",
    "s2 = {4,5,5,6,7,8}\n",
    "\n",
    "# differences (-) : Returns elements in the first set but not in the second.\n",
    "print(s1-s2)\n",
    "print(s2-s1)\n",
    "print(s1.difference(s2))\n",
    "\n",
    "# difference_update() \n",
    "s1.difference_update(s2)\n",
    "print(s1)\n",
    "print(s2)"
   ]
  },
  {
   "cell_type": "code",
   "execution_count": 29,
   "id": "ccf5f972",
   "metadata": {},
   "outputs": [
    {
     "name": "stdout",
     "output_type": "stream",
     "text": [
      "{1, 2, 3, 6, 7, 8}\n",
      "{1, 2, 3, 6, 7, 8}\n",
      "{1, 2, 3, 6, 7, 8}\n",
      "{4, 5, 6, 7, 8}\n"
     ]
    }
   ],
   "source": [
    "s1 = {1,2,3,4,5}\n",
    "s2 = {4,5,5,6,7,8}\n",
    "\n",
    "# symmetric difference (^)  Returns elements which are not common in both.\n",
    "print(s1^s2)\n",
    "print(s1.symmetric_difference(s2))\n",
    "\n",
    "# symmetric_difference_update() : keeps elements which are not common\n",
    "s1.symmetric_difference_update(s2)\n",
    "print(s1)\n",
    "print(s2)"
   ]
  },
  {
   "cell_type": "code",
   "execution_count": 39,
   "id": "a6375747",
   "metadata": {},
   "outputs": [
    {
     "name": "stdout",
     "output_type": "stream",
     "text": [
      "True\n",
      "False\n",
      "False\n"
     ]
    }
   ],
   "source": [
    "s1 = {4,5}\n",
    "s2 = {4,5,5,6,7,8}\n",
    "\n",
    "# subset() & superset() & disjoint checks\n",
    "\n",
    "print(s1.issubset(s2))  # True if s1 is subset of s2.\n",
    "print(s1.issuperset(s2)) # True if s1 is superset of s2.\n",
    "print(s1.isdisjoint(s2))  # True if no elements in common"
   ]
  },
  {
   "cell_type": "code",
   "execution_count": null,
   "id": "e5d48c74",
   "metadata": {},
   "outputs": [],
   "source": []
  },
  {
   "cell_type": "code",
   "execution_count": 33,
   "id": "f3fb4d92",
   "metadata": {},
   "outputs": [
    {
     "name": "stdout",
     "output_type": "stream",
     "text": [
      "True\n",
      "True\n"
     ]
    }
   ],
   "source": [
    "# membership checks\n",
    "s1 = {1,4,5}\n",
    "s2 = {4,5,5,6,7,8}\n",
    "print(1 in s1)\n",
    "print('hello' not in s2)"
   ]
  },
  {
   "cell_type": "code",
   "execution_count": 36,
   "id": "12f87bec",
   "metadata": {},
   "outputs": [
    {
     "name": "stdout",
     "output_type": "stream",
     "text": [
      "1,4,5,"
     ]
    }
   ],
   "source": [
    "# loop\n",
    "s1 = {1,4,5}\n",
    "for i in s1:\n",
    "    print(i,end=',')"
   ]
  },
  {
   "cell_type": "code",
   "execution_count": null,
   "id": "f179ed8d",
   "metadata": {},
   "outputs": [],
   "source": []
  },
  {
   "cell_type": "markdown",
   "id": "af25da05",
   "metadata": {},
   "source": [
    "### Set Functions"
   ]
  },
  {
   "cell_type": "code",
   "execution_count": 53,
   "id": "b6c32b66",
   "metadata": {},
   "outputs": [
    {
     "name": "stdout",
     "output_type": "stream",
     "text": [
      "5\n",
      "1\n",
      "5\n",
      "15\n",
      "[1, 2, 3, 4, 5]\n",
      "[5, 4, 3, 2, 1]\n"
     ]
    }
   ],
   "source": [
    "s1 = {1,2,3,4,5}\n",
    "\n",
    "print(len(s1)) # length\n",
    "print(min(s1)) # min element\n",
    "print(max(s1)) # max element\n",
    "print(sum(s1)) # sum\n",
    "print(sorted(s1))  # sorted() : will return list\n",
    "print(sorted(s1,reverse=True))"
   ]
  },
  {
   "cell_type": "code",
   "execution_count": null,
   "id": "f70d0118",
   "metadata": {},
   "outputs": [],
   "source": []
  },
  {
   "cell_type": "markdown",
   "id": "a001353d",
   "metadata": {},
   "source": [
    "### Copying Set"
   ]
  },
  {
   "cell_type": "code",
   "execution_count": null,
   "id": "1c55d9e0",
   "metadata": {},
   "outputs": [
    {
     "name": "stdout",
     "output_type": "stream",
     "text": [
      "2062984718912\n",
      "2062984721600\n"
     ]
    }
   ],
   "source": [
    "# copy() - creates shallow copy, creates a new set with the same elements\n",
    "s1 = {1,2,3}\n",
    "s2 = s1.copy()\n",
    "print(id(s1))\n",
    "print(id(s2))"
   ]
  },
  {
   "cell_type": "code",
   "execution_count": null,
   "id": "116e9e21",
   "metadata": {},
   "outputs": [
    {
     "name": "stdout",
     "output_type": "stream",
     "text": [
      "2062984717120\n",
      "2062984722048\n"
     ]
    }
   ],
   "source": [
    "# set() : creates a new set with the same elements\n",
    "s1 = {1,2,3}\n",
    "s2 = set(s1)\n",
    "print(id(s1))\n",
    "print(id(s2))"
   ]
  },
  {
   "cell_type": "code",
   "execution_count": null,
   "id": "3dfc8ded",
   "metadata": {},
   "outputs": [],
   "source": []
  },
  {
   "cell_type": "markdown",
   "id": "431909e4",
   "metadata": {},
   "source": [
    "### Frozen Set - Immutable version of a set."
   ]
  },
  {
   "cell_type": "code",
   "execution_count": 63,
   "id": "faedf0dd",
   "metadata": {},
   "outputs": [
    {
     "name": "stdout",
     "output_type": "stream",
     "text": [
      "frozenset({1, 2, 3})\n"
     ]
    }
   ],
   "source": [
    "fs = frozenset([1,2,3])\n",
    "print(fs)"
   ]
  },
  {
   "cell_type": "code",
   "execution_count": null,
   "id": "a0ed6b4c",
   "metadata": {},
   "outputs": [
    {
     "name": "stdout",
     "output_type": "stream",
     "text": [
      "{frozenset({1, 2, 3}), 1, 2, 3}\n"
     ]
    }
   ],
   "source": [
    "# 2D sets, can be used inside set as it is immutable.\n",
    "fs = frozenset([1,2,3])\n",
    "s = {1,2,3,fs}\n",
    "print(s)"
   ]
  },
  {
   "cell_type": "code",
   "execution_count": null,
   "id": "29cfd144",
   "metadata": {},
   "outputs": [],
   "source": []
  },
  {
   "cell_type": "markdown",
   "id": "08c14a1d",
   "metadata": {},
   "source": [
    "### Set Comprehension"
   ]
  },
  {
   "cell_type": "code",
   "execution_count": 66,
   "id": "2abf62a4",
   "metadata": {},
   "outputs": [
    {
     "data": {
      "text/plain": [
       "{6, 8, 10}"
      ]
     },
     "execution_count": 66,
     "metadata": {},
     "output_type": "execute_result"
    }
   ],
   "source": [
    "{i for i in range(1,11) if i>=5 if i%2==0}"
   ]
  },
  {
   "cell_type": "code",
   "execution_count": null,
   "id": "806223f3",
   "metadata": {},
   "outputs": [],
   "source": []
  },
  {
   "cell_type": "markdown",
   "id": "bda8c56a",
   "metadata": {},
   "source": [
    "### Unpacking Set"
   ]
  },
  {
   "cell_type": "code",
   "execution_count": 48,
   "id": "e54ecfb9",
   "metadata": {},
   "outputs": [
    {
     "name": "stdout",
     "output_type": "stream",
     "text": [
      "1\n",
      "2\n",
      "3\n"
     ]
    }
   ],
   "source": [
    "first,second,third = {1,2,3}\n",
    "print(first)\n",
    "print(second)\n",
    "print(third)"
   ]
  },
  {
   "cell_type": "code",
   "execution_count": null,
   "id": "d522681c",
   "metadata": {},
   "outputs": [
    {
     "name": "stdout",
     "output_type": "stream",
     "text": [
      "1\n",
      "[2, 3, 4, 5, 6]\n"
     ]
    }
   ],
   "source": [
    "# Using * for flexible unpacking\n",
    "first,*rest = {1,2,3,4,5,6}\n",
    "print(first)\n",
    "print(rest)"
   ]
  },
  {
   "cell_type": "code",
   "execution_count": 51,
   "id": "85431081",
   "metadata": {},
   "outputs": [
    {
     "name": "stdout",
     "output_type": "stream",
     "text": [
      "6\n"
     ]
    }
   ],
   "source": [
    "# unpack a set into function arguments\n",
    "def add(a, b, c):\n",
    "    return a + b + c\n",
    "\n",
    "my_set = {1, 2, 3}\n",
    "print(add(*my_set))  # Order is arbitrary."
   ]
  },
  {
   "cell_type": "code",
   "execution_count": 52,
   "id": "53cd38e9",
   "metadata": {},
   "outputs": [
    {
     "name": "stdout",
     "output_type": "stream",
     "text": [
      "{1, 2, 3, 4, 5, 6, 7, 8}\n"
     ]
    }
   ],
   "source": [
    "s1={1,2,3,4,5}\n",
    "s2={4,5,6,7,8}\n",
    "\n",
    "s3 = {*s1, *s2}\n",
    "print (s3)"
   ]
  },
  {
   "cell_type": "code",
   "execution_count": null,
   "id": "3e845e08",
   "metadata": {},
   "outputs": [],
   "source": []
  },
  {
   "cell_type": "markdown",
   "id": "6c1a5721",
   "metadata": {},
   "source": [
    "# 3. Dictionary"
   ]
  },
  {
   "cell_type": "markdown",
   "id": "f314025e",
   "metadata": {},
   "source": [
    "- Built-in data type that stores data in key-value pairs.\n",
    "- Keys must be immutable (e.g., strings, tuples, int etc.). \n",
    "- Mutable types like lists, sets, or other dictionaries cannot be used as keys.\n",
    "- Indexed, Mutable, unordered collection of key-value pairs.\n",
    "- Unique keys: Each key must be unique; if a key is repeated, the last value assigned will overwrite the previous one."
   ]
  },
  {
   "cell_type": "code",
   "execution_count": null,
   "id": "472769d7",
   "metadata": {},
   "outputs": [],
   "source": []
  },
  {
   "cell_type": "markdown",
   "id": "ed8efb95",
   "metadata": {},
   "source": [
    "### Characteristics of dictionary"
   ]
  },
  {
   "cell_type": "code",
   "execution_count": 48,
   "id": "42167bfa",
   "metadata": {},
   "outputs": [
    {
     "name": "stdout",
     "output_type": "stream",
     "text": [
      "{'title': 'Python Basics', 'author': 'John Doe', 'genres': ['Programming', 'Education'], 'available': True}\n"
     ]
    }
   ],
   "source": [
    "# stored data in key-value pairs\n",
    "book = {\"title\": \"Python Basics\",\"author\": \"John Doe\",\"genres\": [\"Programming\", \"Education\"],\"available\": True}\n",
    "print(book)"
   ]
  },
  {
   "cell_type": "code",
   "execution_count": 59,
   "id": "d828739b",
   "metadata": {},
   "outputs": [
    {
     "ename": "TypeError",
     "evalue": "unhashable type: 'list'",
     "output_type": "error",
     "traceback": [
      "\u001b[31m---------------------------------------------------------------------------\u001b[39m",
      "\u001b[31mTypeError\u001b[39m                                 Traceback (most recent call last)",
      "\u001b[36mCell\u001b[39m\u001b[36m \u001b[39m\u001b[32mIn[59]\u001b[39m\u001b[32m, line 3\u001b[39m\n\u001b[32m      1\u001b[39m \u001b[38;5;66;03m# keys must be immutable - str, int, tuple\u001b[39;00m\n\u001b[32m      2\u001b[39m \u001b[38;5;66;03m# values can be mutable - can be any data type\u001b[39;00m\n\u001b[32m----> \u001b[39m\u001b[32m3\u001b[39m book = {[\u001b[33m'\u001b[39m\u001b[33mName\u001b[39m\u001b[33m'\u001b[39m,\u001b[33m'\u001b[39m\u001b[33mage\u001b[39m\u001b[33m'\u001b[39m]:[\u001b[33m'\u001b[39m\u001b[33mJohn Doe\u001b[39m\u001b[33m'\u001b[39m,\u001b[32m26\u001b[39m]} \n",
      "\u001b[31mTypeError\u001b[39m: unhashable type: 'list'"
     ]
    }
   ],
   "source": [
    "# keys must be immutable - str, int, tuple\n",
    "# values can be mutable - can be any data type\n",
    "book = {['Name','age']:['John Doe',26]} "
   ]
  },
  {
   "cell_type": "code",
   "execution_count": 64,
   "id": "da4213f0",
   "metadata": {},
   "outputs": [
    {
     "data": {
      "text/plain": [
       "{'book': 'Data Science', 'author': 'John Doe'}"
      ]
     },
     "execution_count": 64,
     "metadata": {},
     "output_type": "execute_result"
    }
   ],
   "source": [
    "# keys must be unique : if a key is repeated, the last value assigned will overwrite the previous one.\n",
    "book = {'book':'Python basics','book':'Data Science','author': 'John Doe'}\n",
    "book"
   ]
  },
  {
   "cell_type": "code",
   "execution_count": null,
   "id": "be66312e",
   "metadata": {},
   "outputs": [],
   "source": []
  },
  {
   "cell_type": "markdown",
   "id": "6948ebb2",
   "metadata": {},
   "source": [
    "### Create Dictionary"
   ]
  },
  {
   "cell_type": "code",
   "execution_count": 73,
   "id": "cb13f655",
   "metadata": {},
   "outputs": [
    {
     "name": "stdout",
     "output_type": "stream",
     "text": [
      "{} <class 'dict'>\n",
      "{(1, 2, 3): 1, 'hello': 'world'}\n",
      "{'collage': 'IIT', 'Sem': '4', 'Subjects': {'Maths': 50, 'DSA': 75}}\n",
      "{1: 2, 3: 4, 5: 6}\n"
     ]
    }
   ],
   "source": [
    "# empty dictionary\n",
    "d = {}\n",
    "print(d,type(d))\n",
    "\n",
    "# 1-D dictionary \n",
    "d = {'name':'Nikshit','age':25,'village':'Kharchiya'}\n",
    "\n",
    "# mixed key - Tuple and String as key in dict\n",
    "d = {(1,2,3):1,'hello':'world'}\n",
    "print(d)\n",
    "\n",
    "# 2-D dictionary\n",
    "s = {'collage':'IIT','Sem':'4','Subjects':{'Maths':50,'DSA':75}}\n",
    "print(s)\n",
    "\n",
    "# using sequence of key-value pair in tuple and type conversion \n",
    "d = dict([(1,2),(3,4),(5,6)])\n",
    "print(d)"
   ]
  },
  {
   "cell_type": "code",
   "execution_count": 49,
   "id": "a1b1736f",
   "metadata": {},
   "outputs": [
    {
     "name": "stdout",
     "output_type": "stream",
     "text": [
      "{1: ['one', 'two'], 2: ['one', 'two'], 3: ['one', 'two'], 4: ['one', 'two'], 5: ['one', 'two']}\n"
     ]
    }
   ],
   "source": [
    "keys = [1,2,3,4,5]\n",
    "value = ['one','two']\n",
    "d = dict.fromkeys(keys,value)\n",
    "print(d)"
   ]
  },
  {
   "cell_type": "code",
   "execution_count": null,
   "id": "362341a9",
   "metadata": {},
   "outputs": [],
   "source": []
  },
  {
   "cell_type": "markdown",
   "id": "cd97f2c4",
   "metadata": {},
   "source": [
    "### Accessing items from dictionary"
   ]
  },
  {
   "cell_type": "code",
   "execution_count": 6,
   "id": "0bfa018f",
   "metadata": {},
   "outputs": [
    {
     "name": "stdout",
     "output_type": "stream",
     "text": [
      "PDPU\n",
      "50\n"
     ]
    }
   ],
   "source": [
    "# indexing - key - will raise KeyError if not fond\n",
    "s = {'collage':'PDPU','Sem':'4','Subjects':{'Maths':50,'DSA':75}}\n",
    "print(s['collage'])\n",
    "print(s['Subjects']['Maths'])\n"
   ]
  },
  {
   "cell_type": "code",
   "execution_count": 51,
   "id": "846af99f",
   "metadata": {},
   "outputs": [
    {
     "name": "stdout",
     "output_type": "stream",
     "text": [
      "PDPU\n",
      "None\n"
     ]
    }
   ],
   "source": [
    "# get method - will return None if Key is not found\n",
    "s = {'collage':'PDPU','Sem':'4','Subjects':{'Maths':50,'DSA':75}}\n",
    "print(s.get('collage'))\n",
    "print(s.get('name'))  # name key is not present in dictionary"
   ]
  },
  {
   "cell_type": "code",
   "execution_count": null,
   "id": "dbf10bd6",
   "metadata": {},
   "outputs": [],
   "source": []
  },
  {
   "cell_type": "markdown",
   "id": "765900cf",
   "metadata": {},
   "source": [
    "### Editing in dictionary"
   ]
  },
  {
   "cell_type": "code",
   "execution_count": 52,
   "id": "e6be6c2f",
   "metadata": {},
   "outputs": [
    {
     "name": "stdout",
     "output_type": "stream",
     "text": [
      "{'collage': 'PDPU', 'Sem': '4', 'Subjects': {'Maths': 50, 'DSA': 75}}\n",
      "{'collage': 'PDPU', 'Sem': '4', 'Subjects': {'Maths': 50, 'DSA': 75}, 'name': 'Nikshit'}\n"
     ]
    }
   ],
   "source": [
    "# adding new pair\n",
    "s = {'collage':'PDPU','Sem':'4','Subjects':{'Maths':50,'DSA':75}}\n",
    "print(s)\n",
    "s['name']='Nikshit' \n",
    "print(s)"
   ]
  },
  {
   "cell_type": "code",
   "execution_count": 53,
   "id": "ff9edf13",
   "metadata": {},
   "outputs": [
    {
     "name": "stdout",
     "output_type": "stream",
     "text": [
      "{'collage': 'PDPU', 'Sem': 8, 'Subjects': {'Maths': 50, 'DSA': 75}, 'name': 'Nikshit'}\n"
     ]
    }
   ],
   "source": [
    "# editing - If the key already exists, will get replaced with new value\n",
    "s['Sem'] = 8\n",
    "print(s)"
   ]
  },
  {
   "cell_type": "code",
   "execution_count": 35,
   "id": "2bcb4732",
   "metadata": {},
   "outputs": [
    {
     "name": "stdout",
     "output_type": "stream",
     "text": [
      "{1: 10, 2: 5, 3: 4}\n"
     ]
    }
   ],
   "source": [
    "# update() - merge two dictionaries, if key already exists, it will be overwritten with other dictionary.\n",
    "d1 = {1:2,2:3,3:4}\n",
    "d2 = {2:5,1:10}\n",
    "d1.update(d2)\n",
    "print(d1)"
   ]
  },
  {
   "cell_type": "code",
   "execution_count": null,
   "id": "0d6e6401",
   "metadata": {},
   "outputs": [],
   "source": []
  },
  {
   "cell_type": "markdown",
   "id": "90dc813f",
   "metadata": {},
   "source": [
    "### Remove key-value pair"
   ]
  },
  {
   "cell_type": "code",
   "execution_count": 21,
   "id": "d3909f0d",
   "metadata": {},
   "outputs": [
    {
     "ename": "NameError",
     "evalue": "name 's' is not defined",
     "output_type": "error",
     "traceback": [
      "\u001b[31m---------------------------------------------------------------------------\u001b[39m",
      "\u001b[31mNameError\u001b[39m                                 Traceback (most recent call last)",
      "\u001b[36mCell\u001b[39m\u001b[36m \u001b[39m\u001b[32mIn[21]\u001b[39m\u001b[32m, line 4\u001b[39m\n\u001b[32m      2\u001b[39m s = {\u001b[33m'\u001b[39m\u001b[33mcollage\u001b[39m\u001b[33m'\u001b[39m:\u001b[33m'\u001b[39m\u001b[33mPDPU\u001b[39m\u001b[33m'\u001b[39m,\u001b[33m'\u001b[39m\u001b[33mSem\u001b[39m\u001b[33m'\u001b[39m:\u001b[33m'\u001b[39m\u001b[33m4\u001b[39m\u001b[33m'\u001b[39m,\u001b[33m'\u001b[39m\u001b[33mSubjects\u001b[39m\u001b[33m'\u001b[39m:{\u001b[33m'\u001b[39m\u001b[33mMaths\u001b[39m\u001b[33m'\u001b[39m:\u001b[32m50\u001b[39m,\u001b[33m'\u001b[39m\u001b[33mDSA\u001b[39m\u001b[33m'\u001b[39m:\u001b[32m75\u001b[39m}}\n\u001b[32m      3\u001b[39m \u001b[38;5;28;01mdel\u001b[39;00m s\n\u001b[32m----> \u001b[39m\u001b[32m4\u001b[39m \u001b[38;5;28mprint\u001b[39m(\u001b[43ms\u001b[49m)\n",
      "\u001b[31mNameError\u001b[39m: name 's' is not defined"
     ]
    }
   ],
   "source": [
    "# delete entire dictionary\n",
    "s = {'collage':'PDPU','Sem':'4','Subjects':{'Maths':50,'DSA':75}}\n",
    "del s\n",
    "print(s)\n"
   ]
  },
  {
   "cell_type": "code",
   "execution_count": 22,
   "id": "809967f0",
   "metadata": {},
   "outputs": [
    {
     "name": "stdout",
     "output_type": "stream",
     "text": [
      "{'collage': 'PDPU', 'Sem': '4', 'Subjects': {'Maths': 50, 'DSA': 75}}\n",
      "{'collage': 'PDPU', 'Sem': '4'}\n"
     ]
    }
   ],
   "source": [
    "# delete key-value pair\n",
    "s = {'collage':'PDPU','Sem':'4','Subjects':{'Maths':50,'DSA':75}}\n",
    "print(s)\n",
    "\n",
    "del s['Subjects']\n",
    "print(s)\n"
   ]
  },
  {
   "cell_type": "code",
   "execution_count": 25,
   "id": "cfca10ce",
   "metadata": {},
   "outputs": [
    {
     "name": "stdout",
     "output_type": "stream",
     "text": [
      "{'name': 'Nik', 'collage': 'PDPU', 'Subjects': {'Maths': 50, 'DSA': 75}}\n",
      "{'name': 'Nik', 'collage': 'PDPU'}\n"
     ]
    }
   ],
   "source": [
    "s = {'name':'Nik','collage':'PDPU','Sem':'4','Subjects':{'Maths':50,'DSA':75}}\n",
    "\n",
    "# pop(): removes the specified key and returns its value.\n",
    "s.pop('Sem')\n",
    "print(s)\n",
    "\n",
    "# popitem() : removes and returns the last inserted key-value pair as a tuple.\n",
    "s.popitem()\n",
    "print(s)"
   ]
  },
  {
   "cell_type": "code",
   "execution_count": 26,
   "id": "140ace68",
   "metadata": {},
   "outputs": [
    {
     "name": "stdout",
     "output_type": "stream",
     "text": [
      "{}\n"
     ]
    }
   ],
   "source": [
    "# clear()\n",
    "s = {'name':'Nitish','collage':'PDPU','Sem':'4','Subjects':{'Maths':50,'DSA':75}}\n",
    "s.clear()\n",
    "print(s)"
   ]
  },
  {
   "cell_type": "code",
   "execution_count": null,
   "id": "941dbdb4",
   "metadata": {},
   "outputs": [],
   "source": []
  },
  {
   "cell_type": "markdown",
   "id": "b9cd929d",
   "metadata": {},
   "source": [
    "### Dictionary Operations"
   ]
  },
  {
   "cell_type": "code",
   "execution_count": 27,
   "id": "40f14a7c",
   "metadata": {},
   "outputs": [
    {
     "name": "stdout",
     "output_type": "stream",
     "text": [
      "{'name': 'Nitish', 'collage': 'PDPU', 'Sem': '4', 'Subjects': {'Maths': 50, 'DSA': 75}}\n",
      "True\n",
      "False\n"
     ]
    }
   ],
   "source": [
    "# membership\n",
    "s = {'name':'Nitish','collage':'PDPU','Sem':'4','Subjects':{'Maths':50,'DSA':75}}\n",
    "print(s)\n",
    "print('name' in s)\n",
    "print('Sem' not in s)"
   ]
  },
  {
   "cell_type": "code",
   "execution_count": 28,
   "id": "4deba4eb",
   "metadata": {},
   "outputs": [
    {
     "name": "stdout",
     "output_type": "stream",
     "text": [
      "name - Nitish\n",
      "collage - PDPU\n",
      "Sem - 4\n",
      "Subjects - {'Maths': 50, 'DSA': 75}\n"
     ]
    }
   ],
   "source": [
    "# loop\n",
    "s = {'name':'Nitish','collage':'PDPU','Sem':'4','Subjects':{'Maths':50,'DSA':75}}\n",
    "for i in s:\n",
    "    print(i,'-',s[i])"
   ]
  },
  {
   "cell_type": "code",
   "execution_count": null,
   "id": "7de7d1c3",
   "metadata": {},
   "outputs": [
    {
     "name": "stdout",
     "output_type": "stream",
     "text": [
      "{'a': 2, 'b': 4, 'c': 30, 'a1': 20, 'b1': 40, 'c1': 60}\n"
     ]
    }
   ],
   "source": [
    "# merging dictionary with operator - | \n",
    "d1 = {'a': 2, 'b': 4, 'c': 30}\n",
    "d2 = {'a1': 20, 'b1': 40, 'c1': 60}\n",
    "print(d1|d2)\n"
   ]
  },
  {
   "cell_type": "code",
   "execution_count": null,
   "id": "cdb1e4c6",
   "metadata": {},
   "outputs": [],
   "source": []
  },
  {
   "cell_type": "markdown",
   "id": "65a98cfc",
   "metadata": {},
   "source": [
    "### Dictionary Functions"
   ]
  },
  {
   "cell_type": "code",
   "execution_count": 32,
   "id": "4f6b948e",
   "metadata": {},
   "outputs": [
    {
     "name": "stdout",
     "output_type": "stream",
     "text": [
      "5\n",
      "Sem\n",
      "name\n",
      "['Sem', 'Subjects', 'Z', 'collage', 'name']\n",
      "['name', 'collage', 'Z', 'Subjects', 'Sem']\n"
     ]
    }
   ],
   "source": [
    "s = {'name':'Nitish','collage':'PDPU','Sem':'4','Subjects':{'Maths':50,'DSA':75},\"Z\":1}\n",
    "\n",
    "print(len(s))  # length\n",
    "print(min(s))  # min key based on ASCII values\n",
    "print(max(s))  # Max key based on ASCII values\n",
    "\n",
    "print(sorted(s))  # return sorted list of keys\n",
    "print(sorted(s,reverse=True))"
   ]
  },
  {
   "cell_type": "code",
   "execution_count": 33,
   "id": "513841d4",
   "metadata": {},
   "outputs": [
    {
     "name": "stdout",
     "output_type": "stream",
     "text": [
      "dict_items([('name', 'Nitish'), ('collage', 'PDPU'), ('Sem', '4'), ('Subjects', {'Maths': 50, 'DSA': 75}), ('Z', 1)])\n",
      "dict_keys(['name', 'collage', 'Sem', 'Subjects', 'Z'])\n",
      "dict_values(['Nitish', 'PDPU', '4', {'Maths': 50, 'DSA': 75}, 1])\n"
     ]
    }
   ],
   "source": [
    "# key values pair\n",
    "s = {'name':'Nitish','collage':'PDPU','Sem':'4','Subjects':{'Maths':50,'DSA':75},\"Z\":1}\n",
    "print(s.items())  # key-value in tuple\n",
    "print(s.keys()) # list of keys\n",
    "print(s.values())  # list of values "
   ]
  },
  {
   "cell_type": "code",
   "execution_count": null,
   "id": "228db394",
   "metadata": {},
   "outputs": [],
   "source": []
  },
  {
   "cell_type": "markdown",
   "id": "1213f8c8",
   "metadata": {},
   "source": [
    "### Dictionary Comprehension"
   ]
  },
  {
   "cell_type": "code",
   "execution_count": 36,
   "id": "0ada1110",
   "metadata": {},
   "outputs": [
    {
     "data": {
      "text/plain": [
       "{0: 0,\n",
       " 1: 1,\n",
       " 2: 4,\n",
       " 3: 9,\n",
       " 4: 16,\n",
       " 5: 25,\n",
       " 6: 36,\n",
       " 7: 49,\n",
       " 8: 64,\n",
       " 9: 81,\n",
       " 10: 100,\n",
       " 11: 121}"
      ]
     },
     "execution_count": 36,
     "metadata": {},
     "output_type": "execute_result"
    }
   ],
   "source": [
    "# print first 10 numbers and their squares\n",
    "{i:i**2 for i in range(12)}"
   ]
  },
  {
   "cell_type": "code",
   "execution_count": 89,
   "id": "f95bacbe",
   "metadata": {},
   "outputs": [
    {
     "data": {
      "text/plain": [
       "{'delhi': 650.0, 'mumbai': 1300.0}"
      ]
     },
     "execution_count": 89,
     "metadata": {},
     "output_type": "execute_result"
    }
   ],
   "source": [
    "# using existing distance\n",
    "dis = {'delhi':1000,'mumbai':2000}\n",
    "{i:j*0.65 for i,j in dis.items()}"
   ]
  },
  {
   "cell_type": "code",
   "execution_count": 37,
   "id": "b6a8ee11",
   "metadata": {},
   "outputs": [
    {
     "data": {
      "text/plain": [
       "{1: 'a',\n",
       " 2: 'b',\n",
       " 3: 'c',\n",
       " 4: 'd',\n",
       " 5: 'e',\n",
       " 6: 'f',\n",
       " 7: 'g',\n",
       " 8: 'h',\n",
       " 9: 'r',\n",
       " 10: 'p'}"
      ]
     },
     "execution_count": 37,
     "metadata": {},
     "output_type": "execute_result"
    }
   ],
   "source": [
    "# creating dictionary using zip() function\n",
    "d = [1,2,3,4,5,6,7,8,9,10]\n",
    "s = ['a','b','c','d','e','f','g','h','r','p']\n",
    "{i:j for i,j in zip(d,s)}"
   ]
  },
  {
   "cell_type": "code",
   "execution_count": 91,
   "id": "5fd9fc64",
   "metadata": {},
   "outputs": [
    {
     "data": {
      "text/plain": [
       "{'a': 1, 'b': 5}"
      ]
     },
     "execution_count": 91,
     "metadata": {},
     "output_type": "execute_result"
    }
   ],
   "source": [
    "# using if condition\n",
    "products = {'a':1,'b':5,'c':0}\n",
    "{i:j for i,j in products.items() if j>0}"
   ]
  },
  {
   "cell_type": "code",
   "execution_count": 38,
   "id": "f064d973",
   "metadata": {},
   "outputs": [
    {
     "data": {
      "text/plain": [
       "{2: {1: 2, 2: 4, 3: 6, 4: 8, 5: 10, 6: 12, 7: 14, 8: 16, 9: 18},\n",
       " 3: {1: 3, 2: 6, 3: 9, 4: 12, 5: 15, 6: 18, 7: 21, 8: 24, 9: 27},\n",
       " 4: {1: 4, 2: 8, 3: 12, 4: 16, 5: 20, 6: 24, 7: 28, 8: 32, 9: 36}}"
      ]
     },
     "execution_count": 38,
     "metadata": {},
     "output_type": "execute_result"
    }
   ],
   "source": [
    "# tables using dictionary comprehension\n",
    "{i:{j: i*j for j in range(1,10)} for i in range(2,5)}"
   ]
  },
  {
   "cell_type": "code",
   "execution_count": null,
   "id": "953065c1",
   "metadata": {},
   "outputs": [],
   "source": []
  },
  {
   "cell_type": "markdown",
   "id": "552d3899",
   "metadata": {},
   "source": [
    "### Unpacking"
   ]
  },
  {
   "cell_type": "code",
   "execution_count": 54,
   "id": "dd1365a8",
   "metadata": {},
   "outputs": [
    {
     "name": "stdout",
     "output_type": "stream",
     "text": [
      "{'a': 2, 'b': 40, 'c': 30, 'a1': 20, 'c1': 60}\n"
     ]
    }
   ],
   "source": [
    "# merging two dictionary with unpacking\n",
    "d1 = {'a': 2, 'b': 4, 'c': 30}\n",
    "d2 = {'a1': 20, 'b': 40, 'c1': 60}\n",
    "\n",
    "d3={**d1,**d2}\n",
    "print(d3)"
   ]
  },
  {
   "cell_type": "code",
   "execution_count": 41,
   "id": "b0d6ceb6",
   "metadata": {},
   "outputs": [
    {
     "name": "stdout",
     "output_type": "stream",
     "text": [
      "Hello Nik, you are 21 years old.\n"
     ]
    }
   ],
   "source": [
    "# unpacking in function\n",
    "def greet(name, age):\n",
    "    print(f\"Hello {name}, you are {age} years old.\")\n",
    "\n",
    "info = {'name': 'Nik', 'age': 21}\n",
    "greet(**info)  \n"
   ]
  },
  {
   "cell_type": "code",
   "execution_count": null,
   "id": "df539e33",
   "metadata": {},
   "outputs": [],
   "source": []
  }
 ],
 "metadata": {
  "kernelspec": {
   "display_name": "Python 3",
   "language": "python",
   "name": "python3"
  },
  "language_info": {
   "codemirror_mode": {
    "name": "ipython",
    "version": 3
   },
   "file_extension": ".py",
   "mimetype": "text/x-python",
   "name": "python",
   "nbconvert_exporter": "python",
   "pygments_lexer": "ipython3",
   "version": "3.11.2"
  }
 },
 "nbformat": 4,
 "nbformat_minor": 5
}
