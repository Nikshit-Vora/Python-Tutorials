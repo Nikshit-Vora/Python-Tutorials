{
 "cells": [
  {
   "cell_type": "markdown",
   "id": "17c714dd",
   "metadata": {},
   "source": [
    "### Exception Handling\n",
    "- Mechanism that allows you to manage errors gracefully without crashing your program."
   ]
  },
  {
   "cell_type": "markdown",
   "id": "81ed43c3",
   "metadata": {},
   "source": [
    "Exception is an error the occurs during execution (runtime).\n",
    "\n",
    "Common Exception Types:\n",
    "- ZeroDivisionError: Division by zero\n",
    "- ValueError: Invalid value\n",
    "- TypeError: Wrong data type\n",
    "- FileNotFoundError: File not found\n",
    "- KeyError: Missing dictionary key\n",
    "- IndexError: List index out of range"
   ]
  },
  {
   "cell_type": "code",
   "execution_count": 1,
   "id": "59704ff3",
   "metadata": {},
   "outputs": [
    {
     "ename": "ZeroDivisionError",
     "evalue": "division by zero",
     "output_type": "error",
     "traceback": [
      "\u001b[31m---------------------------------------------------------------------------\u001b[39m",
      "\u001b[31mZeroDivisionError\u001b[39m                         Traceback (most recent call last)",
      "\u001b[36mCell\u001b[39m\u001b[36m \u001b[39m\u001b[32mIn[1]\u001b[39m\u001b[32m, line 1\u001b[39m\n\u001b[32m----> \u001b[39m\u001b[32m1\u001b[39m \u001b[38;5;28mprint\u001b[39m(\u001b[32;43m10\u001b[39;49m\u001b[43m/\u001b[49m\u001b[32;43m0\u001b[39;49m)\n",
      "\u001b[31mZeroDivisionError\u001b[39m: division by zero"
     ]
    }
   ],
   "source": [
    "print(10/0)"
   ]
  },
  {
   "cell_type": "code",
   "execution_count": 2,
   "id": "9f46db8b",
   "metadata": {},
   "outputs": [
    {
     "name": "stdout",
     "output_type": "stream",
     "text": [
      "can not divide by zero.\n"
     ]
    }
   ],
   "source": [
    "num = 10\n",
    "den = 0\n",
    "\n",
    "try:\n",
    "    num/den\n",
    "except:  # Code that runs if an exception occurs\n",
    "    print('can not divide by zero.')"
   ]
  },
  {
   "cell_type": "code",
   "execution_count": 3,
   "id": "0c1f7a9c",
   "metadata": {},
   "outputs": [
    {
     "ename": "TypeError",
     "evalue": "unsupported operand type(s) for /: 'int' and 'str'",
     "output_type": "error",
     "traceback": [
      "\u001b[31m---------------------------------------------------------------------------\u001b[39m",
      "\u001b[31mTypeError\u001b[39m                                 Traceback (most recent call last)",
      "\u001b[36mCell\u001b[39m\u001b[36m \u001b[39m\u001b[32mIn[3]\u001b[39m\u001b[32m, line 5\u001b[39m\n\u001b[32m      2\u001b[39m den = \u001b[33m'\u001b[39m\u001b[33mzero\u001b[39m\u001b[33m'\u001b[39m  \u001b[38;5;66;03m# divide an integer by a string\u001b[39;00m\n\u001b[32m      4\u001b[39m \u001b[38;5;28;01mtry\u001b[39;00m:\n\u001b[32m----> \u001b[39m\u001b[32m5\u001b[39m     \u001b[43mnum\u001b[49m\u001b[43m/\u001b[49m\u001b[43mden\u001b[49m  \u001b[38;5;66;03m# This will raise a TypeError, not ZeroDivisionError\u001b[39;00m\n\u001b[32m      6\u001b[39m \u001b[38;5;28;01mexcept\u001b[39;00m \u001b[38;5;167;01mZeroDivisionError\u001b[39;00m:\n\u001b[32m      7\u001b[39m     \u001b[38;5;28mprint\u001b[39m(\u001b[33m'\u001b[39m\u001b[33mcan not divide by zero.\u001b[39m\u001b[33m'\u001b[39m)\n",
      "\u001b[31mTypeError\u001b[39m: unsupported operand type(s) for /: 'int' and 'str'"
     ]
    }
   ],
   "source": [
    "num = 10\n",
    "den = 'zero'  # divide an integer by a string\n",
    "\n",
    "try:\n",
    "    num/den  # This will raise a TypeError, not ZeroDivisionError\n",
    "except ZeroDivisionError:\n",
    "    print('can not divide by zero.')"
   ]
  },
  {
   "cell_type": "code",
   "execution_count": 4,
   "id": "a9f4a4a3",
   "metadata": {},
   "outputs": [
    {
     "name": "stdout",
     "output_type": "stream",
     "text": [
      "please input number.\n"
     ]
    }
   ],
   "source": [
    "num = 10\n",
    "den = 'Zero'\n",
    "\n",
    "try:\n",
    "    num/den\n",
    "except ZeroDivisionError:\n",
    "    print('can not divide by zero.')\n",
    "except TypeError:\n",
    "    print('please input number.')"
   ]
  },
  {
   "cell_type": "code",
   "execution_count": 5,
   "id": "e79ae290",
   "metadata": {},
   "outputs": [
    {
     "name": "stdout",
     "output_type": "stream",
     "text": [
      "unsupported operand type(s) for /: 'int' and 'str'\n"
     ]
    }
   ],
   "source": [
    "num = 10\n",
    "den = 'Zero'\n",
    "\n",
    "try:\n",
    "    num/den\n",
    "except ZeroDivisionError as z:\n",
    "    print(z)      # error message associated with exception \n",
    "except TypeError as t:\n",
    "    print(t)"
   ]
  },
  {
   "cell_type": "code",
   "execution_count": 6,
   "id": "d4ac882f",
   "metadata": {},
   "outputs": [
    {
     "ename": "FileNotFoundError",
     "evalue": "[Errno 2] No such file or directory: 'file1.txt'",
     "output_type": "error",
     "traceback": [
      "\u001b[31m---------------------------------------------------------------------------\u001b[39m",
      "\u001b[31mFileNotFoundError\u001b[39m                         Traceback (most recent call last)",
      "\u001b[36mCell\u001b[39m\u001b[36m \u001b[39m\u001b[32mIn[6]\u001b[39m\u001b[32m, line 2\u001b[39m\n\u001b[32m      1\u001b[39m \u001b[38;5;66;03m# File not found error.\u001b[39;00m\n\u001b[32m----> \u001b[39m\u001b[32m2\u001b[39m \u001b[38;5;28;01mwith\u001b[39;00m \u001b[38;5;28;43mopen\u001b[39;49m\u001b[43m(\u001b[49m\u001b[33;43m'\u001b[39;49m\u001b[33;43mfile1.txt\u001b[39;49m\u001b[33;43m'\u001b[39;49m\u001b[43m,\u001b[49m\u001b[33;43m'\u001b[39;49m\u001b[33;43mr\u001b[39;49m\u001b[33;43m'\u001b[39;49m\u001b[43m)\u001b[49m \u001b[38;5;28;01mas\u001b[39;00m f:\n\u001b[32m      3\u001b[39m     \u001b[38;5;28mprint\u001b[39m(f.read(\u001b[32m10\u001b[39m))\n",
      "\u001b[36mFile \u001b[39m\u001b[32m~\\AppData\\Roaming\\Python\\Python311\\site-packages\\IPython\\core\\interactiveshell.py:326\u001b[39m, in \u001b[36m_modified_open\u001b[39m\u001b[34m(file, *args, **kwargs)\u001b[39m\n\u001b[32m    319\u001b[39m \u001b[38;5;28;01mif\u001b[39;00m file \u001b[38;5;129;01min\u001b[39;00m {\u001b[32m0\u001b[39m, \u001b[32m1\u001b[39m, \u001b[32m2\u001b[39m}:\n\u001b[32m    320\u001b[39m     \u001b[38;5;28;01mraise\u001b[39;00m \u001b[38;5;167;01mValueError\u001b[39;00m(\n\u001b[32m    321\u001b[39m         \u001b[33mf\u001b[39m\u001b[33m\"\u001b[39m\u001b[33mIPython won\u001b[39m\u001b[33m'\u001b[39m\u001b[33mt let you open fd=\u001b[39m\u001b[38;5;132;01m{\u001b[39;00mfile\u001b[38;5;132;01m}\u001b[39;00m\u001b[33m by default \u001b[39m\u001b[33m\"\u001b[39m\n\u001b[32m    322\u001b[39m         \u001b[33m\"\u001b[39m\u001b[33mas it is likely to crash IPython. If you know what you are doing, \u001b[39m\u001b[33m\"\u001b[39m\n\u001b[32m    323\u001b[39m         \u001b[33m\"\u001b[39m\u001b[33myou can use builtins\u001b[39m\u001b[33m'\u001b[39m\u001b[33m open.\u001b[39m\u001b[33m\"\u001b[39m\n\u001b[32m    324\u001b[39m     )\n\u001b[32m--> \u001b[39m\u001b[32m326\u001b[39m \u001b[38;5;28;01mreturn\u001b[39;00m \u001b[43mio_open\u001b[49m\u001b[43m(\u001b[49m\u001b[43mfile\u001b[49m\u001b[43m,\u001b[49m\u001b[43m \u001b[49m\u001b[43m*\u001b[49m\u001b[43margs\u001b[49m\u001b[43m,\u001b[49m\u001b[43m \u001b[49m\u001b[43m*\u001b[49m\u001b[43m*\u001b[49m\u001b[43mkwargs\u001b[49m\u001b[43m)\u001b[49m\n",
      "\u001b[31mFileNotFoundError\u001b[39m: [Errno 2] No such file or directory: 'file1.txt'"
     ]
    }
   ],
   "source": [
    "# File not found error.\n",
    "with open('file1.txt','r') as f:\n",
    "    print(f.read(10))"
   ]
  },
  {
   "cell_type": "code",
   "execution_count": 7,
   "id": "397606e1",
   "metadata": {},
   "outputs": [
    {
     "name": "stdout",
     "output_type": "stream",
     "text": [
      "File not present.\n"
     ]
    }
   ],
   "source": [
    "try:\n",
    "    with open('file1.txt','r') as f:\n",
    "        print(f.read())\n",
    "except:\n",
    "    print('File not present.')"
   ]
  },
  {
   "cell_type": "code",
   "execution_count": 8,
   "id": "37fbf28e",
   "metadata": {},
   "outputs": [
    {
     "name": "stdout",
     "output_type": "stream",
     "text": [
      "5\n",
      "True\n",
      "some error.\n"
     ]
    }
   ],
   "source": [
    "# The first two lines execute successfully.\n",
    "# The third line (10 / 0) raises a ZeroDivisionError.\n",
    "\n",
    "try:\n",
    "    print(2+3)\n",
    "    print(2==2)\n",
    "    print(10/0)\n",
    "except:\n",
    "    print('some error.')"
   ]
  },
  {
   "cell_type": "code",
   "execution_count": 9,
   "id": "d51ccdef",
   "metadata": {},
   "outputs": [
    {
     "name": "stdout",
     "output_type": "stream",
     "text": [
      "5\n",
      "True\n",
      "division by zero:<traceback object at 0x000002024E44AC00>\n"
     ]
    }
   ],
   "source": [
    "try:\n",
    "    print(2+3)\n",
    "    print(2==2)\n",
    "    print(10/0)\n",
    "except Exception as e: # except block doesn't specify the exception type, it catches any exception,\n",
    "    print(e,e.__traceback__,sep=':')"
   ]
  },
  {
   "cell_type": "code",
   "execution_count": 10,
   "id": "555efb63",
   "metadata": {},
   "outputs": [
    {
     "name": "stdout",
     "output_type": "stream",
     "text": [
      "5\n",
      "2\n",
      "list index out of range\n"
     ]
    }
   ],
   "source": [
    "try:\n",
    "    print(2+3)\n",
    "    print(5//2)\n",
    "    print([1,2,3,4,5][10])\n",
    "    print(10/0)\n",
    "    print(1+'string')\n",
    "except ZeroDivisionError as z:\n",
    "    print(z)\n",
    "except TypeError as t:\n",
    "    print(t)\n",
    "except Exception as e: # General exception handler for any other unexpected errors\n",
    "    print(e)"
   ]
  },
  {
   "cell_type": "code",
   "execution_count": 11,
   "id": "3e0d397c",
   "metadata": {},
   "outputs": [
    {
     "name": "stdout",
     "output_type": "stream",
     "text": [
      "division by zero <traceback object at 0x000002024E449A40>\n"
     ]
    }
   ],
   "source": [
    "# else block : This block runs only if no exception occurs in the try block\n",
    "# Since an exception is raised, this block will be skipped in this example\n",
    "\n",
    "try:\n",
    "    a = 5\n",
    "    b = 0\n",
    "    c = a/b\n",
    "except Exception as e:\n",
    "    print(e,e.__traceback__)\n",
    "else:\n",
    "    print(a)\n",
    "    print(b)\n",
    "    print(c)"
   ]
  },
  {
   "cell_type": "code",
   "execution_count": 12,
   "id": "f67ed59b",
   "metadata": {},
   "outputs": [
    {
     "name": "stdout",
     "output_type": "stream",
     "text": [
      "5\n",
      "8\n",
      "0.625\n"
     ]
    }
   ],
   "source": [
    "try:\n",
    "    a = 5\n",
    "    b = 8\n",
    "    c = a/b  # no exception will be raised\n",
    "except Exception as e:\n",
    "    print(e,e.__traceback__)\n",
    "else: # else block will get executed.\n",
    "    print(a)\n",
    "    print(b)\n",
    "    print(c)"
   ]
  },
  {
   "cell_type": "code",
   "execution_count": 13,
   "id": "54a568c9",
   "metadata": {},
   "outputs": [
    {
     "name": "stdout",
     "output_type": "stream",
     "text": [
      "division by zero <traceback object at 0x000002024E40BA80>\n",
      "finally block executed.\n"
     ]
    }
   ],
   "source": [
    "# finally : Always executes, regardless of whether an exception occurred.\n",
    "try:\n",
    "    a = 5\n",
    "    b = 0\n",
    "    c = a/b\n",
    "except Exception as e:\n",
    "    print(e,e.__traceback__)\n",
    "else:\n",
    "    print(a)\n",
    "    print(b)\n",
    "    print(c)\n",
    "finally: \n",
    "    print('finally block executed.')"
   ]
  },
  {
   "cell_type": "code",
   "execution_count": 14,
   "id": "feb81f5d",
   "metadata": {},
   "outputs": [
    {
     "name": "stdout",
     "output_type": "stream",
     "text": [
      "5\n",
      "2\n",
      "2.5\n",
      "finally block executed.\n"
     ]
    }
   ],
   "source": [
    "try:\n",
    "    a = 5\n",
    "    b = 2\n",
    "    c = a/b\n",
    "except Exception as e:\n",
    "    print(e,e.__traceback__)\n",
    "else:\n",
    "    print(a)\n",
    "    print(b)\n",
    "    print(c)\n",
    "finally: \n",
    "    print('finally block executed.')"
   ]
  },
  {
   "cell_type": "code",
   "execution_count": 15,
   "id": "ee9ae5e1",
   "metadata": {},
   "outputs": [],
   "source": [
    "# raise keyword - manually trigger an exception."
   ]
  },
  {
   "cell_type": "code",
   "execution_count": 16,
   "id": "ad73c053",
   "metadata": {},
   "outputs": [
    {
     "ename": "ZeroDivisionError",
     "evalue": "Number can not be Zero.",
     "output_type": "error",
     "traceback": [
      "\u001b[31m---------------------------------------------------------------------------\u001b[39m",
      "\u001b[31mZeroDivisionError\u001b[39m                         Traceback (most recent call last)",
      "\u001b[36mCell\u001b[39m\u001b[36m \u001b[39m\u001b[32mIn[16]\u001b[39m\u001b[32m, line 1\u001b[39m\n\u001b[32m----> \u001b[39m\u001b[32m1\u001b[39m \u001b[38;5;28;01mraise\u001b[39;00m \u001b[38;5;167;01mZeroDivisionError\u001b[39;00m(\u001b[33m'\u001b[39m\u001b[33mNumber can not be Zero.\u001b[39m\u001b[33m'\u001b[39m)\n",
      "\u001b[31mZeroDivisionError\u001b[39m: Number can not be Zero."
     ]
    }
   ],
   "source": [
    "raise ZeroDivisionError('Number can not be Zero.')"
   ]
  },
  {
   "cell_type": "code",
   "execution_count": 17,
   "id": "cad0895c",
   "metadata": {},
   "outputs": [
    {
     "ename": "NameError",
     "evalue": "Name is not available..",
     "output_type": "error",
     "traceback": [
      "\u001b[31m---------------------------------------------------------------------------\u001b[39m",
      "\u001b[31mNameError\u001b[39m                                 Traceback (most recent call last)",
      "\u001b[36mCell\u001b[39m\u001b[36m \u001b[39m\u001b[32mIn[17]\u001b[39m\u001b[32m, line 1\u001b[39m\n\u001b[32m----> \u001b[39m\u001b[32m1\u001b[39m \u001b[38;5;28;01mraise\u001b[39;00m \u001b[38;5;167;01mNameError\u001b[39;00m(\u001b[33m'\u001b[39m\u001b[33mName is not available..\u001b[39m\u001b[33m'\u001b[39m)\n",
      "\u001b[31mNameError\u001b[39m: Name is not available.."
     ]
    }
   ],
   "source": [
    "raise NameError('Name is not available..')"
   ]
  },
  {
   "cell_type": "code",
   "execution_count": 18,
   "id": "6c232013",
   "metadata": {},
   "outputs": [],
   "source": [
    "class Bank:\n",
    "\n",
    "    def __init__(self,balance):\n",
    "        self.balance = balance\n",
    "        \n",
    "    def withdraw(self,amount):\n",
    "        if amount < 0:\n",
    "            raise Exception('amount can not be Negative.')\n",
    "        if self.balance < amount:\n",
    "            raise Exception('Insufficient Balance.')\n",
    "        self.balance = self.balance - amount\n",
    "        "
   ]
  },
  {
   "cell_type": "code",
   "execution_count": 19,
   "id": "7f1310ae",
   "metadata": {},
   "outputs": [
    {
     "name": "stdout",
     "output_type": "stream",
     "text": [
      "5000\n"
     ]
    }
   ],
   "source": [
    "obj1 = Bank(10000)\n",
    "try:\n",
    "    obj1.withdraw(5000)\n",
    "except Exception as e:\n",
    "    print(e)\n",
    "else:\n",
    "    print(obj1.balance)"
   ]
  },
  {
   "cell_type": "code",
   "execution_count": 20,
   "id": "d03afc90",
   "metadata": {},
   "outputs": [
    {
     "name": "stdout",
     "output_type": "stream",
     "text": [
      "amount can not be Negative.\n"
     ]
    }
   ],
   "source": [
    "# Negative Amount\n",
    "obj1 = Bank(10000)\n",
    "try:\n",
    "    obj1.withdraw(-78)\n",
    "except Exception as e:\n",
    "    print(e)\n",
    "else:\n",
    "    print(obj1.balance)"
   ]
  },
  {
   "cell_type": "code",
   "execution_count": 21,
   "id": "ca25e543",
   "metadata": {},
   "outputs": [
    {
     "name": "stdout",
     "output_type": "stream",
     "text": [
      "'<' not supported between instances of 'str' and 'int'\n"
     ]
    }
   ],
   "source": [
    "# string type input\n",
    "obj2 = Bank(10000)\n",
    "try:\n",
    "    obj2.withdraw('Zero')\n",
    "except Exception as e:\n",
    "    print(e)\n",
    "else:\n",
    "    print(obj2.balance)"
   ]
  },
  {
   "cell_type": "code",
   "execution_count": 22,
   "id": "fb8c519f",
   "metadata": {},
   "outputs": [
    {
     "name": "stdout",
     "output_type": "stream",
     "text": [
      "9500\n"
     ]
    }
   ],
   "source": [
    "# creating custom exception class.\n",
    "\n",
    "class MyException(Exception):\n",
    "    def __init__(self,message):\n",
    "        print(message)\n",
    "\n",
    "\n",
    "class Bank:\n",
    "    def __init__(self,balance):\n",
    "        self.balance = balance\n",
    "        \n",
    "    def withdraw(self,amount):\n",
    "        if amount < 0:\n",
    "            raise MyException('amount can not be zero..')\n",
    "        if self.balance < amount:\n",
    "            raise MyException('Insufficient Balance.')\n",
    "        self.balance = self.balance - amount\n",
    "        \n",
    "obj = Bank(10000)\n",
    "try:\n",
    "    obj.withdraw(500)\n",
    "except MyException as e:\n",
    "    print(e)\n",
    "else:\n",
    "    print(obj.balance)\n",
    "        "
   ]
  },
  {
   "cell_type": "code",
   "execution_count": 23,
   "id": "9af4b49d",
   "metadata": {},
   "outputs": [],
   "source": [
    "class SecurityError(Exception):\n",
    "    def __init__(self,message):\n",
    "        print(message)\n",
    "          \n",
    "    def logout(self):\n",
    "        print('logout..')\n",
    "\n",
    "class Google:\n",
    "    def __init__(self,name,email,password,device):\n",
    "        self.name=name\n",
    "        self.email=email\n",
    "        self.password=password\n",
    "        self.device=device\n",
    "        \n",
    "    def login(self,email,password,device):\n",
    "        if device != self.device:\n",
    "            raise SecurityError('this is security breach..')\n",
    "        if email==self.email and password == self.password:\n",
    "            print('login successfull..')\n",
    "        else:\n",
    "            print('login error..')    "
   ]
  },
  {
   "cell_type": "code",
   "execution_count": 24,
   "id": "2926c884",
   "metadata": {},
   "outputs": [
    {
     "name": "stdout",
     "output_type": "stream",
     "text": [
      "login successfull..\n",
      "nitish\n",
      "database connection closed...\n"
     ]
    }
   ],
   "source": [
    "obj = Google('nitish','gmail.com','1234','android')\n",
    "\n",
    "try:\n",
    "    obj.login('gmail.com','1234','android')\n",
    "except SecurityError as e:\n",
    "    e.logout()\n",
    "else:\n",
    "    print(obj.name)\n",
    "finally:\n",
    "    print('database connection closed...')"
   ]
  },
  {
   "cell_type": "code",
   "execution_count": 25,
   "id": "90a6a6c0",
   "metadata": {},
   "outputs": [
    {
     "name": "stdout",
     "output_type": "stream",
     "text": [
      "this is security breach..\n",
      "logout..\n",
      "database connection closed...\n"
     ]
    }
   ],
   "source": [
    "obj = Google('nitish','gmail.com','1234','android')\n",
    "\n",
    "try:\n",
    "    obj.login('gmail.com','1234','IOS')\n",
    "except SecurityError as e:\n",
    "    e.logout()\n",
    "else:\n",
    "    print(obj.name)\n",
    "finally:\n",
    "    print('database connection closed...')"
   ]
  },
  {
   "cell_type": "code",
   "execution_count": null,
   "id": "461b2f5e",
   "metadata": {},
   "outputs": [],
   "source": []
  },
  {
   "cell_type": "markdown",
   "id": "68de708e",
   "metadata": {},
   "source": [
    "# Logging\n",
    "- to record messages that describe events in program for debugging purpose."
   ]
  },
  {
   "cell_type": "markdown",
   "id": "90349587",
   "metadata": {},
   "source": [
    "- Debugging - Helps identify and diagnose issues by capturing relevant information during program execution.\n",
    "- Monitoring - Provides insights into the application's behavior and performance.\n",
    "- Auditing - Keeps a record of important events and actions for security purposes.\n",
    "- Troubleshooting - Facilitates tracking of program flow and variable values to understand unexpected behavior."
   ]
  },
  {
   "cell_type": "markdown",
   "id": "30a7f3ec",
   "metadata": {},
   "source": [
    "Log Levels (in increasing severity)\n",
    "- (10 )DEBUG   : Detailed information (dev use)\n",
    "- (20) INFO    : General events\n",
    "- (30) WARNING : something unexpected\n",
    "- (40) ERROR   : A serious problem occurred\n",
    "- (50) CRITICAL: Fatal Error (Program may crash)"
   ]
  },
  {
   "cell_type": "markdown",
   "id": "799414cb",
   "metadata": {},
   "source": [
    "### Logging Levels"
   ]
  },
  {
   "cell_type": "markdown",
   "id": "b9608082",
   "metadata": {},
   "source": [
    "- DEBUG : Detailed information, typically useful only for debugging purposes. These messages are used to trace the flow of the program and are usually not seen in production environments.\n",
    "\n",
    "- INFO : Confirmation that things are working as expected. These messages provide general information about the progress of the application.\n",
    "\n",
    "- WARNING : Indicates potential issues that do not prevent the program from running but might require attention. These messages can be used to alert developers about unexpected situations.\n",
    "\n",
    "- ERROR : Indicates a more serious problem that prevents a specific function or operation from completing successfully. These messages highlight errors that need immediate attention but do not necessarily terminate the application.\n",
    "\n",
    "- CRITICAL : The most severe level, indicating a critical error that may lead to the termination of the program. These messages are reserved for critical failures that require immediate intervention."
   ]
  },
  {
   "cell_type": "code",
   "execution_count": 26,
   "id": "a815aa86",
   "metadata": {},
   "outputs": [],
   "source": [
    "# level : only messages at or above this level will be shown.\n",
    "import logging\n",
    "logging.basicConfig(level=logging.DEBUG,format = '%(asctime)s - %(levelname)s - %(message)s')"
   ]
  },
  {
   "cell_type": "code",
   "execution_count": 27,
   "id": "14abb436",
   "metadata": {},
   "outputs": [
    {
     "name": "stderr",
     "output_type": "stream",
     "text": [
      "2025-08-06 10:46:55,410 - DEBUG - This is a debug message\n",
      "2025-08-06 10:46:55,412 - INFO - This is an info message\n",
      "2025-08-06 10:46:55,413 - WARNING - This is a warning message\n",
      "2025-08-06 10:46:55,414 - ERROR - This is an error message\n",
      "2025-08-06 10:46:55,415 - CRITICAL - This is a critical message\n"
     ]
    }
   ],
   "source": [
    "import logging\n",
    "logging.basicConfig(level=logging.DEBUG,format = '%(asctime)s - %(levelname)s - %(message)s')\n",
    "\n",
    "# Example\n",
    "logging.debug(\"This is a debug message\")     \n",
    "logging.info(\"This is an info message\")      \n",
    "logging.warning(\"This is a warning message\") \n",
    "logging.error(\"This is an error message\")    \n",
    "logging.critical(\"This is a critical message\") \n"
   ]
  },
  {
   "cell_type": "code",
   "execution_count": 28,
   "id": "8d1a5291",
   "metadata": {},
   "outputs": [
    {
     "name": "stderr",
     "output_type": "stream",
     "text": [
      "2025-08-06 10:46:55,424 - DEBUG - This is a debug message\n",
      "2025-08-06 10:46:55,425 - INFO - This is an info message\n",
      "2025-08-06 10:46:55,427 - WARNING - This is a warning message\n",
      "2025-08-06 10:46:55,428 - ERROR - This is an error message\n",
      "2025-08-06 10:46:55,429 - CRITICAL - This is a critical message\n"
     ]
    }
   ],
   "source": [
    "logging.basicConfig(level=logging.INFO,format = '%(asctime)s - %(levelname)s - %(message)s')\n",
    "\n",
    "# Example\n",
    "logging.debug(\"This is a debug message\")     \n",
    "logging.info(\"This is an info message\")      \n",
    "logging.warning(\"This is a warning message\") \n",
    "logging.error(\"This is an error message\")    \n",
    "logging.critical(\"This is a critical message\") "
   ]
  },
  {
   "cell_type": "code",
   "execution_count": 29,
   "id": "f3fb10ad",
   "metadata": {},
   "outputs": [],
   "source": [
    "# if logging is configured once, any further calls do nothing unless we reset(handlers) the logging system."
   ]
  },
  {
   "cell_type": "code",
   "execution_count": 30,
   "id": "3c7fc051",
   "metadata": {},
   "outputs": [
    {
     "name": "stderr",
     "output_type": "stream",
     "text": [
      "2025-08-06 10:46:55,446 - INFO - This is an info message\n",
      "2025-08-06 10:46:55,447 - WARNING - This is a warning message\n",
      "2025-08-06 10:46:55,449 - ERROR - This is an error message\n",
      "2025-08-06 10:46:55,449 - CRITICAL - This is a critical message\n"
     ]
    }
   ],
   "source": [
    "for i in logging.root.handlers[:]:\n",
    "    logging.root.removeHandler(i)\n",
    "    \n",
    "logging.basicConfig(level=logging.INFO,format = '%(asctime)s - %(levelname)s - %(message)s')\n",
    "\n",
    "# Example\n",
    "logging.debug(\"This is a debug message\")     \n",
    "logging.info(\"This is an info message\")      \n",
    "logging.warning(\"This is a warning message\") \n",
    "logging.error(\"This is an error message\")    \n",
    "logging.critical(\"This is a critical message\") "
   ]
  },
  {
   "cell_type": "code",
   "execution_count": 31,
   "id": "7ed828fd",
   "metadata": {},
   "outputs": [
    {
     "name": "stderr",
     "output_type": "stream",
     "text": [
      "2025-08-06 10:46:55,460 - WARNING - This is a warning message\n",
      "2025-08-06 10:46:55,462 - ERROR - This is an error message\n",
      "2025-08-06 10:46:55,462 - CRITICAL - This is a critical message\n"
     ]
    }
   ],
   "source": [
    "for i in logging.root.handlers[:]:\n",
    "    logging.root.removeHandler(i)\n",
    "    \n",
    "logging.basicConfig(level=logging.WARNING,format = '%(asctime)s - %(levelname)s - %(message)s')\n",
    "\n",
    "# Example\n",
    "logging.debug(\"This is a debug message\")     \n",
    "logging.info(\"This is an info message\")      \n",
    "logging.warning(\"This is a warning message\") \n",
    "logging.error(\"This is an error message\")    \n",
    "logging.critical(\"This is a critical message\") "
   ]
  },
  {
   "cell_type": "code",
   "execution_count": 32,
   "id": "5ecfa5b1",
   "metadata": {},
   "outputs": [
    {
     "name": "stderr",
     "output_type": "stream",
     "text": [
      "2025-08-06 10:46:55,472 - CRITICAL - This is a critical message\n"
     ]
    }
   ],
   "source": [
    "for i in logging.root.handlers[:]:\n",
    "    logging.root.removeHandler(i)\n",
    "    \n",
    "logging.basicConfig(level=logging.CRITICAL,format = '%(asctime)s - %(levelname)s - %(message)s')\n",
    "\n",
    "# Example\n",
    "logging.debug(\"This is a debug message\")     \n",
    "logging.info(\"This is an info message\")      \n",
    "logging.warning(\"This is a warning message\") \n",
    "logging.error(\"This is an error message\")    \n",
    "logging.critical(\"This is a critical message\") "
   ]
  },
  {
   "cell_type": "code",
   "execution_count": null,
   "id": "19dadf8e",
   "metadata": {},
   "outputs": [],
   "source": []
  },
  {
   "cell_type": "code",
   "execution_count": 33,
   "id": "b0e65ede",
   "metadata": {},
   "outputs": [],
   "source": [
    "for i in logging.root.handlers[:]:\n",
    "    logging.root.removeHandler(i)\n",
    "    \n",
    "logging.basicConfig(level=logging.DEBUG,format = '%(asctime)s - %(levelname)s - %(message)s')"
   ]
  },
  {
   "cell_type": "code",
   "execution_count": 34,
   "id": "bde85475",
   "metadata": {},
   "outputs": [
    {
     "name": "stderr",
     "output_type": "stream",
     "text": [
      "2025-08-06 10:46:55,492 - DEBUG - calculating sum of 5 and 6\n",
      "2025-08-06 10:46:55,494 - INFO - sum calculated succesfully: 11\n"
     ]
    },
    {
     "data": {
      "text/plain": [
       "11"
      ]
     },
     "execution_count": 34,
     "metadata": {},
     "output_type": "execute_result"
    }
   ],
   "source": [
    "def calculate_sum(a,b):\n",
    "    logging.debug(f'calculating sum of {a} and {b}')\n",
    "    result = a + b\n",
    "    logging.info(f'sum calculated succesfully: {result}')\n",
    "    return result\n",
    "\n",
    "calculate_sum(5,6)"
   ]
  },
  {
   "cell_type": "code",
   "execution_count": 35,
   "id": "ab5a305d",
   "metadata": {},
   "outputs": [
    {
     "name": "stderr",
     "output_type": "stream",
     "text": [
      "2025-08-06 10:46:55,509 - INFO - starting the program..\n",
      "2025-08-06 10:46:55,510 - DEBUG - calculating sum of 10 and 20\n",
      "2025-08-06 10:46:55,511 - INFO - sum calculated succesfully: 30\n",
      "2025-08-06 10:46:55,512 - INFO - program completed..\n"
     ]
    },
    {
     "name": "stdout",
     "output_type": "stream",
     "text": [
      "30\n"
     ]
    }
   ],
   "source": [
    "if __name__ == '__main__':\n",
    "    logging.info('starting the program..')\n",
    "    result = calculate_sum(10,20)\n",
    "    logging.info('program completed..')\n",
    "    print(result)"
   ]
  },
  {
   "cell_type": "code",
   "execution_count": null,
   "id": "c068b728",
   "metadata": {},
   "outputs": [],
   "source": []
  },
  {
   "cell_type": "markdown",
   "id": "cc6aebb5",
   "metadata": {},
   "source": [
    "# Assert \n",
    "- used to test if a condition is TRUE. If it is FALSE, raises AssertionError.\n",
    "- mainly used for debugging and testing assumption in code"
   ]
  },
  {
   "cell_type": "code",
   "execution_count": 36,
   "id": "b9ad742a",
   "metadata": {},
   "outputs": [
    {
     "name": "stdout",
     "output_type": "stream",
     "text": [
      "number is in given range.\n"
     ]
    }
   ],
   "source": [
    "n = 90\n",
    "assert n > 75 and n < 100 , 'number not in given range.'\n",
    "print('number is in given range.') "
   ]
  },
  {
   "cell_type": "code",
   "execution_count": 37,
   "id": "4e832fa2",
   "metadata": {},
   "outputs": [
    {
     "ename": "AssertionError",
     "evalue": "number not in given range",
     "output_type": "error",
     "traceback": [
      "\u001b[31m---------------------------------------------------------------------------\u001b[39m",
      "\u001b[31mAssertionError\u001b[39m                            Traceback (most recent call last)",
      "\u001b[36mCell\u001b[39m\u001b[36m \u001b[39m\u001b[32mIn[37]\u001b[39m\u001b[32m, line 2\u001b[39m\n\u001b[32m      1\u001b[39m n = \u001b[32m0\u001b[39m\n\u001b[32m----> \u001b[39m\u001b[32m2\u001b[39m \u001b[38;5;28;01massert\u001b[39;00m n > \u001b[32m75\u001b[39m \u001b[38;5;129;01mand\u001b[39;00m n < \u001b[32m100\u001b[39m , \u001b[33m'\u001b[39m\u001b[33mnumber not in given range\u001b[39m\u001b[33m'\u001b[39m \u001b[38;5;66;03m# if condition not true then will raise AssertionError with given statment\u001b[39;00m\n\u001b[32m      3\u001b[39m \u001b[38;5;28mprint\u001b[39m(\u001b[33m'\u001b[39m\u001b[33mnumber is in the range......\u001b[39m\u001b[33m'\u001b[39m)  \n",
      "\u001b[31mAssertionError\u001b[39m: number not in given range"
     ]
    }
   ],
   "source": [
    "n = 0\n",
    "assert n > 75 and n < 100 , 'number not in given range' # if condition not true then will raise AssertionError with given statment\n",
    "print('number is in the range......')  "
   ]
  },
  {
   "cell_type": "code",
   "execution_count": 38,
   "id": "387acc6f",
   "metadata": {},
   "outputs": [
    {
     "name": "stdout",
     "output_type": "stream",
     "text": [
      "78\n"
     ]
    }
   ],
   "source": [
    "try:\n",
    "    num = int(input('enter number -'))\n",
    "    assert num > 50, 'please enter number greater than 50'\n",
    "    print(num)\n",
    "except AssertionError as e:\n",
    "    print(e)\n",
    "    "
   ]
  },
  {
   "cell_type": "code",
   "execution_count": 39,
   "id": "22e4302a",
   "metadata": {},
   "outputs": [
    {
     "name": "stdout",
     "output_type": "stream",
     "text": [
      "please enter number greater than 50\n"
     ]
    }
   ],
   "source": [
    "try:\n",
    "    num = int(input('enter number -'))\n",
    "    assert num > 50, 'please enter number greater than 50'\n",
    "    print(num)\n",
    "except AssertionError as e:\n",
    "    print(e)\n",
    "    "
   ]
  },
  {
   "cell_type": "code",
   "execution_count": null,
   "id": "43defa57",
   "metadata": {},
   "outputs": [],
   "source": []
  }
 ],
 "metadata": {
  "kernelspec": {
   "display_name": "Python 3",
   "language": "python",
   "name": "python3"
  },
  "language_info": {
   "codemirror_mode": {
    "name": "ipython",
    "version": 3
   },
   "file_extension": ".py",
   "mimetype": "text/x-python",
   "name": "python",
   "nbconvert_exporter": "python",
   "pygments_lexer": "ipython3",
   "version": "3.11.2"
  }
 },
 "nbformat": 4,
 "nbformat_minor": 5
}
