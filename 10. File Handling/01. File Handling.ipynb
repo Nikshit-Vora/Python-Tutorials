{
 "cells": [
  {
   "cell_type": "markdown",
   "id": "b237e6b9",
   "metadata": {},
   "source": [
    "### Opening the file"
   ]
  },
  {
   "cell_type": "code",
   "execution_count": 1,
   "id": "78588bdd",
   "metadata": {},
   "outputs": [
    {
     "name": "stdout",
     "output_type": "stream",
     "text": [
      "Sample File for Python File Handling\n",
      "\n",
      "This file is created to demonstrate basic file handling operations in Python.\n",
      "It contains a title, a short paragraph, and a list of items.\n",
      "\n",
      "List of Items:\n",
      "- Apples\n",
      "- Bananas\n",
      "- Cherries\n",
      "- Dates\n",
      "- Elderberries\n",
      "\n"
     ]
    }
   ],
   "source": [
    "f = open('sample.txt') # Opens the file in read mode by default \n",
    "print(f.read())  # Reads the entire content of the file\n",
    "f.close()  # need to close the file to free up the resources."
   ]
  },
  {
   "cell_type": "code",
   "execution_count": 2,
   "metadata": {},
   "outputs": [
    {
     "name": "stdout",
     "output_type": "stream",
     "text": [
      "Sample File for Python File Handling\n",
      "\n",
      "This file is created to demonstrate basic file handling operations in Python.\n",
      "It contains a title, a short paragraph, and a list of items.\n",
      "\n",
      "List of Items:\n",
      "- Apples\n",
      "- Bananas\n",
      "- Cherries\n",
      "- Dates\n",
      "- Elderberries\n",
      "\n"
     ]
    }
   ],
   "source": [
    "# Best practice : Use with statement\n",
    "with open('sample.txt') as f:  # This automatically closes the file after the block is executed.\n",
    "    print(f.read())"
   ]
  },
  {
   "cell_type": "code",
   "execution_count": null,
   "id": "e78d9282",
   "metadata": {},
   "outputs": [],
   "source": []
  },
  {
   "cell_type": "markdown",
   "id": "0795f78a",
   "metadata": {},
   "source": [
    "### Reading the File"
   ]
  },
  {
   "cell_type": "code",
   "execution_count": 3,
   "id": "293dd912",
   "metadata": {},
   "outputs": [],
   "source": [
    "f = open('sample.txt','r') # read mode is default"
   ]
  },
  {
   "cell_type": "code",
   "execution_count": 4,
   "id": "a39c5259",
   "metadata": {},
   "outputs": [
    {
     "data": {
      "text/plain": [
       "'Sample File for Python File Handling\\n\\nThis file is created to demonstrate basic file handling operations in Python.\\nIt contains a title, a short paragraph, and a list of items.\\n\\nList of Items:\\n- Apples\\n- Bananas\\n- Cherries\\n- Dates\\n- Elderberries\\n'"
      ]
     },
     "execution_count": 4,
     "metadata": {},
     "output_type": "execute_result"
    }
   ],
   "source": [
    "f.read() # Read whole file"
   ]
  },
  {
   "cell_type": "code",
   "execution_count": 5,
   "id": "416d4abe",
   "metadata": {},
   "outputs": [
    {
     "name": "stdout",
     "output_type": "stream",
     "text": [
      "\n"
     ]
    }
   ],
   "source": [
    "# When we use f.read() the first time, it reads entire content of the file and moves the file cursor to the end. \n",
    "# calling f.read() again without resetting the cursor, returns an empty string because there's nothing left to read.\n",
    "print(f.read()) "
   ]
  },
  {
   "cell_type": "code",
   "execution_count": 6,
   "id": "591401e6",
   "metadata": {},
   "outputs": [
    {
     "data": {
      "text/plain": [
       "257"
      ]
     },
     "execution_count": 6,
     "metadata": {},
     "output_type": "execute_result"
    }
   ],
   "source": [
    "f.tell() # get the file cursor position."
   ]
  },
  {
   "cell_type": "code",
   "execution_count": 7,
   "id": "af3727ec",
   "metadata": {},
   "outputs": [
    {
     "data": {
      "text/plain": [
       "0"
      ]
     },
     "execution_count": 7,
     "metadata": {},
     "output_type": "execute_result"
    }
   ],
   "source": [
    "f.seek(0) # moves cursor back to beginning"
   ]
  },
  {
   "cell_type": "code",
   "execution_count": 8,
   "id": "61b0788c",
   "metadata": {},
   "outputs": [
    {
     "data": {
      "text/plain": [
       "'Sample File for Python File Handling\\n\\nThis file is created to demonstrate basic file handling operations in Python.\\nIt contains a title, a short paragraph, and a list of items.\\n\\nList of Items:\\n- Apples\\n- Bananas\\n- Cherries\\n- Dates\\n- Elderberries\\n'"
      ]
     },
     "execution_count": 8,
     "metadata": {},
     "output_type": "execute_result"
    }
   ],
   "source": [
    "f.read()"
   ]
  },
  {
   "cell_type": "code",
   "execution_count": 9,
   "id": "45c8ca81",
   "metadata": {},
   "outputs": [
    {
     "data": {
      "text/plain": [
       "257"
      ]
     },
     "execution_count": 9,
     "metadata": {},
     "output_type": "execute_result"
    }
   ],
   "source": [
    "# check cursor position\n",
    "f.tell()"
   ]
  },
  {
   "cell_type": "code",
   "execution_count": 10,
   "id": "280ac775",
   "metadata": {},
   "outputs": [
    {
     "data": {
      "text/plain": [
       "100"
      ]
     },
     "execution_count": 10,
     "metadata": {},
     "output_type": "execute_result"
    }
   ],
   "source": [
    "# move the file cursor to a specific position.\n",
    "# If the file has fewer than 100 bytes, the cursor will be placed at the end of the file.\n",
    "f.seek(100)"
   ]
  },
  {
   "cell_type": "code",
   "execution_count": 11,
   "id": "d7951f46",
   "metadata": {},
   "outputs": [
    {
     "data": {
      "text/plain": [
       "'ations in Python.\\nIt contains '"
      ]
     },
     "execution_count": 11,
     "metadata": {},
     "output_type": "execute_result"
    }
   ],
   "source": [
    "f.read(30) # Reads from position 100 onward"
   ]
  },
  {
   "cell_type": "code",
   "execution_count": 12,
   "id": "1a47799d",
   "metadata": {},
   "outputs": [
    {
     "data": {
      "text/plain": [
       "'a title, a short paragraph, and a list of items.\\n\\nList of Items:\\n- Apples\\n- Bananas\\n- Cherries\\n- Dat'"
      ]
     },
     "execution_count": 12,
     "metadata": {},
     "output_type": "execute_result"
    }
   ],
   "source": [
    "f.read(100)"
   ]
  },
  {
   "cell_type": "code",
   "execution_count": 13,
   "id": "c4c07e32",
   "metadata": {},
   "outputs": [
    {
     "data": {
      "text/plain": [
       "['Sample File for Python File Handling',\n",
       " '',\n",
       " 'This file is created to demonstrate basic file handling operations in Python.',\n",
       " 'It contains a title, a short paragraph, and a list of items.',\n",
       " '',\n",
       " 'List of Items:',\n",
       " '- Apples',\n",
       " '- Bananas',\n",
       " '- Cherries',\n",
       " '- Dates',\n",
       " '- Elderberries']"
      ]
     },
     "execution_count": 13,
     "metadata": {},
     "output_type": "execute_result"
    }
   ],
   "source": [
    "f.seek(0)\n",
    "f.read().splitlines()"
   ]
  },
  {
   "cell_type": "code",
   "execution_count": 14,
   "id": "e5d85bb0",
   "metadata": {},
   "outputs": [
    {
     "data": {
      "text/plain": [
       "'Sample File for Python File Handling\\n\\nThis file is'"
      ]
     },
     "execution_count": 14,
     "metadata": {},
     "output_type": "execute_result"
    }
   ],
   "source": [
    "f.seek(0)\n",
    "f.read(50) # reads exactly 50 characters from the current cursor position"
   ]
  },
  {
   "cell_type": "code",
   "execution_count": 15,
   "id": "9fe15c87",
   "metadata": {},
   "outputs": [
    {
     "data": {
      "text/plain": [
       "' created to demonstrate basic file handling operat'"
      ]
     },
     "execution_count": 15,
     "metadata": {},
     "output_type": "execute_result"
    }
   ],
   "source": [
    "f.read(50) # next 50 characters"
   ]
  },
  {
   "cell_type": "code",
   "execution_count": 16,
   "id": "603bf2a9",
   "metadata": {},
   "outputs": [
    {
     "data": {
      "text/plain": [
       "['Sample File for Python File Handling\\n',\n",
       " '\\n',\n",
       " 'This file is created to demonstrate basic file handling operations in Python.\\n',\n",
       " 'It contains a title, a short paragraph, and a list of items.\\n',\n",
       " '\\n',\n",
       " 'List of Items:\\n',\n",
       " '- Apples\\n',\n",
       " '- Bananas\\n',\n",
       " '- Cherries\\n',\n",
       " '- Dates\\n',\n",
       " '- Elderberries\\n']"
      ]
     },
     "execution_count": 16,
     "metadata": {},
     "output_type": "execute_result"
    }
   ],
   "source": [
    "# Reading Lines\n",
    "f.seek(0)\n",
    "f.readlines()   # Reads all lines from the file into a list"
   ]
  },
  {
   "cell_type": "code",
   "execution_count": 17,
   "id": "eedc076e",
   "metadata": {},
   "outputs": [
    {
     "name": "stdout",
     "output_type": "stream",
     "text": [
      "['Sample File for Python File Handling\\n', '\\n', 'This file is created to demonstrate basic file handling operations in Python.\\n', 'It contains a title, a short paragraph, and a list of items.\\n', '\\n', 'List of Items:\\n', '- Apples\\n', '- Bananas\\n', '- Cherries\\n', '- Dates\\n', '- Elderberries\\n']\n"
     ]
    }
   ],
   "source": [
    "f.seek(0)\n",
    "print(f.readlines())"
   ]
  },
  {
   "cell_type": "code",
   "execution_count": 18,
   "id": "4024928a",
   "metadata": {},
   "outputs": [
    {
     "name": "stdout",
     "output_type": "stream",
     "text": [
      "Sample File for Python File Handling\n",
      "\n",
      "\n",
      "\n",
      "This file is created to demonstrate basic file handling operations in Python.\n",
      "\n",
      "It contains a title, a short paragraph, and a list of items.\n",
      "\n",
      "\n",
      "\n",
      "List of Items:\n",
      "\n",
      "- Apples\n",
      "\n",
      "- Bananas\n",
      "\n",
      "- Cherries\n",
      "\n",
      "- Dates\n",
      "\n",
      "- Elderberries\n",
      "\n"
     ]
    }
   ],
   "source": [
    "f.seek(0)\n",
    "for i in f.readlines():\n",
    "    print(i)"
   ]
  },
  {
   "cell_type": "code",
   "execution_count": 19,
   "id": "ab9bc428",
   "metadata": {},
   "outputs": [
    {
     "name": "stdout",
     "output_type": "stream",
     "text": [
      "Sample File for Python File Handling\n",
      "\n",
      "This file is created to demonstrate basic file handling operations in Python.\n",
      "It contains a title, a short paragraph, and a list of items.\n",
      "\n",
      "List of Items:\n",
      "- Apples\n",
      "- Bananas\n",
      "- Cherries\n",
      "- Dates\n",
      "- Elderberries\n"
     ]
    }
   ],
   "source": [
    "f.seek(0)\n",
    "for i in f.readlines():\n",
    "    print(i.strip())  # strip"
   ]
  },
  {
   "cell_type": "code",
   "execution_count": 20,
   "id": "038165cf",
   "metadata": {},
   "outputs": [
    {
     "data": {
      "text/plain": [
       "'Sample File for Python File Handling\\n'"
      ]
     },
     "execution_count": 20,
     "metadata": {},
     "output_type": "execute_result"
    }
   ],
   "source": [
    "# Read one line by line\n",
    "f.seek(0)\n",
    "f.readline() # to read one line at a time"
   ]
  },
  {
   "cell_type": "code",
   "execution_count": 21,
   "id": "dce58d38",
   "metadata": {},
   "outputs": [
    {
     "data": {
      "text/plain": [
       "'\\n'"
      ]
     },
     "execution_count": 21,
     "metadata": {},
     "output_type": "execute_result"
    }
   ],
   "source": [
    "f.readline()"
   ]
  },
  {
   "cell_type": "code",
   "execution_count": 22,
   "id": "3e792134",
   "metadata": {},
   "outputs": [
    {
     "data": {
      "text/plain": [
       "'This file is created to demonstrate basic file handling operations in Python.\\n'"
      ]
     },
     "execution_count": 22,
     "metadata": {},
     "output_type": "execute_result"
    }
   ],
   "source": [
    "f.readline()"
   ]
  },
  {
   "cell_type": "code",
   "execution_count": 23,
   "id": "77f2b8d0",
   "metadata": {},
   "outputs": [],
   "source": [
    "f.close()"
   ]
  },
  {
   "cell_type": "code",
   "execution_count": null,
   "id": "0d952c83",
   "metadata": {},
   "outputs": [],
   "source": []
  },
  {
   "cell_type": "markdown",
   "id": "95b2b2c7",
   "metadata": {},
   "source": [
    "### Writing the File"
   ]
  },
  {
   "cell_type": "code",
   "execution_count": 38,
   "id": "a1e432ef",
   "metadata": {},
   "outputs": [
    {
     "name": "stdout",
     "output_type": "stream",
     "text": [
      "Sample File for Python File Handling\n",
      "\n",
      "This file is created to demonstrate basic file handling operations in Python.\n",
      "It contains a title, a short paragraph, and a list of items.\n",
      "\n",
      "List of Items:\n",
      "- Apples\n",
      "- Bananas\n",
      "- Cherries\n",
      "- Dates\n",
      "- Elderberries\n",
      "\n"
     ]
    }
   ],
   "source": [
    "# checking content of file\n",
    "f = open('sample2.txt')\n",
    "print(f.read())\n",
    "f.close()"
   ]
  },
  {
   "cell_type": "code",
   "execution_count": 39,
   "id": "cc87240f",
   "metadata": {},
   "outputs": [],
   "source": [
    "# write mode\n",
    "with open('sample2.txt','w') as f:\n",
    "    f.write('Hi How are you.?')"
   ]
  },
  {
   "cell_type": "code",
   "execution_count": 40,
   "id": "8f08ffcd",
   "metadata": {},
   "outputs": [
    {
     "name": "stdout",
     "output_type": "stream",
     "text": [
      "Hi How are you.?\n"
     ]
    }
   ],
   "source": [
    "# check again the content of the file, it replaced entire content with just one given line.\n",
    "with open('sample2.txt') as f:\n",
    "    print(f.read())"
   ]
  },
  {
   "cell_type": "markdown",
   "id": "9c4baaec",
   "metadata": {},
   "source": [
    "Behavior of \"w\" Mode in Python File Handling\n",
    "1. File is emptied immediately:\n",
    "    - As soon as the file is opened in \"w\" mode, its entire content is erased, even before writing anything.\n",
    "    - This happens automatically, so it's important to be cautious if the file contains important data.\n",
    "\n",
    "2. File is created if it doesn't exist:\n",
    "    - If the specified file does not exist, Python will create a new file with that name.\n",
    "\n",
    "3. File is overwritten if it exists:\n",
    "    - If the file already exists, its content is replaced with whatever you write next."
   ]
  },
  {
   "cell_type": "code",
   "execution_count": 41,
   "id": "930f5354",
   "metadata": {},
   "outputs": [
    {
     "name": "stdout",
     "output_type": "stream",
     "text": [
      "Sample File for Python File Handling\n",
      "\n",
      "This file is created to demonstrate basic file handling operations in Python.\n",
      "It contains a title, a short paragraph, and a list of items.\n",
      "\n",
      "List of Items:\n",
      "- Apples\n",
      "- Bananas\n",
      "- Cherries\n",
      "- Dates\n",
      "- Elderberries\n",
      "\n",
      "- Watermelon\n",
      "- Mango\n",
      "- jackfruit\n"
     ]
    }
   ],
   "source": [
    "### append mode\n",
    "with open('sample.txt','r') as f:\n",
    "    print(f.read())"
   ]
  },
  {
   "cell_type": "code",
   "execution_count": 42,
   "id": "906f5208",
   "metadata": {},
   "outputs": [],
   "source": [
    "with open('sample.txt','a') as f:\n",
    "    f.write('\\n- Watermelon')"
   ]
  },
  {
   "cell_type": "code",
   "execution_count": 43,
   "id": "5c5f3e2e",
   "metadata": {},
   "outputs": [
    {
     "name": "stdout",
     "output_type": "stream",
     "text": [
      "Sample File for Python File Handling\n",
      "\n",
      "This file is created to demonstrate basic file handling operations in Python.\n",
      "It contains a title, a short paragraph, and a list of items.\n",
      "\n",
      "List of Items:\n",
      "- Apples\n",
      "- Bananas\n",
      "- Cherries\n",
      "- Dates\n",
      "- Elderberries\n",
      "\n",
      "- Watermelon\n",
      "- Mango\n",
      "- jackfruit\n",
      "- Watermelon\n"
     ]
    }
   ],
   "source": [
    "with open('sample.txt','r') as f:\n",
    "    print(f.read())"
   ]
  },
  {
   "cell_type": "code",
   "execution_count": 44,
   "id": "ccdb6950",
   "metadata": {},
   "outputs": [
    {
     "name": "stdout",
     "output_type": "stream",
     "text": [
      "307\n"
     ]
    }
   ],
   "source": [
    "# append mode: adds content to the end of the file\n",
    "with open('sample.txt','a') as f:\n",
    "    print(f.tell())\n",
    "    f.write('\\n- Mango')"
   ]
  },
  {
   "cell_type": "code",
   "execution_count": 45,
   "id": "c1589aba",
   "metadata": {},
   "outputs": [
    {
     "name": "stdout",
     "output_type": "stream",
     "text": [
      "Sample File for Python File Handling\n",
      "\n",
      "This file is created to demonstrate basic file handling operations in Python.\n",
      "It contains a title, a short paragraph, and a list of items.\n",
      "\n",
      "List of Items:\n",
      "- Apples\n",
      "- Bananas\n",
      "- Cherries\n",
      "- Dates\n",
      "- Elderberries\n",
      "\n",
      "- Watermelon\n",
      "- Mango\n",
      "- jackfruit\n",
      "- Watermelon\n",
      "- Mango\n"
     ]
    }
   ],
   "source": [
    "with open('sample.txt','r') as f:\n",
    "    print(f.read())"
   ]
  },
  {
   "cell_type": "code",
   "execution_count": 46,
   "id": "bc397538",
   "metadata": {},
   "outputs": [],
   "source": [
    "# writeline\n",
    "with open('sample.txt','a') as f:\n",
    "    f.writelines('\\n- jackfruit')"
   ]
  },
  {
   "cell_type": "code",
   "execution_count": 47,
   "id": "ff8d299e",
   "metadata": {},
   "outputs": [
    {
     "name": "stdout",
     "output_type": "stream",
     "text": [
      "Sample File for Python File Handling\n",
      "\n",
      "This file is created to demonstrate basic file handling operations in Python.\n",
      "It contains a title, a short paragraph, and a list of items.\n",
      "\n",
      "List of Items:\n",
      "- Apples\n",
      "- Bananas\n",
      "- Cherries\n",
      "- Dates\n",
      "- Elderberries\n",
      "\n",
      "- Watermelon\n",
      "- Mango\n",
      "- jackfruit\n",
      "- Watermelon\n",
      "- Mango\n",
      "- jackfruit\n"
     ]
    }
   ],
   "source": [
    "with open('sample.txt','r') as f:\n",
    "    print(f.read())"
   ]
  },
  {
   "cell_type": "code",
   "execution_count": 48,
   "id": "c06ba4c6",
   "metadata": {},
   "outputs": [],
   "source": [
    "# adding multiple line \n",
    "with open('sample3.txt','a') as f:\n",
    "    f.writelines(['This is first line','\\nThis is second line.'])"
   ]
  },
  {
   "cell_type": "code",
   "execution_count": 49,
   "id": "d19fac05",
   "metadata": {},
   "outputs": [
    {
     "name": "stdout",
     "output_type": "stream",
     "text": [
      "This is first line\n",
      "This is second line.This is first line\n",
      "This is second line.This is first line\n",
      "This is second line.\n"
     ]
    }
   ],
   "source": [
    "with open('sample3.txt','r') as f:\n",
    "    print(f.read())"
   ]
  },
  {
   "cell_type": "code",
   "execution_count": 50,
   "id": "c00273af",
   "metadata": {},
   "outputs": [],
   "source": [
    "# only str datatype is accepted, with other data types (int,dict,list etc.) will get TypeError."
   ]
  },
  {
   "cell_type": "code",
   "execution_count": 51,
   "id": "4cb0681f",
   "metadata": {},
   "outputs": [
    {
     "ename": "TypeError",
     "evalue": "write() argument must be str, not int",
     "output_type": "error",
     "traceback": [
      "\u001b[31m---------------------------------------------------------------------------\u001b[39m",
      "\u001b[31mTypeError\u001b[39m                                 Traceback (most recent call last)",
      "\u001b[36mCell\u001b[39m\u001b[36m \u001b[39m\u001b[32mIn[51]\u001b[39m\u001b[32m, line 2\u001b[39m\n\u001b[32m      1\u001b[39m \u001b[38;5;28;01mwith\u001b[39;00m \u001b[38;5;28mopen\u001b[39m(\u001b[33m'\u001b[39m\u001b[33msample4.txt\u001b[39m\u001b[33m'\u001b[39m,\u001b[33m'\u001b[39m\u001b[33mw\u001b[39m\u001b[33m'\u001b[39m) \u001b[38;5;28;01mas\u001b[39;00m f:\n\u001b[32m----> \u001b[39m\u001b[32m2\u001b[39m     \u001b[43mf\u001b[49m\u001b[43m.\u001b[49m\u001b[43mwrite\u001b[49m\u001b[43m(\u001b[49m\u001b[32;43m67\u001b[39;49m\u001b[43m)\u001b[49m\n",
      "\u001b[31mTypeError\u001b[39m: write() argument must be str, not int"
     ]
    }
   ],
   "source": [
    "with open('sample4.txt','w') as f:\n",
    "    f.write(67)"
   ]
  },
  {
   "cell_type": "code",
   "execution_count": 52,
   "id": "8e15089c",
   "metadata": {},
   "outputs": [
    {
     "ename": "TypeError",
     "evalue": "write() argument must be str, not list",
     "output_type": "error",
     "traceback": [
      "\u001b[31m---------------------------------------------------------------------------\u001b[39m",
      "\u001b[31mTypeError\u001b[39m                                 Traceback (most recent call last)",
      "\u001b[36mCell\u001b[39m\u001b[36m \u001b[39m\u001b[32mIn[52]\u001b[39m\u001b[32m, line 2\u001b[39m\n\u001b[32m      1\u001b[39m \u001b[38;5;28;01mwith\u001b[39;00m \u001b[38;5;28mopen\u001b[39m(\u001b[33m'\u001b[39m\u001b[33msample4.txt\u001b[39m\u001b[33m'\u001b[39m,\u001b[33m'\u001b[39m\u001b[33mw\u001b[39m\u001b[33m'\u001b[39m) \u001b[38;5;28;01mas\u001b[39;00m f:\n\u001b[32m----> \u001b[39m\u001b[32m2\u001b[39m     \u001b[43mf\u001b[49m\u001b[43m.\u001b[49m\u001b[43mwrite\u001b[49m\u001b[43m(\u001b[49m\u001b[43m[\u001b[49m\u001b[32;43m1\u001b[39;49m\u001b[43m,\u001b[49m\u001b[32;43m2\u001b[39;49m\u001b[43m,\u001b[49m\u001b[32;43m3\u001b[39;49m\u001b[43m,\u001b[49m\u001b[32;43m4\u001b[39;49m\u001b[43m,\u001b[49m\u001b[32;43m5\u001b[39;49m\u001b[43m,\u001b[49m\u001b[32;43m6\u001b[39;49m\u001b[43m,\u001b[49m\u001b[32;43m7\u001b[39;49m\u001b[43m]\u001b[49m\u001b[43m)\u001b[49m\n",
      "\u001b[31mTypeError\u001b[39m: write() argument must be str, not list"
     ]
    }
   ],
   "source": [
    "with open('sample4.txt','w') as f:\n",
    "    f.write([1,2,3,4,5,6,7])"
   ]
  },
  {
   "cell_type": "code",
   "execution_count": null,
   "id": "aaa16eb7",
   "metadata": {},
   "outputs": [],
   "source": []
  },
  {
   "cell_type": "markdown",
   "id": "12dfe286",
   "metadata": {},
   "source": [
    "### Serialization and Deserialization"
   ]
  },
  {
   "cell_type": "markdown",
   "id": "75566e9d",
   "metadata": {},
   "source": [
    "Serialization : Process of converting a python object like (int,list,dict etc.) into format that can be stored or transmitted - usually as string or bytes\n",
    "\n",
    "Deserialization : loading the stored data and reconstructing the original python object."
   ]
  },
  {
   "cell_type": "code",
   "execution_count": 53,
   "id": "463df735",
   "metadata": {},
   "outputs": [],
   "source": [
    "# serialization into JSON\n",
    "lst = [1,2,3,4,5,6,7]\n",
    "\n",
    "import json\n",
    "with open('lst_json','w') as file:\n",
    "    json.dump(lst,file)"
   ]
  },
  {
   "cell_type": "code",
   "execution_count": 54,
   "id": "8b9cd441",
   "metadata": {},
   "outputs": [
    {
     "name": "stdout",
     "output_type": "stream",
     "text": [
      "7\n"
     ]
    }
   ],
   "source": [
    "# Deserialization\n",
    "with open('lst_json','r') as f:\n",
    "    x = json.load(f)\n",
    "    print(len(x))"
   ]
  },
  {
   "cell_type": "code",
   "execution_count": 55,
   "id": "5293b59b",
   "metadata": {},
   "outputs": [],
   "source": [
    "# serialization into JSON\n",
    "dic = {'name':'Nikshit','age':25,'collage':'PDPU','subjects':['Maths','Phy','Chem']}\n",
    "with open('dict_json','w') as f:\n",
    "    json.dump(dic,f,indent=4)  # space=4 , well-formatted"
   ]
  },
  {
   "cell_type": "code",
   "execution_count": 56,
   "id": "bc32aa79",
   "metadata": {},
   "outputs": [
    {
     "name": "stdout",
     "output_type": "stream",
     "text": [
      "dict_keys(['name', 'age', 'collage', 'subjects'])\n",
      "dict_values(['Nikshit', 25, 'PDPU', ['Maths', 'Phy', 'Chem']])\n"
     ]
    }
   ],
   "source": [
    "# Deserialization\n",
    "with open('dict_json','r') as f:\n",
    "    d = json.load(f)\n",
    "    print(d.keys())\n",
    "    print(d.values())"
   ]
  },
  {
   "cell_type": "code",
   "execution_count": 57,
   "id": "7252d9b1",
   "metadata": {},
   "outputs": [],
   "source": [
    "# json.dump() can only serialize basic data types like (dict,list,tuple,str,int,float,bool,None etc.)\n",
    "# when we try to pass set, custom class, datetime it will raise TypeError.\n",
    "\n",
    "# default : it let us handle these special types by telling python how to convert them to something serializable."
   ]
  },
  {
   "cell_type": "code",
   "execution_count": 58,
   "id": "80766b9c",
   "metadata": {},
   "outputs": [],
   "source": [
    "class Book:\n",
    "    def __init__(self,title,author):\n",
    "        self.title = title\n",
    "        self.author = author\n",
    "\n",
    "book1 = Book('Harry Potter','J.K. Rowling')"
   ]
  },
  {
   "cell_type": "code",
   "execution_count": 59,
   "id": "30204f68",
   "metadata": {},
   "outputs": [
    {
     "ename": "TypeError",
     "evalue": "Object of type Book is not JSON serializable",
     "output_type": "error",
     "traceback": [
      "\u001b[31m---------------------------------------------------------------------------\u001b[39m",
      "\u001b[31mTypeError\u001b[39m                                 Traceback (most recent call last)",
      "\u001b[36mCell\u001b[39m\u001b[36m \u001b[39m\u001b[32mIn[59]\u001b[39m\u001b[32m, line 2\u001b[39m\n\u001b[32m      1\u001b[39m \u001b[38;5;28;01mwith\u001b[39;00m \u001b[38;5;28mopen\u001b[39m(\u001b[33m'\u001b[39m\u001b[33mcustom_class_json\u001b[39m\u001b[33m'\u001b[39m,\u001b[33m'\u001b[39m\u001b[33mw\u001b[39m\u001b[33m'\u001b[39m) \u001b[38;5;28;01mas\u001b[39;00m f:\n\u001b[32m----> \u001b[39m\u001b[32m2\u001b[39m     \u001b[43mjson\u001b[49m\u001b[43m.\u001b[49m\u001b[43mdump\u001b[49m\u001b[43m(\u001b[49m\u001b[43mbook1\u001b[49m\u001b[43m,\u001b[49m\u001b[43mf\u001b[49m\u001b[43m)\u001b[49m   \u001b[38;5;66;03m# TypeError: Object of type Book is not JSON serializable\u001b[39;00m\n",
      "\u001b[36mFile \u001b[39m\u001b[32mc:\\Program Files\\Python311\\Lib\\json\\__init__.py:179\u001b[39m, in \u001b[36mdump\u001b[39m\u001b[34m(obj, fp, skipkeys, ensure_ascii, check_circular, allow_nan, cls, indent, separators, default, sort_keys, **kw)\u001b[39m\n\u001b[32m    173\u001b[39m     iterable = \u001b[38;5;28mcls\u001b[39m(skipkeys=skipkeys, ensure_ascii=ensure_ascii,\n\u001b[32m    174\u001b[39m         check_circular=check_circular, allow_nan=allow_nan, indent=indent,\n\u001b[32m    175\u001b[39m         separators=separators,\n\u001b[32m    176\u001b[39m         default=default, sort_keys=sort_keys, **kw).iterencode(obj)\n\u001b[32m    177\u001b[39m \u001b[38;5;66;03m# could accelerate with writelines in some versions of Python, at\u001b[39;00m\n\u001b[32m    178\u001b[39m \u001b[38;5;66;03m# a debuggability cost\u001b[39;00m\n\u001b[32m--> \u001b[39m\u001b[32m179\u001b[39m \u001b[43m\u001b[49m\u001b[38;5;28;43;01mfor\u001b[39;49;00m\u001b[43m \u001b[49m\u001b[43mchunk\u001b[49m\u001b[43m \u001b[49m\u001b[38;5;129;43;01min\u001b[39;49;00m\u001b[43m \u001b[49m\u001b[43miterable\u001b[49m\u001b[43m:\u001b[49m\n\u001b[32m    180\u001b[39m \u001b[43m    \u001b[49m\u001b[43mfp\u001b[49m\u001b[43m.\u001b[49m\u001b[43mwrite\u001b[49m\u001b[43m(\u001b[49m\u001b[43mchunk\u001b[49m\u001b[43m)\u001b[49m\n",
      "\u001b[36mFile \u001b[39m\u001b[32mc:\\Program Files\\Python311\\Lib\\json\\encoder.py:439\u001b[39m, in \u001b[36m_make_iterencode.<locals>._iterencode\u001b[39m\u001b[34m(o, _current_indent_level)\u001b[39m\n\u001b[32m    437\u001b[39m         \u001b[38;5;28;01mraise\u001b[39;00m \u001b[38;5;167;01mValueError\u001b[39;00m(\u001b[33m\"\u001b[39m\u001b[33mCircular reference detected\u001b[39m\u001b[33m\"\u001b[39m)\n\u001b[32m    438\u001b[39m     markers[markerid] = o\n\u001b[32m--> \u001b[39m\u001b[32m439\u001b[39m o = \u001b[43m_default\u001b[49m\u001b[43m(\u001b[49m\u001b[43mo\u001b[49m\u001b[43m)\u001b[49m\n\u001b[32m    440\u001b[39m \u001b[38;5;28;01myield from\u001b[39;00m _iterencode(o, _current_indent_level)\n\u001b[32m    441\u001b[39m \u001b[38;5;28;01mif\u001b[39;00m markers \u001b[38;5;129;01mis\u001b[39;00m \u001b[38;5;129;01mnot\u001b[39;00m \u001b[38;5;28;01mNone\u001b[39;00m:\n",
      "\u001b[36mFile \u001b[39m\u001b[32mc:\\Program Files\\Python311\\Lib\\json\\encoder.py:180\u001b[39m, in \u001b[36mJSONEncoder.default\u001b[39m\u001b[34m(self, o)\u001b[39m\n\u001b[32m    161\u001b[39m \u001b[38;5;28;01mdef\u001b[39;00m\u001b[38;5;250m \u001b[39m\u001b[34mdefault\u001b[39m(\u001b[38;5;28mself\u001b[39m, o):\n\u001b[32m    162\u001b[39m \u001b[38;5;250m    \u001b[39m\u001b[33;03m\"\"\"Implement this method in a subclass such that it returns\u001b[39;00m\n\u001b[32m    163\u001b[39m \u001b[33;03m    a serializable object for ``o``, or calls the base implementation\u001b[39;00m\n\u001b[32m    164\u001b[39m \u001b[33;03m    (to raise a ``TypeError``).\u001b[39;00m\n\u001b[32m   (...)\u001b[39m\u001b[32m    178\u001b[39m \n\u001b[32m    179\u001b[39m \u001b[33;03m    \"\"\"\u001b[39;00m\n\u001b[32m--> \u001b[39m\u001b[32m180\u001b[39m     \u001b[38;5;28;01mraise\u001b[39;00m \u001b[38;5;167;01mTypeError\u001b[39;00m(\u001b[33mf\u001b[39m\u001b[33m'\u001b[39m\u001b[33mObject of type \u001b[39m\u001b[38;5;132;01m{\u001b[39;00mo.\u001b[34m__class__\u001b[39m.\u001b[34m__name__\u001b[39m\u001b[38;5;132;01m}\u001b[39;00m\u001b[33m \u001b[39m\u001b[33m'\u001b[39m\n\u001b[32m    181\u001b[39m                     \u001b[33mf\u001b[39m\u001b[33m'\u001b[39m\u001b[33mis not JSON serializable\u001b[39m\u001b[33m'\u001b[39m)\n",
      "\u001b[31mTypeError\u001b[39m: Object of type Book is not JSON serializable"
     ]
    }
   ],
   "source": [
    "with open('custom_class_json','w') as f:\n",
    "    json.dump(book1,f)   # TypeError: Object of type Book is not JSON serializable"
   ]
  },
  {
   "cell_type": "code",
   "execution_count": 60,
   "id": "0fb652c3",
   "metadata": {},
   "outputs": [],
   "source": [
    "def book_converter(obj):\n",
    "    if isinstance(obj,Book):\n",
    "        return {'title':obj.title,'author':obj.author}"
   ]
  },
  {
   "cell_type": "code",
   "execution_count": 61,
   "id": "ec9f8a90",
   "metadata": {},
   "outputs": [],
   "source": [
    "with open('custom_class_json','w') as f:\n",
    "    json.dump(book1,f,default = book_converter)"
   ]
  },
  {
   "cell_type": "code",
   "execution_count": 62,
   "id": "e4d54a0d",
   "metadata": {},
   "outputs": [
    {
     "name": "stdout",
     "output_type": "stream",
     "text": [
      "dict_keys(['title', 'author'])\n",
      "dict_values(['Harry Potter', 'J.K. Rowling'])\n"
     ]
    }
   ],
   "source": [
    "with open('custom_class_json','r') as f:\n",
    "    c = json.load(f)\n",
    "    print(c.keys())\n",
    "    print(c.values())"
   ]
  },
  {
   "cell_type": "code",
   "execution_count": null,
   "id": "ab46808f",
   "metadata": {},
   "outputs": [],
   "source": []
  },
  {
   "cell_type": "markdown",
   "id": "051dac4b",
   "metadata": {},
   "source": [
    "### Pickling & Unpickling\n",
    "- used for serialization & deserialization\n",
    "- pickle can handle any python object."
   ]
  },
  {
   "cell_type": "code",
   "execution_count": 63,
   "id": "3958169f",
   "metadata": {},
   "outputs": [],
   "source": [
    "import pickle"
   ]
  },
  {
   "cell_type": "code",
   "execution_count": 64,
   "metadata": {},
   "outputs": [],
   "source": [
    "class Book:\n",
    "    def __init__(self,title,author):\n",
    "        self.title = title\n",
    "        self.author = author\n",
    "\n",
    "    def book_info(self):\n",
    "        return f'{self.title} by {self.author}'\n",
    "\n",
    "book1 = Book('Harry Potter','J.K. Rowling')"
   ]
  },
  {
   "cell_type": "code",
   "execution_count": 65,
   "id": "5777c5b2",
   "metadata": {},
   "outputs": [],
   "source": [
    "with open('book_pickle.pkl','wb') as f:\n",
    "    pickle.dump(book1,f)"
   ]
  },
  {
   "cell_type": "code",
   "execution_count": 66,
   "id": "f317699d",
   "metadata": {},
   "outputs": [
    {
     "name": "stdout",
     "output_type": "stream",
     "text": [
      "Harry Potter\n",
      "J.K. Rowling\n",
      "Harry Potter by J.K. Rowling\n"
     ]
    }
   ],
   "source": [
    "with open('book_pickle.pkl','rb') as f:\n",
    "    b = pickle.load(f)\n",
    "    print(b.title)\n",
    "    print(b.author)\n",
    "    print(b.book_info())"
   ]
  },
  {
   "cell_type": "code",
   "execution_count": null,
   "id": "34c5fa82",
   "metadata": {},
   "outputs": [],
   "source": []
  },
  {
   "cell_type": "markdown",
   "id": "83fbaec6",
   "metadata": {},
   "source": [
    "### Renaming & Deleting Files"
   ]
  },
  {
   "cell_type": "code",
   "execution_count": 67,
   "id": "b8c2ab5d",
   "metadata": {},
   "outputs": [],
   "source": [
    "# creating new file\n",
    "with open('old_file.txt','w') as f:\n",
    "    f.write('this is first line.')"
   ]
  },
  {
   "cell_type": "code",
   "execution_count": 68,
   "id": "3a96e080",
   "metadata": {},
   "outputs": [],
   "source": [
    "# renaming file\n",
    "import os\n",
    "old_name = 'old_file.txt'\n",
    "new_name = 'new_file.txt'\n",
    "os.rename(old_name,new_name)"
   ]
  },
  {
   "cell_type": "code",
   "execution_count": 69,
   "id": "516c2171",
   "metadata": {},
   "outputs": [],
   "source": [
    "# deleting file\n",
    "os.remove('new_file.txt')"
   ]
  },
  {
   "cell_type": "code",
   "execution_count": null,
   "id": "d64115ef",
   "metadata": {},
   "outputs": [],
   "source": []
  }
 ],
 "metadata": {
  "kernelspec": {
   "display_name": "Python 3",
   "language": "python",
   "name": "python3"
  },
  "language_info": {
   "codemirror_mode": {
    "name": "ipython",
    "version": 3
   },
   "file_extension": ".py",
   "mimetype": "text/x-python",
   "name": "python",
   "nbconvert_exporter": "python",
   "pygments_lexer": "ipython3",
   "version": "3.11.2"
  }
 },
 "nbformat": 4,
 "nbformat_minor": 5
}
