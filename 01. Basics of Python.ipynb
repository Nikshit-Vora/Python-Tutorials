{
 "cells": [
  {
   "cell_type": "markdown",
   "id": "5f000cef",
   "metadata": {},
   "source": [
    "# 1. Python Output - print() Function"
   ]
  },
  {
   "cell_type": "code",
   "execution_count": 1,
   "id": "8f948e11",
   "metadata": {},
   "outputs": [],
   "source": [
    "# This is function, named with x. input parameter to be given in bracket.\n",
    "# eg. x()\n",
    "# There are several functions like this in python."
   ]
  },
  {
   "cell_type": "markdown",
   "id": "0f697ac0",
   "metadata": {},
   "source": [
    "#### Function - print()"
   ]
  },
  {
   "cell_type": "code",
   "execution_count": 2,
   "id": "f91f6f8f",
   "metadata": {},
   "outputs": [
    {
     "name": "stdout",
     "output_type": "stream",
     "text": [
      "My Name is Nikshit Vora..\n"
     ]
    }
   ],
   "source": [
    "# print() is an inbuilt function in Python.\n",
    "# Python is case sensitive - uppercase and lowercase letters are different.\n",
    "# Capital Print() will NOT work; only print() is valid.\n",
    "\n",
    "print('My Name is Nikshit Vora..')"
   ]
  },
  {
   "cell_type": "code",
   "execution_count": 3,
   "id": "53af095e",
   "metadata": {},
   "outputs": [
    {
     "name": "stdout",
     "output_type": "stream",
     "text": [
      "How are you?\n",
      "Hello, I'm Nikshit Vora\n"
     ]
    }
   ],
   "source": [
    "# Text should be in single or double quotes.\n",
    "print('How are you?')\n",
    "\n",
    "# A single quote can be used inside double quotes.\n",
    "print(\"Hello, I'm Nikshit Vora\")"
   ]
  },
  {
   "cell_type": "code",
   "execution_count": 4,
   "id": "c156500e",
   "metadata": {},
   "outputs": [
    {
     "name": "stdout",
     "output_type": "stream",
     "text": [
      "\n",
      "Hello! How are you..?\n",
      "I'm fine. Thank you..\n",
      "\n"
     ]
    }
   ],
   "source": [
    "# Multiline string with triple quotes.\n",
    "print('''\n",
    "Hello! How are you..?\n",
    "I'm fine. Thank you..\n",
    "''')"
   ]
  },
  {
   "cell_type": "code",
   "execution_count": 5,
   "id": "eb3c1f04",
   "metadata": {},
   "outputs": [
    {
     "name": "stdout",
     "output_type": "stream",
     "text": [
      "7\n"
     ]
    }
   ],
   "source": [
    "# Integer Data Type\n",
    "print(7)"
   ]
  },
  {
   "cell_type": "code",
   "execution_count": 6,
   "id": "a83811d7",
   "metadata": {},
   "outputs": [
    {
     "name": "stdout",
     "output_type": "stream",
     "text": [
      "2.5\n"
     ]
    }
   ],
   "source": [
    "# Float Data Type\n",
    "print(2.5)"
   ]
  },
  {
   "cell_type": "code",
   "execution_count": 7,
   "id": "fa836042",
   "metadata": {},
   "outputs": [
    {
     "name": "stdout",
     "output_type": "stream",
     "text": [
      "True\n",
      "False\n",
      "1\n",
      "10\n",
      "-4\n"
     ]
    }
   ],
   "source": [
    "# Boolean Data Type\n",
    "\n",
    "# True  --> 1\n",
    "# False --> 0\n",
    "\n",
    "print(True)\n",
    "print(False)\n",
    "print(True + False)\n",
    "print(True*10)\n",
    "print(False - 4)"
   ]
  },
  {
   "cell_type": "code",
   "execution_count": 8,
   "id": "f510aa07",
   "metadata": {},
   "outputs": [
    {
     "name": "stdout",
     "output_type": "stream",
     "text": [
      "Data Science 5 4.8 True (5+5j)\n"
     ]
    }
   ],
   "source": [
    "# The print() function can take multiple arguments of different data types (string, integer, float, boolean, etc.)\n",
    "print('Data Science',5,4.8,True,5+5j)"
   ]
  },
  {
   "cell_type": "markdown",
   "id": "881359e5",
   "metadata": {},
   "source": [
    "#### Use of sep=' ' and end=' ' in print() function"
   ]
  },
  {
   "cell_type": "code",
   "execution_count": 9,
   "id": "89b7a341",
   "metadata": {},
   "outputs": [
    {
     "name": "stdout",
     "output_type": "stream",
     "text": [
      "Data Science 5 4.8 True\n",
      "Data Science--5--4.8--True\n",
      "Data Science__5__4.8__True\n"
     ]
    }
   ],
   "source": [
    "# sep --> Used to specify the separator between multiple values in the print() function.\n",
    "# By default, the separator is a space (' ').\n",
    "# we can change it to any string using the sep parameter.\n",
    "\n",
    "print('Data Science',5,4.8,True)  # default\n",
    "print('Data Science', 5, 4.8, True, sep='--')  \n",
    "print('Data Science',5,4.8,True, sep = '__')"
   ]
  },
  {
   "cell_type": "code",
   "execution_count": 10,
   "id": "5df6b07d",
   "metadata": {},
   "outputs": [
    {
     "name": "stdout",
     "output_type": "stream",
     "text": [
      "Hello\n",
      "How are you..\n",
      "\n",
      "Helloo!!, How are you..?\n"
     ]
    }
   ],
   "source": [
    "# end --> Used to specify what to print at the end of the output and to combine outputs from multiple print statements.\n",
    "# By default, end='\\n' (newline), so each print statement appears on a new line.\n",
    "# We can change 'end' to any string to combine outputs from multiple print statements.\n",
    "\n",
    "print('Hello')\n",
    "print('How are you..')\n",
    "print()\n",
    "\n",
    "# end\n",
    "print('Helloo!!', end=', ')\n",
    "print('How are you..?')\n"
   ]
  },
  {
   "cell_type": "code",
   "execution_count": null,
   "id": "40cf76ca",
   "metadata": {},
   "outputs": [],
   "source": []
  },
  {
   "cell_type": "markdown",
   "id": "e9b28c3f",
   "metadata": {},
   "source": [
    "# 2. Data Types & type() function"
   ]
  },
  {
   "cell_type": "markdown",
   "id": "88ba7441",
   "metadata": {},
   "source": [
    "1. Integer\n",
    "2. Float\n",
    "3. Boolean\n",
    "4. String\n",
    "5. Complex\n",
    "6. List\n",
    "7. Tuple\n",
    "8. Set\n",
    "9. Dictonary\n",
    "10. NoneType"
   ]
  },
  {
   "cell_type": "markdown",
   "id": "655ba9e1",
   "metadata": {},
   "source": [
    "#### 1. Integer Data Type - Whole numbers, positive or negative."
   ]
  },
  {
   "cell_type": "code",
   "execution_count": 12,
   "id": "e52e408e",
   "metadata": {},
   "outputs": [
    {
     "name": "stdout",
     "output_type": "stream",
     "text": [
      "8\n",
      "10\n",
      "1\n"
     ]
    }
   ],
   "source": [
    "# Integer\n",
    "print(8)\n",
    "print(10)\n",
    "print(1)"
   ]
  },
  {
   "cell_type": "code",
   "execution_count": 13,
   "id": "3c4b5ac2",
   "metadata": {},
   "outputs": [
    {
     "data": {
      "text/plain": [
       "int"
      ]
     },
     "execution_count": 13,
     "metadata": {},
     "output_type": "execute_result"
    }
   ],
   "source": [
    "# type() -> to find out the data type of variable or value\n",
    "type(2)"
   ]
  },
  {
   "cell_type": "code",
   "execution_count": 14,
   "id": "f35099d0",
   "metadata": {},
   "outputs": [
    {
     "name": "stdout",
     "output_type": "stream",
     "text": [
      "1000000000000000000000000000000000000000000000000000000000000000000000000000000000000000000000000000000000000000000000000000000000000000000000000000000000000000000000000000000000000000000000000000000000000000000000000000000000000000000000000000000000000000000000000000000000000000000000000000000000000000000000000000000000000000000000000000000000000000000000000000000000000000000000000000000000000000000000000000000000000000000000000000000000000000000000000000000000000000000000000000000000000000000000000000000000000000000000000000000000000000000000000000000000000000000000000000000000000000000000000000000000000000000000000000000000000000000000000000000000000000000000000000000000000000000000000000000000000000000000000000000000000000000000000000000000000000000000000000000000000000000000000000000000000000000000000000000000000000000000000000000000000000000000000000000000000000000000000000000000000000000000000000000000000000000000000000000000000000000000000000000000000000000000000000000000000000000000000000000000000000000000000000000000000000000000000000000000000000000000000000000000000000000000000000000000000000000000000000000000000000000000000000000000000000000000000000000000000000000000000000000000000000000000000000000000000000000000000000000000000000000000000000000000000000000000000000000000000000000000000000000000000000000000000000000000000000000000000000000000000000000000000000000000000000000000000000000000000000000000000000000000000000000000000000000000000000000000000000000000000000000000000000000000000000000000000000000000000000000000000000000000000000000000000000000000000000000000000000000000000000000000000000000000000000000000000000000000000000000000000000000000000000000000000000000000000000000000000000000000000000000000000000000000000000000000000000000000000000000000000000000000000000000000000000000000000000000000000000000000000000000000000000000000000000000000000000000000000000000000000000000000000000000000000000000000000000000000000000000000000000000000000000000000000000000000000000000000000000000000000000000000000000000000000000000000000000000000000000000000000000000000000000000000000000000000000000000000000000000000000000000000000000000000000000000000000000000000000000000000000000000000000000000000000000000000000000000000000000000000000000000000000000000000000000000000000000000000000000000000000000000000000000000000000000000000000000000000000000000000000000000000000000000000000000000000000000000000000000000000000000000000000000000000000000000000000000000000000000000000000000000000000000000000000000000000000000000000000000000000000000000000000000000000000000000000000000000000000000000000000000000000000000000000000000000000000000000000000000000000000000000000000000000000000000000000000000000000000000000000000000000000000000000000000000000000000000000000000000000000000000000000000000000000000000000000000000000000000000000000000000000000000000000000000000000000000000000000000000000000000000000000000000000000000000000000000000000000000000000000000000000000\n"
     ]
    }
   ],
   "source": [
    "# Python can handle very large integers.\n",
    "print(10**3009)"
   ]
  },
  {
   "cell_type": "code",
   "execution_count": null,
   "id": "5ce60cea",
   "metadata": {},
   "outputs": [],
   "source": []
  },
  {
   "cell_type": "markdown",
   "id": "aa26ea0c",
   "metadata": {},
   "source": [
    "#### 2. Float - Decimal numbers."
   ]
  },
  {
   "cell_type": "code",
   "execution_count": 15,
   "id": "6af574d3",
   "metadata": {},
   "outputs": [
    {
     "name": "stdout",
     "output_type": "stream",
     "text": [
      "5.9\n",
      "1.358\n"
     ]
    }
   ],
   "source": [
    "# decimal/float\n",
    "print(5.9)\n",
    "print(1.358)"
   ]
  },
  {
   "cell_type": "code",
   "execution_count": 16,
   "id": "c167c57a",
   "metadata": {},
   "outputs": [
    {
     "data": {
      "text/plain": [
       "float"
      ]
     },
     "execution_count": 16,
     "metadata": {},
     "output_type": "execute_result"
    }
   ],
   "source": [
    "type(2.3)"
   ]
  },
  {
   "cell_type": "code",
   "execution_count": 17,
   "id": "fd31126a",
   "metadata": {},
   "outputs": [
    {
     "name": "stdout",
     "output_type": "stream",
     "text": [
      "35.5\n",
      "1.5e+308\n",
      "inf\n"
     ]
    }
   ],
   "source": [
    "print(3.55e1) # e -> 10^ (notation, 3.55 * 10^1 = 35.5)\n",
    "print(1.5e308)\n",
    "\n",
    "# Python float has a limit (~1.8e308). \n",
    "# If you try print(1e309), output will be 'inf' (infinity).\n",
    "\n",
    "print(1e309)  # Output: inf"
   ]
  },
  {
   "cell_type": "code",
   "execution_count": null,
   "id": "58eaf575",
   "metadata": {},
   "outputs": [],
   "source": []
  },
  {
   "cell_type": "markdown",
   "id": "ed36fca9",
   "metadata": {},
   "source": [
    "#### 3. Boolean - True/False values."
   ]
  },
  {
   "cell_type": "code",
   "execution_count": 18,
   "id": "19429de8",
   "metadata": {},
   "outputs": [
    {
     "name": "stdout",
     "output_type": "stream",
     "text": [
      "True\n",
      "False\n"
     ]
    }
   ],
   "source": [
    "# boolean\n",
    "print(True)\n",
    "print(False)"
   ]
  },
  {
   "cell_type": "code",
   "execution_count": 19,
   "id": "98871865",
   "metadata": {},
   "outputs": [
    {
     "data": {
      "text/plain": [
       "bool"
      ]
     },
     "execution_count": 19,
     "metadata": {},
     "output_type": "execute_result"
    }
   ],
   "source": [
    "type(True)\n",
    "type(False)"
   ]
  },
  {
   "cell_type": "code",
   "execution_count": 20,
   "id": "c77908a8",
   "metadata": {},
   "outputs": [
    {
     "name": "stdout",
     "output_type": "stream",
     "text": [
      "True\n",
      "True\n"
     ]
    }
   ],
   "source": [
    "# True will be treated as 1.\n",
    "# False will be treated as 0.\n",
    "\n",
    "print(True==1)\n",
    "print(False==0)"
   ]
  },
  {
   "cell_type": "code",
   "execution_count": 21,
   "id": "bf28bd2d",
   "metadata": {},
   "outputs": [
    {
     "name": "stdout",
     "output_type": "stream",
     "text": [
      "2\n",
      "-5\n"
     ]
    }
   ],
   "source": [
    "print(True + True) # 1 + 1\n",
    "print(False - True*5) # 0 - 1*5"
   ]
  },
  {
   "cell_type": "code",
   "execution_count": null,
   "id": "9ec671ad",
   "metadata": {},
   "outputs": [],
   "source": []
  },
  {
   "cell_type": "markdown",
   "id": "67609915",
   "metadata": {},
   "source": [
    "#### 4. String - Text data, enclosed in quotes."
   ]
  },
  {
   "cell_type": "code",
   "execution_count": 22,
   "id": "89feffdb",
   "metadata": {},
   "outputs": [
    {
     "name": "stdout",
     "output_type": "stream",
     "text": [
      "Hello world!!\n",
      "How are you..?\n"
     ]
    }
   ],
   "source": [
    "# strings/text\n",
    "print('Hello world!!')\n",
    "print(\"How are you..?\")"
   ]
  },
  {
   "cell_type": "code",
   "execution_count": 23,
   "id": "a3ffc9d6",
   "metadata": {},
   "outputs": [
    {
     "data": {
      "text/plain": [
       "str"
      ]
     },
     "execution_count": 23,
     "metadata": {},
     "output_type": "execute_result"
    }
   ],
   "source": [
    "type('hello!')"
   ]
  },
  {
   "cell_type": "code",
   "execution_count": null,
   "id": "2739999a",
   "metadata": {},
   "outputs": [],
   "source": []
  },
  {
   "cell_type": "markdown",
   "id": "7f4250be",
   "metadata": {},
   "source": [
    "#### 5. Complex - Numbers with real and imaginary parts."
   ]
  },
  {
   "cell_type": "code",
   "execution_count": 24,
   "id": "5730a368",
   "metadata": {},
   "outputs": [
    {
     "name": "stdout",
     "output_type": "stream",
     "text": [
      "(5+6j)\n"
     ]
    }
   ],
   "source": [
    "# complex \n",
    "print(5+6j)"
   ]
  },
  {
   "cell_type": "code",
   "execution_count": 25,
   "id": "f55676b6",
   "metadata": {},
   "outputs": [
    {
     "data": {
      "text/plain": [
       "complex"
      ]
     },
     "execution_count": 25,
     "metadata": {},
     "output_type": "execute_result"
    }
   ],
   "source": [
    "type(6+5j)"
   ]
  },
  {
   "cell_type": "code",
   "execution_count": 26,
   "id": "9dd784ae",
   "metadata": {},
   "outputs": [
    {
     "name": "stdout",
     "output_type": "stream",
     "text": [
      "(6+5j)\n"
     ]
    }
   ],
   "source": [
    "a = 6 + 5j\n",
    "print(a)"
   ]
  },
  {
   "cell_type": "code",
   "execution_count": 27,
   "id": "f60a6310",
   "metadata": {},
   "outputs": [
    {
     "name": "stdout",
     "output_type": "stream",
     "text": [
      "6.0\n",
      "5.0\n"
     ]
    }
   ],
   "source": [
    "# to print real and imaginary part of the complex numbers\n",
    "print(a.real)\n",
    "print(a.imag)"
   ]
  },
  {
   "cell_type": "code",
   "execution_count": null,
   "id": "9b7c8678",
   "metadata": {},
   "outputs": [],
   "source": []
  },
  {
   "cell_type": "markdown",
   "id": "7888ca2d",
   "metadata": {},
   "source": [
    "#### 6. List"
   ]
  },
  {
   "cell_type": "code",
   "execution_count": 28,
   "id": "e1a9d099",
   "metadata": {},
   "outputs": [
    {
     "name": "stdout",
     "output_type": "stream",
     "text": [
      "['Hello', 5, 6.5]\n"
     ]
    }
   ],
   "source": [
    "# python -> list -- enclosed with square bracket\n",
    "# c      -> array\n",
    "print(['Hello',5,6.5])"
   ]
  },
  {
   "cell_type": "code",
   "execution_count": 29,
   "id": "9bb74529",
   "metadata": {},
   "outputs": [
    {
     "data": {
      "text/plain": [
       "list"
      ]
     },
     "execution_count": 29,
     "metadata": {},
     "output_type": "execute_result"
    }
   ],
   "source": [
    "type([1,2,3])"
   ]
  },
  {
   "cell_type": "code",
   "execution_count": null,
   "id": "c9350512",
   "metadata": {},
   "outputs": [],
   "source": []
  },
  {
   "cell_type": "markdown",
   "id": "cfd87d21",
   "metadata": {},
   "source": [
    "#### 7. Tuple"
   ]
  },
  {
   "cell_type": "code",
   "execution_count": 30,
   "id": "26613897",
   "metadata": {},
   "outputs": [
    {
     "name": "stdout",
     "output_type": "stream",
     "text": [
      "('Nikshit', 1, 5.6)\n"
     ]
    }
   ],
   "source": [
    "# tuple --> enclosed with normal bracket\n",
    "print(('Nikshit',1,5.6))"
   ]
  },
  {
   "cell_type": "code",
   "execution_count": 31,
   "id": "9307a49e",
   "metadata": {},
   "outputs": [
    {
     "data": {
      "text/plain": [
       "tuple"
      ]
     },
     "execution_count": 31,
     "metadata": {},
     "output_type": "execute_result"
    }
   ],
   "source": [
    "type((1,2,3,))"
   ]
  },
  {
   "cell_type": "code",
   "execution_count": null,
   "id": "9cbd471a",
   "metadata": {},
   "outputs": [],
   "source": []
  },
  {
   "cell_type": "markdown",
   "id": "87913aea",
   "metadata": {},
   "source": [
    "#### 8. Set"
   ]
  },
  {
   "cell_type": "code",
   "execution_count": 32,
   "id": "ce0c4dad",
   "metadata": {},
   "outputs": [
    {
     "name": "stdout",
     "output_type": "stream",
     "text": [
      "{3, 5, 'Vora', 6.8}\n"
     ]
    }
   ],
   "source": [
    "# set --> enclosed with curley bracket\n",
    "print({'Vora',5,3,6.8})"
   ]
  },
  {
   "cell_type": "code",
   "execution_count": 33,
   "id": "ee2a069f",
   "metadata": {},
   "outputs": [
    {
     "data": {
      "text/plain": [
       "set"
      ]
     },
     "execution_count": 33,
     "metadata": {},
     "output_type": "execute_result"
    }
   ],
   "source": [
    "type({1,2,3})"
   ]
  },
  {
   "cell_type": "code",
   "execution_count": null,
   "id": "2c0842a8",
   "metadata": {},
   "outputs": [],
   "source": []
  },
  {
   "cell_type": "markdown",
   "id": "4aafa509",
   "metadata": {},
   "source": [
    "#### 9. Dictionary"
   ]
  },
  {
   "cell_type": "code",
   "execution_count": 34,
   "id": "305e55d8",
   "metadata": {},
   "outputs": [
    {
     "name": "stdout",
     "output_type": "stream",
     "text": [
      "{'Name': 'Nikshit', 'Surname': 'Vora', 'Age': 24}\n"
     ]
    }
   ],
   "source": [
    "# dictionary --> enclosed with curley bracket and contains key-value pairs.\n",
    "print({'Name': 'Nikshit', 'Surname':'Vora','Age':24})"
   ]
  },
  {
   "cell_type": "code",
   "execution_count": 35,
   "id": "3450558d",
   "metadata": {},
   "outputs": [
    {
     "data": {
      "text/plain": [
       "dict"
      ]
     },
     "execution_count": 35,
     "metadata": {},
     "output_type": "execute_result"
    }
   ],
   "source": [
    "type({'key1':'value1','key2':'value2'})"
   ]
  },
  {
   "cell_type": "code",
   "execution_count": null,
   "id": "1af21259",
   "metadata": {},
   "outputs": [],
   "source": []
  },
  {
   "cell_type": "markdown",
   "id": "eb63fe5f",
   "metadata": {},
   "source": [
    "#### 10. None - absence of value or null value"
   ]
  },
  {
   "cell_type": "code",
   "execution_count": 36,
   "id": "9e207756",
   "metadata": {},
   "outputs": [
    {
     "name": "stdout",
     "output_type": "stream",
     "text": [
      "None\n"
     ]
    }
   ],
   "source": [
    "# None - indicate variable has no value assigned yet.\n",
    "# we want to define variable, dont want to assign value as of now...\n",
    "a = None\n",
    "print(a)"
   ]
  },
  {
   "cell_type": "code",
   "execution_count": 37,
   "id": "8070017a",
   "metadata": {},
   "outputs": [
    {
     "data": {
      "text/plain": [
       "NoneType"
      ]
     },
     "execution_count": 37,
     "metadata": {},
     "output_type": "execute_result"
    }
   ],
   "source": [
    "type(a)"
   ]
  },
  {
   "cell_type": "code",
   "execution_count": null,
   "id": "e54afa69",
   "metadata": {},
   "outputs": [],
   "source": []
  },
  {
   "cell_type": "markdown",
   "id": "17b4be19",
   "metadata": {},
   "source": [
    "# 3. Variable Declaration"
   ]
  },
  {
   "cell_type": "code",
   "execution_count": 38,
   "id": "fef53d2a",
   "metadata": {},
   "outputs": [
    {
     "name": "stdout",
     "output_type": "stream",
     "text": [
      "var1\n",
      "5\n"
     ]
    }
   ],
   "source": [
    "# variable act as container to store the value for later use. \n",
    "a = 'var1'\n",
    "b = 5\n",
    "print(a)\n",
    "print(b)"
   ]
  },
  {
   "cell_type": "code",
   "execution_count": 39,
   "id": "5bab7559",
   "metadata": {},
   "outputs": [
    {
     "name": "stdout",
     "output_type": "stream",
     "text": [
      "15\n"
     ]
    }
   ],
   "source": [
    "a = 5\n",
    "b = 10\n",
    "print(a+b)"
   ]
  },
  {
   "cell_type": "code",
   "execution_count": 40,
   "id": "acca3d2b",
   "metadata": {},
   "outputs": [],
   "source": [
    "# del to delete\n",
    "del a,b"
   ]
  },
  {
   "cell_type": "code",
   "execution_count": 41,
   "id": "7efb61b0",
   "metadata": {},
   "outputs": [
    {
     "ename": "NameError",
     "evalue": "name 'a' is not defined",
     "output_type": "error",
     "traceback": [
      "\u001b[31m---------------------------------------------------------------------------\u001b[39m",
      "\u001b[31mNameError\u001b[39m                                 Traceback (most recent call last)",
      "\u001b[36mCell\u001b[39m\u001b[36m \u001b[39m\u001b[32mIn[41]\u001b[39m\u001b[32m, line 2\u001b[39m\n\u001b[32m      1\u001b[39m \u001b[38;5;66;03m# NameError - a,b is not defined as it is deleted...\u001b[39;00m\n\u001b[32m----> \u001b[39m\u001b[32m2\u001b[39m \u001b[38;5;28mprint\u001b[39m(\u001b[43ma\u001b[49m)\n\u001b[32m      3\u001b[39m \u001b[38;5;28mprint\u001b[39m(b)\n",
      "\u001b[31mNameError\u001b[39m: name 'a' is not defined"
     ]
    }
   ],
   "source": [
    "# NameError - a,b is not defined as it is deleted...\n",
    "print(a)\n",
    "print(b)"
   ]
  },
  {
   "cell_type": "code",
   "execution_count": null,
   "id": "a7b04150",
   "metadata": {},
   "outputs": [],
   "source": []
  },
  {
   "cell_type": "markdown",
   "id": "2a8a729a",
   "metadata": {},
   "source": [
    "#### Keywords and Identifiers"
   ]
  },
  {
   "cell_type": "code",
   "execution_count": 42,
   "id": "2a279a99",
   "metadata": {},
   "outputs": [],
   "source": [
    "# Keywords - reserved words for special purpose and \n",
    "# can not be used as variable name, function name, class etc."
   ]
  },
  {
   "cell_type": "code",
   "execution_count": 43,
   "id": "d96736a0",
   "metadata": {},
   "outputs": [
    {
     "name": "stdout",
     "output_type": "stream",
     "text": [
      "['False', 'None', 'True', 'and', 'as', 'assert', 'async', 'await', 'break', 'class', 'continue', 'def', 'del', 'elif', 'else', 'except', 'finally', 'for', 'from', 'global', 'if', 'import', 'in', 'is', 'lambda', 'nonlocal', 'not', 'or', 'pass', 'raise', 'return', 'try', 'while', 'with', 'yield']\n"
     ]
    }
   ],
   "source": [
    "import keyword\n",
    "print(keyword.kwlist)"
   ]
  },
  {
   "cell_type": "code",
   "execution_count": 44,
   "id": "8e6a8a98",
   "metadata": {},
   "outputs": [],
   "source": [
    "# Identifiers - used to identify variables, functions, classes, modules etc.\n",
    "\n",
    "# 1. can only contain letters (A-Z,a-z), digits(0-9) and underscores(_) \n",
    "# 2. can not start with digit\n",
    "# 3. can not use keywords (class, def, if, else etc.)\n",
    "# 4. can not use special characters or spaces (@, #, % etc.)"
   ]
  },
  {
   "cell_type": "code",
   "execution_count": 45,
   "id": "bb1ea0f4",
   "metadata": {},
   "outputs": [],
   "source": [
    "# Valid identifiers\n",
    "var_no_1 = 7\n",
    "VAR_no_2 = 10\n",
    "_ = 17"
   ]
  },
  {
   "cell_type": "code",
   "execution_count": 46,
   "id": "61ac8336",
   "metadata": {},
   "outputs": [
    {
     "name": "stdout",
     "output_type": "stream",
     "text": [
      "True\n",
      "True\n",
      "True\n"
     ]
    }
   ],
   "source": [
    "# ''.isidentifier() --> to check if identifier is valid.\n",
    "\n",
    "print('var_no_1'.isidentifier())\n",
    "print('VAR_no_2'.isidentifier())\n",
    "print('_'.isidentifier())\n"
   ]
  },
  {
   "cell_type": "code",
   "execution_count": 47,
   "id": "1e2be358",
   "metadata": {},
   "outputs": [
    {
     "ename": "SyntaxError",
     "evalue": "invalid decimal literal (3147875363.py, line 3)",
     "output_type": "error",
     "traceback": [
      "  \u001b[36mCell\u001b[39m\u001b[36m \u001b[39m\u001b[32mIn[47]\u001b[39m\u001b[32m, line 3\u001b[39m\n\u001b[31m    \u001b[39m\u001b[31m1variable = 5      # Starts with a digit\u001b[39m\n    ^\n\u001b[31mSyntaxError\u001b[39m\u001b[31m:\u001b[39m invalid decimal literal\n"
     ]
    }
   ],
   "source": [
    "# Invalid identifiers\n",
    "\n",
    "1variable = 5      # Starts with a digit\n",
    "my variable = 10   # Contains a space\n",
    "class = 'test'     # Uses a keyword\n",
    "my-var = 7         # Contains a hyphen\n",
    "@name = 'Nikshit'  # Contains special character '@'\n",
    "def = 3            # Uses a keyword\n",
    "price$ = 100       # Contains special character '$'"
   ]
  },
  {
   "cell_type": "code",
   "execution_count": 48,
   "id": "73d9e997",
   "metadata": {},
   "outputs": [
    {
     "data": {
      "text/plain": [
       "False"
      ]
     },
     "execution_count": 48,
     "metadata": {},
     "output_type": "execute_result"
    }
   ],
   "source": [
    "'1variable'.isidentifier()"
   ]
  },
  {
   "cell_type": "code",
   "execution_count": null,
   "id": "36cc91a8",
   "metadata": {},
   "outputs": [],
   "source": []
  },
  {
   "cell_type": "markdown",
   "id": "2bd9e08e",
   "metadata": {},
   "source": [
    "#### Python Variables - Naming Convention"
   ]
  },
  {
   "cell_type": "raw",
   "id": "aa61dfba",
   "metadata": {
    "vscode": {
     "languageId": "raw"
    }
   },
   "source": [
    "1. Camel case  --> First letter lowercase, first letter of each subsequent word is in uppercase. \n",
    "               --> not recommended in python.\n",
    "                   Ex. kmPerHour, pricePerLitre\n",
    "\n",
    "2. Pascal case --> First letter of each word in uppercase.\n",
    "               --> used for class names in python\n",
    "                   Ex. LinearRegressionModel, DataScience \n",
    "\n",
    "3. snake case  --> single underscore to separate word. \n",
    "               --> used for python variable and functions.\n",
    "                   Ex. km_per_hour, price_per_litre"
   ]
  },
  {
   "cell_type": "markdown",
   "id": "8e163eb5",
   "metadata": {},
   "source": [
    "#### Variable declaration types"
   ]
  },
  {
   "cell_type": "code",
   "execution_count": null,
   "id": "54cced80",
   "metadata": {},
   "outputs": [
    {
     "name": "stdout",
     "output_type": "stream",
     "text": [
      "1 2 3\n"
     ]
    }
   ],
   "source": [
    "# variable declaration type 1\n",
    "a = 1\n",
    "b = 2\n",
    "c = 3\n",
    "print(a,b,c)"
   ]
  },
  {
   "cell_type": "code",
   "execution_count": null,
   "id": "5942278e",
   "metadata": {},
   "outputs": [
    {
     "name": "stdout",
     "output_type": "stream",
     "text": [
      "1 2 3\n"
     ]
    }
   ],
   "source": [
    "# variable declaration type 2\n",
    "a,b,c = 1,2,3\n",
    "print(a,b,c)"
   ]
  },
  {
   "cell_type": "code",
   "execution_count": null,
   "id": "4bec4665",
   "metadata": {},
   "outputs": [
    {
     "name": "stdout",
     "output_type": "stream",
     "text": [
      "5 5 5\n"
     ]
    }
   ],
   "source": [
    "# variable declaration type 3\n",
    "a = b = c = 5\n",
    "print(a,b,c)"
   ]
  },
  {
   "cell_type": "code",
   "execution_count": null,
   "id": "707e7db0",
   "metadata": {},
   "outputs": [
    {
     "name": "stdout",
     "output_type": "stream",
     "text": [
      "1\n",
      "2\n",
      "3\n"
     ]
    }
   ],
   "source": [
    "# variable declaration type 4\n",
    "a,b,c = [1,2,3]\n",
    "print(a)\n",
    "print(b)\n",
    "print(c)"
   ]
  },
  {
   "cell_type": "code",
   "execution_count": null,
   "id": "cea4f3d9",
   "metadata": {},
   "outputs": [],
   "source": []
  },
  {
   "cell_type": "markdown",
   "id": "7b2dc06a",
   "metadata": {},
   "source": [
    "# 4. Python Knowledge"
   ]
  },
  {
   "cell_type": "markdown",
   "id": "2e479cd4",
   "metadata": {},
   "source": [
    "##### ***Python is***\n",
    "- High Level\n",
    "- Easy-to-read\n",
    "- Dynamically Typed\n",
    "- Interpreted Programming Language\n",
    "\n",
    "Application:\n",
    "- Data Science\n",
    "- AI/ML\n",
    "- Web Development\n",
    "- Game Development\n",
    "- Automation\n",
    "- Scripting etc."
   ]
  },
  {
   "cell_type": "code",
   "execution_count": null,
   "id": "1a237b88",
   "metadata": {},
   "outputs": [],
   "source": []
  },
  {
   "cell_type": "markdown",
   "id": "622bee46",
   "metadata": {},
   "source": [
    "##### ***How Python Works?***\n",
    "\n",
    "Step 1: Compile \n",
    "- translates code from human-readable (.py file) to machine-readable bytecode (.pyc files)\n",
    "- this step is done automatically. we dont need to do it manually.\n",
    "- it first compiles the whole code (not line by line) into bytecode.\n",
    "\n",
    "Step 2: Run \n",
    "- python's interpreter executes the bytecode. \n",
    "- It goes line by line and performs the opertions."
   ]
  },
  {
   "cell_type": "code",
   "execution_count": null,
   "id": "9b283a81",
   "metadata": {},
   "outputs": [],
   "source": []
  },
  {
   "cell_type": "markdown",
   "id": "3f02a1d0",
   "metadata": {},
   "source": [
    "##### *Adavantages:*\n",
    "\n",
    "1. Easy to test and debug: Interpreted languages execute code line by line. If there's an error, it stops at that line and shows a message, making it easier to identify and fix.\n",
    "2. No separate compilation step: no need to compile manually. saves time. Languages like C or Java require compiling before running. Python doesn’t.\n",
    "3. Dynamic typing support: dont need to declare data type.\n",
    "4. Platform independace: Bytecode/source code runs on any machines with the interpreter.\n",
    "5. Interactive execution : we can test code snippets in real time using Python’s interactive shell.\n",
    "\n",
    "##### *Disadvantages:*\n",
    "\n",
    "1. slower execution: interpreting code at run time takes more time than running precompiled machine code.\n",
    "2. Runtime errors: Errors are only caught when the problematic line is executed. \n",
    "3. Security : Since source code is interpreted directly, it’s easier to read and modify, which can be a risk in sensitive applications.  "
   ]
  },
  {
   "cell_type": "code",
   "execution_count": null,
   "id": "874ad27a",
   "metadata": {},
   "outputs": [],
   "source": []
  },
  {
   "cell_type": "markdown",
   "id": "1ec75188",
   "metadata": {},
   "source": [
    "**Question: If Python first compiles the whole code into a .pyc file, why doesn't it show errors during this compilation step?**\n",
    "\n",
    "Answer: During compilation, Python only checks for syntax and structure errors. It does not check for specific runtime errors like type errors or division by zero. These errors are detected only when the code is actually executed."
   ]
  },
  {
   "cell_type": "code",
   "execution_count": 53,
   "id": "5145f9f4",
   "metadata": {},
   "outputs": [
    {
     "ename": "TypeError",
     "evalue": "unsupported operand type(s) for +: 'int' and 'str'",
     "output_type": "error",
     "traceback": [
      "\u001b[31m---------------------------------------------------------------------------\u001b[39m",
      "\u001b[31mTypeError\u001b[39m                                 Traceback (most recent call last)",
      "\u001b[36mCell\u001b[39m\u001b[36m \u001b[39m\u001b[32mIn[53]\u001b[39m\u001b[32m, line 13\u001b[39m\n\u001b[32m      7\u001b[39m b = \u001b[33m'\u001b[39m\u001b[33mHello\u001b[39m\u001b[33m'\u001b[39m\n\u001b[32m      9\u001b[39m \u001b[38;5;66;03m# Execution stage:\u001b[39;00m\n\u001b[32m     10\u001b[39m \u001b[38;5;66;03m# When Python runs this line, it sees that 'a' is an int and 'b' is a str.\u001b[39;00m\n\u001b[32m     11\u001b[39m \u001b[38;5;66;03m# Python cannot add an integer and a string, so it raises a TypeError at runtime.\u001b[39;00m\n\u001b[32m---> \u001b[39m\u001b[32m13\u001b[39m \u001b[38;5;28mprint\u001b[39m(\u001b[43ma\u001b[49m\u001b[43m+\u001b[49m\u001b[43mb\u001b[49m)\n",
      "\u001b[31mTypeError\u001b[39m: unsupported operand type(s) for +: 'int' and 'str'"
     ]
    }
   ],
   "source": [
    "# Compilation stage:\n",
    "# Python checks if the syntax is correct and variables are assigned.\n",
    "# At this point, Python does not check for runtime errors (like adding int and str).\n",
    "# The .pyc file is created successfully if there are no syntax errors.\n",
    "\n",
    "a = 10\n",
    "b = 'Hello'\n",
    "\n",
    "# Execution stage:\n",
    "# When Python runs this line, it sees that 'a' is an int and 'b' is a str.\n",
    "# Python cannot add an integer and a string, so it raises a TypeError at runtime.\n",
    "\n",
    "print(a+b)"
   ]
  },
  {
   "cell_type": "code",
   "execution_count": null,
   "id": "1952a593",
   "metadata": {},
   "outputs": [],
   "source": []
  },
  {
   "cell_type": "markdown",
   "id": "9e86fe55",
   "metadata": {},
   "source": [
    "#### Static Typing vs. Dynamic Typing"
   ]
  },
  {
   "cell_type": "markdown",
   "id": "e8538cd5",
   "metadata": {},
   "source": [
    "***Static Typing:***\n",
    "\n",
    "- need to declare data type of variable.\n",
    "- now type is fixed and checked before running the code.\n",
    "- type check time : before running (compile time)\n",
    "- less flexiblity\n",
    "- safer : fewer runtime errors\n",
    "\n",
    "Ex. c/c++/Java\n",
    "\n",
    "``int a = 5``  \n",
    "``str b = 'Nikshit'``\n",
    "\n",
    "this will give error\n",
    "\n",
    "`a = 'Hello'`  can not assign string to a  \n",
    "`b = 10 ` can not assign int to b"
   ]
  },
  {
   "cell_type": "markdown",
   "id": "e0b75072",
   "metadata": {},
   "source": [
    "***Dynamic Typing:***\n",
    "\n",
    "- don't need to declare data type of varialbe. \n",
    "- python will automatically infer data type at runtime.\n",
    "- type check time : while running \n",
    "- more flexibilty\n",
    "- riskier : type errors at runtime\n",
    "\n",
    "``a = 5``  \n",
    "``b = 'Nikshit'``"
   ]
  },
  {
   "cell_type": "code",
   "execution_count": 54,
   "id": "3e35ee9e",
   "metadata": {},
   "outputs": [
    {
     "name": "stdout",
     "output_type": "stream",
     "text": [
      "<class 'int'>\n",
      "<class 'str'>\n"
     ]
    }
   ],
   "source": [
    "a = 2\n",
    "b = 'nikshit'\n",
    "\n",
    "print(type(a))\n",
    "print(type(b))"
   ]
  },
  {
   "cell_type": "code",
   "execution_count": 55,
   "id": "f1747b41",
   "metadata": {},
   "outputs": [
    {
     "name": "stdout",
     "output_type": "stream",
     "text": [
      "11\n"
     ]
    }
   ],
   "source": [
    "a = 5\n",
    "b = 6\n",
    "print(a+b)"
   ]
  },
  {
   "cell_type": "code",
   "execution_count": null,
   "id": "7eab4758",
   "metadata": {},
   "outputs": [],
   "source": []
  },
  {
   "cell_type": "markdown",
   "id": "b38a2a4b",
   "metadata": {},
   "source": [
    "#### Static Binding vs Dynamic Binding"
   ]
  },
  {
   "cell_type": "code",
   "execution_count": 56,
   "id": "6945c6b1",
   "metadata": {},
   "outputs": [],
   "source": [
    "# Binding means connecting a function/method call to actual code that should run."
   ]
  },
  {
   "cell_type": "markdown",
   "id": "b18e3f81",
   "metadata": {},
   "source": [
    "***Static Binding:***\n",
    "\n",
    "- binding is decided at compile time.\n",
    "- compiler knows what method/functions to call before running.\n",
    "- less flexibility\n",
    "- speed : faster (no lookup at runtime. it already knows what to execute.)\n",
    "\n",
    "Ex. Normal function call"
   ]
  },
  {
   "cell_type": "code",
   "execution_count": 57,
   "id": "5aa98756",
   "metadata": {},
   "outputs": [
    {
     "name": "stdout",
     "output_type": "stream",
     "text": [
      "Hello! How are you..?\n"
     ]
    }
   ],
   "source": [
    "def greet():\n",
    "    print('Hello! How are you..?')\n",
    "\n",
    "greet()  # This is static binding. greet() is clearly defined."
   ]
  },
  {
   "cell_type": "markdown",
   "id": "343846bc",
   "metadata": {},
   "source": [
    "***Dynamic binding:***\n",
    "\n",
    "- binding is decided at runtime.\n",
    "- more flexibility, supports override.\n",
    "- speed: slightly slower\n",
    "\n",
    "Ex. Method overriding in OOP"
   ]
  },
  {
   "cell_type": "code",
   "execution_count": 58,
   "id": "43da4016",
   "metadata": {},
   "outputs": [
    {
     "name": "stdout",
     "output_type": "stream",
     "text": [
      "Dog barks..\n"
     ]
    }
   ],
   "source": [
    "class Animal:\n",
    "    def sound(self):\n",
    "        print(\"Animal makes sound..\")\n",
    "\n",
    "class Dog(Animal):\n",
    "    def sound(self):\n",
    "        print('Dog barks..')\n",
    "\n",
    "def make_sound(animal):\n",
    "    animal.sound()   # At compile time, Python doesn't know which class's sound() will be called.\n",
    "\n",
    "make_sound(Dog())  # At runtime, since Dog() is passed, Dog's sound() method is executed. "
   ]
  },
  {
   "cell_type": "code",
   "execution_count": null,
   "id": "92d804ed",
   "metadata": {},
   "outputs": [],
   "source": []
  },
  {
   "cell_type": "markdown",
   "id": "e222498c",
   "metadata": {},
   "source": [
    "# 5. Comments"
   ]
  },
  {
   "cell_type": "code",
   "execution_count": 59,
   "id": "bae4a344",
   "metadata": {},
   "outputs": [
    {
     "name": "stdout",
     "output_type": "stream",
     "text": [
      "5\n"
     ]
    }
   ],
   "source": [
    "# This is single line comment. \n",
    "# this second line comment....\n",
    "a = 5\n",
    "# print function\n",
    "print(a)"
   ]
  },
  {
   "cell_type": "markdown",
   "id": "87cd097e",
   "metadata": {},
   "source": [
    "Python do not support multiline comment."
   ]
  },
  {
   "cell_type": "code",
   "execution_count": 60,
   "id": "70afba3d",
   "metadata": {},
   "outputs": [
    {
     "data": {
      "text/plain": [
       "'\\nthis is first line comment.\\nthis is secone line comment.\\n\\n'"
      ]
     },
     "execution_count": 60,
     "metadata": {},
     "output_type": "execute_result"
    }
   ],
   "source": [
    "# using triple quotes (acts as a multi line strings, not real comments.)\n",
    "# this is multiline string that are not assigned to a variable..\n",
    "\n",
    "'''\n",
    "this is first line comment.\n",
    "this is secone line comment.\n",
    "\n",
    "'''"
   ]
  },
  {
   "cell_type": "code",
   "execution_count": null,
   "id": "683c0a86",
   "metadata": {},
   "outputs": [],
   "source": []
  },
  {
   "cell_type": "markdown",
   "id": "c6a34ded",
   "metadata": {},
   "source": [
    "# 6. Input() - For User input"
   ]
  },
  {
   "cell_type": "code",
   "execution_count": 61,
   "id": "417bc8a3",
   "metadata": {},
   "outputs": [
    {
     "data": {
      "text/plain": [
       "'4'"
      ]
     },
     "execution_count": 61,
     "metadata": {},
     "output_type": "execute_result"
    }
   ],
   "source": [
    "# input() - to take user input \n",
    "# always return str data type.\n",
    "input()"
   ]
  },
  {
   "cell_type": "code",
   "execution_count": 62,
   "id": "643e6a19",
   "metadata": {},
   "outputs": [
    {
     "data": {
      "text/plain": [
       "'nikvora@gmail.com'"
      ]
     },
     "execution_count": 62,
     "metadata": {},
     "output_type": "execute_result"
    }
   ],
   "source": [
    "input('enter your email - ')"
   ]
  },
  {
   "cell_type": "code",
   "execution_count": 63,
   "id": "a38319a8",
   "metadata": {},
   "outputs": [
    {
     "data": {
      "text/plain": [
       "str"
      ]
     },
     "execution_count": 63,
     "metadata": {},
     "output_type": "execute_result"
    }
   ],
   "source": [
    "# input() always return str data type.\n",
    "a = input('enter number - ')\n",
    "type(a)"
   ]
  },
  {
   "cell_type": "code",
   "execution_count": 64,
   "id": "64bbe636",
   "metadata": {},
   "outputs": [
    {
     "name": "stdout",
     "output_type": "stream",
     "text": [
      "addition is 68\n"
     ]
    }
   ],
   "source": [
    "# addition example\n",
    "\n",
    "# user input for two numbers\n",
    "fnum = input('enter 1st number - ')\n",
    "snum = input('enter 2nd number - ')\n",
    "\n",
    "# addition\n",
    "# need to convert it into int as input return will be in str. addition can only be done with int..\n",
    "result = int(fnum) + int(snum)\n",
    "\n",
    "print('addition is',result)"
   ]
  },
  {
   "cell_type": "code",
   "execution_count": null,
   "id": "a43d0db7",
   "metadata": {},
   "outputs": [],
   "source": []
  },
  {
   "cell_type": "markdown",
   "id": "08d2b1a9",
   "metadata": {},
   "source": [
    "# 7. Type Conversion"
   ]
  },
  {
   "cell_type": "code",
   "execution_count": 65,
   "id": "58d3b67d",
   "metadata": {},
   "outputs": [
    {
     "data": {
      "text/plain": [
       "int"
      ]
     },
     "execution_count": 65,
     "metadata": {},
     "output_type": "execute_result"
    }
   ],
   "source": [
    "# a integer data type\n",
    "a = 2\n",
    "type(a)"
   ]
  },
  {
   "cell_type": "code",
   "execution_count": 66,
   "id": "da5450b5",
   "metadata": {},
   "outputs": [
    {
     "data": {
      "text/plain": [
       "'2'"
      ]
     },
     "execution_count": 66,
     "metadata": {},
     "output_type": "execute_result"
    }
   ],
   "source": [
    "# type conversion of a to string\n",
    "str(a)"
   ]
  },
  {
   "cell_type": "markdown",
   "id": "d3d1e83c",
   "metadata": {},
   "source": [
    "#### Implicit vs Explicit Type Conversion"
   ]
  },
  {
   "cell_type": "code",
   "execution_count": 67,
   "id": "697198a7",
   "metadata": {},
   "outputs": [],
   "source": [
    "# Implicit type conversion - python will automatically convert datatype when safe to do so.\n",
    "# Explicit type conversion - manually by programmer using int(), str(), bool()"
   ]
  },
  {
   "cell_type": "code",
   "execution_count": 68,
   "id": "be22efe2",
   "metadata": {},
   "outputs": [
    {
     "name": "stdout",
     "output_type": "stream",
     "text": [
      "10.6\n",
      "<class 'int'> <class 'float'>\n"
     ]
    }
   ],
   "source": [
    "# sum operations between int and float data type.\n",
    "\n",
    "print(5 + 5.6)\n",
    "print(type(5),type(5.6)) #  5 will be converted in 5.0 (float datatype) by python implicitly"
   ]
  },
  {
   "cell_type": "code",
   "execution_count": 69,
   "id": "2f4f0e79",
   "metadata": {},
   "outputs": [
    {
     "ename": "TypeError",
     "evalue": "unsupported operand type(s) for +: 'int' and 'str'",
     "output_type": "error",
     "traceback": [
      "\u001b[31m---------------------------------------------------------------------------\u001b[39m",
      "\u001b[31mTypeError\u001b[39m                                 Traceback (most recent call last)",
      "\u001b[36mCell\u001b[39m\u001b[36m \u001b[39m\u001b[32mIn[69]\u001b[39m\u001b[32m, line 2\u001b[39m\n\u001b[32m      1\u001b[39m \u001b[38;5;66;03m# This will not work.. need to to do explicit type conversion\u001b[39;00m\n\u001b[32m----> \u001b[39m\u001b[32m2\u001b[39m \u001b[38;5;28mprint\u001b[39m(\u001b[32;43m4\u001b[39;49m\u001b[43m \u001b[49m\u001b[43m+\u001b[49m\u001b[43m \u001b[49m\u001b[33;43m'\u001b[39;49m\u001b[33;43m4\u001b[39;49m\u001b[33;43m'\u001b[39;49m)\n",
      "\u001b[31mTypeError\u001b[39m: unsupported operand type(s) for +: 'int' and 'str'"
     ]
    }
   ],
   "source": [
    "# This will not work.. need to to do explicit type conversion\n",
    "print(4 + '4')"
   ]
  },
  {
   "cell_type": "code",
   "execution_count": 70,
   "id": "e2de839d",
   "metadata": {},
   "outputs": [
    {
     "name": "stdout",
     "output_type": "stream",
     "text": [
      "11\n"
     ]
    }
   ],
   "source": [
    "# Explicit type conversion\n",
    "a = '5'\n",
    "b = 6\n",
    "print(b + int(a))"
   ]
  },
  {
   "cell_type": "code",
   "execution_count": 71,
   "id": "259b186b",
   "metadata": {},
   "outputs": [
    {
     "name": "stdout",
     "output_type": "stream",
     "text": [
      "2514\n",
      "<class 'str'>\n",
      "<class 'int'>\n"
     ]
    }
   ],
   "source": [
    "x = '2514'\n",
    "print(int(x))\n",
    "print(type(x))\n",
    "print(type(int(x)))"
   ]
  },
  {
   "cell_type": "code",
   "execution_count": 72,
   "id": "aad13076",
   "metadata": {},
   "outputs": [
    {
     "name": "stdout",
     "output_type": "stream",
     "text": [
      "<class 'complex'>\n"
     ]
    },
    {
     "ename": "TypeError",
     "evalue": "int() argument must be a string, a bytes-like object or a real number, not 'complex'",
     "output_type": "error",
     "traceback": [
      "\u001b[31m---------------------------------------------------------------------------\u001b[39m",
      "\u001b[31mTypeError\u001b[39m                                 Traceback (most recent call last)",
      "\u001b[36mCell\u001b[39m\u001b[36m \u001b[39m\u001b[32mIn[72]\u001b[39m\u001b[32m, line 4\u001b[39m\n\u001b[32m      2\u001b[39m a = \u001b[32m5\u001b[39m + \u001b[32m6\u001b[39mj\n\u001b[32m      3\u001b[39m \u001b[38;5;28mprint\u001b[39m(\u001b[38;5;28mtype\u001b[39m(a))\n\u001b[32m----> \u001b[39m\u001b[32m4\u001b[39m \u001b[38;5;28mprint\u001b[39m(\u001b[38;5;28;43mint\u001b[39;49m\u001b[43m(\u001b[49m\u001b[43ma\u001b[49m\u001b[43m)\u001b[49m)\n",
      "\u001b[31mTypeError\u001b[39m: int() argument must be a string, a bytes-like object or a real number, not 'complex'"
     ]
    }
   ],
   "source": [
    "# type conversion only possible when its logically possible.. can't convert complex to int.\n",
    "a = 5 + 6j\n",
    "print(type(a))\n",
    "print(int(a))"
   ]
  },
  {
   "cell_type": "code",
   "execution_count": 73,
   "id": "df6a8300",
   "metadata": {},
   "outputs": [
    {
     "data": {
      "text/plain": [
       "4"
      ]
     },
     "execution_count": 73,
     "metadata": {},
     "output_type": "execute_result"
    }
   ],
   "source": [
    "# float to int\n",
    "a = 4.5\n",
    "int(a)"
   ]
  },
  {
   "cell_type": "code",
   "execution_count": 74,
   "id": "d5dad1c5",
   "metadata": {},
   "outputs": [
    {
     "data": {
      "text/plain": [
       "5.0"
      ]
     },
     "execution_count": 74,
     "metadata": {},
     "output_type": "execute_result"
    }
   ],
   "source": [
    "# int to float\n",
    "a = 5\n",
    "float(a)"
   ]
  },
  {
   "cell_type": "code",
   "execution_count": 75,
   "id": "69cc22d7",
   "metadata": {},
   "outputs": [
    {
     "data": {
      "text/plain": [
       "True"
      ]
     },
     "execution_count": 75,
     "metadata": {},
     "output_type": "execute_result"
    }
   ],
   "source": [
    "# int to bool\n",
    "a = 1\n",
    "bool(a)"
   ]
  },
  {
   "cell_type": "code",
   "execution_count": null,
   "id": "559287c0",
   "metadata": {},
   "outputs": [],
   "source": []
  },
  {
   "cell_type": "markdown",
   "id": "eef2cd86",
   "metadata": {},
   "source": [
    "# 8. Literals"
   ]
  },
  {
   "cell_type": "code",
   "execution_count": 76,
   "id": "f207a2cd",
   "metadata": {},
   "outputs": [
    {
     "name": "stdout",
     "output_type": "stream",
     "text": [
      "5\n"
     ]
    }
   ],
   "source": [
    "# Literal : fixed value that is assigned to variable.\n",
    "\n",
    "# a -> variable\n",
    "# = -> operator\n",
    "# 5 -> Literal\n",
    "\n",
    "a = 5\n",
    "print(a)"
   ]
  },
  {
   "cell_type": "markdown",
   "id": "4e16eba5",
   "metadata": {},
   "source": [
    "#### Integer Literals"
   ]
  },
  {
   "cell_type": "code",
   "execution_count": 77,
   "id": "08d2eaba",
   "metadata": {},
   "outputs": [
    {
     "name": "stdout",
     "output_type": "stream",
     "text": [
      "10 100 200 300\n"
     ]
    }
   ],
   "source": [
    "# binary literals (uses 0 and 1 only)\n",
    "# prefix - ob\n",
    "a = 0b1010 \n",
    "\n",
    "# decimal literals (normal integers)\n",
    "b = 100\n",
    "\n",
    "# octal literals (uses 0 to 7 digits)\n",
    "# prefix - 0o\n",
    "c = 0o310 \n",
    "\n",
    "# hexadecimal literals (uses 0-9 and A-F)\n",
    "# prefix - 0x\n",
    "d = 0x12c \n",
    "\n",
    "print(a,b,c,d)"
   ]
  },
  {
   "cell_type": "markdown",
   "id": "45a0f383",
   "metadata": {},
   "source": [
    "#### Float Literals"
   ]
  },
  {
   "cell_type": "code",
   "execution_count": 78,
   "id": "974ddf2d",
   "metadata": {},
   "outputs": [
    {
     "name": "stdout",
     "output_type": "stream",
     "text": [
      "10.5 150.0 0.0015\n"
     ]
    }
   ],
   "source": [
    "float_1 = 10.5\n",
    "float_2 = 1.5e2  # 1.5*10^2\n",
    "float_3 = 1.5E-3  # 1.5*10^-3\n",
    "\n",
    "print(float_1,float_2,float_3)"
   ]
  },
  {
   "cell_type": "markdown",
   "id": "fbfc0602",
   "metadata": {},
   "source": [
    "#### Complex Literals"
   ]
  },
  {
   "cell_type": "code",
   "execution_count": 79,
   "id": "0a418cec",
   "metadata": {},
   "outputs": [
    {
     "name": "stdout",
     "output_type": "stream",
     "text": [
      "(5+6j) 8j\n",
      "a -> 5.0 6.0\n",
      "b -> 0.0 8.0\n"
     ]
    }
   ],
   "source": [
    "a = 5 + 6j\n",
    "b = 8j\n",
    "\n",
    "print(a,b)\n",
    "print('a ->',a.real,a.imag)\n",
    "print('b ->',b.real,b.imag)"
   ]
  },
  {
   "cell_type": "markdown",
   "id": "a2936078",
   "metadata": {},
   "source": [
    "#### String Literals"
   ]
  },
  {
   "cell_type": "code",
   "execution_count": 80,
   "id": "900f9236",
   "metadata": {},
   "outputs": [
    {
     "name": "stdout",
     "output_type": "stream",
     "text": [
      "This is python.\n",
      "This is python's tutorial..\n",
      "Hello, I'm Nikshit Vora..\n",
      "D\n",
      " \n",
      "    this is first line.\n",
      "    this is second line..\n",
      "\n",
      "😀😆🤣\n",
      "raw\\nstring\n"
     ]
    }
   ],
   "source": [
    "# single quotes\n",
    "a = 'This is python.'\n",
    "\n",
    "# double quotes\n",
    "b = \"This is python's tutorial..\"\n",
    "\n",
    "# single quotes within double quotes\n",
    "c = \"Hello, I'm Nikshit Vora..\"\n",
    "\n",
    "# single char\n",
    "d = 'D'\n",
    "\n",
    "# multiline string\n",
    "e = ''' \n",
    "    this is first line.\n",
    "    this is second line..\n",
    "'''\n",
    "\n",
    "# Unicode Literals - support emojis and non - english text.\n",
    "f = u\"\\U0001F600\\U0001F606\\U0001F923\"\n",
    "\n",
    "# Row string - ignore escape/special characters.\n",
    "g = r\"raw\\nstring\"\n",
    "\n",
    "print(a)\n",
    "print(b)\n",
    "print(c)\n",
    "print(d)\n",
    "print(e)\n",
    "print(f)\n",
    "print(g)"
   ]
  },
  {
   "cell_type": "markdown",
   "id": "567f0fff",
   "metadata": {},
   "source": [
    "#### Escape characters - char with backslash (\\\\) have special meaning"
   ]
  },
  {
   "cell_type": "code",
   "execution_count": 81,
   "id": "353be8d1",
   "metadata": {},
   "outputs": [
    {
     "name": "stdout",
     "output_type": "stream",
     "text": [
      "Hello, I'm Nikshit Vora.\n"
     ]
    }
   ],
   "source": [
    "# \\' --> single quote\n",
    "print('Hello, I\\'m Nikshit Vora.')"
   ]
  },
  {
   "cell_type": "code",
   "execution_count": 82,
   "id": "48052117",
   "metadata": {},
   "outputs": [
    {
     "name": "stdout",
     "output_type": "stream",
     "text": [
      "Heloo! My name is \"Nikshit\".\n"
     ]
    }
   ],
   "source": [
    "# \\\" --> double quote\n",
    "print(\"Heloo! My name is \\\"Nikshit\\\".\")"
   ]
  },
  {
   "cell_type": "code",
   "execution_count": 83,
   "id": "8d9df482",
   "metadata": {},
   "outputs": [
    {
     "name": "stdout",
     "output_type": "stream",
     "text": [
      "This is first line. \n",
      "This is second line.\n"
     ]
    }
   ],
   "source": [
    "# \\n --> new line\n",
    "\n",
    "print('This is first line. \\nThis is second line.')"
   ]
  },
  {
   "cell_type": "code",
   "execution_count": 84,
   "id": "1004de0f",
   "metadata": {},
   "outputs": [
    {
     "name": "stdout",
     "output_type": "stream",
     "text": [
      "Name\tAge\tLocation\n"
     ]
    }
   ],
   "source": [
    "# \\t --> tab space\n",
    "\n",
    "print('Name\\tAge\\tLocation')"
   ]
  },
  {
   "cell_type": "code",
   "execution_count": 85,
   "id": "6fd9e0b3",
   "metadata": {},
   "outputs": [
    {
     "name": "stdout",
     "output_type": "stream",
     "text": [
      "This is backslash - \\\n"
     ]
    }
   ],
   "source": [
    "# \\\\ --> backslash\n",
    "print('This is backslash - \\\\')"
   ]
  },
  {
   "cell_type": "code",
   "execution_count": 86,
   "id": "f79e6414",
   "metadata": {},
   "outputs": [
    {
     "name": "stdout",
     "output_type": "stream",
     "text": [
      "Hello. \n",
      " How are you..?\n",
      "\n",
      "Hello. \\n How are you..?\n"
     ]
    }
   ],
   "source": [
    "# \\n will give new line. \n",
    "print('Hello. \\n How are you..?')\n",
    "print()\n",
    "\n",
    "# row string - will ingore all escape characters.\n",
    "print(r'Hello. \\n How are you..?')"
   ]
  },
  {
   "cell_type": "code",
   "execution_count": 87,
   "id": "f6c5a870",
   "metadata": {},
   "outputs": [
    {
     "name": "stdout",
     "output_type": "stream",
     "text": [
      "😀😆🤣\n"
     ]
    }
   ],
   "source": [
    "# unicode\n",
    "e = \"\\U0001F600\\U0001F606\\U0001F923\"\n",
    "print(e)"
   ]
  },
  {
   "cell_type": "code",
   "execution_count": 88,
   "id": "e0ab23a4",
   "metadata": {},
   "outputs": [
    {
     "name": "stdout",
     "output_type": "stream",
     "text": [
      "😀😆🤣\n"
     ]
    }
   ],
   "source": [
    "# unicode\n",
    "e = u\"\\U0001F600\\U0001F606\\U0001F923\"\n",
    "print(e)"
   ]
  },
  {
   "cell_type": "code",
   "execution_count": 89,
   "id": "109b6859",
   "metadata": {},
   "outputs": [
    {
     "name": "stdout",
     "output_type": "stream",
     "text": [
      "5 -10\n"
     ]
    }
   ],
   "source": [
    "# True -> 1\n",
    "# False -> 0 \n",
    "a = True + 4 \n",
    "b = False - 10\n",
    "print(a,b)"
   ]
  },
  {
   "cell_type": "markdown",
   "id": "392841e2",
   "metadata": {},
   "source": [
    "#### String Formatting"
   ]
  },
  {
   "cell_type": "code",
   "execution_count": 90,
   "id": "3de2f520",
   "metadata": {},
   "outputs": [
    {
     "name": "stdout",
     "output_type": "stream",
     "text": [
      "Hello!, I'm Nikshit I'm 25 years old.\n",
      "Hello, I'm Nikshit. I'm 25 years old\n",
      "Hello, I'm 25. I'm Nikshit years old\n",
      "Hello, I'm Nikshit. I'm 25 years old\n",
      "Hello, I'm Nikshit. I'm 25 years old\n",
      "Hello, I'm Nikshit. I'm 25 years old.\n"
     ]
    }
   ],
   "source": [
    "name = 'Nikshit'\n",
    "age = 25\n",
    "\n",
    "# comma separated multiple values\n",
    "print('Hello!, I\\'m',name,'I\\'m',age, 'years old.')\n",
    "\n",
    "# .format() method\n",
    "print('Hello, I\\'m {}. I\\'m {} years old'.format(name,age)) # ordered\n",
    "print('Hello, I\\'m {}. I\\'m {} years old'.format(age,name))\n",
    "print('Hello, I\\'m {n}. I\\'m {a} years old'.format(a = age,n = name)) # var name\n",
    "print('Hello, I\\'m {0}. I\\'m {1} years old'.format(name,age))  # with index\n",
    "\n",
    "# f-string\n",
    "print(f'Hello, I\\'m {name}. I\\'m {age} years old.')"
   ]
  },
  {
   "cell_type": "markdown",
   "id": "bfc55a03",
   "metadata": {},
   "source": [
    "##### Format specifiers for decimal and percentage"
   ]
  },
  {
   "cell_type": "code",
   "execution_count": 91,
   "id": "5e73d190",
   "metadata": {},
   "outputs": [
    {
     "name": "stdout",
     "output_type": "stream",
     "text": [
      "decimal number is 8.67456\n",
      "decimal number is 8.67\n",
      "decimal number is 8.675\n",
      "decimal number is 97.45%\n",
      "decimal number is 97.5%\n"
     ]
    }
   ],
   "source": [
    "n = 8.67456\n",
    "p = 0.9745\n",
    "print('decimal number is {}'.format(n))\n",
    "\n",
    "print('decimal number is {:.2f}'.format(n))  # 2 decimal points\n",
    "print(f'decimal number is {n:.3f}')\n",
    "\n",
    "print('decimal number is {:.2%}'.format(p))  # percentage\n",
    "print(f'decimal number is {p:.1%}')"
   ]
  },
  {
   "cell_type": "code",
   "execution_count": null,
   "id": "a14ef808",
   "metadata": {},
   "outputs": [],
   "source": []
  },
  {
   "cell_type": "markdown",
   "id": "0a518261",
   "metadata": {},
   "source": [
    "# 9. Operators"
   ]
  },
  {
   "cell_type": "markdown",
   "id": "9a70f6a7",
   "metadata": {},
   "source": [
    "#### Arithmatic Operators"
   ]
  },
  {
   "cell_type": "code",
   "execution_count": 92,
   "id": "fbbca87d",
   "metadata": {},
   "outputs": [
    {
     "name": "stdout",
     "output_type": "stream",
     "text": [
      "11\n",
      "5\n",
      "16\n",
      "3.3333333333333335\n",
      "3\n",
      "1\n",
      "100\n"
     ]
    }
   ],
   "source": [
    "# addition\n",
    "print(5+6)\n",
    "\n",
    "# substraction\n",
    "print(10-5)\n",
    "\n",
    "# multiplication\n",
    "print(2*8)\n",
    "\n",
    "# division\n",
    "print(10/3)\n",
    "\n",
    "# integer division\n",
    "print(10//3)\n",
    "\n",
    "# modulus operator, gives remainder\n",
    "print(10%3)\n",
    "\n",
    "# raise to\n",
    "print(10**2)\n"
   ]
  },
  {
   "cell_type": "markdown",
   "id": "aa1f17ed",
   "metadata": {},
   "source": [
    "#### Relational Operators"
   ]
  },
  {
   "cell_type": "code",
   "execution_count": 93,
   "id": "cb0f979f",
   "metadata": {},
   "outputs": [
    {
     "name": "stdout",
     "output_type": "stream",
     "text": [
      "False\n",
      "True\n",
      "False\n",
      "True\n",
      "False\n",
      "True\n"
     ]
    }
   ],
   "source": [
    "# Greater than\n",
    "print(4>5)\n",
    "\n",
    "# less than\n",
    "print(4<5)\n",
    "\n",
    "# greater than or equal to\n",
    "print(4>=5)\n",
    "\n",
    "# less than or equal to\n",
    "print(4<=5)\n",
    "\n",
    "# equal to\n",
    "print(4==5)\n",
    "\n",
    "# not equal to\n",
    "print(4!=5)"
   ]
  },
  {
   "cell_type": "markdown",
   "id": "63c803c9",
   "metadata": {},
   "source": [
    "#### Logical Operators"
   ]
  },
  {
   "cell_type": "code",
   "execution_count": 94,
   "id": "7e5e3878",
   "metadata": {},
   "outputs": [
    {
     "name": "stdout",
     "output_type": "stream",
     "text": [
      "False\n",
      "True\n",
      "False\n"
     ]
    }
   ],
   "source": [
    "# and -> both true then 1\n",
    "print(True and False)\n",
    "\n",
    "# or  -> any one true then 1\n",
    "print(True or False)\n",
    "\n",
    "# not -> opposite\n",
    "print(not True)"
   ]
  },
  {
   "cell_type": "markdown",
   "id": "a28ae06b",
   "metadata": {},
   "source": [
    "#### Bitwise Operators - operates on binary values."
   ]
  },
  {
   "cell_type": "code",
   "execution_count": 95,
   "id": "9cc89f01",
   "metadata": {},
   "outputs": [
    {
     "name": "stdout",
     "output_type": "stream",
     "text": [
      "60 binary of 60 : 0b111100\n",
      "13 binary of 13 : 0b1101\n"
     ]
    }
   ],
   "source": [
    "a = 60\n",
    "b = 13\n",
    "print(a,'binary of',a,':',bin(a))\n",
    "print(b,'binary of',b,':',bin(b))"
   ]
  },
  {
   "cell_type": "raw",
   "id": "9211eb3c",
   "metadata": {},
   "source": [
    "60 --> 111100\n",
    "13 --> 001101"
   ]
  },
  {
   "cell_type": "code",
   "execution_count": 96,
   "id": "438fd5f6",
   "metadata": {},
   "outputs": [],
   "source": [
    "# AND - a & b"
   ]
  },
  {
   "cell_type": "raw",
   "id": "cce93ee6",
   "metadata": {
    "vscode": {
     "languageId": "raw"
    }
   },
   "source": [
    "a & b --> 1 if both bits are 1 else 0\n",
    "\n",
    "60 --> 111100\n",
    "13 --> 001101\n",
    "---------------\n",
    "       001100"
   ]
  },
  {
   "cell_type": "code",
   "execution_count": 97,
   "id": "dd0ce9d9",
   "metadata": {},
   "outputs": [
    {
     "name": "stdout",
     "output_type": "stream",
     "text": [
      "12 0b1100\n"
     ]
    }
   ],
   "source": [
    "print(a&b, bin(a&b))"
   ]
  },
  {
   "cell_type": "code",
   "execution_count": 98,
   "id": "60d0ec12",
   "metadata": {},
   "outputs": [
    {
     "data": {
      "text/plain": [
       "12"
      ]
     },
     "execution_count": 98,
     "metadata": {},
     "output_type": "execute_result"
    }
   ],
   "source": [
    "int('1100',2)"
   ]
  },
  {
   "cell_type": "code",
   "execution_count": 99,
   "id": "238ddec9",
   "metadata": {},
   "outputs": [],
   "source": [
    "# OR --> a | b"
   ]
  },
  {
   "cell_type": "raw",
   "id": "1bad5142",
   "metadata": {
    "vscode": {
     "languageId": "raw"
    }
   },
   "source": [
    "a | b --> 1 if anyone bits is 1, else 0\n",
    "\n",
    "60 --> 111100\n",
    "13 --> 001101\n",
    "---------------\n",
    "       111101"
   ]
  },
  {
   "cell_type": "code",
   "execution_count": 100,
   "id": "37d10ce5",
   "metadata": {},
   "outputs": [
    {
     "name": "stdout",
     "output_type": "stream",
     "text": [
      "61 0b111101\n"
     ]
    }
   ],
   "source": [
    "print(a|b, bin(a|b))"
   ]
  },
  {
   "cell_type": "code",
   "execution_count": 101,
   "id": "3749b8e0",
   "metadata": {},
   "outputs": [
    {
     "data": {
      "text/plain": [
       "61"
      ]
     },
     "execution_count": 101,
     "metadata": {},
     "output_type": "execute_result"
    }
   ],
   "source": [
    "int('111101',2)"
   ]
  },
  {
   "cell_type": "code",
   "execution_count": 102,
   "id": "32a824a0",
   "metadata": {},
   "outputs": [],
   "source": [
    "# XOR --> a ^ b"
   ]
  },
  {
   "cell_type": "raw",
   "id": "16676dcb",
   "metadata": {
    "vscode": {
     "languageId": "raw"
    }
   },
   "source": [
    "a ^ b --> 1 if bits are different, else 0\n",
    "\n",
    "60 --> 111100\n",
    "13 --> 001101\n",
    "---------------\n",
    "       110001"
   ]
  },
  {
   "cell_type": "code",
   "execution_count": 103,
   "id": "f811fc0c",
   "metadata": {},
   "outputs": [
    {
     "name": "stdout",
     "output_type": "stream",
     "text": [
      "49 0b110001\n"
     ]
    }
   ],
   "source": [
    "print(a^b,bin(a^b))"
   ]
  },
  {
   "cell_type": "code",
   "execution_count": 104,
   "id": "e999082f",
   "metadata": {},
   "outputs": [
    {
     "data": {
      "text/plain": [
       "49"
      ]
     },
     "execution_count": 104,
     "metadata": {},
     "output_type": "execute_result"
    }
   ],
   "source": [
    "int(\"0b110001\",2)"
   ]
  },
  {
   "cell_type": "code",
   "execution_count": 105,
   "id": "874d47dc",
   "metadata": {},
   "outputs": [],
   "source": [
    "# NOT --> ~ a, ~ b"
   ]
  },
  {
   "cell_type": "raw",
   "id": "b40c25dc",
   "metadata": {},
   "source": [
    " 60 --> 111100\n",
    "~60 --> 000011\n",
    "\n",
    " 13 --> 001101\n",
    "~13 --> 110010"
   ]
  },
  {
   "cell_type": "code",
   "execution_count": 106,
   "id": "7d87acec",
   "metadata": {},
   "outputs": [
    {
     "name": "stdout",
     "output_type": "stream",
     "text": [
      "-61 -0b111101\n",
      "-14 -0b1110\n"
     ]
    }
   ],
   "source": [
    "print(~a,bin(~a))\n",
    "print(~b,bin(~b))"
   ]
  },
  {
   "cell_type": "code",
   "execution_count": 107,
   "id": "1d1aab89",
   "metadata": {},
   "outputs": [
    {
     "name": "stdout",
     "output_type": "stream",
     "text": [
      "-0b111101\n"
     ]
    }
   ],
   "source": [
    "print(bin(-61))"
   ]
  },
  {
   "cell_type": "code",
   "execution_count": 108,
   "id": "4e9a565d",
   "metadata": {},
   "outputs": [
    {
     "data": {
      "text/plain": [
       "-61"
      ]
     },
     "execution_count": 108,
     "metadata": {},
     "output_type": "execute_result"
    }
   ],
   "source": [
    "int('-0b111101',2)"
   ]
  },
  {
   "cell_type": "code",
   "execution_count": 109,
   "id": "8e6a85fa",
   "metadata": {},
   "outputs": [],
   "source": [
    "# LEFT SHIFT a << 2"
   ]
  },
  {
   "cell_type": "raw",
   "id": "35da8564",
   "metadata": {},
   "source": [
    "consider decimal point at end.\n",
    "\n",
    "60 --> 111100.0 \n",
    "13 --> 001101.0\n",
    "\n",
    "Left shift --> insert 0 at extreme right side and shift all bits left side\n",
    "\n",
    "60 << 2 ---> 11110000\n",
    "13 << 3 ---> 001101000"
   ]
  },
  {
   "cell_type": "code",
   "execution_count": 110,
   "id": "bec22f7c",
   "metadata": {},
   "outputs": [
    {
     "data": {
      "text/plain": [
       "'0b11110000'"
      ]
     },
     "execution_count": 110,
     "metadata": {},
     "output_type": "execute_result"
    }
   ],
   "source": [
    "bin(a<<2)"
   ]
  },
  {
   "cell_type": "code",
   "execution_count": 111,
   "id": "899aeaa5",
   "metadata": {},
   "outputs": [
    {
     "data": {
      "text/plain": [
       "'0b1101000'"
      ]
     },
     "execution_count": 111,
     "metadata": {},
     "output_type": "execute_result"
    }
   ],
   "source": [
    "bin(b<<3)"
   ]
  },
  {
   "cell_type": "code",
   "execution_count": null,
   "id": "ac62e80f",
   "metadata": {},
   "outputs": [],
   "source": []
  },
  {
   "cell_type": "code",
   "execution_count": 112,
   "id": "2440cd54",
   "metadata": {},
   "outputs": [],
   "source": [
    "# RIGHT SHIFT a >> 2"
   ]
  },
  {
   "cell_type": "raw",
   "id": "4c4005f8",
   "metadata": {},
   "source": [
    "60 --> 111100.0\n",
    "13 --> 001101.0\n",
    "\n",
    "Right shift --> Example below..\n",
    "\n",
    "60 >> 2 ---> 1111.00\n",
    "13 >> 3 ---> 0001.101"
   ]
  },
  {
   "cell_type": "code",
   "execution_count": 113,
   "id": "8664e22e",
   "metadata": {},
   "outputs": [
    {
     "data": {
      "text/plain": [
       "'0b1111'"
      ]
     },
     "execution_count": 113,
     "metadata": {},
     "output_type": "execute_result"
    }
   ],
   "source": [
    "bin(a>>2)"
   ]
  },
  {
   "cell_type": "code",
   "execution_count": 114,
   "id": "d76fb7f7",
   "metadata": {},
   "outputs": [
    {
     "data": {
      "text/plain": [
       "'0b1'"
      ]
     },
     "execution_count": 114,
     "metadata": {},
     "output_type": "execute_result"
    }
   ],
   "source": [
    "bin(b>>3)"
   ]
  },
  {
   "cell_type": "code",
   "execution_count": null,
   "id": "53e367aa",
   "metadata": {},
   "outputs": [],
   "source": []
  },
  {
   "cell_type": "markdown",
   "id": "a24839f8",
   "metadata": {},
   "source": [
    "#### Assignment Operators"
   ]
  },
  {
   "cell_type": "code",
   "execution_count": 115,
   "id": "d43e3820",
   "metadata": {},
   "outputs": [
    {
     "name": "stdout",
     "output_type": "stream",
     "text": [
      "2\n",
      "4\n"
     ]
    }
   ],
   "source": [
    "a = 2\n",
    "print(a)\n",
    "\n",
    "# a = a + 2   # similarly for +,-,*,/\n",
    "a += 2\n",
    "print(a)"
   ]
  },
  {
   "cell_type": "markdown",
   "id": "f6ddc3cb",
   "metadata": {},
   "source": [
    "#### Membership Operators"
   ]
  },
  {
   "cell_type": "code",
   "execution_count": 116,
   "id": "9bbed08e",
   "metadata": {},
   "outputs": [
    {
     "name": "stdout",
     "output_type": "stream",
     "text": [
      "True\n",
      "True\n",
      "False\n",
      "False\n"
     ]
    }
   ],
   "source": [
    "# in \n",
    "print('D' in 'Delhi')\n",
    "print(5 in range(2,10))\n",
    "\n",
    "# not in\n",
    "print('D' not in 'Delhi')\n",
    "print(5 not in range(2,10))"
   ]
  },
  {
   "cell_type": "code",
   "execution_count": null,
   "id": "d775bf7a",
   "metadata": {},
   "outputs": [],
   "source": []
  },
  {
   "cell_type": "code",
   "execution_count": 117,
   "id": "ae264516",
   "metadata": {},
   "outputs": [
    {
     "name": "stdout",
     "output_type": "stream",
     "text": [
      "6\n"
     ]
    }
   ],
   "source": [
    "# programme - find the sum of a 3 digit number entered by the user..\n",
    "\n",
    "n = int(input('enter 3 digit number -> '))\n",
    "# to extract last digit\n",
    "a = n%10\n",
    "#print(a)\n",
    "\n",
    "# to extract 10's digit\n",
    "n = n//10\n",
    "b = n%10\n",
    "#print(b)\n",
    "\n",
    "# to extract 100's digit\n",
    "n = n//10\n",
    "c = n%10\n",
    "#print(c)\n",
    "\n",
    "print(a+b+c)"
   ]
  },
  {
   "cell_type": "code",
   "execution_count": null,
   "id": "d281c137",
   "metadata": {},
   "outputs": [],
   "source": []
  },
  {
   "cell_type": "markdown",
   "id": "9b18e739",
   "metadata": {},
   "source": [
    "#### Identitiy Operator"
   ]
  },
  {
   "cell_type": "code",
   "execution_count": 118,
   "id": "67939170",
   "metadata": {},
   "outputs": [
    {
     "name": "stdout",
     "output_type": "stream",
     "text": [
      "2051936925360\n"
     ]
    }
   ],
   "source": [
    "# id() - will return memory address of object.\n",
    "a = 'Nikshit'\n",
    "print(id(a))"
   ]
  },
  {
   "cell_type": "code",
   "execution_count": 119,
   "id": "6ccd8044",
   "metadata": {},
   "outputs": [
    {
     "name": "stdout",
     "output_type": "stream",
     "text": [
      "2051936925360\n",
      "2051936925360\n"
     ]
    }
   ],
   "source": [
    "# if two variable points to the same object, they will have the same id.\n",
    "a = 'Nikshit'\n",
    "b = a\n",
    "\n",
    "print(id(a))\n",
    "print(id(b))"
   ]
  },
  {
   "cell_type": "code",
   "execution_count": 120,
   "id": "36f79646",
   "metadata": {},
   "outputs": [
    {
     "name": "stdout",
     "output_type": "stream",
     "text": [
      "140709091537832\n",
      "140709091537832\n",
      "True\n",
      "True\n"
     ]
    }
   ],
   "source": [
    "# True - ID same\n",
    "# False - ID different \n",
    "\n",
    "a = 5\n",
    "b = 5\n",
    "print(id(a))\n",
    "print(id(b))\n",
    "\n",
    "print(a is b)  # is operator will check memory location of a and b.\n",
    "print(a==b)    # equality operator will check value of a and b"
   ]
  },
  {
   "cell_type": "code",
   "execution_count": 121,
   "id": "ee927e15",
   "metadata": {},
   "outputs": [
    {
     "name": "stdout",
     "output_type": "stream",
     "text": [
      "False\n"
     ]
    }
   ],
   "source": [
    "print(a is not b)"
   ]
  },
  {
   "cell_type": "code",
   "execution_count": 122,
   "id": "2c580225",
   "metadata": {},
   "outputs": [
    {
     "name": "stdout",
     "output_type": "stream",
     "text": [
      "True\n",
      "140709091537992\n",
      "140709091537992\n",
      "-------------\n",
      "False\n",
      "2051935737936\n",
      "2051935740944\n",
      "------\n",
      "False\n",
      "2051935737232\n",
      "2051935743600\n"
     ]
    }
   ],
   "source": [
    "# Integer interning or caching\n",
    "\n",
    "# python automatically reuses objects for small integers ranging from -5 to 256\n",
    "# memory address will be same always.\n",
    "# reusing small numbers saves memory, improves the performance.\n",
    "# the range -5 to 256 is preallocated when python starts.\n",
    "a = 10\n",
    "b = 10\n",
    "\n",
    "print(a is b)\n",
    "print(id(a))\n",
    "print(id(b))\n",
    "\n",
    "print('-------------')\n",
    "\n",
    "# for larger number python creates objects each time.\n",
    "# it will give different memory location for  number < -5 and number > 256.\n",
    "a = -10\n",
    "b = -10\n",
    "print(a is b)\n",
    "print(id(a))\n",
    "print(id(b))\n",
    "\n",
    "print('------')\n",
    "\n",
    "a = 257\n",
    "b = 257\n",
    "print(a is b)\n",
    "print(id(a))\n",
    "print(id(b))"
   ]
  },
  {
   "cell_type": "code",
   "execution_count": 123,
   "id": "3bd32e7c",
   "metadata": {},
   "outputs": [
    {
     "name": "stdout",
     "output_type": "stream",
     "text": [
      "True\n"
     ]
    }
   ],
   "source": [
    "a = 500\n",
    "b = a\n",
    "print(a is b)"
   ]
  },
  {
   "cell_type": "code",
   "execution_count": 124,
   "id": "fc4562e5",
   "metadata": {},
   "outputs": [
    {
     "name": "stdout",
     "output_type": "stream",
     "text": [
      "False\n"
     ]
    }
   ],
   "source": [
    "print(a is not b)"
   ]
  },
  {
   "cell_type": "code",
   "execution_count": null,
   "id": "ba4d07d8",
   "metadata": {},
   "outputs": [],
   "source": []
  },
  {
   "cell_type": "markdown",
   "id": "9958ea48",
   "metadata": {},
   "source": [
    "# 10. Copy"
   ]
  },
  {
   "cell_type": "markdown",
   "id": "35496f3b",
   "metadata": {},
   "source": [
    "#### Copy - by reference"
   ]
  },
  {
   "cell_type": "code",
   "execution_count": 128,
   "id": "d3e43c91",
   "metadata": {},
   "outputs": [
    {
     "name": "stdout",
     "output_type": "stream",
     "text": [
      "True\n",
      "[1, 2, 3, 4]\n",
      "[1, 2, 3, 4]\n"
     ]
    }
   ],
   "source": [
    "# b just refers to the same list in memory. so change is b affects a.\n",
    "a = [1,2,3]\n",
    "b = a\n",
    "\n",
    "print(a is b)\n",
    "\n",
    "b.append(4)\n",
    "print(b)\n",
    "print(a) # 4 will get appended in a also.\n"
   ]
  },
  {
   "cell_type": "code",
   "execution_count": null,
   "id": "d85b8a1b",
   "metadata": {},
   "outputs": [],
   "source": []
  },
  {
   "cell_type": "markdown",
   "id": "b16bb461",
   "metadata": {},
   "source": [
    "#### Shallow Copy\n",
    "- creates new objects\n",
    "- nested structues references same elements from original list\n",
    "- any changes in nested elements will affect both lists"
   ]
  },
  {
   "cell_type": "code",
   "execution_count": 129,
   "id": "ba4003b4",
   "metadata": {},
   "outputs": [
    {
     "name": "stdout",
     "output_type": "stream",
     "text": [
      "False\n",
      "2051937120064\n",
      "2051932007936\n",
      "[4, 5]\n",
      "2051936805632\n",
      "2051936805632\n",
      "[1, 2, 3, [4, 5, 6]]\n",
      "[1, 2, 3, [4, 5, 6]]\n",
      "[1, 2, 3, ['Nikshit', 5, 6]]\n",
      "[1, 2, 3, ['Nikshit', 5, 6]]\n"
     ]
    }
   ],
   "source": [
    "import copy\n",
    "a = [1,2,3,[4,5]]\n",
    "b = copy.copy(a)  \n",
    "\n",
    "print(a is b)\n",
    "print(id(a))\n",
    "print(id(b))\n",
    "\n",
    " # nested element for both the list will be at same memory address.\n",
    " \n",
    "print(a[3]) \n",
    "print(id(a[3])) \n",
    "print(id(b[3]))\n",
    "\n",
    "# adding nested element of b\n",
    "b[3].append(6)\n",
    "print(b)\n",
    "print(a)\n",
    "\n",
    "# changing nested element of b\n",
    "b[3][0] = 'Nikshit'\n",
    "print(b)\n",
    "print(a)\n"
   ]
  },
  {
   "cell_type": "code",
   "execution_count": null,
   "id": "2662545e",
   "metadata": {},
   "outputs": [],
   "source": []
  },
  {
   "cell_type": "markdown",
   "id": "1fa7b608",
   "metadata": {},
   "source": [
    "#### Deep Copy:\n",
    "- creates completely new objects\n",
    "- changes in copied objects do not affect the original"
   ]
  },
  {
   "cell_type": "code",
   "execution_count": 130,
   "id": "c0f05118",
   "metadata": {},
   "outputs": [
    {
     "name": "stdout",
     "output_type": "stream",
     "text": [
      "False\n",
      "2051937035200\n",
      "2051936939840\n",
      "[5, 6, 7]\n",
      "2051936754560\n",
      "2051936940352\n",
      "[1, 2, 3, 4, [5, 'Nikshit', 7]]\n",
      "[1, 2, 3, 4, [5, 6, 7]]\n"
     ]
    }
   ],
   "source": [
    "a = [1,2,3,4,[5,6,7]]\n",
    "b = copy.deepcopy(a)\n",
    "\n",
    "# memory address will be different for both list\n",
    "print(a is b)\n",
    "print(id(a))\n",
    "print(id(b))\n",
    "\n",
    "# check for nested elements, id will be different.\n",
    "print(a[4])\n",
    "print(id(a[4]))\n",
    "print(id(b[4]))\n",
    "\n",
    "# changing nested elements will not affect original list.\n",
    "b[4][1] = 'Nikshit'\n",
    "print(b)\n",
    "print(a)"
   ]
  },
  {
   "cell_type": "markdown",
   "id": "97c699eb",
   "metadata": {},
   "source": [
    "#### Cloning:"
   ]
  },
  {
   "cell_type": "code",
   "execution_count": 131,
   "id": "8770b6b3",
   "metadata": {},
   "outputs": [
    {
     "name": "stdout",
     "output_type": "stream",
     "text": [
      "[1, 2, 3, [1, 2, 3]]\n",
      "[1, 2, 3, [1, 2, 3]]\n",
      "False\n",
      "2051936796864\n",
      "2051936917760\n",
      "140709091537768\n",
      "140709091537768\n"
     ]
    }
   ],
   "source": [
    "a = [1,2,3,[1,2,3]]\n",
    "b = a[:] # list slice\n",
    "\n",
    "print(a)\n",
    "print(b)\n",
    "\n",
    "print(a is b)\n",
    "print(id(a))\n",
    "print(id(b))\n",
    "\n",
    "print(id(a[3][2]))\n",
    "print(id(b[3][2]))\n"
   ]
  },
  {
   "cell_type": "code",
   "execution_count": null,
   "id": "3f7d18d4",
   "metadata": {},
   "outputs": [],
   "source": []
  }
 ],
 "metadata": {
  "kernelspec": {
   "display_name": "Python 3",
   "language": "python",
   "name": "python3"
  },
  "language_info": {
   "codemirror_mode": {
    "name": "ipython",
    "version": 3
   },
   "file_extension": ".py",
   "mimetype": "text/x-python",
   "name": "python",
   "nbconvert_exporter": "python",
   "pygments_lexer": "ipython3",
   "version": "3.11.2"
  }
 },
 "nbformat": 4,
 "nbformat_minor": 5
}
