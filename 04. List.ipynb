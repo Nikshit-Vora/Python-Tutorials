{
 "cells": [
  {
   "cell_type": "markdown",
   "id": "ee3197dc",
   "metadata": {},
   "source": [
    "# What are Lists..?"
   ]
  },
  {
   "cell_type": "markdown",
   "id": "588b8940",
   "metadata": {},
   "source": [
    "- ordered collection of comma separated items, enclosed in square brackets [ ].\n",
    "- Can contain any data type.\n",
    "- List is MUTABLE\n",
    "- maintain order of elements"
   ]
  },
  {
   "cell_type": "code",
   "execution_count": 1,
   "id": "98b16e60",
   "metadata": {},
   "outputs": [
    {
     "name": "stdout",
     "output_type": "stream",
     "text": [
      "['Nikshit', 1, 2.5, True, (5+8j)]\n",
      "<class 'list'>\n"
     ]
    }
   ],
   "source": [
    "# List example\n",
    "l = ['Nikshit',1,2.5,True,5+8j]\n",
    "print(l)\n",
    "print(type(l))"
   ]
  },
  {
   "cell_type": "markdown",
   "id": "41785358",
   "metadata": {},
   "source": [
    "**C/C++ :**\n",
    "\n",
    "- array is of fixed size. need to determine array size first.\n",
    "- array are Homogeneous. can store one type of data only.\n",
    "- speed of execution is faster than python.\n",
    "- Less space/memory than python\n",
    "- No built-in functions\n",
    "\n",
    "**Python :**\n",
    "\n",
    "- List in python is dynamic. we can add more member further if we want.. \n",
    "- List in python are Heterogenous, can contain any data type. any combination.\n",
    "- speed of execution is slower in list\n",
    "- more space/memory than C/C++\n",
    "- built-in functions are available."
   ]
  },
  {
   "cell_type": "code",
   "execution_count": null,
   "id": "c67250f6",
   "metadata": {},
   "outputs": [],
   "source": []
  },
  {
   "cell_type": "markdown",
   "id": "c99ea504",
   "metadata": {},
   "source": [
    "# How List are Stored in Memory?"
   ]
  },
  {
   "cell_type": "markdown",
   "id": "b4ff0a3a",
   "metadata": {},
   "source": [
    "`l = [1,2,3]`\n",
    "\n",
    "---------internally in python, it will strore references of objects.  \n",
    " \n",
    "1 --> id1  \n",
    "2 --> id2  \n",
    "3 --> id3  \n",
    "\n",
    "`l = [id1,id2,id3]`   # internally it will store ID/Memory_address of an objects"
   ]
  },
  {
   "cell_type": "code",
   "execution_count": null,
   "id": "9837da04",
   "metadata": {},
   "outputs": [],
   "source": []
  },
  {
   "cell_type": "code",
   "execution_count": 2,
   "id": "fb32b1c5",
   "metadata": {},
   "outputs": [
    {
     "name": "stdout",
     "output_type": "stream",
     "text": [
      "2263813298688\n",
      "2263813081904\n",
      "140731675112232\n",
      "2263812622288\n",
      "140731675112232\n",
      "140731675112264\n",
      "140731675112296\n"
     ]
    }
   ],
   "source": [
    "# List is referential array\n",
    "\n",
    "lst = [1,2,3]\n",
    "print(id(lst))\n",
    "print(id(l[0]))\n",
    "print(id(l[1]))\n",
    "print(id(l[2]))\n",
    "print(id(1))\n",
    "print(id(2))\n",
    "print(id(3))"
   ]
  },
  {
   "cell_type": "code",
   "execution_count": 3,
   "id": "d06c2439",
   "metadata": {},
   "outputs": [
    {
     "name": "stdout",
     "output_type": "stream",
     "text": [
      "140731675112232\n",
      "140731675112264\n",
      "140731675112296\n",
      "140731675112232\n",
      "140731675112264\n",
      "140731675112296\n"
     ]
    }
   ],
   "source": [
    "l1 = [1,2,3]\n",
    "l2 = [1,2,3]\n",
    "\n",
    "print(id(l1[0]))\n",
    "print(id(l1[1]))\n",
    "print(id(l1[2]))\n",
    "print(id(l2[0]))\n",
    "print(id(l2[1]))\n",
    "print(id(l2[2]))"
   ]
  },
  {
   "cell_type": "code",
   "execution_count": null,
   "id": "afefb552",
   "metadata": {},
   "outputs": [],
   "source": []
  },
  {
   "cell_type": "markdown",
   "id": "6d0a2f00",
   "metadata": {},
   "source": [
    "# Characteristics of List"
   ]
  },
  {
   "cell_type": "code",
   "execution_count": 4,
   "id": "a4baec72",
   "metadata": {},
   "outputs": [
    {
     "name": "stdout",
     "output_type": "stream",
     "text": [
      "False\n"
     ]
    }
   ],
   "source": [
    "# List maintains the order of elements.\n",
    "l1 = [1,2,3]\n",
    "l2 = [3,2,1]\n",
    "print(l1==l2)"
   ]
  },
  {
   "cell_type": "code",
   "execution_count": 5,
   "id": "914febf2",
   "metadata": {},
   "outputs": [
    {
     "name": "stdout",
     "output_type": "stream",
     "text": [
      "2263813291776\n",
      "[1, 2, 3, 4]\n",
      "2263813291776\n"
     ]
    }
   ],
   "source": [
    "# changeable/mutable at same memory location.\n",
    "l1 = [1,2,3]\n",
    "print(id(l1))\n",
    "\n",
    "# appending 4 will give same memory location.\n",
    "l1.append(4)\n",
    "print(l1)\n",
    "print(id(l1))"
   ]
  },
  {
   "cell_type": "code",
   "execution_count": 6,
   "id": "92b336a3",
   "metadata": {},
   "outputs": [
    {
     "name": "stdout",
     "output_type": "stream",
     "text": [
      "['Nikshit', 4, 5.6, (5+6j)]\n"
     ]
    }
   ],
   "source": [
    "# heterogeneous, can store mutiple data types in list, called dynamic list.\n",
    "l = ['Nikshit',4,5.6,5+6j]\n",
    "print(l)"
   ]
  },
  {
   "cell_type": "code",
   "execution_count": 7,
   "id": "e8b81625",
   "metadata": {},
   "outputs": [
    {
     "name": "stdout",
     "output_type": "stream",
     "text": [
      "[1, 2, 3, 3, 'n', 'n']\n"
     ]
    }
   ],
   "source": [
    "# allows duplicate values\n",
    "l = [1,2,3,3,'n','n']\n",
    "print(l)"
   ]
  },
  {
   "cell_type": "code",
   "execution_count": 8,
   "id": "f264573a",
   "metadata": {},
   "outputs": [
    {
     "name": "stdout",
     "output_type": "stream",
     "text": [
      "[1, 2, 3, [5, 8, 9]]\n"
     ]
    }
   ],
   "source": [
    "# Nest List - list inside list\n",
    "l = [1,2,3,[5,8,9]]\n",
    "print(l)"
   ]
  },
  {
   "cell_type": "code",
   "execution_count": 9,
   "id": "a1babc98",
   "metadata": {},
   "outputs": [
    {
     "data": {
      "text/plain": [
       "1"
      ]
     },
     "execution_count": 9,
     "metadata": {},
     "output_type": "execute_result"
    }
   ],
   "source": [
    "# item can be acceseed using indexing and slicing..\n",
    "l[0]"
   ]
  },
  {
   "cell_type": "code",
   "execution_count": 10,
   "id": "daea09e8",
   "metadata": {},
   "outputs": [
    {
     "name": "stdout",
     "output_type": "stream",
     "text": [
      "[1, 2, <built-in function print>, <class 'type'>, <bound method Kernel.raw_input of <ipykernel.ipkernel.IPythonKernel object at 0x0000020F1546EF90>>]\n"
     ]
    }
   ],
   "source": [
    "# can contain any type of objects in python.\n",
    "# example: int, str, function, class etc.\n",
    "l = [1,2,print,type,input]\n",
    "print(l)"
   ]
  },
  {
   "cell_type": "code",
   "execution_count": null,
   "id": "5e420d5b",
   "metadata": {},
   "outputs": [],
   "source": []
  },
  {
   "cell_type": "markdown",
   "id": "0372c060",
   "metadata": {},
   "source": [
    "# Creating List"
   ]
  },
  {
   "cell_type": "code",
   "execution_count": 11,
   "id": "80fdc43a",
   "metadata": {},
   "outputs": [
    {
     "name": "stdout",
     "output_type": "stream",
     "text": [
      "[]\n",
      "[1, 2, 3, 5]\n",
      "[1, 2, 3, [5, 8, 9]]\n",
      "[[[1, 2], [3, 4]], [[8, 9], [10, 11]]]\n",
      "[1, 6.5, True, 'Hello']\n",
      "['H', 'e', 'l', 'l', 'o']\n"
     ]
    }
   ],
   "source": [
    "# Empty\n",
    "print([])\n",
    "\n",
    "# 1D - Homogeneous\n",
    "print([1,2,3,5])\n",
    "\n",
    "# 2D  -- Nested list -- List inside List\n",
    "print([1,2,3,[5,8,9]])\n",
    "\n",
    "# 3D\n",
    "print([[[1,2],[3,4]],[[8,9],[10,11]]])\n",
    "\n",
    "# Heterogenous - Multiple data type\n",
    "print([1,6.5,True,'Hello'])\n",
    "\n",
    "# Using type conversion : string to list\n",
    "print(list('Hello'))"
   ]
  },
  {
   "cell_type": "code",
   "execution_count": null,
   "id": "7e33e029",
   "metadata": {},
   "outputs": [],
   "source": []
  },
  {
   "cell_type": "markdown",
   "id": "1944cc74",
   "metadata": {},
   "source": [
    "# Accessing Items From List"
   ]
  },
  {
   "cell_type": "code",
   "execution_count": 12,
   "id": "e5b854c7",
   "metadata": {},
   "outputs": [
    {
     "name": "stdout",
     "output_type": "stream",
     "text": [
      "1\n",
      "6\n",
      "[1, 2, 3]\n",
      "[4, 5, 6]\n",
      "[2, 3, 4]\n",
      "[1, 4]\n"
     ]
    }
   ],
   "source": [
    "# Indexing\n",
    "l = [1,2,3,4,5,6]\n",
    "\n",
    "# positive indexing -- left to right -- 0 to n\n",
    "print(l[0])\n",
    "\n",
    "# negative indexing -- right to left -- n to -1\n",
    "print(l[-1])\n",
    "\n",
    "# Slicing\n",
    "\n",
    "# positive slicing\n",
    "print(l[0:3])\n",
    "\n",
    "# negative slicing\n",
    "print(l[-3:])\n",
    "print(l[-5:-2])\n",
    "\n",
    "# slicing with step\n",
    "print(l[::3])"
   ]
  },
  {
   "cell_type": "code",
   "execution_count": 13,
   "id": "73174e7e",
   "metadata": {},
   "outputs": [
    {
     "name": "stdout",
     "output_type": "stream",
     "text": [
      "[12, 8, 9]\n",
      "12\n",
      "8\n"
     ]
    }
   ],
   "source": [
    "# Indexing in 2D/3D List\n",
    "\n",
    "l = [1,2,3,[12,8,9]]\n",
    "\n",
    "print(l[3])\n",
    "print(l[3][0])\n",
    "print(l[3][-2])"
   ]
  },
  {
   "cell_type": "code",
   "execution_count": null,
   "id": "39484b27",
   "metadata": {},
   "outputs": [],
   "source": []
  },
  {
   "cell_type": "markdown",
   "id": "b0ab7bc6",
   "metadata": {},
   "source": [
    "# Adding Items To List"
   ]
  },
  {
   "cell_type": "code",
   "execution_count": 14,
   "id": "f3996d19",
   "metadata": {},
   "outputs": [
    {
     "name": "stdout",
     "output_type": "stream",
     "text": [
      "[1, 2, 3, 4, 5, 'Hello.']\n"
     ]
    }
   ],
   "source": [
    "# append : add single element to end of list.\n",
    "l = [1,2,3,4,5]\n",
    "l.append('Hello.') \n",
    "print(l)"
   ]
  },
  {
   "cell_type": "code",
   "execution_count": 15,
   "id": "392ee18e",
   "metadata": {},
   "outputs": [
    {
     "name": "stdout",
     "output_type": "stream",
     "text": [
      "[1, 2, 3, 4, 5, 6, 6, 7, 8]\n",
      "[1, 2, True, 'Hello', 'how r you', (5+6j)]\n",
      "['Hello', 'how r you', (5+6j), 'P', 'y', 't', 'h', 'o', 'n', ' ', 'l', 'a', 'n', 'g', 'u', 'a', 'g', 'e', '.']\n"
     ]
    }
   ],
   "source": [
    "# extend : add multiple elements to end of list.\n",
    "\n",
    "l = [1,2,3,4,5,6]\n",
    "l.extend([6,7,8])\n",
    "print(l)\n",
    "\n",
    "l1 = [1,2,True]\n",
    "l2 = ['Hello',\"how r you\",5+6j]\n",
    "l1.extend(l2)\n",
    "print(l1)\n",
    "\n",
    "# Extending a list with a string\n",
    "l2.extend('Python language.')\n",
    "print(l2)\n"
   ]
  },
  {
   "cell_type": "code",
   "execution_count": 16,
   "id": "578e0792",
   "metadata": {},
   "outputs": [
    {
     "name": "stdout",
     "output_type": "stream",
     "text": [
      "['Hello', 1, 2, 3, 4]\n",
      "['Hello', 1, 2, 3, 'World', 4]\n"
     ]
    }
   ],
   "source": [
    "# insert(index,element) :  insert element at specified index and shift rest elements.\n",
    "l = [1,2,3,4]\n",
    "l.insert(0,'Hello')\n",
    "print(l)\n",
    "\n",
    "l.insert(-1,'World')\n",
    "print(l)"
   ]
  },
  {
   "cell_type": "code",
   "execution_count": null,
   "id": "70b57113",
   "metadata": {},
   "outputs": [],
   "source": []
  },
  {
   "cell_type": "markdown",
   "id": "bbf937a3",
   "metadata": {},
   "source": [
    "# Editing Items in List"
   ]
  },
  {
   "cell_type": "code",
   "execution_count": 17,
   "id": "be01e07c",
   "metadata": {},
   "outputs": [
    {
     "name": "stdout",
     "output_type": "stream",
     "text": [
      "[1, 2, 3, 4, 'Hello']\n"
     ]
    }
   ],
   "source": [
    "# replacing element with indexing\n",
    "l = [1,2,3,4,5]\n",
    "l[-1]='Hello'\n",
    "print(l)  "
   ]
  },
  {
   "cell_type": "code",
   "execution_count": 18,
   "id": "d711bd22",
   "metadata": {},
   "outputs": [
    {
     "name": "stdout",
     "output_type": "stream",
     "text": [
      "[1, 'h', 'p', 5.6, 9, 3, 4, 'Hello']\n"
     ]
    }
   ],
   "source": [
    "# replacing multiple elements with slicing\n",
    "l[1:2]=['h','p',5.6,9]\n",
    "print(l)"
   ]
  },
  {
   "cell_type": "code",
   "execution_count": null,
   "id": "4a7e9e10",
   "metadata": {},
   "outputs": [],
   "source": []
  },
  {
   "cell_type": "markdown",
   "id": "721cd059",
   "metadata": {},
   "source": [
    "# Deleting Items from List"
   ]
  },
  {
   "cell_type": "code",
   "execution_count": 19,
   "id": "c512ee73",
   "metadata": {},
   "outputs": [
    {
     "name": "stdout",
     "output_type": "stream",
     "text": [
      "[1, 2, 3, 4, 5, 6]\n"
     ]
    },
    {
     "ename": "NameError",
     "evalue": "name 'l' is not defined",
     "output_type": "error",
     "traceback": [
      "\u001b[31m---------------------------------------------------------------------------\u001b[39m",
      "\u001b[31mNameError\u001b[39m                                 Traceback (most recent call last)",
      "\u001b[36mCell\u001b[39m\u001b[36m \u001b[39m\u001b[32mIn[19]\u001b[39m\u001b[32m, line 5\u001b[39m\n\u001b[32m      3\u001b[39m \u001b[38;5;28mprint\u001b[39m(l)\n\u001b[32m      4\u001b[39m \u001b[38;5;28;01mdel\u001b[39;00m l \n\u001b[32m----> \u001b[39m\u001b[32m5\u001b[39m \u001b[38;5;28mprint\u001b[39m(\u001b[43ml\u001b[49m)\n",
      "\u001b[31mNameError\u001b[39m: name 'l' is not defined"
     ]
    }
   ],
   "source": [
    "# delete entire list\n",
    "l = [1,2,3,4,5,6]\n",
    "print(l)\n",
    "del l \n",
    "print(l)"
   ]
  },
  {
   "cell_type": "code",
   "execution_count": 20,
   "id": "2c5316c0",
   "metadata": {},
   "outputs": [
    {
     "name": "stdout",
     "output_type": "stream",
     "text": [
      "[1, 2, 3, 4]\n",
      "[1, 4]\n"
     ]
    }
   ],
   "source": [
    "# deleting elements with indexing & slicing\n",
    "l = [1,2,3,4,5]\n",
    "del l[-1]\n",
    "print(l)\n",
    "\n",
    "del l[1:3]\n",
    "print(l)"
   ]
  },
  {
   "cell_type": "code",
   "execution_count": 21,
   "id": "887531fd",
   "metadata": {},
   "outputs": [
    {
     "name": "stdout",
     "output_type": "stream",
     "text": [
      "[1, 2, 3, 4, 6, 9, 5]\n"
     ]
    }
   ],
   "source": [
    "# remove() : delete the first occurrence of a specified value\n",
    "l = [1,2,3,4,5,6,9,5]\n",
    "l.remove(5)\n",
    "print(l)"
   ]
  },
  {
   "cell_type": "code",
   "execution_count": 22,
   "id": "39113947",
   "metadata": {},
   "outputs": [
    {
     "name": "stdout",
     "output_type": "stream",
     "text": [
      "[2, 3, 4, 5, 6]\n",
      "[2, 3, 4, 5]\n"
     ]
    }
   ],
   "source": [
    "# pop() : remove elements from specified index.\n",
    "l = [1,2,3,4,5,6]\n",
    "l.pop(0)\n",
    "print(l)\n",
    "\n",
    "l.pop()  # default is last item, -1 index\n",
    "print(l)"
   ]
  },
  {
   "cell_type": "code",
   "execution_count": 23,
   "id": "0c46d148",
   "metadata": {},
   "outputs": [
    {
     "name": "stdout",
     "output_type": "stream",
     "text": [
      "[]\n"
     ]
    }
   ],
   "source": [
    "# clear() : empty the list\n",
    "l = [1,2,3,4,5]\n",
    "l.clear()\n",
    "print(l)"
   ]
  },
  {
   "cell_type": "code",
   "execution_count": null,
   "id": "e0f6b2a8",
   "metadata": {},
   "outputs": [],
   "source": []
  },
  {
   "cell_type": "markdown",
   "id": "c2f46000",
   "metadata": {},
   "source": [
    "# Operations on List"
   ]
  },
  {
   "cell_type": "code",
   "execution_count": 24,
   "id": "8aba4385",
   "metadata": {},
   "outputs": [
    {
     "name": "stdout",
     "output_type": "stream",
     "text": [
      "[1, 2, 3, 4, 10, 11]\n",
      "[1, 2, 3, 4, 1, 2, 3, 4, 1, 2, 3, 4]\n"
     ]
    }
   ],
   "source": [
    "# Arithmatic operations\n",
    "\n",
    "# addition : combine two lists\n",
    "l1 = [1,2,3,4]\n",
    "l2 = [10,11]\n",
    "print(l1+l2)\n",
    "\n",
    "# multiplication : repeats the list elements multiple times\n",
    "print(l1*3)"
   ]
  },
  {
   "cell_type": "code",
   "execution_count": 25,
   "id": "06abfdb8",
   "metadata": {},
   "outputs": [
    {
     "name": "stdout",
     "output_type": "stream",
     "text": [
      "True\n",
      "False\n",
      "True\n"
     ]
    }
   ],
   "source": [
    "# Membarship\n",
    "\n",
    "l = [1,2,3,4,5]\n",
    "\n",
    "print(5 in l)\n",
    "print('Python' in l)\n",
    "print(10 not in l)"
   ]
  },
  {
   "cell_type": "code",
   "execution_count": 26,
   "id": "b75ed13a",
   "metadata": {},
   "outputs": [
    {
     "name": "stdout",
     "output_type": "stream",
     "text": [
      "1 2 3 4 "
     ]
    }
   ],
   "source": [
    "# For loop\n",
    "\n",
    "l = [1,2,3,4]\n",
    "for i in l:\n",
    "    print(i,end=' ')"
   ]
  },
  {
   "cell_type": "code",
   "execution_count": 27,
   "id": "0a591c57",
   "metadata": {},
   "outputs": [
    {
     "name": "stdout",
     "output_type": "stream",
     "text": [
      "5,6,8,9,10,"
     ]
    }
   ],
   "source": [
    "# While loop\n",
    "\n",
    "l = [5,6,8,9,10]\n",
    "\n",
    "i = 0\n",
    "while i<len(l):\n",
    "    print(l[i],end=',')\n",
    "    i += 1"
   ]
  },
  {
   "cell_type": "code",
   "execution_count": null,
   "id": "7423aef7",
   "metadata": {},
   "outputs": [],
   "source": []
  },
  {
   "cell_type": "markdown",
   "id": "27c6f485",
   "metadata": {},
   "source": [
    "# Enumerate() in list"
   ]
  },
  {
   "cell_type": "code",
   "execution_count": 28,
   "id": "bca5c983",
   "metadata": {},
   "outputs": [
    {
     "name": "stdout",
     "output_type": "stream",
     "text": [
      "(0, 'a')\n",
      "(1, 'v')\n",
      "(2, 'c')\n"
     ]
    }
   ],
   "source": [
    "# enumerate() : return pair of index-value in tuple\n",
    "# index counter starting from zero.\n",
    "\n",
    "l = ['a','v','c']\n",
    "for i in enumerate(l):\n",
    "    print(i)"
   ]
  },
  {
   "cell_type": "code",
   "execution_count": 29,
   "id": "eabaceb2",
   "metadata": {},
   "outputs": [
    {
     "name": "stdout",
     "output_type": "stream",
     "text": [
      "5 a\n",
      "6 v\n",
      "7 c\n"
     ]
    }
   ],
   "source": [
    "# index starting from 5\n",
    "\n",
    "l = ['a','v','c']\n",
    "for i,j in enumerate(l,start=5):\n",
    "    print(i,j)"
   ]
  },
  {
   "cell_type": "code",
   "execution_count": null,
   "id": "c080cd8a",
   "metadata": {},
   "outputs": [],
   "source": []
  },
  {
   "cell_type": "markdown",
   "id": "91f3db66",
   "metadata": {},
   "source": [
    "# List Functions"
   ]
  },
  {
   "cell_type": "code",
   "execution_count": 30,
   "id": "6ee0bb89",
   "metadata": {},
   "outputs": [
    {
     "name": "stdout",
     "output_type": "stream",
     "text": [
      "7\n",
      "1\n",
      "10\n"
     ]
    }
   ],
   "source": [
    "l = [1,2,3,10,5,5,6]\n",
    "\n",
    "\n",
    "print(len(l)) # return lenth of list\n",
    "print(min(l)) # return min element\n",
    "print(max(l)) # return max element"
   ]
  },
  {
   "cell_type": "code",
   "execution_count": null,
   "id": "56ee9460",
   "metadata": {},
   "outputs": [],
   "source": []
  },
  {
   "cell_type": "markdown",
   "id": "0aecd695",
   "metadata": {},
   "source": [
    "# Finding elements in List"
   ]
  },
  {
   "cell_type": "code",
   "execution_count": 31,
   "id": "fdc5d447",
   "metadata": {},
   "outputs": [
    {
     "name": "stdout",
     "output_type": "stream",
     "text": [
      "3\n",
      "1\n",
      "5\n"
     ]
    }
   ],
   "source": [
    "l = [1,2,3,5,6,7,5,6,5,6]\n",
    "\n",
    "print(l.count(5))  # count() : frequncy of element\n",
    "print(l.index(2))  # index() : first occurences of element\n",
    "print(l[3])        # indexing to find element at index"
   ]
  },
  {
   "cell_type": "code",
   "execution_count": null,
   "id": "f390ce86",
   "metadata": {},
   "outputs": [],
   "source": []
  },
  {
   "cell_type": "markdown",
   "id": "53d67af2",
   "metadata": {},
   "source": [
    "# Sorting of List"
   ]
  },
  {
   "cell_type": "code",
   "execution_count": 32,
   "id": "378d37ef",
   "metadata": {},
   "outputs": [
    {
     "name": "stdout",
     "output_type": "stream",
     "text": [
      "[1, 2, 3, 5, 5, 6, 10]\n",
      "[1, 2, 3, 10, 5, 5, 6]\n",
      "\n",
      "[10, 6, 5, 5, 3, 2, 1]\n",
      "[1, 2, 3, 10, 5, 5, 6]\n",
      "\n",
      "[1, 2, 3, 10, 5, 5, 6]\n"
     ]
    }
   ],
   "source": [
    "# sorted() --> ASC temporary sorting\n",
    "\n",
    "l = [1,2,3,10,5,5,6]\n",
    "print(sorted(l))\n",
    "print(l)\n",
    "print()\n",
    "\n",
    "# sorted() --> DESC temporary sorting\n",
    "print(sorted(l,reverse=True))\n",
    "print(l)\n",
    "print()\n",
    "\n",
    "print(l)"
   ]
  },
  {
   "cell_type": "code",
   "execution_count": 33,
   "id": "a4cee197",
   "metadata": {},
   "outputs": [
    {
     "name": "stdout",
     "output_type": "stream",
     "text": [
      "[1, 2, 3, 5, 5, 6, 10]\n"
     ]
    }
   ],
   "source": [
    "# sort() - ASC sorting - parmenant operation \n",
    "l = [1,2,3,10,5,5,6]\n",
    "l.sort()\n",
    "print(l)"
   ]
  },
  {
   "cell_type": "code",
   "execution_count": 34,
   "id": "02a63092",
   "metadata": {},
   "outputs": [
    {
     "name": "stdout",
     "output_type": "stream",
     "text": [
      "[10, 6, 5, 5, 3, 2, 1]\n"
     ]
    }
   ],
   "source": [
    "# sort(reverse=True) - DESC sorting - parmenant operation \n",
    "l = [1,2,3,10,5,5,6]\n",
    "l.sort(reverse=True)\n",
    "print(l)"
   ]
  },
  {
   "cell_type": "code",
   "execution_count": 35,
   "id": "c658fc87",
   "metadata": {},
   "outputs": [
    {
     "name": "stdout",
     "output_type": "stream",
     "text": [
      "[40, 5, 4, 82, 5, 2]\n"
     ]
    }
   ],
   "source": [
    "# reverse() : reverse the list\n",
    "l = [2,5,82,4,5,40]\n",
    "l.reverse()\n",
    "print(l)"
   ]
  },
  {
   "cell_type": "code",
   "execution_count": 36,
   "id": "ea75d1e4",
   "metadata": {},
   "outputs": [
    {
     "name": "stdout",
     "output_type": "stream",
     "text": [
      "[1, 6, 8, 56, 100, 1058]\n",
      "[1, 8, 6, 56, 100, 1058]\n",
      "[1, 6, 8, 56, 100, 1058]\n"
     ]
    }
   ],
   "source": [
    "# sorted()  --> temporary sorting\n",
    "l = [1,8,6,56,100,1058]\n",
    "print(sorted(l))\n",
    "print(l)\n",
    "\n",
    "# sort() --> permeanant sorting\n",
    "l.sort()\n",
    "print(l)"
   ]
  },
  {
   "cell_type": "code",
   "execution_count": 37,
   "id": "2d0ccc1f",
   "metadata": {},
   "outputs": [
    {
     "name": "stdout",
     "output_type": "stream",
     "text": [
      "[10, 2, 65, 19]\n"
     ]
    }
   ],
   "source": [
    "# sorting with key\n",
    "\n",
    "l2 = [10,2,19,65]\n",
    "\n",
    "l2.sort(key= lambda x: x%10)\n",
    "print(l2)\n"
   ]
  },
  {
   "cell_type": "code",
   "execution_count": null,
   "id": "6a8de044",
   "metadata": {},
   "outputs": [],
   "source": []
  },
  {
   "cell_type": "markdown",
   "id": "7de230ee",
   "metadata": {},
   "source": [
    "# Any/All in List"
   ]
  },
  {
   "cell_type": "code",
   "execution_count": 38,
   "id": "f4ba0474",
   "metadata": {},
   "outputs": [
    {
     "name": "stdout",
     "output_type": "stream",
     "text": [
      "True\n",
      "False\n"
     ]
    }
   ],
   "source": [
    "l = [1,2,3,4,5,6,0]\n",
    "\n",
    "print(any(l))  # any() : return TRUE if at least one elements is true else false.\n",
    "print(all(l))  # all() : return TRUE if all elements are True else False"
   ]
  },
  {
   "cell_type": "code",
   "execution_count": 39,
   "id": "c2aafb45",
   "metadata": {},
   "outputs": [
    {
     "name": "stdout",
     "output_type": "stream",
     "text": [
      "True\n",
      "False\n"
     ]
    }
   ],
   "source": [
    "# to check condition for iterable over elements\n",
    "\n",
    "l = [2,4,6,8]\n",
    "print(all([i%2 == 0 for i in l]))\n",
    "\n",
    "l = [1,2,3,4,5]\n",
    "print(any([i%7==0 for i in l]))"
   ]
  },
  {
   "cell_type": "code",
   "execution_count": null,
   "id": "6e6ba70e",
   "metadata": {},
   "outputs": [],
   "source": []
  },
  {
   "cell_type": "markdown",
   "id": "d5e3f66c",
   "metadata": {},
   "source": [
    "# Deep Copy and Shallow Copy"
   ]
  },
  {
   "cell_type": "code",
   "execution_count": 40,
   "id": "e82612ff",
   "metadata": {},
   "outputs": [
    {
     "name": "stdout",
     "output_type": "stream",
     "text": [
      "[1, 2, 3, 4, 5, 6, 'Hello']\n",
      "[1, 2, 3, 4, 5, 6, 'Hello']\n",
      "2263819406784\n",
      "2263819406784\n"
     ]
    }
   ],
   "source": [
    "# copying the list by reference.\n",
    "\n",
    "l1 = [1,2,3,4,5,6]\n",
    "l2 = l1  # It will create the reference of original list.\n",
    "\n",
    "l2.append('Hello')  # any changes in copied list will affect original list as well.\n",
    "print(l2)\n",
    "print(l1)\n",
    "\n",
    "print(id(l1)) # both list is at same memory address.\n",
    "print(id(l2))"
   ]
  },
  {
   "cell_type": "code",
   "execution_count": 41,
   "id": "d624a7d9",
   "metadata": {},
   "outputs": [
    {
     "name": "stdout",
     "output_type": "stream",
     "text": [
      "2263819256448\n",
      "2263819316416\n",
      "[1, 2, 3, [4, 5, 6], 'Hello']\n",
      "[1, 2, 3, [4, 5, 6]]\n",
      "[1, 2, 3, ['World', 5, 6], 'Hello']\n",
      "[1, 2, 3, ['World', 5, 6]]\n"
     ]
    }
   ],
   "source": [
    "# shallow copy :  \n",
    "\n",
    "l1 = [1,2,3,[4,5,6]]\n",
    "l2 = l1.copy() # it creats new object, but does not create copies of nested objects. Instead, it copies references to the original nested objects.\n",
    "\n",
    "print(id(l1))\n",
    "print(id(l2))\n",
    "\n",
    "l2.append('Hello') \n",
    "print(l2)\n",
    "print(l1)\n",
    "\n",
    "l2[3][0]='World' # change in nested elements will affect original list as well.\n",
    "print(l2)\n",
    "print(l1)"
   ]
  },
  {
   "cell_type": "code",
   "execution_count": 42,
   "id": "2ddc6fb4",
   "metadata": {},
   "outputs": [],
   "source": [
    "# shallow copy -  from copy module\n",
    "\n",
    "import copy\n",
    "l1 = [1,2,3,[4,5,6]]\n",
    "l2 = copy.copy(l1)\n",
    "\n",
    "l3 = l1[:] # called cloning. does shallow copy"
   ]
  },
  {
   "cell_type": "code",
   "execution_count": 43,
   "id": "f97ab514",
   "metadata": {},
   "outputs": [
    {
     "name": "stdout",
     "output_type": "stream",
     "text": [
      "2263819257344\n",
      "2263819258432\n",
      "[1, 2, 3, [4, 5, 6], 'Hello']\n",
      "[1, 2, 3, [4, 5, 6]]\n",
      "[1, 2, 3, ['World', 5, 6], 'Hello']\n",
      "[1, 2, 3, [4, 5, 6]]\n"
     ]
    }
   ],
   "source": [
    "# deep copy : \n",
    "\n",
    "l1 = [1,2,3,[4,5,6]]\n",
    "l2 = copy.deepcopy(l1) # it creates new object and copies all nested objects.\n",
    "\n",
    "print(id(l1))\n",
    "print(id(l2))\n",
    "\n",
    "l2.append('Hello') \n",
    "print(l2)\n",
    "print(l1)\n",
    "\n",
    "l2[3][0]='World' # changes in the copy do not affect the original.\n",
    "print(l2)\n",
    "print(l1)"
   ]
  },
  {
   "cell_type": "code",
   "execution_count": null,
   "id": "4daf0092",
   "metadata": {},
   "outputs": [],
   "source": []
  },
  {
   "cell_type": "markdown",
   "id": "0debf8a5",
   "metadata": {},
   "source": [
    "# List Comprehension"
   ]
  },
  {
   "cell_type": "code",
   "execution_count": 44,
   "id": "6c6c2472",
   "metadata": {},
   "outputs": [],
   "source": [
    "# more time & space efficient than loops, internally optimized by python\n",
    "# require fewer lines of code."
   ]
  },
  {
   "cell_type": "code",
   "execution_count": 45,
   "id": "f2596cde",
   "metadata": {},
   "outputs": [
    {
     "name": "stdout",
     "output_type": "stream",
     "text": [
      "[1, 2, 3, 4, 5, 6, 7, 8, 9, 10]\n"
     ]
    }
   ],
   "source": [
    "l = []\n",
    "for i in range(1,11):\n",
    "    l.append(i)\n",
    "print(l)"
   ]
  },
  {
   "cell_type": "code",
   "execution_count": 46,
   "id": "9d943ab2",
   "metadata": {},
   "outputs": [
    {
     "name": "stdout",
     "output_type": "stream",
     "text": [
      "[1, 2, 3, 4, 5, 6, 7, 8, 9, 10]\n"
     ]
    }
   ],
   "source": [
    "# List comprehension\n",
    "l = [i for i in range(1,11)]\n",
    "print(l)"
   ]
  },
  {
   "cell_type": "code",
   "execution_count": 47,
   "id": "a517b1bc",
   "metadata": {},
   "outputs": [
    {
     "name": "stdout",
     "output_type": "stream",
     "text": [
      "[1, 4, 9, 16, 25, 36, 49, 64, 81, 100]\n"
     ]
    }
   ],
   "source": [
    "l = [i**2 for i in range(1,11)]\n",
    "print(l)"
   ]
  },
  {
   "cell_type": "code",
   "execution_count": 48,
   "id": "e1728020",
   "metadata": {},
   "outputs": [
    {
     "name": "stdout",
     "output_type": "stream",
     "text": [
      "10\n"
     ]
    }
   ],
   "source": [
    "# if condition\n",
    "l = [i for i in range(1,11) if i%2==0]\n",
    "print(i)"
   ]
  },
  {
   "cell_type": "code",
   "execution_count": 49,
   "id": "f80a5b7b",
   "metadata": {},
   "outputs": [
    {
     "data": {
      "text/plain": [
       "['apple']"
      ]
     },
     "execution_count": 49,
     "metadata": {},
     "output_type": "execute_result"
    }
   ],
   "source": [
    "# nested if\n",
    "basket = ['apple','guava','cherry','banana']\n",
    "my_fruits = ['apple','kiwi','grapes','banana']\n",
    "\n",
    "[i for i in my_fruits if i in basket if i.startswith('a')]"
   ]
  },
  {
   "cell_type": "code",
   "execution_count": 50,
   "id": "e0221aba",
   "metadata": {},
   "outputs": [
    {
     "name": "stdout",
     "output_type": "stream",
     "text": [
      "['odd', 'even', 'odd', 'even', 'odd', 'even', 'odd', 'even', 'odd', 'even']\n"
     ]
    }
   ],
   "source": [
    "# if-else condition\n",
    "l = ['even' if i%2==0 else 'odd' for i in range(1,11)]\n",
    "print(l)"
   ]
  },
  {
   "cell_type": "code",
   "execution_count": 51,
   "id": "15a33426",
   "metadata": {},
   "outputs": [
    {
     "name": "stdout",
     "output_type": "stream",
     "text": [
      "['A', 'B', 'C', 'D', 'F']\n"
     ]
    }
   ],
   "source": [
    "# multiple if-else condition\n",
    "marks = [95, 82, 67, 58, 40]\n",
    "grades = [\n",
    "    'A' if m >= 90 else\n",
    "    'B' if m >= 75 else\n",
    "    'C' if m >= 60 else\n",
    "    'D' if m >= 50 else\n",
    "    'F'\n",
    "    for m in marks\n",
    "]\n",
    "print(grades)"
   ]
  },
  {
   "cell_type": "code",
   "execution_count": 52,
   "id": "162272d8",
   "metadata": {},
   "outputs": [
    {
     "data": {
      "text/plain": [
       "['Python', 'PHP']"
      ]
     },
     "execution_count": 52,
     "metadata": {},
     "output_type": "execute_result"
    }
   ],
   "source": [
    "lan = ['Java','Python','PHP','C','JAVASCRIPT']\n",
    "[i for i in lan if i[0]=='P']"
   ]
  },
  {
   "cell_type": "code",
   "execution_count": 53,
   "id": "b10b1501",
   "metadata": {},
   "outputs": [
    {
     "data": {
      "text/plain": [
       "['Python', 'PHP']"
      ]
     },
     "execution_count": 53,
     "metadata": {},
     "output_type": "execute_result"
    }
   ],
   "source": [
    "lan = ['Java','Python','PHP','C','JAVASCRIPT']\n",
    "[i for i in lan if i.startswith('P')]"
   ]
  },
  {
   "cell_type": "code",
   "execution_count": 54,
   "id": "6132d697",
   "metadata": {},
   "outputs": [
    {
     "data": {
      "text/plain": [
       "[[1, 2, 3], [2, 4, 6], [3, 6, 9]]"
      ]
     },
     "execution_count": 54,
     "metadata": {},
     "output_type": "execute_result"
    }
   ],
   "source": [
    "# matrix using list comprehension\n",
    "[[i*j for i in range(1,4)] for j in range(1,4) ]"
   ]
  },
  {
   "cell_type": "code",
   "execution_count": 55,
   "id": "ebff031d",
   "metadata": {},
   "outputs": [
    {
     "data": {
      "text/plain": [
       "[5, 8, 9, 10, 16, 18, 15, 24, 27, 20, 32, 36, 25, 40, 45]"
      ]
     },
     "execution_count": 55,
     "metadata": {},
     "output_type": "execute_result"
    }
   ],
   "source": [
    "# cartesiun products...\n",
    "l1 = [1,2,3,4,5]\n",
    "l2 = [5,8,9]\n",
    "[i*j for i in l1 for j in l2]"
   ]
  },
  {
   "cell_type": "code",
   "execution_count": 56,
   "id": "f16cb717",
   "metadata": {},
   "outputs": [
    {
     "data": {
      "text/plain": [
       "[1, 2, 3, 85, 98, 25, 89, 47, 45]"
      ]
     },
     "execution_count": 56,
     "metadata": {},
     "output_type": "execute_result"
    }
   ],
   "source": [
    "# Join two list\n",
    "l1 = [1,2,3]\n",
    "l2 = [85,98,25,89,47,45]\n",
    "\n",
    "[i for sublist in [l1,l2] for i in sublist]"
   ]
  },
  {
   "cell_type": "code",
   "execution_count": null,
   "id": "d83351fb",
   "metadata": {},
   "outputs": [],
   "source": []
  },
  {
   "cell_type": "markdown",
   "id": "9f711a20",
   "metadata": {},
   "source": [
    "# 2 Ways to Traverse a List"
   ]
  },
  {
   "cell_type": "code",
   "execution_count": 57,
   "id": "567614e7",
   "metadata": {},
   "outputs": [
    {
     "name": "stdout",
     "output_type": "stream",
     "text": [
      "1 2 3 5 6 "
     ]
    }
   ],
   "source": [
    "# item wise\n",
    "l = [1,2,3,5,6]\n",
    "for i in l:\n",
    "    print(i,end=' ')"
   ]
  },
  {
   "cell_type": "code",
   "execution_count": 58,
   "id": "3bcf18f1",
   "metadata": {},
   "outputs": [
    {
     "name": "stdout",
     "output_type": "stream",
     "text": [
      "0 index - 1\n",
      "1 index - 2\n",
      "2 index - 3\n",
      "3 index - 5\n",
      "4 index - 6\n"
     ]
    }
   ],
   "source": [
    "# index wise\n",
    "l = [1,2,3,5,6]\n",
    "for i in range(0,len(l)):\n",
    "    print(i,'index -',l[i])"
   ]
  },
  {
   "cell_type": "code",
   "execution_count": null,
   "id": "af8d420b",
   "metadata": {},
   "outputs": [],
   "source": []
  },
  {
   "cell_type": "markdown",
   "id": "b89595c7",
   "metadata": {},
   "source": [
    "# Zip() Function"
   ]
  },
  {
   "cell_type": "code",
   "execution_count": 59,
   "id": "34fd65ef",
   "metadata": {},
   "outputs": [
    {
     "name": "stdout",
     "output_type": "stream",
     "text": [
      "(1, 5)\n",
      "(2, 8)\n",
      "(3, 9)\n"
     ]
    }
   ],
   "source": [
    "# zip() : combine multiple list element-wise into tuples.\n",
    "l1 = [1,2,3,4,5]\n",
    "l2 = [5,8,9]\n",
    "\n",
    "for i in (zip(l1,l2)):  # one by one pair from list, no. of items will be min of both list.. \n",
    "    print(i)"
   ]
  },
  {
   "cell_type": "code",
   "execution_count": 60,
   "id": "7658eb26",
   "metadata": {},
   "outputs": [
    {
     "data": {
      "text/plain": [
       "[(1, 5), (2, 8), (3, 9)]"
      ]
     },
     "execution_count": 60,
     "metadata": {},
     "output_type": "execute_result"
    }
   ],
   "source": [
    "list(zip(l1,l2))"
   ]
  },
  {
   "cell_type": "code",
   "execution_count": 61,
   "id": "8eae7535",
   "metadata": {},
   "outputs": [
    {
     "data": {
      "text/plain": [
       "[6, 10, 12]"
      ]
     },
     "execution_count": 61,
     "metadata": {},
     "output_type": "execute_result"
    }
   ],
   "source": [
    "[i+j for i,j in zip(l1,l2)]"
   ]
  },
  {
   "cell_type": "code",
   "execution_count": null,
   "id": "ef47acbd",
   "metadata": {},
   "outputs": [],
   "source": []
  },
  {
   "cell_type": "markdown",
   "id": "f3986f33",
   "metadata": {},
   "source": [
    "# Disadvantags of Python List"
   ]
  },
  {
   "cell_type": "markdown",
   "id": "85b38071",
   "metadata": {},
   "source": [
    "**Slow Performance**\n",
    "- Python stores references to objects than raw data. accessing element involves dereferencing these pointers.\n",
    "- slower for large scale numerical computing.\n",
    "\n",
    "**High Memory Usage**\n",
    "- support dynamic resizing, over-allocates memory. this leads to wasted space."
   ]
  }
 ],
 "metadata": {
  "kernelspec": {
   "display_name": "Python 3",
   "language": "python",
   "name": "python3"
  },
  "language_info": {
   "codemirror_mode": {
    "name": "ipython",
    "version": 3
   },
   "file_extension": ".py",
   "mimetype": "text/x-python",
   "name": "python",
   "nbconvert_exporter": "python",
   "pygments_lexer": "ipython3",
   "version": "3.11.2"
  }
 },
 "nbformat": 4,
 "nbformat_minor": 5
}
