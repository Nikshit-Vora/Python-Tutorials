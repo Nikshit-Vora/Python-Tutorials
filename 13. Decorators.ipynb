{
 "cells": [
  {
   "cell_type": "markdown",
   "id": "933fed03",
   "metadata": {},
   "source": [
    "# Decorators:\n",
    "- It allows us to modify or enhance the behavior of functions or classes without changing their actual code.\n",
    "- decorator is function that takes another functions as input, adds some functionality to it, and returns it.\n",
    "- built-in decorators: staticmethod, classmethod, abstractmethod etc."
   ]
  },
  {
   "cell_type": "code",
   "execution_count": 1,
   "id": "97a26bc4",
   "metadata": {},
   "outputs": [
    {
     "name": "stdout",
     "output_type": "stream",
     "text": [
      "hello\n"
     ]
    }
   ],
   "source": [
    "def func():\n",
    "    print('hello')\n",
    "    \n",
    "a = func\n",
    "a()"
   ]
  },
  {
   "cell_type": "code",
   "execution_count": 2,
   "id": "f019a1d4",
   "metadata": {},
   "outputs": [
    {
     "data": {
      "text/plain": [
       "81"
      ]
     },
     "execution_count": 2,
     "metadata": {},
     "output_type": "execute_result"
    }
   ],
   "source": [
    "def modify(func,num): # modify takes another function as input and integer\n",
    "    return func(num)\n",
    "\n",
    "def square(num):  # returns square\n",
    "    return num**2\n",
    "\n",
    "# Calling 'modify', passing the 'square' function and the number 2\n",
    "modify(square,9) "
   ]
  },
  {
   "cell_type": "code",
   "execution_count": 3,
   "id": "adc46ec0",
   "metadata": {},
   "outputs": [],
   "source": [
    "def my_deco(func):\n",
    "    def wrapper():\n",
    "        print('**********start***************')\n",
    "        func()\n",
    "        print('***********end***************')\n",
    "    return wrapper\n",
    "\n",
    "def hello():\n",
    "    print('Hello!! How are you.?')\n",
    "    \n",
    "def display():\n",
    "    print('I\\'m Nikshit..')"
   ]
  },
  {
   "cell_type": "code",
   "execution_count": 4,
   "id": "4e894031",
   "metadata": {},
   "outputs": [
    {
     "name": "stdout",
     "output_type": "stream",
     "text": [
      "**********start***************\n",
      "Hello!! How are you.?\n",
      "***********end***************\n"
     ]
    }
   ],
   "source": [
    "a = my_deco(hello)\n",
    "a()"
   ]
  },
  {
   "cell_type": "code",
   "execution_count": 5,
   "id": "3e02561d",
   "metadata": {},
   "outputs": [
    {
     "name": "stdout",
     "output_type": "stream",
     "text": [
      "**********start***************\n",
      "I'm Nikshit..\n",
      "***********end***************\n"
     ]
    }
   ],
   "source": [
    "b = my_deco(display)\n",
    "b()"
   ]
  },
  {
   "cell_type": "code",
   "execution_count": 6,
   "id": "59be9157",
   "metadata": {},
   "outputs": [],
   "source": [
    "def my_deco(func):\n",
    "    def wrapper():\n",
    "        print('**********start***************')\n",
    "        func()\n",
    "        print('***********end***************')\n",
    "    return wrapper\n",
    "\n",
    "@my_deco  # Applying the 'my_deco' decorator \n",
    "def hello():\n",
    "    print('Hello!! How are you.?')\n",
    "\n",
    "@my_deco    \n",
    "def display():\n",
    "    print('I\\'m Nikshit..')"
   ]
  },
  {
   "cell_type": "code",
   "execution_count": 7,
   "id": "8c358caa",
   "metadata": {},
   "outputs": [
    {
     "name": "stdout",
     "output_type": "stream",
     "text": [
      "**********start***************\n",
      "Hello!! How are you.?\n",
      "***********end***************\n"
     ]
    }
   ],
   "source": [
    "hello()"
   ]
  },
  {
   "cell_type": "code",
   "execution_count": 8,
   "id": "4b2514e8",
   "metadata": {},
   "outputs": [
    {
     "name": "stdout",
     "output_type": "stream",
     "text": [
      "**********start***************\n",
      "I'm Nikshit..\n",
      "***********end***************\n"
     ]
    }
   ],
   "source": [
    "display()"
   ]
  },
  {
   "cell_type": "code",
   "execution_count": 9,
   "id": "edc0741d",
   "metadata": {},
   "outputs": [],
   "source": [
    "# Examples:"
   ]
  },
  {
   "cell_type": "code",
   "execution_count": 10,
   "id": "98bf28e0",
   "metadata": {},
   "outputs": [],
   "source": [
    "import time\n",
    "def timer(function):\n",
    "    def wrapper():\n",
    "        start = time.time()\n",
    "        function()\n",
    "        print('time taken by',function.__name__,time.time()-start,' secs')\n",
    "    return wrapper"
   ]
  },
  {
   "cell_type": "code",
   "execution_count": 11,
   "id": "4507d98b",
   "metadata": {},
   "outputs": [],
   "source": [
    "@timer\n",
    "def hello():\n",
    "    print('hello world!!')\n",
    "    time.sleep(2)"
   ]
  },
  {
   "cell_type": "code",
   "execution_count": 12,
   "id": "3f5c1d98",
   "metadata": {},
   "outputs": [
    {
     "name": "stdout",
     "output_type": "stream",
     "text": [
      "hello world!!\n",
      "time taken by hello 2.000882625579834  secs\n"
     ]
    }
   ],
   "source": [
    "hello()"
   ]
  },
  {
   "cell_type": "code",
   "execution_count": 13,
   "id": "943e75df",
   "metadata": {},
   "outputs": [
    {
     "ename": "TypeError",
     "evalue": "timer.<locals>.wrapper() takes 0 positional arguments but 1 was given",
     "output_type": "error",
     "traceback": [
      "\u001b[31m---------------------------------------------------------------------------\u001b[39m",
      "\u001b[31mTypeError\u001b[39m                                 Traceback (most recent call last)",
      "\u001b[36mCell\u001b[39m\u001b[36m \u001b[39m\u001b[32mIn[13]\u001b[39m\u001b[32m, line 5\u001b[39m\n\u001b[32m      1\u001b[39m \u001b[38;5;129m@timer\u001b[39m   \u001b[38;5;66;03m# TypeError as defined wrapper inside timer does not accept any arguments.\u001b[39;00m\n\u001b[32m      2\u001b[39m \u001b[38;5;28;01mdef\u001b[39;00m\u001b[38;5;250m \u001b[39m\u001b[34msquare\u001b[39m(num):\n\u001b[32m      3\u001b[39m     \u001b[38;5;28;01mreturn\u001b[39;00m num**\u001b[32m2\u001b[39m\n\u001b[32m----> \u001b[39m\u001b[32m5\u001b[39m \u001b[43msquare\u001b[49m\u001b[43m(\u001b[49m\u001b[32;43m5\u001b[39;49m\u001b[43m)\u001b[49m\n",
      "\u001b[31mTypeError\u001b[39m: timer.<locals>.wrapper() takes 0 positional arguments but 1 was given"
     ]
    }
   ],
   "source": [
    "@timer   # TypeError as defined wrapper inside timer does not accept any arguments.\n",
    "def square(num):\n",
    "    return num**2\n",
    "\n",
    "square(5)"
   ]
  },
  {
   "cell_type": "code",
   "execution_count": 14,
   "id": "1b11d99a",
   "metadata": {},
   "outputs": [
    {
     "name": "stdout",
     "output_type": "stream",
     "text": [
      "time taken by square 1.0003552436828613  secs\n"
     ]
    }
   ],
   "source": [
    "import time\n",
    "def timer(function):\n",
    "    def wrapper(*args):\n",
    "        start = time.time()\n",
    "        function(*args)\n",
    "        print('time taken by',function.__name__,time.time()-start,' secs')\n",
    "    return wrapper\n",
    "\n",
    "@timer   \n",
    "def square(num):\n",
    "    time.sleep(1)\n",
    "    return num**2   \n",
    "\n",
    "square(5)"
   ]
  },
  {
   "cell_type": "code",
   "execution_count": 15,
   "id": "64044381",
   "metadata": {},
   "outputs": [
    {
     "name": "stdout",
     "output_type": "stream",
     "text": [
      "time taken by power 1.501204490661621  secs\n"
     ]
    }
   ],
   "source": [
    "@timer\n",
    "def power(a,b):\n",
    "    time.sleep(1.5)\n",
    "    return a*b\n",
    "\n",
    "power(2,5)"
   ]
  },
  {
   "cell_type": "code",
   "execution_count": null,
   "id": "bc5db20a",
   "metadata": {},
   "outputs": [],
   "source": []
  },
  {
   "cell_type": "code",
   "execution_count": 16,
   "id": "60bd3cef",
   "metadata": {},
   "outputs": [],
   "source": [
    "def sanity_check(data_type):\n",
    "    def outer_wrapper(func):\n",
    "        def inner_wrapper(*args):\n",
    "            if type(*args)==data_type:\n",
    "                func(*args)\n",
    "            else:\n",
    "                raise TypeError('give integer input.')\n",
    "        return inner_wrapper\n",
    "    return outer_wrapper"
   ]
  },
  {
   "cell_type": "code",
   "execution_count": 17,
   "id": "f83e8bd0",
   "metadata": {},
   "outputs": [
    {
     "name": "stdout",
     "output_type": "stream",
     "text": [
      "64\n"
     ]
    }
   ],
   "source": [
    "@sanity_check(int)\n",
    "def square(num):\n",
    "    print(num**2)\n",
    "square(8)"
   ]
  },
  {
   "cell_type": "code",
   "execution_count": 18,
   "id": "9acf9700",
   "metadata": {},
   "outputs": [
    {
     "ename": "TypeError",
     "evalue": "give integer input.",
     "output_type": "error",
     "traceback": [
      "\u001b[31m---------------------------------------------------------------------------\u001b[39m",
      "\u001b[31mTypeError\u001b[39m                                 Traceback (most recent call last)",
      "\u001b[36mCell\u001b[39m\u001b[36m \u001b[39m\u001b[32mIn[18]\u001b[39m\u001b[32m, line 1\u001b[39m\n\u001b[32m----> \u001b[39m\u001b[32m1\u001b[39m \u001b[43msquare\u001b[49m\u001b[43m(\u001b[49m\u001b[33;43m'\u001b[39;49m\u001b[33;43mHello\u001b[39;49m\u001b[33;43m'\u001b[39;49m\u001b[43m)\u001b[49m\n",
      "\u001b[36mCell\u001b[39m\u001b[36m \u001b[39m\u001b[32mIn[16]\u001b[39m\u001b[32m, line 7\u001b[39m, in \u001b[36msanity_check.<locals>.outer_wrapper.<locals>.inner_wrapper\u001b[39m\u001b[34m(*args)\u001b[39m\n\u001b[32m      5\u001b[39m     func(*args)\n\u001b[32m      6\u001b[39m \u001b[38;5;28;01melse\u001b[39;00m:\n\u001b[32m----> \u001b[39m\u001b[32m7\u001b[39m     \u001b[38;5;28;01mraise\u001b[39;00m \u001b[38;5;167;01mTypeError\u001b[39;00m(\u001b[33m'\u001b[39m\u001b[33mgive integer input.\u001b[39m\u001b[33m'\u001b[39m)\n",
      "\u001b[31mTypeError\u001b[39m: give integer input."
     ]
    }
   ],
   "source": [
    "square('Hello')"
   ]
  },
  {
   "cell_type": "code",
   "execution_count": 19,
   "id": "a1f38334",
   "metadata": {},
   "outputs": [
    {
     "name": "stdout",
     "output_type": "stream",
     "text": [
      "hello  Nikshit\n"
     ]
    }
   ],
   "source": [
    "@sanity_check(str)\n",
    "def greet(name):\n",
    "    print('hello ',name)\n",
    "\n",
    "greet('Nikshit')"
   ]
  },
  {
   "cell_type": "code",
   "execution_count": 20,
   "id": "7aa59afe",
   "metadata": {},
   "outputs": [
    {
     "ename": "TypeError",
     "evalue": "give integer input.",
     "output_type": "error",
     "traceback": [
      "\u001b[31m---------------------------------------------------------------------------\u001b[39m",
      "\u001b[31mTypeError\u001b[39m                                 Traceback (most recent call last)",
      "\u001b[36mCell\u001b[39m\u001b[36m \u001b[39m\u001b[32mIn[20]\u001b[39m\u001b[32m, line 1\u001b[39m\n\u001b[32m----> \u001b[39m\u001b[32m1\u001b[39m \u001b[43mgreet\u001b[49m\u001b[43m(\u001b[49m\u001b[32;43m78\u001b[39;49m\u001b[43m)\u001b[49m\n",
      "\u001b[36mCell\u001b[39m\u001b[36m \u001b[39m\u001b[32mIn[16]\u001b[39m\u001b[32m, line 7\u001b[39m, in \u001b[36msanity_check.<locals>.outer_wrapper.<locals>.inner_wrapper\u001b[39m\u001b[34m(*args)\u001b[39m\n\u001b[32m      5\u001b[39m     func(*args)\n\u001b[32m      6\u001b[39m \u001b[38;5;28;01melse\u001b[39;00m:\n\u001b[32m----> \u001b[39m\u001b[32m7\u001b[39m     \u001b[38;5;28;01mraise\u001b[39;00m \u001b[38;5;167;01mTypeError\u001b[39;00m(\u001b[33m'\u001b[39m\u001b[33mgive integer input.\u001b[39m\u001b[33m'\u001b[39m)\n",
      "\u001b[31mTypeError\u001b[39m: give integer input."
     ]
    }
   ],
   "source": [
    "greet(78)"
   ]
  },
  {
   "cell_type": "code",
   "execution_count": null,
   "id": "52f2acd6",
   "metadata": {},
   "outputs": [],
   "source": []
  }
 ],
 "metadata": {
  "kernelspec": {
   "display_name": "Python 3",
   "language": "python",
   "name": "python3"
  },
  "language_info": {
   "codemirror_mode": {
    "name": "ipython",
    "version": 3
   },
   "file_extension": ".py",
   "mimetype": "text/x-python",
   "name": "python",
   "nbconvert_exporter": "python",
   "pygments_lexer": "ipython3",
   "version": "3.11.2"
  }
 },
 "nbformat": 4,
 "nbformat_minor": 5
}
