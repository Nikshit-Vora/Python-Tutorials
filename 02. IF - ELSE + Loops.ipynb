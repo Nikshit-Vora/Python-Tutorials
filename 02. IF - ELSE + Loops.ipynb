{
 "cells": [
  {
   "cell_type": "markdown",
   "id": "eca1c032",
   "metadata": {},
   "source": [
    "# 1. If - Elif - Else Statement"
   ]
  },
  {
   "cell_type": "code",
   "execution_count": 1,
   "id": "db5ff1aa",
   "metadata": {},
   "outputs": [],
   "source": [
    "# to control the flow of execution based on condition.\n",
    "# first matching condition will gets executed, rest are skipped."
   ]
  },
  {
   "cell_type": "code",
   "execution_count": 2,
   "id": "d607f4e2",
   "metadata": {},
   "outputs": [
    {
     "name": "stdout",
     "output_type": "stream",
     "text": [
      "welcome\n"
     ]
    }
   ],
   "source": [
    "# email = 'nik@gmail.com'\n",
    "# password = 1234\n",
    "\n",
    "email = input('enter email')\n",
    "password = input('enter password')\n",
    "\n",
    "if email == 'nik@gmail.com' and password == '1234':\n",
    "    print('welcome')\n",
    "elif email == 'nik@gmail.com' and password != '1234':\n",
    "    print('incorrect password.')\n",
    "    password = input('enter password')\n",
    "    if password == '1234':\n",
    "        print('welcome! finally.')\n",
    "    else:\n",
    "        print('its wrong again..')\n",
    "else:\n",
    "    print('both not correct.')\n",
    "    "
   ]
  },
  {
   "cell_type": "markdown",
   "id": "c9f31daf",
   "metadata": {},
   "source": [
    "#### .split()"
   ]
  },
  {
   "cell_type": "code",
   "execution_count": 3,
   "id": "cd8deda5",
   "metadata": {},
   "outputs": [
    {
     "data": {
      "text/plain": [
       "['Nikshit', 'Vora']"
      ]
     },
     "execution_count": 3,
     "metadata": {},
     "output_type": "execute_result"
    }
   ],
   "source": [
    "# split() - to split string into list of substrings based on specified seprator.\n",
    "a = 'Nikshit Vora'\n",
    "a.split()  # default is space"
   ]
  },
  {
   "cell_type": "code",
   "execution_count": 4,
   "id": "5b1be3e3",
   "metadata": {},
   "outputs": [
    {
     "data": {
      "text/plain": [
       "['Nikshit', 'vora', 'hiral', 'vora']"
      ]
     },
     "execution_count": 4,
     "metadata": {},
     "output_type": "execute_result"
    }
   ],
   "source": [
    "# split with comma\n",
    "a = 'Nikshit,vora,hiral,vora'\n",
    "a.split(',')"
   ]
  },
  {
   "cell_type": "code",
   "execution_count": 5,
   "id": "080aca8a",
   "metadata": {},
   "outputs": [
    {
     "name": "stdout",
     "output_type": "stream",
     "text": [
      "Nikshit\n",
      "Vora\n"
     ]
    }
   ],
   "source": [
    "a = 'Nikshit,Vora'\n",
    "x,y = a.split(',')\n",
    "print(x)\n",
    "print(y)"
   ]
  },
  {
   "cell_type": "markdown",
   "id": "7d03e850",
   "metadata": {},
   "source": [
    "#### .join()"
   ]
  },
  {
   "cell_type": "code",
   "execution_count": 6,
   "id": "fa06fa6a",
   "metadata": {},
   "outputs": [
    {
     "data": {
      "text/plain": [
       "'a b c d'"
      ]
     },
     "execution_count": 6,
     "metadata": {},
     "output_type": "execute_result"
    }
   ],
   "source": [
    "# .join() - to combine elements of list(any iterable) into single string, with specified seprator between each element.\n",
    "\n",
    "a = ['a','b','c','d']\n",
    "' '.join(a)"
   ]
  },
  {
   "cell_type": "code",
   "execution_count": 7,
   "id": "31a46d6d",
   "metadata": {},
   "outputs": [
    {
     "data": {
      "text/plain": [
       "'a-----b-----c-----d'"
      ]
     },
     "execution_count": 7,
     "metadata": {},
     "output_type": "execute_result"
    }
   ],
   "source": [
    "'-----'.join(a)"
   ]
  },
  {
   "cell_type": "code",
   "execution_count": 8,
   "id": "f5cfd0ea",
   "metadata": {},
   "outputs": [
    {
     "name": "stdout",
     "output_type": "stream",
     "text": [
      "min - 3\n"
     ]
    }
   ],
   "source": [
    "# Find min of three numbers.\n",
    "\n",
    "a,b,c = input('enter three number seprated with comma - ').split(',')\n",
    "if a<b and a<c:\n",
    "    print('min -',a)\n",
    "elif b < c:\n",
    "    print('min - ',b)\n",
    "else:\n",
    "    print('min - ',c)"
   ]
  },
  {
   "cell_type": "code",
   "execution_count": 9,
   "id": "7809be60",
   "metadata": {},
   "outputs": [
    {
     "name": "stdout",
     "output_type": "stream",
     "text": [
      "10\n"
     ]
    }
   ],
   "source": [
    "# menu driven calculator\n",
    "\n",
    "n1,n2 = input('enter two numbers').split(',')\n",
    "op = input('enter the operation +,-,*,/ -> ')\n",
    "n1,n2 = int(n1),int(n2)\n",
    "if op =='+':\n",
    "    print(n1+n2)\n",
    "elif op == '-':\n",
    "    print(n1-n2)\n",
    "elif op == '*':\n",
    "    print(n1*n2)\n",
    "else:\n",
    "    print(n1/n2)"
   ]
  },
  {
   "cell_type": "code",
   "execution_count": null,
   "id": "16dd9dab",
   "metadata": {},
   "outputs": [],
   "source": []
  },
  {
   "cell_type": "markdown",
   "id": "e7f438bb",
   "metadata": {},
   "source": [
    "# 2. Modules"
   ]
  },
  {
   "cell_type": "code",
   "execution_count": 10,
   "id": "9072927e",
   "metadata": {},
   "outputs": [
    {
     "name": "stdout",
     "output_type": "stream",
     "text": [
      "120\n",
      "14.0\n"
     ]
    }
   ],
   "source": [
    "# math\n",
    "import math\n",
    "# using function of math module\n",
    "print(math.factorial(5))\n",
    "print(math.sqrt(196))"
   ]
  },
  {
   "cell_type": "code",
   "execution_count": 11,
   "id": "6d1a0fe0",
   "metadata": {},
   "outputs": [
    {
     "name": "stdout",
     "output_type": "stream",
     "text": [
      "['False', 'None', 'True', 'and', 'as', 'assert', 'async', 'await', 'break', 'class', 'continue', 'def', 'del', 'elif', 'else', 'except', 'finally', 'for', 'from', 'global', 'if', 'import', 'in', 'is', 'lambda', 'nonlocal', 'not', 'or', 'pass', 'raise', 'return', 'try', 'while', 'with', 'yield']\n"
     ]
    }
   ],
   "source": [
    "# keyword\n",
    "import keyword\n",
    "print(keyword.kwlist)"
   ]
  },
  {
   "cell_type": "code",
   "execution_count": 12,
   "id": "825cfd4d",
   "metadata": {},
   "outputs": [
    {
     "name": "stdout",
     "output_type": "stream",
     "text": [
      "13\n"
     ]
    }
   ],
   "source": [
    "# random\n",
    "import random\n",
    "print(random.randint(1,100))"
   ]
  },
  {
   "cell_type": "code",
   "execution_count": 13,
   "id": "c2e6a62e",
   "metadata": {},
   "outputs": [
    {
     "name": "stdout",
     "output_type": "stream",
     "text": [
      "2025-07-20 19:48:54.012035\n"
     ]
    }
   ],
   "source": [
    "# datetime\n",
    "import datetime\n",
    "print(datetime.datetime.now())"
   ]
  },
  {
   "cell_type": "code",
   "execution_count": null,
   "id": "0be30b8d",
   "metadata": {},
   "outputs": [],
   "source": []
  },
  {
   "cell_type": "markdown",
   "id": "a2ce87e6",
   "metadata": {},
   "source": [
    "# 3. Loops"
   ]
  },
  {
   "cell_type": "code",
   "execution_count": 14,
   "id": "b99fad2f",
   "metadata": {},
   "outputs": [],
   "source": [
    "# Loops are used to repeat a block of code multiple times."
   ]
  },
  {
   "cell_type": "markdown",
   "id": "a85f6d79",
   "metadata": {},
   "source": [
    "#### While Loop"
   ]
  },
  {
   "cell_type": "code",
   "execution_count": 15,
   "id": "55b3fd67",
   "metadata": {},
   "outputs": [
    {
     "name": "stdout",
     "output_type": "stream",
     "text": [
      "4 * 1 = 4\n",
      "4 * 2 = 8\n",
      "4 * 3 = 12\n",
      "4 * 4 = 16\n",
      "4 * 5 = 20\n",
      "4 * 6 = 24\n",
      "4 * 7 = 28\n",
      "4 * 8 = 32\n",
      "4 * 9 = 36\n",
      "4 * 10 = 40\n"
     ]
    }
   ],
   "source": [
    "# while loop repeats as long as condition is True.\n",
    "\n",
    "n = int(input('enter the number -'))\n",
    "i = 1\n",
    "while i<=10:\n",
    "    print(n,'*',i,'=',n*i)\n",
    "    i+=1"
   ]
  },
  {
   "cell_type": "markdown",
   "id": "07742fde",
   "metadata": {},
   "source": [
    "#### While Loop With Else"
   ]
  },
  {
   "cell_type": "code",
   "execution_count": 16,
   "id": "f2e23eb4",
   "metadata": {},
   "outputs": [
    {
     "name": "stdout",
     "output_type": "stream",
     "text": [
      "0\n",
      "1\n",
      "2\n",
      "3\n",
      "4\n",
      "5\n",
      "Loop is completed. no break in between loop.\n"
     ]
    }
   ],
   "source": [
    "# The else block will only execute if the loop completes all iterations without encountering a break.\n",
    "i = 0\n",
    "while i <= 5:\n",
    "    print(i)\n",
    "    i+=1\n",
    "else:  \n",
    "    print('Loop is completed. no break in between loop.')"
   ]
  },
  {
   "cell_type": "code",
   "execution_count": 17,
   "id": "098cf3b2",
   "metadata": {},
   "outputs": [
    {
     "name": "stdout",
     "output_type": "stream",
     "text": [
      "0\n",
      "1\n",
      "2\n",
      "3\n"
     ]
    }
   ],
   "source": [
    "# If the loop is terminated by a break statement before completing all iterations, the else block will not be executed.\n",
    "i = 0\n",
    "while i <= 5:\n",
    "    print(i)\n",
    "    i+=1\n",
    "\n",
    "    if i==4:\n",
    "        break\n",
    "else:  \n",
    "    print('Loop is completed. no break in between loop.')"
   ]
  },
  {
   "cell_type": "code",
   "execution_count": null,
   "id": "0c0b0c65",
   "metadata": {},
   "outputs": [],
   "source": []
  },
  {
   "cell_type": "markdown",
   "id": "943d3eef",
   "metadata": {},
   "source": [
    "##### Number Guessing Game"
   ]
  },
  {
   "cell_type": "code",
   "execution_count": 18,
   "id": "e6825118",
   "metadata": {},
   "outputs": [
    {
     "name": "stdout",
     "output_type": "stream",
     "text": [
      "guess higher number.\n",
      "guess higher number.\n",
      "guess higher number.\n",
      "guess higher number.\n",
      "guess higher number.\n",
      "guess higher number.\n",
      "correct guess..\n",
      "guess count is  7\n"
     ]
    }
   ],
   "source": [
    "# generate random int in 1-100 range\n",
    "import random\n",
    "jackpot = random.randint(1,100)\n",
    "\n",
    "# guess from user\n",
    "guess = int(input('guess number. '))\n",
    "guess_count = 1\n",
    "\n",
    "# while loop\n",
    "while guess != jackpot:\n",
    "    if guess < jackpot:\n",
    "        # tell the mistake\n",
    "        print('guess higher number.')\n",
    "    else:\n",
    "        # tell the mistake\n",
    "        print('guess lower number.')\n",
    "    \n",
    "    # chance to guess again\n",
    "    guess = int(input('guess number. '))\n",
    "    guess_count+=1\n",
    "else:\n",
    "    print('correct guess..')\n",
    "    print('guess count is ',guess_count)\n"
   ]
  },
  {
   "cell_type": "code",
   "execution_count": null,
   "id": "15a5b261",
   "metadata": {},
   "outputs": [],
   "source": []
  },
  {
   "cell_type": "markdown",
   "id": "de5495bc",
   "metadata": {},
   "source": [
    "#### For Loop"
   ]
  },
  {
   "cell_type": "code",
   "execution_count": 19,
   "id": "ca1b7da3",
   "metadata": {},
   "outputs": [
    {
     "name": "stdout",
     "output_type": "stream",
     "text": [
      "1,2,3,4,5,6,7,8,9,"
     ]
    }
   ],
   "source": [
    "# for loop iterates over sequence (like list, tuple, string, or range.)\n",
    "# range(start,end,step=1) - used to generate sequence of numbers.\n",
    "\n",
    "for i in range(1,10):\n",
    "    print(i,end=',')"
   ]
  },
  {
   "cell_type": "code",
   "execution_count": 20,
   "id": "db90264a",
   "metadata": {},
   "outputs": [
    {
     "name": "stdout",
     "output_type": "stream",
     "text": [
      "1,4,7,"
     ]
    }
   ],
   "source": [
    "# step size\n",
    "\n",
    "for i in range(1,10,3):\n",
    "    print(i,end=',')"
   ]
  },
  {
   "cell_type": "code",
   "execution_count": 21,
   "id": "cc6f27aa",
   "metadata": {},
   "outputs": [
    {
     "name": "stdout",
     "output_type": "stream",
     "text": [
      "10,9,8,7,6,5,4,3,2,1,"
     ]
    }
   ],
   "source": [
    "# step size & reverse order\n",
    "\n",
    "for i in range(10,0,-1):\n",
    "    print(i,end=',')"
   ]
  },
  {
   "cell_type": "code",
   "execution_count": 22,
   "id": "37798d9c",
   "metadata": {},
   "outputs": [
    {
     "name": "stdout",
     "output_type": "stream",
     "text": [
      "J\n",
      "u\n",
      "n\n",
      "a\n",
      "g\n",
      "a\n",
      "d\n",
      "h\n"
     ]
    }
   ],
   "source": [
    "# for loop in string \n",
    "\n",
    "for i in 'Junagadh':\n",
    "    print(i)"
   ]
  },
  {
   "cell_type": "markdown",
   "id": "009155de",
   "metadata": {},
   "source": [
    "#### For Loop With Else"
   ]
  },
  {
   "cell_type": "code",
   "execution_count": 23,
   "id": "26c9c919",
   "metadata": {},
   "outputs": [
    {
     "name": "stdout",
     "output_type": "stream",
     "text": [
      "1,2,3,4,5,6,7,8,9,10,11,12,13,14,15,16,17,18,19,\n",
      "else block executed. All the iterations completed for given range.\n"
     ]
    }
   ],
   "source": [
    "for i in range(1, 20):\n",
    "    # The loop will iterate over all values from 1 to 19.\n",
    "    # Since the break condition (i == 25) is never met, the loop will not break.\n",
    "    # All values will be printed, and the else block will execute after the loop finishes.\n",
    "    if i == 25:\n",
    "        break  # This will never trigger for the given range.\n",
    "    else:\n",
    "        print(i, end=',')\n",
    "else:\n",
    "    # The else block runs only if the loop completes all iterations without a break.\n",
    "    print('\\nelse block executed. All the iterations completed for given range.')"
   ]
  },
  {
   "cell_type": "code",
   "execution_count": 24,
   "id": "38c3efc5",
   "metadata": {},
   "outputs": [
    {
     "name": "stdout",
     "output_type": "stream",
     "text": [
      "1,2,3,4,5,6,7,8,9,"
     ]
    }
   ],
   "source": [
    "for i in range(1, 20):\n",
    "    # The loop will iterate from 1 to 19.\n",
    "    # When i == 10, the break statement will terminate the loop early.\n",
    "    # Because the loop is broken before completing all iterations, the else block will NOT execute.\n",
    "    if i == 10:\n",
    "        break  # Loop breaks here when i is 10.\n",
    "    else:\n",
    "        print(i, end=',')\n",
    "else:\n",
    "    # This else block only runs if the loop completes all iterations without a break.\n",
    "    print('\\nelse block executed. All the iterations completed for the given range.')"
   ]
  },
  {
   "cell_type": "markdown",
   "id": "0ed9969e",
   "metadata": {},
   "source": [
    "#### Nested Loop"
   ]
  },
  {
   "cell_type": "code",
   "execution_count": 25,
   "id": "029fa040",
   "metadata": {},
   "outputs": [
    {
     "name": "stdout",
     "output_type": "stream",
     "text": [
      "1 1,1 2,1 3,1 4,\n",
      "\n",
      "2 1,2 2,2 3,2 4,\n",
      "\n",
      "3 1,3 2,3 3,3 4,\n",
      "\n",
      "4 1,4 2,4 3,4 4,\n",
      "\n"
     ]
    }
   ],
   "source": [
    "# nested loop - Loops inside other loops.\n",
    "\n",
    "for i in range(1,5):\n",
    "    for j in range(1,5):\n",
    "        print(i,j,end=',')\n",
    "    print('\\n')"
   ]
  },
  {
   "cell_type": "code",
   "execution_count": null,
   "id": "d8738fc0",
   "metadata": {},
   "outputs": [],
   "source": []
  },
  {
   "cell_type": "markdown",
   "id": "e431f5a6",
   "metadata": {},
   "source": [
    "##### Example"
   ]
  },
  {
   "cell_type": "code",
   "execution_count": 26,
   "id": "ca79f462",
   "metadata": {},
   "outputs": [
    {
     "name": "stdout",
     "output_type": "stream",
     "text": [
      "Year 2010 -> 10000\n",
      "Year 2009 -> 9090.90909090909\n",
      "Year 2008 -> 8264.462809917353\n",
      "Year 2007 -> 7513.148009015775\n",
      "Year 2006 -> 6830.134553650703\n",
      "Year 2005 -> 6209.213230591548\n",
      "Year 2004 -> 5644.739300537771\n",
      "Year 2003 -> 5131.5811823070635\n",
      "Year 2002 -> 4665.07380209733\n",
      "Year 2001 -> 4240.976183724845\n"
     ]
    }
   ],
   "source": [
    "# 2010, current population = 10000\n",
    "# rate of increase = 10\n",
    "# find population at the end of each of last 10 year, 2000-2010\n",
    "\n",
    "curr_pop = 10000\n",
    "for i in range(2010,2000,-1):\n",
    "    print('Year',i,'->',curr_pop)\n",
    "    curr_pop = curr_pop/1.10"
   ]
  },
  {
   "cell_type": "code",
   "execution_count": 27,
   "id": "a5ff244e",
   "metadata": {},
   "outputs": [
    {
     "name": "stdout",
     "output_type": "stream",
     "text": [
      "2.7182815255731922\n"
     ]
    }
   ],
   "source": [
    "# sequence num\n",
    "# 1/1! +2/2! + 3/3! + .......\n",
    "\n",
    "n = int(input('enter n: '))\n",
    "n_sum = 0\n",
    "fact = 1\n",
    "for i in range(1,n+1):\n",
    "    fact = fact*i\n",
    "    n_sum = n_sum + i/fact\n",
    "print(n_sum)\n",
    "    "
   ]
  },
  {
   "cell_type": "code",
   "execution_count": null,
   "id": "3134cec1",
   "metadata": {},
   "outputs": [],
   "source": []
  },
  {
   "cell_type": "markdown",
   "id": "bb5d218d",
   "metadata": {},
   "source": [
    "### Pattern 1"
   ]
  },
  {
   "cell_type": "code",
   "execution_count": 28,
   "id": "cdd884ad",
   "metadata": {},
   "outputs": [
    {
     "name": "stdout",
     "output_type": "stream",
     "text": [
      "*\n",
      "**\n",
      "***\n",
      "****\n",
      "*****\n",
      "******\n",
      "*******\n",
      "********\n",
      "*********\n",
      "**********\n"
     ]
    }
   ],
   "source": [
    "# 1st method\n",
    "\n",
    "n = int(input('enter the number of rows -> '))\n",
    "for i in range(1,n+1):\n",
    "    print('*'*i)"
   ]
  },
  {
   "cell_type": "code",
   "execution_count": 29,
   "id": "fe547db0",
   "metadata": {},
   "outputs": [
    {
     "name": "stdout",
     "output_type": "stream",
     "text": [
      "*\n",
      "**\n",
      "***\n",
      "****\n",
      "*****\n",
      "******\n",
      "*******\n",
      "********\n",
      "*********\n",
      "**********\n"
     ]
    }
   ],
   "source": [
    "# 2nd method\n",
    "\n",
    "n = int(input('enter the number of rows -> '))\n",
    "for i in range(1,n+1):\n",
    "    for i in range(1,i+1):\n",
    "        print('*',end='')\n",
    "    print() # to change the line...."
   ]
  },
  {
   "cell_type": "markdown",
   "id": "e752b18c",
   "metadata": {},
   "source": [
    "### Pattern 2"
   ]
  },
  {
   "cell_type": "code",
   "execution_count": 30,
   "id": "7e6b2a39",
   "metadata": {},
   "outputs": [
    {
     "name": "stdout",
     "output_type": "stream",
     "text": [
      "1\n",
      "121\n",
      "12321\n",
      "1234321\n",
      "123454321\n",
      "12345654321\n",
      "1234567654321\n",
      "123456787654321\n",
      "12345678987654321\n",
      "12345678910987654321\n"
     ]
    }
   ],
   "source": [
    "n = int(input('enter the number -> '))\n",
    "for i in range(1,n+1):\n",
    "    for j in range(1,i+1):\n",
    "        print(j,end='')\n",
    "    for k in range(i-1,0,-1):\n",
    "        print(k,end='')\n",
    "    print()"
   ]
  },
  {
   "cell_type": "code",
   "execution_count": null,
   "id": "2de7b984",
   "metadata": {},
   "outputs": [],
   "source": []
  },
  {
   "cell_type": "markdown",
   "id": "1ffe0b1b",
   "metadata": {},
   "source": [
    "# 4. Break, Continue, Pass Statement"
   ]
  },
  {
   "cell_type": "markdown",
   "id": "09283099",
   "metadata": {},
   "source": [
    "#### Break Statement"
   ]
  },
  {
   "cell_type": "code",
   "execution_count": 31,
   "id": "5529c9cd",
   "metadata": {},
   "outputs": [
    {
     "name": "stdout",
     "output_type": "stream",
     "text": [
      "1\n",
      "2\n",
      "3\n",
      "4\n"
     ]
    }
   ],
   "source": [
    "# break statement : stop/break the loop when given condition is met.\n",
    "\n",
    "for i in range(1,10):\n",
    "    if i==5:\n",
    "        break  \n",
    "    print(i)\n",
    "else:\n",
    "    print('all iterations completed..')"
   ]
  },
  {
   "cell_type": "code",
   "execution_count": 32,
   "id": "dbc86729",
   "metadata": {},
   "outputs": [
    {
     "name": "stdout",
     "output_type": "stream",
     "text": [
      "2,3,5,7,11,13,17,19,23,29,31,37,41,43,47,53,59,61,67,71,73,79,83,89,97,"
     ]
    }
   ],
   "source": [
    "# prime number example.\n",
    "\n",
    "lower = int(input('enter lower range -> '))\n",
    "upper = int(input('enter upper range -> '))\n",
    "\n",
    "for i in range(lower,upper+1):\n",
    "    if i>=2:\n",
    "        for j in range(2,i):\n",
    "            if i%j==0:\n",
    "                break\n",
    "        else: # if all iteration completed means its prime number... \n",
    "            print(i,end=',')\n",
    "    "
   ]
  },
  {
   "cell_type": "markdown",
   "id": "b6a146aa",
   "metadata": {},
   "source": [
    "#### Continue Statement"
   ]
  },
  {
   "cell_type": "code",
   "execution_count": 33,
   "id": "41069e90",
   "metadata": {},
   "outputs": [
    {
     "name": "stdout",
     "output_type": "stream",
     "text": [
      "1\n",
      "2\n",
      "3\n",
      "4\n",
      "6\n",
      "7\n",
      "8\n",
      "9\n"
     ]
    }
   ],
   "source": [
    "# continue - skip the current iteration, and go to next iteration.\n",
    "\n",
    "for i in range(1,10):\n",
    "    if i==5: # 5 is skipped, rest are printed.\n",
    "        continue \n",
    "    print(i)"
   ]
  },
  {
   "cell_type": "markdown",
   "id": "da355f39",
   "metadata": {},
   "source": [
    "#### Pass Statement"
   ]
  },
  {
   "cell_type": "code",
   "execution_count": 34,
   "id": "27b8115b",
   "metadata": {},
   "outputs": [
    {
     "name": "stdout",
     "output_type": "stream",
     "text": [
      "1\n",
      "2\n",
      "3\n",
      "4\n",
      "5\n",
      "6\n",
      "7\n",
      "8\n",
      "9\n"
     ]
    }
   ],
   "source": [
    "# pass - do nothing (placeholder) - act as filler.\n",
    "\n",
    "for i in range(1,10):\n",
    "    if i==5:\n",
    "        pass   \n",
    "    print(i)"
   ]
  }
 ],
 "metadata": {
  "kernelspec": {
   "display_name": "Python 3",
   "language": "python",
   "name": "python3"
  },
  "language_info": {
   "codemirror_mode": {
    "name": "ipython",
    "version": 3
   },
   "file_extension": ".py",
   "mimetype": "text/x-python",
   "name": "python",
   "nbconvert_exporter": "python",
   "pygments_lexer": "ipython3",
   "version": "3.11.2"
  }
 },
 "nbformat": 4,
 "nbformat_minor": 5
}
