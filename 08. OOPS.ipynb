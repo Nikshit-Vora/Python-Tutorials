{
 "cells": [
  {
   "cell_type": "markdown",
   "id": "bb517012",
   "metadata": {},
   "source": [
    "# OOP - Object Oriented Programming\n",
    "- class is a blueprint for creating objects. \n",
    "- It allows you to bundle data (attributes) and functionality (methods) together. "
   ]
  },
  {
   "cell_type": "code",
   "execution_count": 1,
   "id": "2414e2f7",
   "metadata": {},
   "outputs": [
    {
     "name": "stdout",
     "output_type": "stream",
     "text": [
      "<class 'int'>\n",
      "<class 'str'>\n",
      "<class 'list'>\n"
     ]
    }
   ],
   "source": [
    "# built-in classes of python\n",
    "\n",
    "a = 2\n",
    "b = 'Hello'\n",
    "c = [1,2,3,4]\n",
    "\n",
    "print(type(a)) \n",
    "print(type(b)) \n",
    "print(type(c)) "
   ]
  },
  {
   "cell_type": "code",
   "execution_count": 2,
   "id": "8bc4f731",
   "metadata": {},
   "outputs": [],
   "source": [
    "# int, str, list etc. are built-in classes in Python.\n",
    "# a, b, c are instances (objects) of those classes."
   ]
  },
  {
   "cell_type": "code",
   "execution_count": 3,
   "id": "91065677",
   "metadata": {},
   "outputs": [],
   "source": [
    "# how to create objects (instance) of any class.\n",
    "\n",
    "# object_name = class_name()\n",
    "\n",
    "s = str('Hello World')\n",
    "l = list([1,2,3,4,5,6,7])"
   ]
  },
  {
   "cell_type": "code",
   "execution_count": 4,
   "id": "aa32dbe0",
   "metadata": {},
   "outputs": [
    {
     "name": "stdout",
     "output_type": "stream",
     "text": [
      "Hello World\n",
      "HELLO WORLD\n",
      "[1, 2, 3, 4, 5, 6, 7]\n",
      "[1, 2, 3, 4, 5, 6, 7, 'Hi']\n"
     ]
    }
   ],
   "source": [
    "# The object 's' can access all methods defined in the 'str' class\n",
    "print(s)\n",
    "print(s.upper())\n",
    "\n",
    "# The object 'l' can access all methods defined in the 'list' class\n",
    "print(l)\n",
    "l.append('Hi')\n",
    "print(l)"
   ]
  },
  {
   "cell_type": "code",
   "execution_count": null,
   "id": "e383c583",
   "metadata": {},
   "outputs": [],
   "source": []
  },
  {
   "cell_type": "markdown",
   "id": "c66f394a",
   "metadata": {},
   "source": [
    "### Attributes (also called data members)\n",
    "- These are variables that store data related to the object.\n",
    "\n",
    "    1. Instance Variables: Unique to each object.\n",
    "    2. Class Variables: Shared across all objects of the class.\n",
    "\n",
    "### Behavior (also called methods)\n",
    "- These are functions defined inside a class that describe the behavior of the object"
   ]
  },
  {
   "cell_type": "markdown",
   "id": "dfaf25ce",
   "metadata": {},
   "source": [
    "### Constructor ``(__init__ method) ``\n",
    "- Automatically called when a new object is created. \n",
    "- Used to initialize instance variables."
   ]
  },
  {
   "cell_type": "code",
   "execution_count": 5,
   "id": "24576c0d",
   "metadata": {},
   "outputs": [
    {
     "name": "stdout",
     "output_type": "stream",
     "text": [
      "Toyota Corolla with 4 wheels\n",
      "Honda Civic with 4 wheels\n"
     ]
    }
   ],
   "source": [
    "class Car:\n",
    "    wheels = 4  # Class variable\n",
    "\n",
    "    def __init__(self, brand, model):  # Constuctor\n",
    "        self.brand = brand      # Instance variable\n",
    "        self.model = model      # Instance variable\n",
    "\n",
    "    def display_info(self):  # Method\n",
    "        return f\"{self.brand} {self.model} with {Car.wheels} wheels\"\n",
    "    \n",
    "\n",
    "# Creating objects\n",
    "car1 = Car(\"Toyota\", \"Corolla\")\n",
    "car2 = Car(\"Honda\", \"Civic\")\n",
    "\n",
    "print(car1.display_info())  \n",
    "print(car2.display_info()) "
   ]
  },
  {
   "cell_type": "code",
   "execution_count": null,
   "id": "f932a39c",
   "metadata": {},
   "outputs": [],
   "source": []
  },
  {
   "cell_type": "markdown",
   "id": "485dfabf",
   "metadata": {},
   "source": [
    "### Banking Application Code - ATM"
   ]
  },
  {
   "cell_type": "code",
   "execution_count": 6,
   "id": "456f3fd1",
   "metadata": {},
   "outputs": [],
   "source": [
    "# class creation - ATM\n",
    "\n",
    "class ATM:\n",
    "    \n",
    "    # constructor\n",
    "    def __init__(self): \n",
    "        self.pin = '-'   # instance variable\n",
    "        self.balance = 0  # instance variable"
   ]
  },
  {
   "cell_type": "code",
   "execution_count": 7,
   "id": "02e66c96",
   "metadata": {},
   "outputs": [
    {
     "name": "stdout",
     "output_type": "stream",
     "text": [
      "<class '__main__.ATM'>\n",
      "-\n",
      "0\n"
     ]
    }
   ],
   "source": [
    "obj = ATM()  # obj is object of ATM class.\n",
    "print(type(obj))  \n",
    "\n",
    "# obj can access the class variables.\n",
    "print(obj.pin)\n",
    "print(obj.balance)"
   ]
  },
  {
   "cell_type": "code",
   "execution_count": 8,
   "id": "2dad401a",
   "metadata": {},
   "outputs": [],
   "source": [
    "# constuctor : It is automatically executed when an object of the class is created."
   ]
  },
  {
   "cell_type": "code",
   "execution_count": 9,
   "id": "b90f09bd",
   "metadata": {},
   "outputs": [
    {
     "name": "stdout",
     "output_type": "stream",
     "text": [
      "constructor code executed...\n",
      "0\n",
      "-\n"
     ]
    }
   ],
   "source": [
    "class ATM:\n",
    "    \n",
    "    def __init__(self):\n",
    "        self.pin = '-'\n",
    "        self.balance = 0\n",
    "        print('constructor code executed...')\n",
    "    \n",
    "    def menu(self):\n",
    "        input('''\n",
    "        Hi How can i help you?\n",
    "        1. Press 1 to create pin.\n",
    "        2. Press 2 to change pin.\n",
    "        3. Press 3 to check balance.\n",
    "        4. Press 4 to withdraw.\n",
    "        5. Press 5 to exit\n",
    "        ''')\n",
    "        \n",
    "obj = ATM()  \n",
    "# print statment in constructor will get executed.\n",
    "# It also initializes the default values for the ATM's PIN and balance.    \n",
    "\n",
    "print(obj.balance)\n",
    "print(obj.pin)"
   ]
  },
  {
   "cell_type": "code",
   "execution_count": 10,
   "id": "1cb8d6c1",
   "metadata": {},
   "outputs": [
    {
     "name": "stdout",
     "output_type": "stream",
     "text": [
      "pin created succesfully.\n"
     ]
    }
   ],
   "source": [
    "class ATM:\n",
    "    \n",
    "    def __init__(self):\n",
    "        self.pin = ''\n",
    "        self.balance = 0\n",
    "        self.menu()\n",
    "    \n",
    "    def menu(self):\n",
    "        user_input = input('''\n",
    "        Hi How can i help you?\n",
    "        1. Press 1 to create pin.\n",
    "        2. Press 2 to change pin.\n",
    "        3. Press 3 to check balance.\n",
    "        4. Press 4 to withdraw.\n",
    "        5. Press 5 to exit\n",
    "        ''')\n",
    "        \n",
    "        if user_input=='1':\n",
    "            self.create_pin()\n",
    "        elif user_input=='2':\n",
    "            self.change_pin()\n",
    "        elif user_input=='3':\n",
    "             self.check_balance()\n",
    "        elif user_input=='4':\n",
    "             self.withdraw()\n",
    "        else:\n",
    "             pass\n",
    "        \n",
    "    def create_pin(self):\n",
    "        user_pin = input('enter your pin : ')\n",
    "        self.pin = user_pin\n",
    "        \n",
    "        user_balance = int(input('enter balance : '))\n",
    "        self.balance = user_balance\n",
    "        \n",
    "        print('pin created succesfully.')  \n",
    "        self.menu()\n",
    "        \n",
    "    def change_pin(self):\n",
    "        old_pin = input('enter old pin : ')\n",
    "        \n",
    "        if old_pin == self.pin:\n",
    "            new_pin = input('enter new pin : ')\n",
    "            self.pin = new_pin\n",
    "            print('pin changed successfully.')\n",
    "            self.menu()\n",
    "        else:\n",
    "            print('invalid pin')\n",
    "            self.menu()\n",
    "    \n",
    "    def check_balance(self):\n",
    "        user_pin = input('enter your pin : ')\n",
    "        if user_pin == self.pin:\n",
    "            print('your balance is',self.balance)\n",
    "            self.menu()\n",
    "        else:\n",
    "            print('invalid pin')\n",
    "            self.menu()\n",
    "            \n",
    "    def withdraw(self):\n",
    "        user_pin = input('enter your pin : ')\n",
    "        if user_pin == self.pin:\n",
    "            amount = int(input('enter the amount.'))\n",
    "            if amount <= self.balance:\n",
    "                self.balance = self.balance - amount\n",
    "                print('withdraw successfull')\n",
    "                print('balance is', self.balance)\n",
    "                self.menu()\n",
    "            else:\n",
    "                print('amount exceeding the existing balance.')\n",
    "                self.menu()\n",
    "        else:\n",
    "            print('invalid pin')\n",
    "            self.menu()\n",
    "        \n",
    "obj = ATM()"
   ]
  },
  {
   "cell_type": "code",
   "execution_count": 11,
   "id": "d524e80f",
   "metadata": {},
   "outputs": [
    {
     "name": "stdout",
     "output_type": "stream",
     "text": [
      "pin changed successfully.\n"
     ]
    }
   ],
   "source": [
    "obj.change_pin()"
   ]
  },
  {
   "cell_type": "code",
   "execution_count": 12,
   "id": "0d86144a",
   "metadata": {},
   "outputs": [
    {
     "name": "stdout",
     "output_type": "stream",
     "text": [
      "your balance is 9000\n"
     ]
    }
   ],
   "source": [
    "obj.check_balance()"
   ]
  },
  {
   "cell_type": "code",
   "execution_count": 13,
   "id": "7a4a5ac7",
   "metadata": {},
   "outputs": [
    {
     "name": "stdout",
     "output_type": "stream",
     "text": [
      "withdraw successfull\n",
      "balance is 8200\n"
     ]
    }
   ],
   "source": [
    "obj.withdraw()"
   ]
  },
  {
   "cell_type": "code",
   "execution_count": null,
   "id": "11a85859",
   "metadata": {},
   "outputs": [],
   "source": []
  },
  {
   "cell_type": "markdown",
   "id": "49263eb8",
   "metadata": {},
   "source": [
    "### Class Diagram"
   ]
  },
  {
   "cell_type": "code",
   "execution_count": 14,
   "id": "eb3c4266",
   "metadata": {},
   "outputs": [
    {
     "data": {
      "text/plain": [
       "'\\n\\n+ -> public\\n- -> private\\n# -> protected\\n\\n----------------------------\\n|   ATM                    |       # class name\\n----------------------------\\n| + pin                    |\\n| + balance                |       # data/variables/attributes\\n----------------------------\\n| - menu                   |\\n| + create pin             |\\n| + change pin             |       # methods\\n| + check balance          |\\n| + withdraw               |\\n----------------------------\\n\\n'"
      ]
     },
     "execution_count": 14,
     "metadata": {},
     "output_type": "execute_result"
    }
   ],
   "source": [
    "'''\n",
    "\n",
    "+ -> public\n",
    "- -> private\n",
    "# -> protected\n",
    "\n",
    "----------------------------\n",
    "|   ATM                    |       # class name\n",
    "----------------------------\n",
    "| + pin                    |\n",
    "| + balance                |       # data/variables/attributes\n",
    "----------------------------\n",
    "| - menu                   |\n",
    "| + create pin             |\n",
    "| + change pin             |       # methods\n",
    "| + check balance          |\n",
    "| + withdraw               |\n",
    "----------------------------\n",
    "\n",
    "'''"
   ]
  },
  {
   "cell_type": "code",
   "execution_count": null,
   "id": "3cb202b0",
   "metadata": {},
   "outputs": [],
   "source": []
  },
  {
   "cell_type": "markdown",
   "id": "ebb3257b",
   "metadata": {},
   "source": [
    "### Types of Constructors: \n",
    "1. Default constructor:\n",
    "    - does not take any arguments (except self):\n",
    "    - used to initialize default values.\n",
    "2. Parameterized constructor:\n",
    "    - take arguments to set custom values for instance variables."
   ]
  },
  {
   "cell_type": "code",
   "execution_count": 15,
   "id": "b9f3f566",
   "metadata": {},
   "outputs": [
    {
     "data": {
      "text/plain": [
       "'Hello. How are you'"
      ]
     },
     "execution_count": 15,
     "metadata": {},
     "output_type": "execute_result"
    }
   ],
   "source": [
    "class greet:\n",
    "    def __init__(self): # default constructor\n",
    "        self.msg = \"Hello. How are you\"   # intialize the default values of instance variables\n",
    "\n",
    "obj = greet()\n",
    "obj.msg"
   ]
  },
  {
   "cell_type": "code",
   "execution_count": 16,
   "id": "b75a473f",
   "metadata": {},
   "outputs": [
    {
     "data": {
      "text/plain": [
       "'Hello How are you..?'"
      ]
     },
     "execution_count": 16,
     "metadata": {},
     "output_type": "execute_result"
    }
   ],
   "source": [
    "class greet:\n",
    "    def __init__(self,msg): # parameterized constructor\n",
    "        self.msg = msg\n",
    "\n",
    "obj = greet('Hello How are you..?')\n",
    "obj.msg"
   ]
  },
  {
   "cell_type": "code",
   "execution_count": null,
   "id": "2ceb7a7f",
   "metadata": {},
   "outputs": [],
   "source": []
  },
  {
   "cell_type": "markdown",
   "id": "5db5eeb5",
   "metadata": {},
   "source": [
    "### Why using constructor?\n",
    "- user registration on web applications (initialize name, email, password etc.)\n",
    "- database connection (application to database connection)\n",
    "- Game development (initialize health-100%, score-0 etc.)\n",
    "- E-commerce shopping (initialize empty cart)"
   ]
  },
  {
   "cell_type": "code",
   "execution_count": null,
   "id": "dfdb915a",
   "metadata": {},
   "outputs": [],
   "source": []
  },
  {
   "cell_type": "markdown",
   "id": "3584e3f5",
   "metadata": {},
   "source": [
    "### What is self in OOP?\n",
    "- self is a reference to the current instance of the class."
   ]
  },
  {
   "cell_type": "code",
   "execution_count": 17,
   "id": "0588a765",
   "metadata": {},
   "outputs": [],
   "source": [
    "class Person:\n",
    "    def __init__(self,name,age):\n",
    "        self.name = name\n",
    "        self.age = age\n",
    "        print(id(self))\n",
    "\n",
    "    def greet(self):\n",
    "        print(f\"Hello My name is {self.name} and i'm {self.age} years old.\")"
   ]
  },
  {
   "cell_type": "code",
   "execution_count": 18,
   "id": "84046aee",
   "metadata": {},
   "outputs": [
    {
     "name": "stdout",
     "output_type": "stream",
     "text": [
      "2171310029072\n",
      "2171310029072\n"
     ]
    }
   ],
   "source": [
    "p1 = Person('Alic',25)  \n",
    "print(id(p1))"
   ]
  },
  {
   "cell_type": "code",
   "execution_count": 19,
   "id": "e180a360",
   "metadata": {},
   "outputs": [
    {
     "name": "stdout",
     "output_type": "stream",
     "text": [
      "2171309982864\n",
      "2171309982864\n"
     ]
    }
   ],
   "source": [
    "p2 = Person('Bob',30)\n",
    "print(id(p2))"
   ]
  },
  {
   "cell_type": "code",
   "execution_count": 20,
   "id": "108eefb6",
   "metadata": {},
   "outputs": [
    {
     "name": "stdout",
     "output_type": "stream",
     "text": [
      "Hello My name is Alic and i'm 25 years old.\n",
      "Hello My name is Bob and i'm 30 years old.\n"
     ]
    }
   ],
   "source": [
    "p1.greet() # self refers to p1 object\n",
    "p2.greet() # self refers to p2 object"
   ]
  },
  {
   "cell_type": "markdown",
   "id": "5014e33d",
   "metadata": {},
   "source": [
    "### What self does?\n",
    "1. Access Attributes: It allows methods to access or modify the instance's attributes.\n",
    "2. Call Other Methods: It enables one method to call another method within the same class.\n",
    "3. Differentiate Between Local and Instance Variables: It helps distinguish between instance variables and local variables."
   ]
  },
  {
   "cell_type": "code",
   "execution_count": 21,
   "id": "cbe4aa10",
   "metadata": {},
   "outputs": [],
   "source": [
    "class Person:\n",
    "    def __init__(self,name,age):\n",
    "        self.name = name\n",
    "        self.age = age\n",
    "\n",
    "    def greet(self):\n",
    "        # allows to methods to access instance's attributes\n",
    "        print(f\"Hello My name is {self.name} and i'm {self.age} years old.\") \n",
    "\n",
    "    def age_update(self,new_age):  \n",
    "        self.age = new_age # allows methods to modify instnace's attributes.\n",
    "        self.greet()  # enables one method to call another method within the same class."
   ]
  },
  {
   "cell_type": "code",
   "execution_count": 22,
   "id": "abced307",
   "metadata": {},
   "outputs": [
    {
     "name": "stdout",
     "output_type": "stream",
     "text": [
      "25\n",
      "Hello My name is Alic and i'm 30 years old.\n",
      "30\n"
     ]
    }
   ],
   "source": [
    "p1 = Person('Alic',25) \n",
    "print(p1.age) \n",
    "p1.age_update(30)\n",
    "print(p1.age)"
   ]
  },
  {
   "cell_type": "code",
   "execution_count": null,
   "id": "c1db2e5d",
   "metadata": {},
   "outputs": [],
   "source": []
  },
  {
   "cell_type": "markdown",
   "id": "8a7eb8c7",
   "metadata": {},
   "source": [
    "### Class - Fraction Data Type"
   ]
  },
  {
   "cell_type": "code",
   "execution_count": null,
   "id": "6bf222e0",
   "metadata": {},
   "outputs": [
    {
     "name": "stdout",
     "output_type": "stream",
     "text": [
      "10/8\n",
      "2/8\n",
      "3/8\n",
      "6/4\n",
      "0.75\n",
      "0.5\n"
     ]
    }
   ],
   "source": [
    "class Fraction:\n",
    "    \n",
    "    # parameterized constructor - custome values for instance attributes.\n",
    "    def __init__(self,x,y):\n",
    "        self.num = x\n",
    "        self.den = y\n",
    "        \n",
    "    # when we give object in print function. this function will triggers..\n",
    "    def __str__(self):\n",
    "        return f'{self.num}/{self.den}'\n",
    "    \n",
    "    def __add__(self,other):  # magic methods\n",
    "        new_num = self.num*other.den + self.den*other.num\n",
    "        new_den = self.den*other.den\n",
    "        return f'{new_num}/{new_den}'\n",
    "    \n",
    "    def __sub__(self,other):\n",
    "        new_num = self.num*other.den - self.den*other.num\n",
    "        new_den = self.den*other.den\n",
    "        return f'{new_num}/{new_den}'\n",
    "    \n",
    "    def __mul__(self,other):\n",
    "        new_num = self.num*other.num\n",
    "        new_den = self.den*other.den\n",
    "        return f'{new_num}/{new_den}'\n",
    "    \n",
    "    def __truediv__(self,other):\n",
    "        new_num = self.num*other.den\n",
    "        new_den = self.den*other.num\n",
    "        return f'{new_num}/{new_den}'\n",
    "    \n",
    "    def convert_to_decimal(self):\n",
    "        return self.num/self.den   \n",
    "        \n",
    "        \n",
    "fraction1 = Fraction(3,4) \n",
    "fraction2 = Fraction(1,2) \n",
    "\n",
    "print(fraction1 + fraction2)\n",
    "print(fraction1 - fraction2)\n",
    "print(fraction1 * fraction2)\n",
    "print(fraction1 / fraction2)\n",
    "print(fraction1.convert_to_decimal())\n",
    "print(fraction2.convert_to_decimal())\n",
    "    "
   ]
  },
  {
   "cell_type": "code",
   "execution_count": null,
   "id": "dd863039",
   "metadata": {},
   "outputs": [],
   "source": []
  },
  {
   "cell_type": "markdown",
   "id": "d1f2ed26",
   "metadata": {},
   "source": [
    "### Example:  \n",
    "Write OOP classes to handle following scenarios.\n",
    "\n",
    "1. user can create and view 2-D coordinates\n",
    "2. user can find out distance between 2 cordinates\n",
    "3. user can find out distance of coordinates from origin\n",
    "4. user can check if a point lies on a given line\n",
    "5. user can find the distance between a given 2 d point and given line\n",
    "\n"
   ]
  },
  {
   "cell_type": "code",
   "execution_count": 24,
   "id": "cef3fea5",
   "metadata": {},
   "outputs": [
    {
     "name": "stdout",
     "output_type": "stream",
     "text": [
      "<1,1>\n",
      "<-15,10>\n",
      "18.35755975068582\n",
      "1.4142135623730951\n",
      "1x + 1y + -2 = 0\n",
      "0.0\n",
      "4.949747468305833\n"
     ]
    }
   ],
   "source": [
    "class Point:\n",
    "    def __init__(self,x,y):\n",
    "        self.x = x\n",
    "        self.y = y\n",
    "        \n",
    "    def __str__(self):\n",
    "        return f'<{self.x},{self.y}>'\n",
    "    \n",
    "    def euclidean_distance(self,other):\n",
    "        return ((self.x - other.x)**2 + (self.y - other.y)**2)**0.5\n",
    "    \n",
    "    def distance_from_origin(self):\n",
    "        return self.euclidean_distance(Point(0,0))\n",
    "    \n",
    "    \n",
    "class Line:\n",
    "    def __init__(self,a,b,c):\n",
    "        self.a = a\n",
    "        self.b = b\n",
    "        self.c = c\n",
    "    def __str__(self):\n",
    "        return f'{self.a}x + {self.b}y + {self.c} = 0'\n",
    "    \n",
    "    def point_on_line(line,point):\n",
    "        if line.a*point.x + line.b*point.y + line.c == 0:\n",
    "            return 'lies on the line'\n",
    "        else:\n",
    "            return 'does not lies  on the line'\n",
    "        \n",
    "    def shortest_distance(line,point):\n",
    "        return abs(line.a*point.x + line.b*point.y + line.c)/(line.a**2 + line.b**2)**0.5\n",
    "    \n",
    "    \n",
    "# Point    \n",
    "p1 = Point(1,1)\n",
    "p2 = Point(-15,10)\n",
    "print(p1)\n",
    "print(p2)\n",
    "print(p1.euclidean_distance(p2))\n",
    "print(p1.distance_from_origin())\n",
    "\n",
    "# Line\n",
    "l1 = Line(1,1,-2)\n",
    "print(l1)\n",
    "l1.point_on_line(p1)\n",
    "print(l1.shortest_distance(p1))\n",
    "print(l1.shortest_distance(p2))\n"
   ]
  },
  {
   "cell_type": "code",
   "execution_count": null,
   "id": "f9b76c3c",
   "metadata": {},
   "outputs": [],
   "source": []
  },
  {
   "cell_type": "markdown",
   "id": "c50ca239",
   "metadata": {},
   "source": [
    "### How objects access attributes."
   ]
  },
  {
   "cell_type": "code",
   "execution_count": 25,
   "id": "d4d62177",
   "metadata": {},
   "outputs": [
    {
     "name": "stdout",
     "output_type": "stream",
     "text": [
      "Nikshit\n",
      "India\n",
      "Namaste Nikshit\n"
     ]
    }
   ],
   "source": [
    "class Person:\n",
    "    def __init__(self,name_input,country_input):\n",
    "        self.name = name_input\n",
    "        self.country = country_input\n",
    "        \n",
    "    def greet(self):\n",
    "        if self.country == 'India':\n",
    "            print('Namaste', self.name)\n",
    "        else:\n",
    "            print('Hello', self.name)\n",
    "p = Person('Nikshit','India')\n",
    "print(p.name)\n",
    "print(p.country)\n",
    "p.greet()"
   ]
  },
  {
   "cell_type": "code",
   "execution_count": 26,
   "id": "40935f02",
   "metadata": {},
   "outputs": [
    {
     "ename": "AttributeError",
     "evalue": "'Person' object has no attribute 'gender'",
     "output_type": "error",
     "traceback": [
      "\u001b[31m---------------------------------------------------------------------------\u001b[39m",
      "\u001b[31mAttributeError\u001b[39m                            Traceback (most recent call last)",
      "\u001b[36mCell\u001b[39m\u001b[36m \u001b[39m\u001b[32mIn[26]\u001b[39m\u001b[32m, line 2\u001b[39m\n\u001b[32m      1\u001b[39m \u001b[38;5;66;03m# what if we try to access an attribute that does not exist in a Python class or instance\u001b[39;00m\n\u001b[32m----> \u001b[39m\u001b[32m2\u001b[39m \u001b[43mp\u001b[49m\u001b[43m.\u001b[49m\u001b[43mgender\u001b[49m\n",
      "\u001b[31mAttributeError\u001b[39m: 'Person' object has no attribute 'gender'"
     ]
    }
   ],
   "source": [
    "# what if we try to access an attribute that does not exist in a Python class or instance\n",
    "p.gender"
   ]
  },
  {
   "cell_type": "code",
   "execution_count": 27,
   "id": "e6036716",
   "metadata": {},
   "outputs": [
    {
     "data": {
      "text/plain": [
       "'Male'"
      ]
     },
     "execution_count": 27,
     "metadata": {},
     "output_type": "execute_result"
    }
   ],
   "source": [
    "# creating instance variable outside class\n",
    "p.gender = 'Male'\n",
    "p.gender"
   ]
  },
  {
   "cell_type": "code",
   "execution_count": 28,
   "id": "3cddc7b3",
   "metadata": {
    "scrolled": true
   },
   "outputs": [
    {
     "ename": "AttributeError",
     "evalue": "'Person' object has no attribute 'gender'",
     "output_type": "error",
     "traceback": [
      "\u001b[31m---------------------------------------------------------------------------\u001b[39m",
      "\u001b[31mAttributeError\u001b[39m                            Traceback (most recent call last)",
      "\u001b[36mCell\u001b[39m\u001b[36m \u001b[39m\u001b[32mIn[28]\u001b[39m\u001b[32m, line 2\u001b[39m\n\u001b[32m      1\u001b[39m g = Person(\u001b[33m'\u001b[39m\u001b[33mAlex\u001b[39m\u001b[33m'\u001b[39m,\u001b[33m'\u001b[39m\u001b[33mMale\u001b[39m\u001b[33m'\u001b[39m)\n\u001b[32m----> \u001b[39m\u001b[32m2\u001b[39m \u001b[43mg\u001b[49m\u001b[43m.\u001b[49m\u001b[43mgender\u001b[49m\n",
      "\u001b[31mAttributeError\u001b[39m: 'Person' object has no attribute 'gender'"
     ]
    }
   ],
   "source": [
    "g = Person('Alex','Male')\n",
    "g.gender"
   ]
  },
  {
   "cell_type": "code",
   "execution_count": null,
   "id": "15a5c9f2",
   "metadata": {},
   "outputs": [],
   "source": []
  },
  {
   "cell_type": "code",
   "execution_count": 29,
   "id": "ba0924b3",
   "metadata": {},
   "outputs": [
    {
     "name": "stdout",
     "output_type": "stream",
     "text": [
      "2171316518864\n",
      "2171316518864\n"
     ]
    }
   ],
   "source": [
    "# Reference Variable\n",
    "\n",
    "class Person:\n",
    "    def __init__(self):\n",
    "        self.name = 'Nikshit'\n",
    "        self.country = 'India'\n",
    "\n",
    "Person()  # This creates an object but doesn't store it in a variable, so it's discarded immediately\n",
    "\n",
    "p = Person()  # here p is now reference to object of class Person\n",
    "q = p\n",
    "\n",
    "print(id(p))\n",
    "print(id(q))  "
   ]
  },
  {
   "cell_type": "code",
   "execution_count": 30,
   "id": "7a234819",
   "metadata": {},
   "outputs": [
    {
     "name": "stdout",
     "output_type": "stream",
     "text": [
      "Nikshit\n",
      "Nikshit\n"
     ]
    }
   ],
   "source": [
    "print(p.name)\n",
    "print(q.name)"
   ]
  },
  {
   "cell_type": "code",
   "execution_count": 31,
   "id": "896827eb",
   "metadata": {},
   "outputs": [
    {
     "name": "stdout",
     "output_type": "stream",
     "text": [
      "Harry\n",
      "Harry\n"
     ]
    }
   ],
   "source": [
    "# changing instance variable\n",
    "q.name = 'Harry'\n",
    "print(p.name)\n",
    "print(q.name)"
   ]
  },
  {
   "cell_type": "code",
   "execution_count": null,
   "id": "5f1aea17",
   "metadata": {},
   "outputs": [],
   "source": []
  },
  {
   "cell_type": "code",
   "execution_count": 32,
   "id": "bdc8f4ec",
   "metadata": {},
   "outputs": [
    {
     "name": "stdout",
     "output_type": "stream",
     "text": [
      "Hi My Name is Nikshit . I am  Male\n"
     ]
    }
   ],
   "source": [
    "# Define a function outside the class that takes a Person object as an argument\n",
    "\n",
    "class Person:\n",
    "    def __init__(self,name,gender):\n",
    "        self.name = name\n",
    "        self.gender = gender\n",
    "        \n",
    "# function outside class\n",
    "def greet(person):\n",
    "    print('Hi My Name is', person.name,'. I am ',person.gender)\n",
    "    \n",
    "p = Person('Nikshit','Male')\n",
    "greet(p)"
   ]
  },
  {
   "cell_type": "code",
   "execution_count": null,
   "id": "755e6c09",
   "metadata": {},
   "outputs": [],
   "source": []
  },
  {
   "cell_type": "markdown",
   "id": "ee2e1760",
   "metadata": {},
   "source": [
    "### Pillars of OOP Python\n",
    "1. Encapsulation\n",
    "2. Abstraction\n",
    "3. Inheritance\n",
    "4. Polymorphism"
   ]
  },
  {
   "cell_type": "markdown",
   "id": "d1a1a75c",
   "metadata": {},
   "source": [
    "### 1. Encapsulation (Data hiding + Controlled access via methods)"
   ]
  },
  {
   "cell_type": "markdown",
   "id": "c98bd933",
   "metadata": {},
   "source": [
    "- It wraps data (attributes) and behavior (methods) together inside a class, making the class a single logical unit.\n",
    "- Mechanism of restricting direct access to some components of an object and controlling access through methods."
   ]
  },
  {
   "cell_type": "markdown",
   "id": "a88a194c",
   "metadata": {},
   "source": [
    "### Goal of Encapsulation:\n",
    "1. Data hiding:  \n",
    "    - Prevent outside code from directly accessing/modifying critical internal data.\n",
    "2. Controlled access:\n",
    "    - Provide public methods (getters/setters) for safe interaction.\n",
    "3. Security:\n",
    "    - Prevents accidental or unauthorized changes. "
   ]
  },
  {
   "cell_type": "markdown",
   "id": "09240256",
   "metadata": {},
   "source": [
    "### Three types of variable:\n",
    "1. Public   : var (accessbile everywhere)\n",
    "2. Protected: _var (for internal use only, still accessbile)\n",
    "3. Private  : __var (name mangling applied, to prevent direct access)"
   ]
  },
  {
   "cell_type": "code",
   "execution_count": 33,
   "id": "1aed3615",
   "metadata": {},
   "outputs": [],
   "source": [
    "class Employee:\n",
    "    def __init__(self,name,salary):\n",
    "        self.name = name  # public\n",
    "        self._department = 'IT'  # protected\n",
    "        self.__salary = salary  # private (name mangling)\n",
    "\n",
    "    # Getter Method\n",
    "    def get_salary(self):\n",
    "        return self.__salary\n",
    "    \n",
    "    # Setter Method with validation\n",
    "    def set_salary(self,new_salary):\n",
    "        if new_salary > 0:\n",
    "            self.__salary = new_salary\n",
    "        else:\n",
    "            print('Invalid salary')\n",
    "\n",
    "p = Employee('john',50000)"
   ]
  },
  {
   "cell_type": "code",
   "execution_count": 34,
   "id": "4c4a06aa",
   "metadata": {},
   "outputs": [
    {
     "data": {
      "text/plain": [
       "'john'"
      ]
     },
     "execution_count": 34,
     "metadata": {},
     "output_type": "execute_result"
    }
   ],
   "source": [
    "# Public : Accessible \n",
    "p.name"
   ]
  },
  {
   "cell_type": "code",
   "execution_count": null,
   "id": "b4de6e2f",
   "metadata": {},
   "outputs": [
    {
     "data": {
      "text/plain": [
       "'IT'"
      ]
     },
     "execution_count": 35,
     "metadata": {},
     "output_type": "execute_result"
    }
   ],
   "source": [
    "# Protected : still accessible, but discouraged. Its for internal use only.\n",
    "p._department"
   ]
  },
  {
   "cell_type": "code",
   "execution_count": 36,
   "id": "136801a5",
   "metadata": {},
   "outputs": [
    {
     "ename": "AttributeError",
     "evalue": "'Employee' object has no attribute '__salary'",
     "output_type": "error",
     "traceback": [
      "\u001b[31m---------------------------------------------------------------------------\u001b[39m",
      "\u001b[31mAttributeError\u001b[39m                            Traceback (most recent call last)",
      "\u001b[36mCell\u001b[39m\u001b[36m \u001b[39m\u001b[32mIn[36]\u001b[39m\u001b[32m, line 2\u001b[39m\n\u001b[32m      1\u001b[39m \u001b[38;5;66;03m# private : will cause error\u001b[39;00m\n\u001b[32m----> \u001b[39m\u001b[32m2\u001b[39m \u001b[43mp\u001b[49m\u001b[43m.\u001b[49m\u001b[43m__salary\u001b[49m\n",
      "\u001b[31mAttributeError\u001b[39m: 'Employee' object has no attribute '__salary'"
     ]
    }
   ],
   "source": [
    "# private : will cause error\n",
    "p.__salary"
   ]
  },
  {
   "cell_type": "code",
   "execution_count": 37,
   "id": "94f39868",
   "metadata": {},
   "outputs": [
    {
     "data": {
      "text/plain": [
       "50000"
      ]
     },
     "execution_count": 37,
     "metadata": {},
     "output_type": "execute_result"
    }
   ],
   "source": [
    "p.get_salary() "
   ]
  },
  {
   "cell_type": "code",
   "execution_count": 38,
   "id": "c60a8f99",
   "metadata": {},
   "outputs": [
    {
     "data": {
      "text/plain": [
       "60000"
      ]
     },
     "execution_count": 38,
     "metadata": {},
     "output_type": "execute_result"
    }
   ],
   "source": [
    "p.set_salary(60000)\n",
    "p.get_salary()"
   ]
  },
  {
   "cell_type": "code",
   "execution_count": null,
   "id": "913bd131",
   "metadata": {},
   "outputs": [],
   "source": []
  },
  {
   "cell_type": "markdown",
   "id": "70d45cf8",
   "metadata": {},
   "source": [
    "### Internal Mechanism  (Name Mangling)"
   ]
  },
  {
   "cell_type": "code",
   "execution_count": 39,
   "id": "5645cc9b",
   "metadata": {},
   "outputs": [
    {
     "data": {
      "text/plain": [
       "60000"
      ]
     },
     "execution_count": 39,
     "metadata": {},
     "output_type": "execute_result"
    }
   ],
   "source": [
    "# python changes __salary internally to _Employee__salary\n",
    "p._Employee__salary"
   ]
  },
  {
   "cell_type": "code",
   "execution_count": 40,
   "id": "3aaec19c",
   "metadata": {},
   "outputs": [
    {
     "data": {
      "text/plain": [
       "70000"
      ]
     },
     "execution_count": 40,
     "metadata": {},
     "output_type": "execute_result"
    }
   ],
   "source": [
    "# private : can be changed using _Employee__salary, but discouraged. \n",
    "# This is intentional Protection. not absolute hiding.\n",
    "\n",
    "p._Employee__salary = 70000\n",
    "p.get_salary()"
   ]
  },
  {
   "cell_type": "code",
   "execution_count": null,
   "id": "bba68543",
   "metadata": {},
   "outputs": [],
   "source": []
  },
  {
   "cell_type": "markdown",
   "id": "c20aadfd",
   "metadata": {},
   "source": [
    "### Inner Class"
   ]
  },
  {
   "cell_type": "code",
   "execution_count": 41,
   "id": "65b84d30",
   "metadata": {},
   "outputs": [
    {
     "name": "stdout",
     "output_type": "stream",
     "text": [
      "Name: Nikshit\n",
      "Subjects: Physics Chemistry Maths\n"
     ]
    }
   ],
   "source": [
    "# Example 1:\n",
    "class Student:\n",
    "    def __init__(self):\n",
    "        self.name = 'Nikshit'\n",
    "        self.subs = self.Subjects() # creates instance of Subjects class\n",
    "\n",
    "    def show(self):\n",
    "        print (\"Name:\", self.name)\n",
    "        self.subs.display() # calls display() from Subjects class\n",
    "    \n",
    "    # inner class\n",
    "    class Subjects:\n",
    "        def __init__(self):\n",
    "            self.sub1 = \"Physics\"\n",
    "            self.sub2 = \"Chemistry\"\n",
    "            self.sub3 = 'Maths'\n",
    "\n",
    "        def display(self):\n",
    "            print (\"Subjects:\",self.sub1, self.sub2, self.sub3)         \n",
    "\n",
    "s1 = Student()\n",
    "s1.show()"
   ]
  },
  {
   "cell_type": "code",
   "execution_count": 42,
   "id": "fd936bc2",
   "metadata": {},
   "outputs": [
    {
     "name": "stdout",
     "output_type": "stream",
     "text": [
      "Name: Nikshit\n",
      "Subjects: Physics Chemistry Maths\n"
     ]
    }
   ],
   "source": [
    "# Example 2:\n",
    "class Student:\n",
    "    def __init__(self):\n",
    "        self.name = 'Nikshit'\n",
    "        self.subs = Subjects() # creates instance of Subjects class\n",
    "\n",
    "    def show(self):\n",
    "        print (\"Name:\", self.name)\n",
    "        self.subs.display() # calls display() from Subjects class\n",
    "    \n",
    "class Subjects: # outside class\n",
    "    def __init__(self):\n",
    "        self.sub1 = \"Physics\"\n",
    "        self.sub2 = \"Chemistry\"\n",
    "        self.sub3 = 'Maths'\n",
    "\n",
    "    def display(self):\n",
    "        print (\"Subjects:\",self.sub1, self.sub2, self.sub3)         \n",
    "\n",
    "s1 = Student()\n",
    "s1.show()"
   ]
  },
  {
   "cell_type": "code",
   "execution_count": null,
   "id": "ce2ae1a0",
   "metadata": {},
   "outputs": [],
   "source": []
  },
  {
   "cell_type": "markdown",
   "id": "af7ca6eb",
   "metadata": {},
   "source": [
    "### Collection of Objects"
   ]
  },
  {
   "cell_type": "code",
   "execution_count": 43,
   "id": "23c4c995",
   "metadata": {},
   "outputs": [],
   "source": [
    "class Person:\n",
    "    def __init__(self,name,gender):\n",
    "        self.name = name\n",
    "        self.gender = gender\n",
    "        \n",
    "p1 = Person('nikshit','male')\n",
    "p2 = Person('abc','female')\n",
    "p3 = Person('def','male')\n",
    "\n",
    "l = [p1,p2,p3]"
   ]
  },
  {
   "cell_type": "code",
   "execution_count": 44,
   "id": "c8ea0ef8",
   "metadata": {},
   "outputs": [
    {
     "name": "stdout",
     "output_type": "stream",
     "text": [
      "nikshit male\n",
      "abc female\n",
      "def male\n"
     ]
    }
   ],
   "source": [
    "for i in l:\n",
    "    print(i.name,i.gender)"
   ]
  },
  {
   "cell_type": "code",
   "execution_count": null,
   "id": "50ac4ef4",
   "metadata": {},
   "outputs": [],
   "source": []
  },
  {
   "cell_type": "markdown",
   "id": "0c831fd8",
   "metadata": {},
   "source": [
    "### Dictionary of Objects"
   ]
  },
  {
   "cell_type": "code",
   "execution_count": 45,
   "id": "f9303a18",
   "metadata": {},
   "outputs": [
    {
     "data": {
      "text/plain": [
       "{'p1': <__main__.Person at 0x1f98c8de750>,\n",
       " 'p2': <__main__.Person at 0x1f98c8dea10>,\n",
       " 'p3': <__main__.Person at 0x1f98c8de710>}"
      ]
     },
     "execution_count": 45,
     "metadata": {},
     "output_type": "execute_result"
    }
   ],
   "source": [
    "class Person:\n",
    "    def __init__(self,name,gender):\n",
    "        self.name = name\n",
    "        self.gender = gender\n",
    "        \n",
    "p1 = Person('nikshit','male')\n",
    "p2 = Person('abc','female')\n",
    "p3 = Person('def','male')\n",
    "\n",
    "d = {'p1':p1,'p2':p2,'p3':p3}\n",
    "d"
   ]
  },
  {
   "cell_type": "code",
   "execution_count": 46,
   "id": "854e5e6a",
   "metadata": {},
   "outputs": [
    {
     "name": "stdout",
     "output_type": "stream",
     "text": [
      "nikshit\n",
      "male\n",
      "abc\n",
      "female\n",
      "def\n",
      "male\n"
     ]
    }
   ],
   "source": [
    "for i in d:\n",
    "    print(d[i].name)\n",
    "    print(d[i].gender)"
   ]
  },
  {
   "cell_type": "code",
   "execution_count": null,
   "id": "0eea6fd5",
   "metadata": {},
   "outputs": [],
   "source": []
  },
  {
   "cell_type": "markdown",
   "id": "7f426c17",
   "metadata": {},
   "source": [
    "### Static variables vs Instance variable"
   ]
  },
  {
   "cell_type": "markdown",
   "id": "17eee199",
   "metadata": {},
   "source": [
    "- Static variable is of class, value is same for all objects\n",
    "- Instance variable is of object, value is different for all objects"
   ]
  },
  {
   "cell_type": "code",
   "execution_count": 47,
   "id": "cc48f395",
   "metadata": {},
   "outputs": [
    {
     "name": "stdout",
     "output_type": "stream",
     "text": [
      "1\n",
      "2\n",
      "3\n",
      "3\n"
     ]
    }
   ],
   "source": [
    "# Example\n",
    "\n",
    "class Person:\n",
    "    \n",
    "    # Static (class-level) variable to keep track of the number of Person instances created\n",
    "    counter = 0\n",
    "    \n",
    "    def __init__(self,name,gender):\n",
    "        self.name = name    # Instance variable..\n",
    "        self.gender = gender  # Instance variable..\n",
    "        \n",
    "        # counter        \n",
    "        Person.counter = Person.counter + 1  # Increment the static counter for the next instance\n",
    "        self.cid = Person.counter # Assign a unique ID to each person using the static counter\n",
    "        \n",
    "p1 = Person('nikshit','Male')\n",
    "p2 = Person('Alex','Male')\n",
    "p3 = Person('Harry','Female')\n",
    "\n",
    "print(p1.cid)\n",
    "print(p2.cid)\n",
    "print(p3.cid)\n",
    "print(Person.counter) # tells How many instance created for class"
   ]
  },
  {
   "cell_type": "code",
   "execution_count": null,
   "id": "77afd13d",
   "metadata": {},
   "outputs": [],
   "source": []
  },
  {
   "cell_type": "markdown",
   "id": "0f664001",
   "metadata": {},
   "source": [
    "### Static Methods, Class Methods, Instance Methods"
   ]
  },
  {
   "cell_type": "markdown",
   "id": "853b247b",
   "metadata": {},
   "source": [
    "1. Static Methods:  \n",
    "- Static methods are not associated to either the class or its instances. \n",
    "- Decorator: @staticmethod\n",
    "- First parameter: do not take a reference to the instance or the class as their first parameter.\n",
    "- Access: No access\n",
    "- can be accessible by : class/objects \n",
    "- Usage : Typically used for utility functions that don't depend on instance or class state.\n",
    "\n",
    "2. Class Methods:\n",
    "- Class methods are associated with the class rather than instances. \n",
    "- Decorator: @classmethod\n",
    "- First parameter: cls (representing the class).\n",
    "- Access: class attributes\n",
    "- can be accessible by : class/objects\n",
    "- Usage: Often used for operations that modify or interact with class-level data.\n",
    "\n",
    "3. Instance Methods:\n",
    "- Instance methods are associated with instances of a class and operate on the instance's data. \n",
    "- Decorator : None\n",
    "- First Parameter: self (representing the instance.)\n",
    "- Access : class / instance attributes\n",
    "- can be accessible by : objects\n",
    "- Usage : Commonly used for operations specific to individual instances.\n"
   ]
  },
  {
   "cell_type": "code",
   "execution_count": 48,
   "id": "61a1e65a",
   "metadata": {},
   "outputs": [
    {
     "name": "stdout",
     "output_type": "stream",
     "text": [
      "ID: 1, Name: Nikshit, Gender: Male\n",
      "ID: 2, Name: Alex, Gender: Male\n",
      "ID: 3, Name: Dezy, Gender: Female\n",
      "Accessing private static variable directly: 3\n",
      "Counter via class: 3\n",
      "Counter via instance: 3\n"
     ]
    }
   ],
   "source": [
    "# Example: 1\n",
    "\n",
    "class Person:\n",
    "    # Private static variable (class-level)\n",
    "    __counter = 0\n",
    "\n",
    "    def __init__(self, name, gender):\n",
    "        # Instance variables\n",
    "        self.name = name\n",
    "        self.gender = gender\n",
    "\n",
    "        # Increment the static counter for the current instance\n",
    "        Person.__counter += 1\n",
    "\n",
    "        # Assign a unique ID using the private static counter\n",
    "        self.cid = Person.__counter\n",
    "\n",
    "    # Static method to access the private static variable\n",
    "    @staticmethod\n",
    "    def get_counter():\n",
    "        \"\"\"\n",
    "        Returns the current value of the private static counter.\n",
    "        Can be accessed via class or instance.\n",
    "        \"\"\"\n",
    "        return Person.__counter\n",
    "\n",
    "    # Instance method to display person details\n",
    "    def display(self):\n",
    "        print(f\"ID: {self.cid}, Name: {self.name}, Gender: {self.gender}\")\n",
    "\n",
    "    # Class method to reset the counter\n",
    "    @classmethod\n",
    "    def reset_counter(cls):\n",
    "        cls.__counter = 0\n",
    "\n",
    "\n",
    "# Creating instances\n",
    "p1 = Person('Nikshit', 'Male')\n",
    "p2 = Person('Alex', 'Male')\n",
    "p3 = Person('Dezy', 'Female')\n",
    "\n",
    "# Using instance method\n",
    "p1.display()\n",
    "p2.display()\n",
    "p3.display()\n",
    "\n",
    "# Accessing private static variable directly (not recommended, but possible via name mangling)\n",
    "print(\"Accessing private static variable directly:\", Person._Person__counter)\n",
    "\n",
    "# Accessing static method via class\n",
    "print(\"Counter via class:\", Person.get_counter())\n",
    "\n",
    "# Accessing static method via instance\n",
    "print(\"Counter via instance:\", p1.get_counter())\n"
   ]
  },
  {
   "cell_type": "code",
   "execution_count": 49,
   "id": "fb366eb2",
   "metadata": {},
   "outputs": [
    {
     "name": "stdout",
     "output_type": "stream",
     "text": [
      "ID: 1, Name: Nikshit, Gender: Male\n"
     ]
    }
   ],
   "source": [
    "# Instance Method can only be accessible by objects, not class.\n",
    "p1.display()"
   ]
  },
  {
   "cell_type": "code",
   "execution_count": 50,
   "id": "1ecf6d83",
   "metadata": {},
   "outputs": [
    {
     "ename": "TypeError",
     "evalue": "Person.display() missing 1 required positional argument: 'self'",
     "output_type": "error",
     "traceback": [
      "\u001b[31m---------------------------------------------------------------------------\u001b[39m",
      "\u001b[31mTypeError\u001b[39m                                 Traceback (most recent call last)",
      "\u001b[36mCell\u001b[39m\u001b[36m \u001b[39m\u001b[32mIn[50]\u001b[39m\u001b[32m, line 2\u001b[39m\n\u001b[32m      1\u001b[39m \u001b[38;5;66;03m# Instance method are not accessible by class.\u001b[39;00m\n\u001b[32m----> \u001b[39m\u001b[32m2\u001b[39m \u001b[43mPerson\u001b[49m\u001b[43m.\u001b[49m\u001b[43mdisplay\u001b[49m\u001b[43m(\u001b[49m\u001b[43m)\u001b[49m\n",
      "\u001b[31mTypeError\u001b[39m: Person.display() missing 1 required positional argument: 'self'"
     ]
    }
   ],
   "source": [
    "# Instance method are not accessible by class.\n",
    "Person.display()"
   ]
  },
  {
   "cell_type": "code",
   "execution_count": 51,
   "id": "759312e9",
   "metadata": {},
   "outputs": [
    {
     "name": "stdout",
     "output_type": "stream",
     "text": [
      "2\n",
      "3\n",
      "3\n"
     ]
    }
   ],
   "source": [
    "# Static Method can be accessible by object/class.\n",
    "print(p2.cid)   # id of object 2\n",
    "print(p2.get_counter())  # total count\n",
    "print(Person.get_counter()) # total count"
   ]
  },
  {
   "cell_type": "code",
   "execution_count": 52,
   "id": "97a6e617",
   "metadata": {},
   "outputs": [
    {
     "name": "stdout",
     "output_type": "stream",
     "text": [
      "0\n"
     ]
    }
   ],
   "source": [
    "# class Methods can be accessible by class/objects\n",
    "p1.reset_counter()\n",
    "Person.reset_counter()\n",
    "print(p1.get_counter())"
   ]
  },
  {
   "cell_type": "code",
   "execution_count": 53,
   "id": "11fa3020",
   "metadata": {},
   "outputs": [
    {
     "name": "stdout",
     "output_type": "stream",
     "text": [
      "16\n",
      "True\n",
      "This is class variable...\n",
      "This is class variable...\n",
      "True\n",
      "True\n"
     ]
    }
   ],
   "source": [
    "# Example 2:\n",
    "\n",
    "class Rectangle:\n",
    "    \n",
    "    # Private static (class-level) variable\n",
    "    __var1 = 'This is class variable...'\n",
    "\n",
    "    def __init__(self, l, b):\n",
    "        self.length = l\n",
    "        self.breadth = b\n",
    "\n",
    "    # Class method: alternative constructor\n",
    "    @classmethod\n",
    "    def property(cls, len, bre):\n",
    "        return cls(len, bre)\n",
    "\n",
    "    # Class method: access private static variable\n",
    "    @classmethod\n",
    "    def show(cls):\n",
    "        return cls.__var1\n",
    "\n",
    "    # Instance method: calculate area\n",
    "    def area(self):\n",
    "        return self.length * self.breadth\n",
    "\n",
    "    # Instance method: check if square\n",
    "    def is_square(self):\n",
    "        return self.length == self.breadth\n",
    "\n",
    "    # Static method: utility function to validate dimensions\n",
    "    @staticmethod\n",
    "    def is_valid_dimension(value):\n",
    "        \"\"\"\n",
    "        Returns True if the value is a positive number.\n",
    "        \"\"\"\n",
    "        return isinstance(value, (int, float)) and value > 0\n",
    "\n",
    "\n",
    "# Create object using class method (alternative constructor)\n",
    "r = Rectangle.property(4, 4)\n",
    "\n",
    "# Call instance methods using objects only\n",
    "print(r.area())         \n",
    "print(r.is_square())   \n",
    "\n",
    "# Call class method using object/class\n",
    "print(r.show())\n",
    "print(Rectangle.show())\n",
    "\n",
    "# Call static method using object/class\n",
    "print(r.is_valid_dimension(5))\n",
    "print(Rectangle.is_valid_dimension(7))\n"
   ]
  },
  {
   "cell_type": "code",
   "execution_count": null,
   "id": "82ba7943",
   "metadata": {},
   "outputs": [],
   "source": []
  },
  {
   "cell_type": "markdown",
   "id": "b792d24f",
   "metadata": {},
   "source": [
    "### Class Relationship:"
   ]
  },
  {
   "cell_type": "markdown",
   "id": "b6e4ebed",
   "metadata": {},
   "source": [
    "1. Association\n",
    "2. Aggregation \n",
    "3. Composition\n",
    "4. Inheritance"
   ]
  },
  {
   "cell_type": "markdown",
   "id": "41e5182e",
   "metadata": {},
   "source": [
    "1. Association:\n",
    "- 'Uses a' relationship\n",
    "- one class uses another class temporarily to perform an action.\n",
    "- There is no ownership."
   ]
  },
  {
   "cell_type": "code",
   "execution_count": 54,
   "id": "c4376e01",
   "metadata": {},
   "outputs": [
    {
     "name": "stdout",
     "output_type": "stream",
     "text": [
      "Doctor is checking up Nikshit.\n"
     ]
    }
   ],
   "source": [
    "# A doctor uses a patient object during a check-up. The doctor doesn't own the patient.\n",
    "\n",
    "class Patient:\n",
    "    def __init__(self,name):\n",
    "        self.name=name\n",
    "\n",
    "class Doctor:\n",
    "    def __init__(self,name):\n",
    "        self.name=name\n",
    "\n",
    "    def check_up(self,patient):\n",
    "        print(f'Doctor is checking up {patient.name}.') # passing variable\n",
    "\n",
    "p1 = Patient('Nikshit')\n",
    "d1 = Doctor('Alex')\n",
    "d1.check_up(p1)"
   ]
  },
  {
   "cell_type": "markdown",
   "id": "0b670e03",
   "metadata": {},
   "source": [
    "2. Aggregation:\n",
    "- 'Has a' relationship\n",
    "- A class contains another class, but the contained class can exist independently."
   ]
  },
  {
   "cell_type": "code",
   "execution_count": 55,
   "id": "3bdc4601",
   "metadata": {},
   "outputs": [
    {
     "name": "stdout",
     "output_type": "stream",
     "text": [
      "Dr. Smith 35\n"
     ]
    }
   ],
   "source": [
    "# University has many professors. If the university shuts down, the professors still exist.\n",
    "class Professor:\n",
    "    def __init__(self,name,age):\n",
    "        self.name=name\n",
    "        self.age =age\n",
    "    \n",
    "class University:\n",
    "    def __init__(self,name):\n",
    "        self.name=name\n",
    "        self.professors_list = []\n",
    "\n",
    "    def add_professor(self,professor_name):\n",
    "        self.professors_list.append(professor_name)  # passing the object\n",
    "\n",
    "prof1 = Professor('Dr. Smith',35)\n",
    "university = University('PDPU')\n",
    "university.add_professor(prof1)\n",
    "\n",
    "for i in university.professors_list:\n",
    "    print(i.name,i.age)"
   ]
  },
  {
   "cell_type": "markdown",
   "id": "95dbba47",
   "metadata": {},
   "source": [
    "3. Composition:\n",
    "- a class contain another class and controls its lifetime.\n",
    "- when the container is destroyed, so is the contained class."
   ]
  },
  {
   "cell_type": "code",
   "execution_count": 56,
   "id": "bdcb4a78",
   "metadata": {},
   "outputs": [
    {
     "name": "stdout",
     "output_type": "stream",
     "text": [
      "Room created.\n"
     ]
    }
   ],
   "source": [
    "# A House has rooms. if the house destroyed, the room no longer exist.\n",
    "\n",
    "class Room:\n",
    "    def __init__(self):\n",
    "        print('Room created.')\n",
    "\n",
    "class House:\n",
    "    def __init__(self):\n",
    "        self.room = Room()  # object is created insided consturctor\n",
    " \n",
    "h1 = House()"
   ]
  },
  {
   "cell_type": "code",
   "execution_count": null,
   "id": "611f63fc",
   "metadata": {},
   "outputs": [],
   "source": []
  },
  {
   "cell_type": "code",
   "execution_count": 57,
   "id": "9c162b72",
   "metadata": {},
   "outputs": [
    {
     "name": "stdout",
     "output_type": "stream",
     "text": [
      "junagadh 362030 GJ\n"
     ]
    }
   ],
   "source": [
    "# Examples:\n",
    "class Customer:\n",
    "    def __init__(self,name,gender,address):\n",
    "        self.name = name\n",
    "        self.gender = gender\n",
    "        self.address = address  # object of Address class\n",
    "        \n",
    "    def print_address(self):\n",
    "        print(self.address.get_city(),self.address.pin,self.address.state)\n",
    "\n",
    "class Address:\n",
    "    def __init__(self,city,pin,state):\n",
    "        self.__city = city     # private var city is not accessible directly in customer class\n",
    "        self.pin = pin\n",
    "        self.state = state\n",
    "        \n",
    "    def get_city(self):  # can use get method to use private var in customer class..\n",
    "        return self.__city\n",
    "\n",
    "add1 = Address('junagadh',362030,'GJ')        \n",
    "cust = Customer(\"Nikshit\",'Male',add1)\n",
    "cust.print_address()"
   ]
  },
  {
   "cell_type": "code",
   "execution_count": 58,
   "id": "6bec777d",
   "metadata": {},
   "outputs": [
    {
     "name": "stdout",
     "output_type": "stream",
     "text": [
      "junagadh 362020 GJ\n",
      "mumbai 1234 MH\n"
     ]
    }
   ],
   "source": [
    "class Customer:\n",
    "    def __init__(self,name,gender,address):\n",
    "        self.name = name\n",
    "        self.gender = gender\n",
    "        self.address = address\n",
    "        \n",
    "    def print_address(self):\n",
    "        print(self.address.get_city(),self.address.pin,self.address.state)\n",
    "        \n",
    "    def edit_profile(self,new_name,new_city,new_pin,new_state):\n",
    "        self.name = new_name\n",
    "        self.address.edit_address(new_city,new_pin,new_state)\n",
    "\n",
    "class Address:\n",
    "    def __init__(self,city,pin,state):\n",
    "        self.__city = city     # private var city is not accessible directly in customer class\n",
    "        self.pin = pin\n",
    "        self.state = state\n",
    "        \n",
    "    def get_city(self):  # can use get method to use private var in customer class..\n",
    "        return self.__city\n",
    "    \n",
    "    def edit_address(self,new_city,new_pin,new_state):\n",
    "        self.__city = new_city\n",
    "        self.pin = new_pin\n",
    "        self.state = new_state\n",
    "\n",
    "add1 = Address('junagadh',362020,'GJ')        \n",
    "cust = Customer(\"Nikshit\",'Male',add1)\n",
    "cust.print_address()\n",
    "cust.edit_profile('ankit','mumbai',1234,'MH')\n",
    "cust.print_address()"
   ]
  },
  {
   "cell_type": "code",
   "execution_count": 59,
   "id": "87e51706",
   "metadata": {},
   "outputs": [
    {
     "data": {
      "text/plain": [
       "'\\n\\n---------------------                   ---------------------\\n| Customer          |                   | Address           |                                                                 \\n---------------------                   ---------------------\\n| - name            |/\\\\     diamond     | - city            |        \\n| - address         |\\\\/-----------------| - state           |\\n| - gender          |                   | - pin             |\\n---------------------                   ---------------------\\n| + print_address   |                   | + get city        |\\n| + edit_profile    |                   | + edit address    |\\n--------------------|                   ---------------------   \\n\\n'"
      ]
     },
     "execution_count": 59,
     "metadata": {},
     "output_type": "execute_result"
    }
   ],
   "source": [
    "# aggregation class diagram\n",
    "'''\n",
    "\n",
    "---------------------                   ---------------------\n",
    "| Customer          |                   | Address           |                                                                 \n",
    "---------------------                   ---------------------\n",
    "| - name            |/\\     diamond     | - city            |        \n",
    "| - address         |\\/-----------------| - state           |\n",
    "| - gender          |                   | - pin             |\n",
    "---------------------                   ---------------------\n",
    "| + print_address   |                   | + get city        |\n",
    "| + edit_profile    |                   | + edit address    |\n",
    "--------------------|                   ---------------------   \n",
    "\n",
    "'''"
   ]
  },
  {
   "cell_type": "code",
   "execution_count": null,
   "id": "44045f69",
   "metadata": {},
   "outputs": [],
   "source": []
  },
  {
   "cell_type": "markdown",
   "id": "08928ccb",
   "metadata": {},
   "source": [
    "### Inheritance\n",
    "- It allows a class (called a child or derived class) to inherit attributes and methods from another class (called a parent or base class). "
   ]
  },
  {
   "cell_type": "markdown",
   "id": "2adf1276",
   "metadata": {},
   "source": [
    "### Why do we need Inheritance in Python\n",
    "\n",
    "- Promotes code reusability by sharing attributes and methods across classes.\n",
    "- Models real-world hierarchies like Animal → Dog or Person → Employee.\n",
    "- Simplifies maintenance through centralized updates in parent classes.\n",
    "- Enables method overriding for customized subclass behavior.\n",
    "- Supports scalable, extensible design using polymorphism."
   ]
  },
  {
   "cell_type": "code",
   "execution_count": 60,
   "id": "23713ede",
   "metadata": {},
   "outputs": [
    {
     "name": "stdout",
     "output_type": "stream",
     "text": [
      "100\n",
      "Enrol into Data Science Programme\n",
      "None\n",
      "login\n",
      "None\n"
     ]
    }
   ],
   "source": [
    "# parent class\n",
    "class User:\n",
    "    def __init__(self):\n",
    "        self.name = 'Nikshit'\n",
    "        self.gender = 'male'\n",
    "    \n",
    "    def login(self):\n",
    "        print('login')\n",
    "\n",
    "# child class        \n",
    "class Student(User):\n",
    "    def __init__(self):\n",
    "        self.rol_no = 100\n",
    "    \n",
    "    def enroll(self):\n",
    "        print('Enrol into Data Science Programme')\n",
    "        \n",
    "u = User()\n",
    "s = Student()\n",
    "\n",
    "print(s.rol_no)\n",
    "print(s.enroll())\n",
    "print(s.login()) # Accessing parent class method from child class instance\n"
   ]
  },
  {
   "cell_type": "code",
   "execution_count": 61,
   "id": "e16d6b38",
   "metadata": {},
   "outputs": [
    {
     "ename": "AttributeError",
     "evalue": "'Student' object has no attribute 'name'",
     "output_type": "error",
     "traceback": [
      "\u001b[31m---------------------------------------------------------------------------\u001b[39m",
      "\u001b[31mAttributeError\u001b[39m                            Traceback (most recent call last)",
      "\u001b[36mCell\u001b[39m\u001b[36m \u001b[39m\u001b[32mIn[61]\u001b[39m\u001b[32m, line 1\u001b[39m\n\u001b[32m----> \u001b[39m\u001b[32m1\u001b[39m \u001b[38;5;28mprint\u001b[39m(\u001b[43ms\u001b[49m\u001b[43m.\u001b[49m\u001b[43mname\u001b[49m)   \n\u001b[32m      2\u001b[39m \u001b[38;5;66;03m# s.name and s.gender is not accessible, \u001b[39;00m\n\u001b[32m      3\u001b[39m \u001b[38;5;66;03m# child class having __init__ constructor. so parent class __init__ constructor is not intiated at all.\u001b[39;00m\n",
      "\u001b[31mAttributeError\u001b[39m: 'Student' object has no attribute 'name'"
     ]
    }
   ],
   "source": [
    "print(s.name)   \n",
    "# s.name and s.gender is not accessible, \n",
    "# child class having __init__ constructor. so parent class __init__ constructor is not intiated at all."
   ]
  },
  {
   "cell_type": "code",
   "execution_count": 62,
   "id": "827e3611",
   "metadata": {},
   "outputs": [],
   "source": [
    "# whats get inherited"
   ]
  },
  {
   "cell_type": "code",
   "execution_count": 63,
   "id": "5baa5d42",
   "metadata": {},
   "outputs": [
    {
     "name": "stdout",
     "output_type": "stream",
     "text": [
      "Inside phone constructor\n",
      "Buying a phone\n",
      "None\n",
      "20000\n",
      "Apple\n",
      "13\n"
     ]
    }
   ],
   "source": [
    "class Phone:\n",
    "    def __init__(self, price, brand, camera):\n",
    "        print (\"Inside phone constructor\")\n",
    "        self.price = price\n",
    "        self.brand = brand\n",
    "        self.camera = camera\n",
    "\n",
    "    def buy(self):\n",
    "        print (\"Buying a phone\")\n",
    "\n",
    "# No __init__ method defined in SmartPhone\n",
    "# Therefore, the parent class's __init__ is automatically invoked when creating a SmartPhone instance\n",
    "class SmartPhone(Phone):    \n",
    "    pass  \n",
    "\n",
    "# need to pass the required arguments (price, brand, camera) as defined in the Phone class constructor\n",
    "s = SmartPhone(20000, \"Apple\", 13) \n",
    "\n",
    "print(s.buy())\n",
    "print(s.price)\n",
    "print(s.brand)\n",
    "print(s.camera)"
   ]
  },
  {
   "cell_type": "code",
   "execution_count": 64,
   "id": "924804ad",
   "metadata": {},
   "outputs": [],
   "source": [
    "# A child class cannot directly access private attributes of its parent class\n",
    "# because private attributes in Python are name-mangled (e.g., __attribute becomes _ClassName__attribute).\n",
    "# However, these private attributes can still be accessed using the name-mangled syntax: _ParentClass__attribute.\n",
    "# A more robust and encapsulated approach is to use getter and setter methods defined in the parent class to safely access or modify private attributes from the child class or external code."
   ]
  },
  {
   "cell_type": "code",
   "execution_count": 65,
   "id": "5a01fc21",
   "metadata": {},
   "outputs": [
    {
     "name": "stdout",
     "output_type": "stream",
     "text": [
      "Inside SmartPhone constructor\n"
     ]
    },
    {
     "ename": "AttributeError",
     "evalue": "'SmartPhone' object has no attribute '_SmartPhone__price'",
     "output_type": "error",
     "traceback": [
      "\u001b[31m---------------------------------------------------------------------------\u001b[39m",
      "\u001b[31mAttributeError\u001b[39m                            Traceback (most recent call last)",
      "\u001b[36mCell\u001b[39m\u001b[36m \u001b[39m\u001b[32mIn[65]\u001b[39m\u001b[32m, line 18\u001b[39m\n\u001b[32m     15\u001b[39m         \u001b[38;5;28;01mreturn\u001b[39;00m \u001b[38;5;28mself\u001b[39m.__price        \n\u001b[32m     17\u001b[39m s=SmartPhone(\u001b[33m\"\u001b[39m\u001b[33mAndroid\u001b[39m\u001b[33m\"\u001b[39m, \u001b[32m2\u001b[39m)\n\u001b[32m---> \u001b[39m\u001b[32m18\u001b[39m \u001b[38;5;28mprint\u001b[39m(\u001b[43ms\u001b[49m\u001b[43m.\u001b[49m\u001b[43mshow_price\u001b[49m\u001b[43m(\u001b[49m\u001b[43m)\u001b[49m)\n",
      "\u001b[36mCell\u001b[39m\u001b[36m \u001b[39m\u001b[32mIn[65]\u001b[39m\u001b[32m, line 15\u001b[39m, in \u001b[36mSmartPhone.show_price\u001b[39m\u001b[34m(self)\u001b[39m\n\u001b[32m     14\u001b[39m \u001b[38;5;28;01mdef\u001b[39;00m\u001b[38;5;250m \u001b[39m\u001b[34mshow_price\u001b[39m(\u001b[38;5;28mself\u001b[39m):   \u001b[38;5;66;03m# A child class cannot directly access private attributes of its parent class\u001b[39;00m\n\u001b[32m---> \u001b[39m\u001b[32m15\u001b[39m     \u001b[38;5;28;01mreturn\u001b[39;00m \u001b[38;5;28;43mself\u001b[39;49m\u001b[43m.\u001b[49m\u001b[43m__price\u001b[49m\n",
      "\u001b[31mAttributeError\u001b[39m: 'SmartPhone' object has no attribute '_SmartPhone__price'"
     ]
    }
   ],
   "source": [
    "class Phone:\n",
    "    def __init__(self, price, brand, camera):\n",
    "        print (\"Inside phone constructor\")\n",
    "        self.__price = price # Private attribute\n",
    "        self.brand = brand\n",
    "        self.camera = camera\n",
    "\n",
    "class SmartPhone(Phone):\n",
    "    def __init__(self, os, ram):\n",
    "        self.os = os\n",
    "        self.ram = ram\n",
    "        print (\"Inside SmartPhone constructor\")\n",
    "        \n",
    "    def show_price(self):   # A child class cannot directly access private attributes of its parent class\n",
    "        return self.__price        \n",
    "\n",
    "s=SmartPhone(\"Android\", 2)\n",
    "print(s.show_price())"
   ]
  },
  {
   "cell_type": "code",
   "execution_count": 66,
   "id": "b4631bad",
   "metadata": {},
   "outputs": [
    {
     "name": "stdout",
     "output_type": "stream",
     "text": [
      "Inside phone constructor\n",
      "20000\n"
     ]
    }
   ],
   "source": [
    "class Phone:\n",
    "    def __init__(self, price, brand, camera):  # this will intiated as __init__ is not there in child class\n",
    "        print (\"Inside phone constructor\")\n",
    "        self.__price = price\n",
    "        self.brand = brand\n",
    "        self.camera = camera\n",
    "\n",
    "    # getter method in parent class\n",
    "    def show(self):\n",
    "        print (self.__price)\n",
    "\n",
    "class SmartPhone(Phone):\n",
    "    def check(self):   # this method will not work..\n",
    "        print(self.__price)\n",
    "\n",
    "s=SmartPhone(20000, \"Apple\", 13)\n",
    "s.show()  # Accessing the private attribute using the getter method defined in the parent class"
   ]
  },
  {
   "cell_type": "markdown",
   "id": "879b263d",
   "metadata": {},
   "source": [
    "### Examples"
   ]
  },
  {
   "cell_type": "code",
   "execution_count": 67,
   "id": "44174f90",
   "metadata": {},
   "outputs": [
    {
     "name": "stdout",
     "output_type": "stream",
     "text": [
      "100\n",
      "This is in child class\n"
     ]
    }
   ],
   "source": [
    "class Parent:\n",
    "\n",
    "    def __init__(self,num):\n",
    "        self.__num=num\n",
    "\n",
    "    def get_num(self):\n",
    "        return self.__num\n",
    "\n",
    "class Child(Parent):\n",
    "\n",
    "    def show(self):\n",
    "        print(\"This is in child class\")\n",
    "        \n",
    "son=Child(100)\n",
    "print(son.get_num())\n",
    "son.show()"
   ]
  },
  {
   "cell_type": "code",
   "execution_count": 68,
   "id": "b17d66c1",
   "metadata": {},
   "outputs": [
    {
     "ename": "AttributeError",
     "evalue": "'Child' object has no attribute '_Parent__num'",
     "output_type": "error",
     "traceback": [
      "\u001b[31m---------------------------------------------------------------------------\u001b[39m",
      "\u001b[31mAttributeError\u001b[39m                            Traceback (most recent call last)",
      "\u001b[36mCell\u001b[39m\u001b[36m \u001b[39m\u001b[32mIn[68]\u001b[39m\u001b[32m, line 18\u001b[39m\n\u001b[32m     15\u001b[39m         \u001b[38;5;28;01mreturn\u001b[39;00m \u001b[38;5;28mself\u001b[39m.__val\n\u001b[32m     17\u001b[39m son=Child(\u001b[32m100\u001b[39m,\u001b[32m10\u001b[39m)\n\u001b[32m---> \u001b[39m\u001b[32m18\u001b[39m \u001b[38;5;28mprint\u001b[39m(\u001b[33m\"\u001b[39m\u001b[33mParent: Num:\u001b[39m\u001b[33m\"\u001b[39m,\u001b[43mson\u001b[49m\u001b[43m.\u001b[49m\u001b[43mget_num\u001b[49m\u001b[43m(\u001b[49m\u001b[43m)\u001b[49m)\n\u001b[32m     19\u001b[39m \u001b[38;5;28mprint\u001b[39m(\u001b[33m\"\u001b[39m\u001b[33mChild: Val:\u001b[39m\u001b[33m\"\u001b[39m,son.get_val())\n",
      "\u001b[36mCell\u001b[39m\u001b[36m \u001b[39m\u001b[32mIn[68]\u001b[39m\u001b[32m, line 7\u001b[39m, in \u001b[36mParent.get_num\u001b[39m\u001b[34m(self)\u001b[39m\n\u001b[32m      6\u001b[39m \u001b[38;5;28;01mdef\u001b[39;00m\u001b[38;5;250m \u001b[39m\u001b[34mget_num\u001b[39m(\u001b[38;5;28mself\u001b[39m):\n\u001b[32m----> \u001b[39m\u001b[32m7\u001b[39m     \u001b[38;5;28;01mreturn\u001b[39;00m \u001b[38;5;28;43mself\u001b[39;49m\u001b[43m.\u001b[49m\u001b[43m__num\u001b[49m\n",
      "\u001b[31mAttributeError\u001b[39m: 'Child' object has no attribute '_Parent__num'"
     ]
    }
   ],
   "source": [
    "class Parent:\n",
    "\n",
    "    def __init__(self,num):\n",
    "        self.__num=num\n",
    "\n",
    "    def get_num(self):\n",
    "        return self.__num\n",
    "\n",
    "class Child(Parent):\n",
    "\n",
    "    def __init__(self,val,num):\n",
    "        self.__val=val\n",
    "        \n",
    "    def get_val(self):\n",
    "        return self.__val\n",
    "        \n",
    "son=Child(100,10)\n",
    "print(\"Parent: Num:\",son.get_num())\n",
    "print(\"Child: Val:\",son.get_val())"
   ]
  },
  {
   "cell_type": "code",
   "execution_count": 69,
   "id": "0c023245",
   "metadata": {},
   "outputs": [
    {
     "name": "stdout",
     "output_type": "stream",
     "text": [
      "class A : 100\n"
     ]
    }
   ],
   "source": [
    "class A:\n",
    "    def __init__(self):\n",
    "        self.var1=100\n",
    "\n",
    "    def display1(self,var1):\n",
    "        print(\"class A :\", self.var1)\n",
    "class B(A):\n",
    "  \n",
    "    def display2(self,var1):\n",
    "        print(\"class B :\", self.var1)\n",
    "\n",
    "obj=B()\n",
    "obj.display1(200)"
   ]
  },
  {
   "cell_type": "code",
   "execution_count": 70,
   "id": "686bdd21",
   "metadata": {},
   "outputs": [
    {
     "name": "stdout",
     "output_type": "stream",
     "text": [
      "Inside phone constructor\n",
      "Buying a smartphone\n"
     ]
    }
   ],
   "source": [
    "# Method Overriding Example\n",
    "\n",
    "class Phone:\n",
    "    def __init__(self, price, brand, camera):\n",
    "        print (\"Inside phone constructor\")\n",
    "        self.__price = price\n",
    "        self.brand = brand\n",
    "        self.camera = camera\n",
    "\n",
    "    def buy(self):\n",
    "        print (\"Buying a phone\")\n",
    "\n",
    "class SmartPhone(Phone):\n",
    "    def buy(self): # Overriding the buy() method from the parent class\n",
    "        print (\"Buying a smartphone\")\n",
    "\n",
    "s=SmartPhone(20000, \"Apple\", 13)\n",
    "\n",
    "# the overridden version in SmartPhone will be executed instead of the one in Phone.\n",
    "s.buy()"
   ]
  },
  {
   "cell_type": "markdown",
   "id": "11db5b99",
   "metadata": {},
   "source": [
    "### super() : keyword to access parent class attribute & methods"
   ]
  },
  {
   "cell_type": "code",
   "execution_count": 71,
   "id": "f994c823",
   "metadata": {},
   "outputs": [
    {
     "name": "stdout",
     "output_type": "stream",
     "text": [
      "Inside phone constructor\n",
      "Buying a smartphone\n",
      "Buying a phone\n"
     ]
    }
   ],
   "source": [
    "# Method Overriding with super()\n",
    "class Phone:\n",
    "    def __init__(self, price, brand, camera):\n",
    "        print (\"Inside phone constructor\")\n",
    "        self.__price = price\n",
    "        self.brand = brand\n",
    "        self.camera = camera\n",
    "\n",
    "    def buy(self):\n",
    "        print (\"Buying a phone\")\n",
    "\n",
    "class SmartPhone(Phone):\n",
    "    def buy(self):\n",
    "        print (\"Buying a smartphone\") \n",
    "        # Using super() to call the parent class's version of the method\n",
    "        # This allows us to extend or reuse the parent class functionality        \n",
    "        super().buy()\n",
    "\n",
    "s=SmartPhone(20000, \"Apple\", 13)\n",
    "\n",
    "# Output will include both the child class's and parent class's buy() messages\n",
    "s.buy() "
   ]
  },
  {
   "cell_type": "code",
   "execution_count": 72,
   "id": "903d94c8",
   "metadata": {},
   "outputs": [
    {
     "name": "stdout",
     "output_type": "stream",
     "text": [
      "Inside smartphone constructor\n",
      "Inside phone constructor\n",
      "Inside smartphone constructor\n",
      "Android\n",
      "Samsung\n"
     ]
    }
   ],
   "source": [
    "# super() to call the parent class constructor\n",
    "class Phone:\n",
    "    def __init__(self, price, brand, camera):\n",
    "        print (\"Inside phone constructor\")\n",
    "        self.__price = price\n",
    "        self.brand = brand\n",
    "        self.camera = camera\n",
    "\n",
    "class SmartPhone(Phone):\n",
    "    def __init__(self, price, brand, camera, os, ram):\n",
    "        print('Inside smartphone constructor')\n",
    "        super().__init__(price, brand, camera) # Calling the parent class constructor using super()\n",
    "        self.os = os\n",
    "        self.ram = ram\n",
    "        print (\"Inside smartphone constructor\")\n",
    "\n",
    "s=SmartPhone(20000, \"Samsung\", 12, \"Android\", 2)\n",
    "\n",
    "print(s.os)\n",
    "print(s.brand)"
   ]
  },
  {
   "cell_type": "code",
   "execution_count": 73,
   "id": "898021b3",
   "metadata": {},
   "outputs": [
    {
     "name": "stdout",
     "output_type": "stream",
     "text": [
      "100\n",
      "200\n"
     ]
    }
   ],
   "source": [
    "class Parent:\n",
    "\n",
    "    def __init__(self,num):\n",
    "        self.__num=num\n",
    "\n",
    "    def get_num(self):\n",
    "        return self.__num\n",
    "\n",
    "class Child(Parent):\n",
    "  \n",
    "    def __init__(self,num,val):\n",
    "        super().__init__(num)\n",
    "        self.__val=val\n",
    "\n",
    "    def get_val(self):\n",
    "        return self.__val\n",
    "      \n",
    "son=Child(100,200)\n",
    "print(son.get_num())\n",
    "print(son.get_val())"
   ]
  },
  {
   "cell_type": "code",
   "execution_count": 74,
   "id": "b31b224b",
   "metadata": {},
   "outputs": [
    {
     "name": "stdout",
     "output_type": "stream",
     "text": [
      "100\n",
      "200\n"
     ]
    }
   ],
   "source": [
    "class Parent:\n",
    "    def __init__(self):\n",
    "        self.num=100\n",
    "\n",
    "class Child(Parent):\n",
    "\n",
    "    def __init__(self):\n",
    "        super().__init__()\n",
    "        self.var=200\n",
    "        \n",
    "    def show(self):\n",
    "        print(self.num)\n",
    "        print(self.var)\n",
    "\n",
    "son=Child()\n",
    "son.show()"
   ]
  },
  {
   "cell_type": "code",
   "execution_count": 75,
   "id": "f89e1079",
   "metadata": {},
   "outputs": [
    {
     "name": "stdout",
     "output_type": "stream",
     "text": [
      "Child: 10\n"
     ]
    }
   ],
   "source": [
    "class Parent:\n",
    "    def __init__(self):\n",
    "        self.__num=100\n",
    "\n",
    "    def show(self):\n",
    "        print(\"Parent:\",self.__num)\n",
    "\n",
    "class Child(Parent):\n",
    "    def __init__(self):\n",
    "        super().__init__()\n",
    "        self.__var=10\n",
    "\n",
    "    def show(self):\n",
    "        print(\"Child:\",self.__var)\n",
    "\n",
    "obj=Child()\n",
    "obj.show()"
   ]
  },
  {
   "cell_type": "code",
   "execution_count": 76,
   "id": "5b277ba8",
   "metadata": {},
   "outputs": [
    {
     "name": "stdout",
     "output_type": "stream",
     "text": [
      "Child: 10\n"
     ]
    }
   ],
   "source": [
    "class Parent:\n",
    "    def __init__(self):\n",
    "        self.__num=100\n",
    "\n",
    "    def show(self):\n",
    "        print(\"Parent:\",self.__num)\n",
    "\n",
    "class Child(Parent):\n",
    "    def __init__(self):\n",
    "        super().__init__()\n",
    "        self.__var=10\n",
    "\n",
    "    def show(self):\n",
    "        print(\"Child:\",self.__var)\n",
    "\n",
    "obj=Child()\n",
    "obj.show()"
   ]
  },
  {
   "cell_type": "markdown",
   "id": "55bc9833",
   "metadata": {},
   "source": [
    "### Types of Inheritance:\n",
    "1. Single Inheritance:\n",
    "    - A child class inherits from one parent class.\n",
    "2. Multiple Inheritance:\n",
    "    - A child class inherits from more than one parent class.\n",
    "3. Multilevel Inheritance:\n",
    "    - A class inherits from a child class which itself inherits from another class.\n",
    "4. Hierarchical Inheritance:\n",
    "    - Multiple child classes inherit from a single parent class.\n",
    "5. Hybrid Inheritance:\n",
    "    - A combination of two or more types of inheritance.\n",
    "    - Python uses the Method Resolution Order (MRO) to handle this complexity."
   ]
  },
  {
   "cell_type": "code",
   "execution_count": 77,
   "id": "2d0c44b6",
   "metadata": {},
   "outputs": [
    {
     "name": "stdout",
     "output_type": "stream",
     "text": [
      "Inside phone constructor\n",
      "Buying a phone\n"
     ]
    }
   ],
   "source": [
    "# Single Inheritance\n",
    "class Phone:\n",
    "    def __init__(self, price, brand, camera):\n",
    "        print (\"Inside phone constructor\")\n",
    "        self.__price = price\n",
    "        self.brand = brand\n",
    "        self.camera = camera\n",
    "\n",
    "    def buy(self):\n",
    "        print (\"Buying a phone\")\n",
    "\n",
    "class SmartPhone(Phone):\n",
    "    pass\n",
    "\n",
    "SmartPhone(1000,\"Apple\",\"13px\").buy()"
   ]
  },
  {
   "cell_type": "code",
   "execution_count": 78,
   "id": "d498c7b6",
   "metadata": {},
   "outputs": [
    {
     "name": "stdout",
     "output_type": "stream",
     "text": [
      "Inside phone constructor\n",
      "Buying a product\n",
      "Customer review\n"
     ]
    }
   ],
   "source": [
    "# Multiple Inheritance\n",
    "\n",
    "class Phone:\n",
    "    def __init__(self, price, brand, camera):\n",
    "        print (\"Inside phone constructor\")\n",
    "        self.__price = price\n",
    "        self.brand = brand\n",
    "        self.camera = camera\n",
    "\n",
    "    def buy(self):\n",
    "        print (\"Buying a phone\")\n",
    "\n",
    "class Product:\n",
    "    def review(self):\n",
    "        print (\"Customer review\")\n",
    "        \n",
    "    def buy(self):\n",
    "        print (\"Buying a product\")       \n",
    "    \n",
    "\n",
    "class SmartPhone(Product,Phone):\n",
    "    pass\n",
    "\n",
    "s=SmartPhone(20000, \"Apple\", 12)\n",
    "\n",
    "s.buy()\n",
    "s.review()"
   ]
  },
  {
   "cell_type": "code",
   "execution_count": 79,
   "id": "7a67533f",
   "metadata": {},
   "outputs": [
    {
     "name": "stdout",
     "output_type": "stream",
     "text": [
      "Inside phone constructor\n",
      "Buying a phone\n"
     ]
    }
   ],
   "source": [
    "# Method Resolution Order (MRO) -  determines the order in which base classes are searched when executing a method.\n",
    "# https://stackoverflow.com/questions/56361048/what-is-the-diamond-problem-in-python-and-why-its-not-appear-in-python2\n",
    "class Phone:\n",
    "    def __init__(self, price, brand, camera):\n",
    "        print (\"Inside phone constructor\")\n",
    "        self.__price = price\n",
    "        self.brand = brand\n",
    "        self.camera = camera\n",
    "\n",
    "    def buy(self):\n",
    "        print (\"Buying a phone\")\n",
    "\n",
    "class Product:\n",
    "    def buy(self):\n",
    "        print (\"Product buy method\")\n",
    "\n",
    "# Method resolution order\n",
    "class SmartPhone(Phone,Product):\n",
    "    pass\n",
    "\n",
    "s=SmartPhone(20000, \"Apple\", 12)\n",
    "\n",
    "s.buy()"
   ]
  },
  {
   "cell_type": "code",
   "execution_count": 80,
   "id": "780fbd2f",
   "metadata": {},
   "outputs": [
    {
     "name": "stdout",
     "output_type": "stream",
     "text": [
      "Inside phone constructor\n",
      "Buying a phone\n",
      "Product customer review\n"
     ]
    }
   ],
   "source": [
    "# Multilevel Inheritance\n",
    "class Product:\n",
    "    def review(self):\n",
    "        print (\"Product customer review\")\n",
    "\n",
    "class Phone(Product):\n",
    "    def __init__(self, price, brand, camera):\n",
    "        print (\"Inside phone constructor\")\n",
    "        self.__price = price\n",
    "        self.brand = brand\n",
    "        self.camera = camera\n",
    "\n",
    "    def buy(self):\n",
    "        print (\"Buying a phone\")\n",
    "\n",
    "class SmartPhone(Phone):\n",
    "    pass\n",
    "\n",
    "s=SmartPhone(20000, \"Apple\", 12)\n",
    "\n",
    "s.buy()\n",
    "s.review()"
   ]
  },
  {
   "cell_type": "code",
   "execution_count": 81,
   "id": "77706dea",
   "metadata": {},
   "outputs": [
    {
     "name": "stdout",
     "output_type": "stream",
     "text": [
      "Inside phone constructor\n",
      "Buying a phone\n",
      "Inside phone constructor\n",
      "Buying a phone\n"
     ]
    }
   ],
   "source": [
    "# Hierarchical Inheritance\n",
    "class Phone:\n",
    "    def __init__(self, price, brand, camera):\n",
    "        print (\"Inside phone constructor\")\n",
    "        self.__price = price\n",
    "        self.brand = brand\n",
    "        self.camera = camera\n",
    "\n",
    "    def buy(self):\n",
    "        print (\"Buying a phone\")\n",
    "\n",
    "class SmartPhone(Phone):\n",
    "    pass\n",
    "\n",
    "class FeaturePhone(Phone):\n",
    "    pass\n",
    "\n",
    "SmartPhone(1000,\"Apple\",\"13px\").buy()\n",
    "FeaturePhone(10,\"Lava\",\"1px\").buy()"
   ]
  },
  {
   "cell_type": "code",
   "execution_count": 82,
   "id": "a4ff1540",
   "metadata": {},
   "outputs": [
    {
     "name": "stdout",
     "output_type": "stream",
     "text": [
      "70\n"
     ]
    }
   ],
   "source": [
    "# Example \n",
    "class A:\n",
    "\n",
    "    def m1(self):\n",
    "        return 20\n",
    "\n",
    "class B(A):\n",
    "\n",
    "    def m1(self):\n",
    "        return 30\n",
    "\n",
    "    def m2(self):\n",
    "        return 40\n",
    "\n",
    "class C(B):\n",
    "  \n",
    "    def m2(self):\n",
    "        return 20\n",
    "obj1=A()\n",
    "obj2=B()\n",
    "obj3=C()\n",
    "print(obj1.m1() + obj3.m1()+ obj3.m2())"
   ]
  },
  {
   "cell_type": "code",
   "execution_count": null,
   "id": "fef8d6b5",
   "metadata": {},
   "outputs": [],
   "source": []
  },
  {
   "cell_type": "markdown",
   "id": "861b2650",
   "metadata": {},
   "source": [
    "### Polymorphism:\n",
    "- It means many forms.\n",
    "- It allows the same function of method to behave differently based on the objects it is acting on.\n",
    "\n",
    "1. Duck Typing/ dynamic typing\n",
    "2. Method overriding\n",
    "3. Method overloading\n",
    "4. Operator overloading"
   ]
  },
  {
   "cell_type": "code",
   "execution_count": 83,
   "id": "69ec7880",
   "metadata": {},
   "outputs": [
    {
     "name": "stdout",
     "output_type": "stream",
     "text": [
      "car started.\n",
      "computer started.\n",
      "TV started.\n"
     ]
    }
   ],
   "source": [
    "# 1. Duck Typing:\n",
    "# Objects is judged by its behavior(methods/properties), not its class or type.\n",
    "\n",
    "# Ex: if an object has the method that we are calling, python doesn't care what class it is from. it just runs it.\n",
    "\n",
    "class Car:\n",
    "    def start(self):\n",
    "        print('car started.')\n",
    "\n",
    "class Computer:\n",
    "    def start(self):\n",
    "        print('computer started.')\n",
    "\n",
    "class TV:\n",
    "    def start(self):\n",
    "        print('TV started.')\n",
    "\n",
    "# function that accepts any object and calls its start method\n",
    "def start_anything(obj):\n",
    "    obj.start()\n",
    "\n",
    "# Each call will invoke the respective start method of the object\n",
    "start_anything(Car())\n",
    "start_anything(Computer())\n",
    "start_anything(TV())"
   ]
  },
  {
   "cell_type": "code",
   "execution_count": 84,
   "id": "cbda14a1",
   "metadata": {},
   "outputs": [
    {
     "name": "stdout",
     "output_type": "stream",
     "text": [
      "Vehicle is starting...\n",
      "Car is starting with a key...\n",
      "Bike is starting with a button...\n"
     ]
    }
   ],
   "source": [
    "# 2. Method Overriding: writing method in child class with the same name as in the parent class, to change it behavior.\n",
    "# It allows a subclass to provide a specific implementation of a method that is already defined in its superclass.\n",
    "\n",
    "class Vehicle:\n",
    "    def start(self):\n",
    "        print(\"Vehicle is starting...\")\n",
    "\n",
    "class Car(Vehicle):\n",
    "    def start(self):  # Overriding the start method of Vehicle class\n",
    "        print(\"Car is starting with a key...\")\n",
    "\n",
    "class Bike(Vehicle):\n",
    "    def start(self):  # Overriding the start method of Vehicle class\n",
    "        print(\"Bike is starting with a button...\")\n",
    "\n",
    "v = Vehicle()\n",
    "c = Car()\n",
    "b = Bike()\n",
    "\n",
    "v.start() \n",
    "c.start()  \n",
    "b.start()"
   ]
  },
  {
   "cell_type": "code",
   "execution_count": 85,
   "id": "c70feeb6",
   "metadata": {},
   "outputs": [
    {
     "ename": "TypeError",
     "evalue": "shape.area() missing 1 required positional argument: 'b'",
     "output_type": "error",
     "traceback": [
      "\u001b[31m---------------------------------------------------------------------------\u001b[39m",
      "\u001b[31mTypeError\u001b[39m                                 Traceback (most recent call last)",
      "\u001b[36mCell\u001b[39m\u001b[36m \u001b[39m\u001b[32mIn[85]\u001b[39m\u001b[32m, line 11\u001b[39m\n\u001b[32m      8\u001b[39m         \u001b[38;5;28;01mreturn\u001b[39;00m l*b\n\u001b[32m     10\u001b[39m s = shape()\n\u001b[32m---> \u001b[39m\u001b[32m11\u001b[39m \u001b[43ms\u001b[49m\u001b[43m.\u001b[49m\u001b[43marea\u001b[49m\u001b[43m(\u001b[49m\u001b[32;43m4\u001b[39;49m\u001b[43m)\u001b[49m  \u001b[38;5;66;03m# Python do not support method overloading.\u001b[39;00m\n",
      "\u001b[31mTypeError\u001b[39m: shape.area() missing 1 required positional argument: 'b'"
     ]
    }
   ],
   "source": [
    "# 3. Method overloading: defining multiple methods with same name but different arguments. (based on number/type)\n",
    "\n",
    "class shape:\n",
    "    def area(self,r): # 1 parameter\n",
    "        return 3.14*r**2\n",
    "    \n",
    "    def area(self,l,b): # same method with 2 parameter.\n",
    "        return l*b\n",
    "    \n",
    "s = shape()\n",
    "s.area(4)  # Python do not support method overloading."
   ]
  },
  {
   "cell_type": "code",
   "execution_count": 86,
   "id": "3e1f4882",
   "metadata": {},
   "outputs": [
    {
     "name": "stdout",
     "output_type": "stream",
     "text": [
      "12.56\n",
      "12\n"
     ]
    }
   ],
   "source": [
    "# Method overloading: \n",
    "# 1. way of implementing method overloading like other languages.\n",
    "class Shape:\n",
    "    \n",
    "    def area(self,a,b=0):\n",
    "        if b == 0:\n",
    "            return 3.14*a*a\n",
    "        else:\n",
    "            return a*b\n",
    "\n",
    "s = Shape()\n",
    "\n",
    "print(s.area(2))\n",
    "print(s.area(3,4))"
   ]
  },
  {
   "cell_type": "code",
   "execution_count": 87,
   "id": "0a2d802c",
   "metadata": {},
   "outputs": [],
   "source": [
    "# !pip install multipledispatch"
   ]
  },
  {
   "cell_type": "code",
   "execution_count": 88,
   "id": "859a826a",
   "metadata": {},
   "outputs": [
    {
     "name": "stdout",
     "output_type": "stream",
     "text": [
      "50.24\n",
      "20\n"
     ]
    }
   ],
   "source": [
    "# 2. way of implementing method overloading like other languages.\n",
    "\n",
    "from multipledispatch import dispatch\n",
    "class shape:\n",
    "    \n",
    "    @dispatch(int)\n",
    "    def area(self,r):\n",
    "        return 3.14*r**2\n",
    "    \n",
    "    @dispatch(int,int)\n",
    "    def area(self,l,b):\n",
    "        return l*b\n",
    "    \n",
    "s = shape()\n",
    "print(s.area(4))\n",
    "print(s.area(4,5))"
   ]
  },
  {
   "cell_type": "code",
   "execution_count": null,
   "id": "b09a747d",
   "metadata": {},
   "outputs": [],
   "source": []
  },
  {
   "cell_type": "code",
   "execution_count": 89,
   "id": "1823c97c",
   "metadata": {},
   "outputs": [
    {
     "name": "stdout",
     "output_type": "stream",
     "text": [
      "10\n",
      "Hello WorldHow are you..?\n"
     ]
    }
   ],
   "source": [
    "# 4. Operator Overloading:  it means giving new meaning to built in operators (+,-,*,/) based on custom objects.\n",
    "\n",
    "print(5+5)\n",
    "print(\"Hello World\" + 'How are you..?') # same operator behaves differently based on objects."
   ]
  },
  {
   "cell_type": "code",
   "execution_count": 90,
   "id": "652339c4",
   "metadata": {},
   "outputs": [
    {
     "name": "stdout",
     "output_type": "stream",
     "text": [
      "(4,6)\n"
     ]
    }
   ],
   "source": [
    "# Python let us overload this operators in our own class using magic methods (dunder methods)\n",
    "\n",
    "class Point:\n",
    "    def __init__(self,x,y):\n",
    "        self.x=x\n",
    "        self.y=y\n",
    "    \n",
    "    def __add__(self,other): # overloading +\n",
    "        return Point(self.x + other.x, self.y + other.y)\n",
    "    \n",
    "    def __str__(self): \n",
    "        return f'({self.x},{self.y})'\n",
    "    \n",
    "p1 = Point(1,2)\n",
    "p2 = Point(3,4)\n",
    "\n",
    "print(p1+p2)"
   ]
  },
  {
   "cell_type": "code",
   "execution_count": null,
   "id": "f8d1158e",
   "metadata": {},
   "outputs": [],
   "source": []
  },
  {
   "cell_type": "markdown",
   "id": "4659b8c7",
   "metadata": {},
   "source": [
    "### Abstraction:\n",
    "- Hiding internal implementation and only exposing the necessary parts to the user.\n",
    "\n",
    "Abstract class: A base class with only method names (no codes), This class can't be directly instantiated.  \n",
    "Abstract method: A method that must be written in child class"
   ]
  },
  {
   "cell_type": "code",
   "execution_count": 91,
   "id": "d6431375",
   "metadata": {},
   "outputs": [
    {
     "ename": "TypeError",
     "evalue": "Can't instantiate abstract class BankApp with abstract method security",
     "output_type": "error",
     "traceback": [
      "\u001b[31m---------------------------------------------------------------------------\u001b[39m",
      "\u001b[31mTypeError\u001b[39m                                 Traceback (most recent call last)",
      "\u001b[36mCell\u001b[39m\u001b[36m \u001b[39m\u001b[32mIn[91]\u001b[39m\u001b[32m, line 12\u001b[39m\n\u001b[32m      8\u001b[39m     \u001b[38;5;129m@abstractmethod\u001b[39m   \n\u001b[32m      9\u001b[39m     \u001b[38;5;28;01mdef\u001b[39;00m\u001b[38;5;250m \u001b[39m\u001b[34msecurity\u001b[39m(\u001b[38;5;28mself\u001b[39m):  \u001b[38;5;66;03m# this method has to be there in child class..\u001b[39;00m\n\u001b[32m     10\u001b[39m         \u001b[38;5;28;01mpass\u001b[39;00m\n\u001b[32m---> \u001b[39m\u001b[32m12\u001b[39m obj1 = \u001b[43mBankApp\u001b[49m\u001b[43m(\u001b[49m\u001b[43m)\u001b[49m\n\u001b[32m     14\u001b[39m \u001b[38;5;66;03m# Python raises TypeError as we try to create the object of abstractclass, \u001b[39;00m\n\u001b[32m     15\u001b[39m \u001b[38;5;66;03m# Can't instantiate abstract class BankApp with abstract method security\u001b[39;00m\n\u001b[32m     16\u001b[39m \u001b[38;5;66;03m# Because abstract classes are meant to be inherited, not instantiated directly.\u001b[39;00m\n",
      "\u001b[31mTypeError\u001b[39m: Can't instantiate abstract class BankApp with abstract method security"
     ]
    }
   ],
   "source": [
    "from abc import ABC,abstractmethod\n",
    "\n",
    "class BankApp(ABC):\n",
    "    \n",
    "    def database(self):  # This is concrete method\n",
    "        print('connected to database..')\n",
    "    \n",
    "    @abstractmethod   \n",
    "    def security(self):  # this method has to be there in child class..\n",
    "        pass\n",
    "    \n",
    "obj1 = BankApp()\n",
    "\n",
    "# Python raises TypeError as we try to create the object of abstractclass, \n",
    "# Can't instantiate abstract class BankApp with abstract method security\n",
    "# Because abstract classes are meant to be inherited, not instantiated directly.\n"
   ]
  },
  {
   "cell_type": "code",
   "execution_count": 92,
   "id": "357b6d5e",
   "metadata": {},
   "outputs": [
    {
     "ename": "TypeError",
     "evalue": "Can't instantiate abstract class MobileApp with abstract method security",
     "output_type": "error",
     "traceback": [
      "\u001b[31m---------------------------------------------------------------------------\u001b[39m",
      "\u001b[31mTypeError\u001b[39m                                 Traceback (most recent call last)",
      "\u001b[36mCell\u001b[39m\u001b[36m \u001b[39m\u001b[32mIn[92]\u001b[39m\u001b[32m, line 17\u001b[39m\n\u001b[32m     14\u001b[39m     \u001b[38;5;28;01mdef\u001b[39;00m\u001b[38;5;250m \u001b[39m\u001b[34mmobile_login\u001b[39m(\u001b[38;5;28mself\u001b[39m):  \n\u001b[32m     15\u001b[39m         \u001b[38;5;28mprint\u001b[39m(\u001b[33m'\u001b[39m\u001b[33mlogin to mobile..\u001b[39m\u001b[33m'\u001b[39m)\n\u001b[32m---> \u001b[39m\u001b[32m17\u001b[39m mob = \u001b[43mMobileApp\u001b[49m\u001b[43m(\u001b[49m\u001b[43m)\u001b[49m\n\u001b[32m     19\u001b[39m \u001b[38;5;66;03m# This will raise a TypeError:\u001b[39;00m\n\u001b[32m     20\u001b[39m \u001b[38;5;66;03m# Can't instantiate abstract class MobileApp with abstract method security\u001b[39;00m\n\u001b[32m     21\u001b[39m \u001b[38;5;66;03m# Because MobileApp does not implement the abstract method security from BankApp.\u001b[39;00m\n\u001b[32m     22\u001b[39m \u001b[38;5;66;03m# All abstract methods must be overridden in the subclass to make it instantiable.\u001b[39;00m\n",
      "\u001b[31mTypeError\u001b[39m: Can't instantiate abstract class MobileApp with abstract method security"
     ]
    }
   ],
   "source": [
    "from abc import ABC,abstractmethod\n",
    "\n",
    "class BankApp(ABC):\n",
    "    \n",
    "    def database(self):\n",
    "        print('connected to database..')\n",
    "    \n",
    "    @abstractmethod   \n",
    "    def security(self): # Abstract method with no implementation\n",
    "        pass   # This method must be implemented in any subclass of BankApp.\n",
    "    \n",
    "class MobileApp(BankApp):   # Child class of abstract class \n",
    "    \n",
    "    def mobile_login(self):  \n",
    "        print('login to mobile..')\n",
    "        \n",
    "mob = MobileApp()\n",
    "\n",
    "# This will raise a TypeError:\n",
    "# Can't instantiate abstract class MobileApp with abstract method security\n",
    "# Because MobileApp does not implement the abstract method security from BankApp.\n",
    "# All abstract methods must be overridden in the subclass to make it instantiable.\n"
   ]
  },
  {
   "cell_type": "code",
   "execution_count": 93,
   "id": "09bdcb18",
   "metadata": {},
   "outputs": [
    {
     "name": "stdout",
     "output_type": "stream",
     "text": [
      "mobile security\n"
     ]
    }
   ],
   "source": [
    "from abc import ABC,abstractmethod\n",
    "\n",
    "class BankApp(ABC):\n",
    "    \n",
    "    def database(self):\n",
    "        print('connected to database..')\n",
    "    \n",
    "    @abstractmethod   \n",
    "    def security(self):  # this same method has to be there in child class..\n",
    "        pass\n",
    "    \n",
    "class MobileApp(BankApp):\n",
    "    \n",
    "    def mobile_login(self):\n",
    "        print('login to mobile..')\n",
    "        \n",
    "    def security(self):     # Overriding the abstract method from BankApp\n",
    "        print('mobile security')  # This is required to make MobileApp instantiable\n",
    "        \n",
    "mob = MobileApp()\n",
    "mob.security()"
   ]
  },
  {
   "cell_type": "code",
   "execution_count": null,
   "id": "5483a4c9",
   "metadata": {},
   "outputs": [],
   "source": []
  },
  {
   "cell_type": "markdown",
   "id": "2bfd887a",
   "metadata": {},
   "source": [
    "### Multiple constructor with condition"
   ]
  },
  {
   "cell_type": "code",
   "execution_count": 94,
   "id": "57a2f680",
   "metadata": {},
   "outputs": [
    {
     "name": "stdout",
     "output_type": "stream",
     "text": [
      "Name: Shrey\n",
      "Name: Ram and Age: 25\n",
      "Name: Shyam, Age: 26 and Gender: M\n"
     ]
    }
   ],
   "source": [
    "class Student:\n",
    "     def __init__(self, *args):\n",
    "        if len(args) == 1:\n",
    "            self.name = args[0]\n",
    "        \n",
    "        elif len(args) == 2:\n",
    "            self.name = args[0]\n",
    "            self.age = args[1]\n",
    "        \n",
    "        elif len(args) == 3:\n",
    "            self.name = args[0]\n",
    "            self.age = args[1]\n",
    "            self.gender = args[2]\n",
    "            \n",
    "st1 = Student(\"Shrey\")\n",
    "print(\"Name:\", st1.name)\n",
    "st2 = Student(\"Ram\", 25)\n",
    "print(f\"Name: {st2.name} and Age: {st2.age}\")\n",
    "st3 = Student(\"Shyam\", 26, \"M\")\n",
    "print(f\"Name: {st3.name}, Age: {st3.age} and Gender: {st3.gender}\")"
   ]
  },
  {
   "cell_type": "code",
   "execution_count": null,
   "id": "3742eff0",
   "metadata": {},
   "outputs": [],
   "source": []
  },
  {
   "cell_type": "markdown",
   "id": "618886d1",
   "metadata": {},
   "source": [
    "### Destructor - Magic Method"
   ]
  },
  {
   "cell_type": "code",
   "execution_count": 95,
   "id": "66c97a30",
   "metadata": {},
   "outputs": [
    {
     "name": "stdout",
     "output_type": "stream",
     "text": [
      "constructor called..\n"
     ]
    }
   ],
   "source": [
    "class Example:\n",
    "    def __init__(self):\n",
    "        print('constructor called..')\n",
    "    def __del__(self):\n",
    "        print('destructor called..')\n",
    "obj = Example()"
   ]
  },
  {
   "cell_type": "code",
   "execution_count": 96,
   "id": "79c57ba5",
   "metadata": {},
   "outputs": [
    {
     "name": "stdout",
     "output_type": "stream",
     "text": [
      "destructor called..\n"
     ]
    }
   ],
   "source": [
    "del obj"
   ]
  },
  {
   "cell_type": "code",
   "execution_count": 97,
   "id": "e9cc3882",
   "metadata": {},
   "outputs": [
    {
     "name": "stdout",
     "output_type": "stream",
     "text": [
      "constructor called..\n"
     ]
    }
   ],
   "source": [
    "# need to del all references to call the destructor..\n",
    "obj1 = Example()\n",
    "obj2 = obj1"
   ]
  },
  {
   "cell_type": "code",
   "execution_count": 98,
   "id": "403858a8",
   "metadata": {},
   "outputs": [],
   "source": [
    "del obj1"
   ]
  },
  {
   "cell_type": "code",
   "execution_count": 99,
   "id": "f4f8d18a",
   "metadata": {},
   "outputs": [
    {
     "name": "stdout",
     "output_type": "stream",
     "text": [
      "destructor called..\n"
     ]
    }
   ],
   "source": [
    "del obj2"
   ]
  },
  {
   "cell_type": "code",
   "execution_count": null,
   "id": "76b7ffbd",
   "metadata": {},
   "outputs": [],
   "source": []
  },
  {
   "cell_type": "markdown",
   "id": "1aa1cd5d",
   "metadata": {},
   "source": [
    "### dir function"
   ]
  },
  {
   "cell_type": "code",
   "execution_count": 100,
   "id": "a8f73fda",
   "metadata": {},
   "outputs": [
    {
     "name": "stdout",
     "output_type": "stream",
     "text": [
      "['_Test__b', '_Test__greet', '__class__', '__delattr__', '__dict__', '__dir__', '__doc__', '__eq__', '__format__', '__ge__', '__getattribute__', '__getstate__', '__gt__', '__hash__', '__init__', '__init_subclass__', '__le__', '__lt__', '__module__', '__ne__', '__new__', '__reduce__', '__reduce_ex__', '__repr__', '__setattr__', '__sizeof__', '__str__', '__subclasshook__', '__weakref__', '_c', 'a']\n"
     ]
    }
   ],
   "source": [
    "class Test:\n",
    "    def __init__(self):\n",
    "        self.a=2\n",
    "        self.__b=3\n",
    "        self._c = 4\n",
    "        \n",
    "    def __greet(self):   \n",
    "        print('hello!!')\n",
    "        \n",
    "t = Test() \n",
    "print(dir(t)) # Print all attributes and methods of the object 't'\n",
    "# This will show how Python internally renames private members using name mangling\n"
   ]
  },
  {
   "cell_type": "code",
   "execution_count": null,
   "id": "3abfe530",
   "metadata": {},
   "outputs": [],
   "source": []
  },
  {
   "cell_type": "markdown",
   "id": "37406204",
   "metadata": {},
   "source": [
    "### `__repr__` and  `__str__`"
   ]
  },
  {
   "cell_type": "markdown",
   "id": "bda39392",
   "metadata": {},
   "source": [
    "str : User Friendly Representation\n",
    "- returns human readable string representation of the object\n",
    "- used for creting user friendly output and for displaying the object as string\n",
    "\n",
    "repr : Developer Friendly Representation\n",
    "- returns an unambiguous string representation of the object\n",
    "- used for debugging developement purposes to get the complete information of object"
   ]
  },
  {
   "cell_type": "code",
   "execution_count": 101,
   "id": "e8ee735c",
   "metadata": {},
   "outputs": [
    {
     "name": "stdout",
     "output_type": "stream",
     "text": [
      "10 + 20i\n",
      "(10,20)\n"
     ]
    }
   ],
   "source": [
    "class Complex:\n",
    " \n",
    "    # Constructor\n",
    "    def __init__(self, real, imag):\n",
    "        self.real = real\n",
    "        self.imag = imag\n",
    " \n",
    "    # For call to repr(). Prints object's information\n",
    "    def __repr__(self):\n",
    "        return f'({self.real},{self.imag})'\n",
    " \n",
    "    # For call to str(). Prints readable form for end user\n",
    "    def __str__(self):\n",
    "        return f'{self.real} + {self.imag}i'   \n",
    " \n",
    "t = Complex(10, 20)\n",
    " \n",
    "print (str(t))\n",
    "print (repr(t))"
   ]
  },
  {
   "cell_type": "code",
   "execution_count": null,
   "id": "156c7479",
   "metadata": {},
   "outputs": [],
   "source": []
  }
 ],
 "metadata": {
  "kernelspec": {
   "display_name": "Python 3",
   "language": "python",
   "name": "python3"
  },
  "language_info": {
   "codemirror_mode": {
    "name": "ipython",
    "version": 3
   },
   "file_extension": ".py",
   "mimetype": "text/x-python",
   "name": "python",
   "nbconvert_exporter": "python",
   "pygments_lexer": "ipython3",
   "version": "3.11.2"
  }
 },
 "nbformat": 4,
 "nbformat_minor": 5
}
