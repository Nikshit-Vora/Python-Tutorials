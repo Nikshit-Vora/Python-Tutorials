{
 "cells": [
  {
   "cell_type": "markdown",
   "id": "40a1b31c",
   "metadata": {},
   "source": [
    "# 1. Strings"
   ]
  },
  {
   "cell_type": "markdown",
   "id": "90641e57",
   "metadata": {},
   "source": [
    "- string is text.\n",
    "- strings are sequences of characters enclosed in quotes.\n",
    "- string is immutable data type. can not change a part of string.\n"
   ]
  },
  {
   "cell_type": "markdown",
   "id": "d0360d87",
   "metadata": {},
   "source": [
    "### Creating Python Strings"
   ]
  },
  {
   "cell_type": "code",
   "execution_count": 1,
   "id": "dc9ba8ba",
   "metadata": {},
   "outputs": [
    {
     "name": "stdout",
     "output_type": "stream",
     "text": [
      "Hello!\n",
      "Hello! i'm Learning Data Science..\n",
      "\n",
      "Hello! Good Morning!!.\n",
      "what's your name.\n",
      "\n",
      "\n",
      "Hi, this is Multiline string...\n",
      "..........\n",
      "How are you..?\n",
      "\n"
     ]
    }
   ],
   "source": [
    "# single quote\n",
    "s = 'Hello!'\n",
    "print(s)\n",
    "\n",
    "# double quote\n",
    "s = \"Hello! i'm Learning Data Science..\"\n",
    "print(s)\n",
    "\n",
    "# triple inverted comma for multiple line strings...\n",
    "s = '''\n",
    "Hello! Good Morning!!.\n",
    "what's your name.\n",
    "'''\n",
    "print(s)\n",
    "\n",
    "# double triple inverted comma for multiple line strings.\n",
    "\n",
    "s = \"\"\"\n",
    "Hi, this is Multiline string...\n",
    "..........\n",
    "How are you..?\n",
    "\"\"\"\n",
    "print(s)"
   ]
  },
  {
   "cell_type": "code",
   "execution_count": null,
   "id": "e15e56b3",
   "metadata": {},
   "outputs": [],
   "source": []
  },
  {
   "cell_type": "markdown",
   "id": "968abcdc",
   "metadata": {},
   "source": [
    "### Type Conversion"
   ]
  },
  {
   "cell_type": "code",
   "execution_count": 2,
   "id": "b02fafac",
   "metadata": {},
   "outputs": [
    {
     "name": "stdout",
     "output_type": "stream",
     "text": [
      "Hello!!\n",
      "235 <class 'str'>\n",
      "5.7\n",
      "(4+5j)\n",
      "True\n",
      "0\n"
     ]
    }
   ],
   "source": [
    "s = str('Hello!!')\n",
    "print(s)\n",
    "\n",
    "# int to str\n",
    "a = 235\n",
    "b = str(a)\n",
    "print(b,type(b))\n",
    "\n",
    "# float to str\n",
    "c = 5.7\n",
    "print(str(c)) \n",
    "\n",
    "# complex to str\n",
    "d = 4+5j\n",
    "print(str(d))\n",
    "\n",
    "# bool to str\n",
    "print(str(True))\n",
    "print(str(0))"
   ]
  },
  {
   "cell_type": "code",
   "execution_count": null,
   "id": "cb0d6d94",
   "metadata": {},
   "outputs": [],
   "source": []
  },
  {
   "cell_type": "markdown",
   "id": "895243f4",
   "metadata": {},
   "source": [
    "### Accessing Value From String"
   ]
  },
  {
   "cell_type": "code",
   "execution_count": 3,
   "id": "c1cddfda",
   "metadata": {},
   "outputs": [
    {
     "name": "stdout",
     "output_type": "stream",
     "text": [
      "H\n",
      "e\n",
      "l\n",
      "w\n"
     ]
    }
   ],
   "source": [
    "# Positive Indexing : Left to Right (start from 0)\n",
    "\n",
    "s = 'Hello!! How are you!!'\n",
    "print(s[0])\n",
    "print(s[1])\n",
    "print(s[2])\n",
    "print(s[10])"
   ]
  },
  {
   "cell_type": "code",
   "execution_count": 4,
   "id": "b78d20b7",
   "metadata": {},
   "outputs": [
    {
     "name": "stdout",
     "output_type": "stream",
     "text": [
      "u\n",
      "o\n",
      "l\n"
     ]
    }
   ],
   "source": [
    "# Negative Indexing: Right to Left (start from -1)\n",
    "\n",
    "s = 'Hello!! How are you'\n",
    "print(s[-1])\n",
    "print(s[-2])\n",
    "print(s[-16])"
   ]
  },
  {
   "cell_type": "code",
   "execution_count": 5,
   "id": "38e3c262",
   "metadata": {},
   "outputs": [
    {
     "ename": "IndexError",
     "evalue": "string index out of range",
     "output_type": "error",
     "traceback": [
      "\u001b[31m---------------------------------------------------------------------------\u001b[39m",
      "\u001b[31mIndexError\u001b[39m                                Traceback (most recent call last)",
      "\u001b[36mCell\u001b[39m\u001b[36m \u001b[39m\u001b[32mIn[5]\u001b[39m\u001b[32m, line 2\u001b[39m\n\u001b[32m      1\u001b[39m \u001b[38;5;66;03m# IndexError : string index out of range\u001b[39;00m\n\u001b[32m----> \u001b[39m\u001b[32m2\u001b[39m \u001b[38;5;28mprint\u001b[39m(\u001b[43ms\u001b[49m\u001b[43m[\u001b[49m\u001b[32;43m50\u001b[39;49m\u001b[43m]\u001b[49m)\n\u001b[32m      3\u001b[39m \u001b[38;5;28mprint\u001b[39m(s[-\u001b[32m45\u001b[39m])\n",
      "\u001b[31mIndexError\u001b[39m: string index out of range"
     ]
    }
   ],
   "source": [
    "# IndexError : string index out of range\n",
    "print(s[50])\n",
    "print(s[-45])"
   ]
  },
  {
   "cell_type": "code",
   "execution_count": null,
   "id": "8d87c52f",
   "metadata": {},
   "outputs": [],
   "source": []
  },
  {
   "cell_type": "markdown",
   "id": "10791b76",
   "metadata": {},
   "source": [
    "### String Slicing"
   ]
  },
  {
   "cell_type": "raw",
   "id": "f551bf65",
   "metadata": {
    "vscode": {
     "languageId": "raw"
    }
   },
   "source": [
    "string [start_index : end_index : step_size]\n",
    "\n",
    "start_index --> included\n",
    "end_index   --> excluded\n",
    "step_size"
   ]
  },
  {
   "cell_type": "code",
   "execution_count": 6,
   "id": "c9cd8115",
   "metadata": {},
   "outputs": [
    {
     "name": "stdout",
     "output_type": "stream",
     "text": [
      "Hello\n",
      "!! How are you\n",
      "Hello!! \n",
      "Hlo!H\n",
      "Hlo!Hwaeyu\n"
     ]
    }
   ],
   "source": [
    "# Positive slicing\n",
    "\n",
    "s = 'Hello!! How are you'\n",
    "\n",
    "print(s[0:5])  # prints characters from index 0 to 4 (5 is excluded).\n",
    "\n",
    "print(s[5:])  # prints from index 5 to the end.\n",
    "\n",
    "print(s[:8])  # prints from the start to index 7:\n",
    "\n",
    "print(s[0:10:2])  # prints from index 0 to 9, taking every 2nd character\n",
    "\n",
    "print(s[::2])  # prints the entire string, skipping every second character"
   ]
  },
  {
   "cell_type": "code",
   "execution_count": 7,
   "id": "f2a3e862",
   "metadata": {},
   "outputs": [
    {
     "name": "stdout",
     "output_type": "stream",
     "text": [
      "uoy era woH !!olleH\n",
      "woH !!olle\n",
      "woH\n",
      "woH\n",
      "How\n"
     ]
    }
   ],
   "source": [
    "# Negative slicing\n",
    "\n",
    "print(s[::-1]) # reverse string\n",
    "\n",
    "# when negative step size,  start -> high index, end-> lower index\n",
    "print(s[10:0:-1])  # slices from index 10 to 1, moving backwards (step : -1)\n",
    "\n",
    "# How word using negative index\n",
    "print(s[10:7:-1])\n",
    "print(s[-9:-12:-1])\n",
    "print(s[-11:-8:1])\n",
    "\n"
   ]
  },
  {
   "cell_type": "code",
   "execution_count": null,
   "id": "2105a624",
   "metadata": {},
   "outputs": [],
   "source": []
  },
  {
   "cell_type": "markdown",
   "id": "c46af2f0",
   "metadata": {},
   "source": [
    "### Update & Delete Strings"
   ]
  },
  {
   "cell_type": "code",
   "execution_count": 8,
   "id": "fa87d2f7",
   "metadata": {},
   "outputs": [
    {
     "ename": "TypeError",
     "evalue": "'str' object does not support item assignment",
     "output_type": "error",
     "traceback": [
      "\u001b[31m---------------------------------------------------------------------------\u001b[39m",
      "\u001b[31mTypeError\u001b[39m                                 Traceback (most recent call last)",
      "\u001b[36mCell\u001b[39m\u001b[36m \u001b[39m\u001b[32mIn[8]\u001b[39m\u001b[32m, line 5\u001b[39m\n\u001b[32m      1\u001b[39m \u001b[38;5;66;03m# strings are immutable, it cannot be changed.\u001b[39;00m\n\u001b[32m      3\u001b[39m s = \u001b[33m'\u001b[39m\u001b[33mhello, world!\u001b[39m\u001b[33m'\u001b[39m\n\u001b[32m----> \u001b[39m\u001b[32m5\u001b[39m \u001b[43ms\u001b[49m\u001b[43m[\u001b[49m\u001b[32;43m0\u001b[39;49m\u001b[43m]\u001b[49m=\u001b[33m'\u001b[39m\u001b[33mH\u001b[39m\u001b[33m'\u001b[39m \u001b[38;5;66;03m# This will raise a TypeError\u001b[39;00m\n",
      "\u001b[31mTypeError\u001b[39m: 'str' object does not support item assignment"
     ]
    }
   ],
   "source": [
    "# strings are immutable, it cannot be changed.\n",
    "\n",
    "s = 'hello, world!'\n",
    "\n",
    "s[0]='H' # This will raise a TypeError"
   ]
  },
  {
   "cell_type": "code",
   "execution_count": null,
   "id": "f7047f2d",
   "metadata": {},
   "outputs": [
    {
     "name": "stdout",
     "output_type": "stream",
     "text": [
      "hello world\n"
     ]
    },
    {
     "ename": "NameError",
     "evalue": "name 's' is not defined",
     "output_type": "error",
     "traceback": [
      "\u001b[31m---------------------------------------------------------------------------\u001b[39m",
      "\u001b[31mNameError\u001b[39m                                 Traceback (most recent call last)",
      "\u001b[36mCell\u001b[39m\u001b[36m \u001b[39m\u001b[32mIn[21]\u001b[39m\u001b[32m, line 6\u001b[39m\n\u001b[32m      3\u001b[39m \u001b[38;5;28mprint\u001b[39m(s)\n\u001b[32m      5\u001b[39m \u001b[38;5;28;01mdel\u001b[39;00m s\n\u001b[32m----> \u001b[39m\u001b[32m6\u001b[39m \u001b[38;5;28mprint\u001b[39m(\u001b[43ms\u001b[49m)\n",
      "\u001b[31mNameError\u001b[39m: name 's' is not defined"
     ]
    }
   ],
   "source": [
    "# delete entire string\n",
    "s = 'hello world'\n",
    "print(s)\n",
    "\n",
    "del s\n",
    "print(s) # This will raise NameError as s does not exist as its deleted."
   ]
  },
  {
   "cell_type": "code",
   "execution_count": 9,
   "id": "462ddd53",
   "metadata": {},
   "outputs": [
    {
     "ename": "TypeError",
     "evalue": "'str' object does not support item deletion",
     "output_type": "error",
     "traceback": [
      "\u001b[31m---------------------------------------------------------------------------\u001b[39m",
      "\u001b[31mTypeError\u001b[39m                                 Traceback (most recent call last)",
      "\u001b[36mCell\u001b[39m\u001b[36m \u001b[39m\u001b[32mIn[9]\u001b[39m\u001b[32m, line 3\u001b[39m\n\u001b[32m      1\u001b[39m \u001b[38;5;66;03m# we can not delete a part of string...\u001b[39;00m\n\u001b[32m      2\u001b[39m s = \u001b[33m'\u001b[39m\u001b[33mhello world\u001b[39m\u001b[33m'\u001b[39m\n\u001b[32m----> \u001b[39m\u001b[32m3\u001b[39m \u001b[38;5;28;01mdel\u001b[39;00m \u001b[43ms\u001b[49m\u001b[43m[\u001b[49m\u001b[32;43m3\u001b[39;49m\u001b[43m:\u001b[49m\u001b[43m]\u001b[49m\n\u001b[32m      4\u001b[39m \u001b[38;5;28mprint\u001b[39m(s)\n",
      "\u001b[31mTypeError\u001b[39m: 'str' object does not support item deletion"
     ]
    }
   ],
   "source": [
    "# we can not delete a part of string...\n",
    "s = 'hello world'\n",
    "del s[3:]\n",
    "print(s)"
   ]
  },
  {
   "cell_type": "code",
   "execution_count": null,
   "id": "eeea9500",
   "metadata": {},
   "outputs": [],
   "source": []
  },
  {
   "cell_type": "markdown",
   "id": "8256c511",
   "metadata": {},
   "source": [
    "### Operations On Strings"
   ]
  },
  {
   "cell_type": "code",
   "execution_count": 10,
   "id": "b8aebaa2",
   "metadata": {},
   "outputs": [
    {
     "name": "stdout",
     "output_type": "stream",
     "text": [
      "Hellow! world!!\n",
      "Data Science Data Science Data Science Data Science Data Science Data Science Data Science Data Science \n"
     ]
    }
   ],
   "source": [
    "# Arithmatic Operators\n",
    "\n",
    "print('Hellow!'+' world!!')  # addition -> string concatenation\n",
    "print('Data Science '*8)  # Multiplication"
   ]
  },
  {
   "cell_type": "code",
   "execution_count": 11,
   "id": "094fa132",
   "metadata": {},
   "outputs": [
    {
     "name": "stdout",
     "output_type": "stream",
     "text": [
      "False\n",
      "True\n",
      "True\n"
     ]
    }
   ],
   "source": [
    "# Relational Operators\n",
    "\n",
    "print('Nik'=='Vora')\n",
    "print('Niks'!='Vora')\n",
    "print('NM'=='NM')"
   ]
  },
  {
   "cell_type": "code",
   "execution_count": 13,
   "id": "ddfae882",
   "metadata": {},
   "outputs": [
    {
     "name": "stdout",
     "output_type": "stream",
     "text": [
      "False\n",
      "True\n",
      "\n",
      "78\n",
      "86\n",
      "110\n"
     ]
    }
   ],
   "source": [
    "# lexicographically comparison\n",
    "\n",
    "print('Nikshit' > 'Vora')\n",
    "print('Nik'<'nik')\n",
    "print()\n",
    "\n",
    "# to find ord of char\n",
    "print(ord('N'))\n",
    "print(ord('V'))\n",
    "print(ord('n'))\n",
    "\n"
   ]
  },
  {
   "cell_type": "code",
   "execution_count": 14,
   "id": "d953caee",
   "metadata": {},
   "outputs": [
    {
     "name": "stdout",
     "output_type": "stream",
     "text": [
      "World\n",
      "Hello\n",
      "\n",
      "World\n",
      "True\n",
      "False\n"
     ]
    }
   ],
   "source": [
    "# Logical Operators \n",
    "\n",
    "# non-empty strings --> True\n",
    "# Empty strings --> False\n",
    "\n",
    "print('Hello' and 'World')\n",
    "print('Hello' or 'World')\n",
    "print('' and 'World')  # False and True -> False\n",
    "print('' or 'World')   # False or True -> True\n",
    "print(not '')    # not False -> True\n",
    "print(not 'Hellow')  # not True -> False"
   ]
  },
  {
   "cell_type": "code",
   "execution_count": 15,
   "id": "f42a980c",
   "metadata": {},
   "outputs": [
    {
     "name": "stdout",
     "output_type": "stream",
     "text": [
      "False\n",
      "True\n"
     ]
    }
   ],
   "source": [
    "# Membership Operators\n",
    "print('DS' in 'Data Science')\n",
    "print('MS' not in 'Pune')"
   ]
  },
  {
   "cell_type": "code",
   "execution_count": null,
   "id": "039a8927",
   "metadata": {},
   "outputs": [],
   "source": []
  },
  {
   "cell_type": "markdown",
   "id": "21d92bdb",
   "metadata": {},
   "source": [
    "### Loop in Strings"
   ]
  },
  {
   "cell_type": "code",
   "execution_count": 16,
   "id": "2576cd96",
   "metadata": {},
   "outputs": [
    {
     "name": "stdout",
     "output_type": "stream",
     "text": [
      "H,e,l,l,o, ,W,o,r,l,d,!,!,"
     ]
    }
   ],
   "source": [
    "for i in 'Hello World!!':\n",
    "    print(i,end=',')"
   ]
  },
  {
   "cell_type": "code",
   "execution_count": 17,
   "id": "d7bd3efa",
   "metadata": {},
   "outputs": [
    {
     "name": "stdout",
     "output_type": "stream",
     "text": [
      "pune\n",
      "pune\n",
      "pune\n",
      "pune\n",
      "pune\n"
     ]
    }
   ],
   "source": [
    "for i in 'Delhi':\n",
    "    print('pune')"
   ]
  },
  {
   "cell_type": "code",
   "execution_count": 19,
   "id": "64107bf4",
   "metadata": {},
   "outputs": [
    {
     "name": "stdout",
     "output_type": "stream",
     "text": [
      "(0, 'H')\n",
      "(1, 'e')\n",
      "(2, 'l')\n",
      "(3, 'l')\n",
      "(4, 'o')\n",
      "(5, '!')\n",
      "(6, '!')\n",
      "[(0, 'D'), (1, 'a'), (2, 't'), (3, 'a')]\n"
     ]
    }
   ],
   "source": [
    "# enumerate() : return index and value as tuple.\n",
    "# can be used with any iterable.\n",
    "for i in enumerate('Hello!!'):\n",
    "    print(i)\n",
    "\n",
    "print(list(enumerate('Data')))"
   ]
  },
  {
   "cell_type": "code",
   "execution_count": null,
   "id": "2423e244",
   "metadata": {},
   "outputs": [],
   "source": []
  },
  {
   "cell_type": "markdown",
   "id": "b3ec7fba",
   "metadata": {},
   "source": [
    "### Common Function for all data types"
   ]
  },
  {
   "cell_type": "code",
   "execution_count": 20,
   "id": "8a6f69b6",
   "metadata": {},
   "outputs": [
    {
     "name": "stdout",
     "output_type": "stream",
     "text": [
      "13\n",
      "w\n",
      "!\n",
      "['!', '!', 'H', '_', 'd', 'e', 'l', 'l', 'l', 'o', 'o', 'r', 'w']\n",
      "['w', 'r', 'o', 'o', 'l', 'l', 'l', 'e', 'd', '_', 'H', '!', '!']\n",
      "Hello_world!!\n"
     ]
    }
   ],
   "source": [
    "s = 'Hello_world!!'\n",
    "print(len(s))  # len() -> Return length of string\n",
    "print(max(s))  # max() -> based on Lexicographical order of char, will return max order\n",
    "print(min(s))  # min() -> based on Lexicographical order of char, will return min order\n",
    "\n",
    "# sorted() -> based on Lexicographical order of char, return sorted list (temporary operation)\n",
    "print(sorted(s))  # ascending order\n",
    "print(sorted(s,reverse=True))  # descending order \n",
    "print(s)"
   ]
  },
  {
   "cell_type": "code",
   "execution_count": null,
   "id": "44b447be",
   "metadata": {},
   "outputs": [],
   "source": []
  },
  {
   "cell_type": "markdown",
   "id": "75cca526",
   "metadata": {},
   "source": [
    "### Case Conversion"
   ]
  },
  {
   "cell_type": "code",
   "execution_count": 21,
   "id": "274e4755",
   "metadata": {},
   "outputs": [
    {
     "name": "stdout",
     "output_type": "stream",
     "text": [
      "Hello world!!\n",
      "Hello World!!\n",
      "HELLO WORLD!!\n",
      "hello world!!\n",
      "HELLO WOrLD!!\n"
     ]
    }
   ],
   "source": [
    "s = 'hello woRld!!'\n",
    "\n",
    "print(s.capitalize())  # Converts the first character to uppercase and the rest to lowercase\n",
    "print(s.title())       # Capitalizes the first letter of each word\n",
    "print(s.upper())       # Converts the entire string to uppercase\n",
    "print(s.lower())       # Converts the entire string to lowercase\n",
    "print(s.swapcase())    # Swaps the case of each character: lowercase becomes uppercase and vice versa\n"
   ]
  },
  {
   "cell_type": "code",
   "execution_count": null,
   "id": "e14e3e52",
   "metadata": {},
   "outputs": [],
   "source": []
  },
  {
   "cell_type": "markdown",
   "id": "e8758536",
   "metadata": {},
   "source": [
    "### Find and Replace Methods"
   ]
  },
  {
   "cell_type": "code",
   "execution_count": 22,
   "id": "ef9a9bb0",
   "metadata": {},
   "outputs": [
    {
     "data": {
      "text/plain": [
       "3"
      ]
     },
     "execution_count": 22,
     "metadata": {},
     "output_type": "execute_result"
    }
   ],
   "source": [
    "s = 'hello world!!' \n",
    "s.count('l') # count all occurences of substring/char "
   ]
  },
  {
   "cell_type": "code",
   "execution_count": 23,
   "id": "61ac3fe1",
   "metadata": {},
   "outputs": [
    {
     "name": "stdout",
     "output_type": "stream",
     "text": [
      "2\n",
      "9\n",
      "-1\n",
      "---------\n",
      "2\n",
      "9\n"
     ]
    },
    {
     "ename": "ValueError",
     "evalue": "substring not found",
     "output_type": "error",
     "traceback": [
      "\u001b[31m---------------------------------------------------------------------------\u001b[39m",
      "\u001b[31mValueError\u001b[39m                                Traceback (most recent call last)",
      "\u001b[36mCell\u001b[39m\u001b[36m \u001b[39m\u001b[32mIn[23]\u001b[39m\u001b[32m, line 11\u001b[39m\n\u001b[32m      9\u001b[39m \u001b[38;5;28mprint\u001b[39m(s.index(\u001b[33m'\u001b[39m\u001b[33mll\u001b[39m\u001b[33m'\u001b[39m))  \u001b[38;5;66;03m# Returns the index of the first occurrence of substring from the left.\u001b[39;00m\n\u001b[32m     10\u001b[39m \u001b[38;5;28mprint\u001b[39m(s.rindex(\u001b[33m'\u001b[39m\u001b[33ml\u001b[39m\u001b[33m'\u001b[39m))  \u001b[38;5;66;03m# Returns the index of the last occurrence of character from the right.\u001b[39;00m\n\u001b[32m---> \u001b[39m\u001b[32m11\u001b[39m \u001b[38;5;28mprint\u001b[39m(\u001b[43ms\u001b[49m\u001b[43m.\u001b[49m\u001b[43mindex\u001b[49m\u001b[43m(\u001b[49m\u001b[33;43m'\u001b[39;49m\u001b[33;43mhi\u001b[39;49m\u001b[33;43m'\u001b[39;49m\u001b[43m)\u001b[49m)  \u001b[38;5;66;03m# Raises ValueError if not found in the string.\u001b[39;00m\n\u001b[32m     13\u001b[39m \u001b[38;5;66;03m# Note:\u001b[39;00m\n\u001b[32m     14\u001b[39m \u001b[38;5;66;03m# - find() and index() are similar in functionality.\u001b[39;00m\n\u001b[32m     15\u001b[39m \u001b[38;5;66;03m# - The key difference is: find() returns -1 if the substring is not found, while index() raises a ValueError.\u001b[39;00m\n",
      "\u001b[31mValueError\u001b[39m: substring not found"
     ]
    }
   ],
   "source": [
    "s = 'hello world!!'\n",
    "\n",
    "print(s.find('ll'))   # Returns the index of the first occurrence of substring from the left.\n",
    "print(s.rfind('l'))   # Returns the index of the last occurrence of character from the right (still using left-to-right indexing).\n",
    "print(s.find('hi'))   # Returns -1 if not found in the string.\n",
    "\n",
    "print('---------')\n",
    "\n",
    "print(s.index('ll'))  # Returns the index of the first occurrence of substring from the left.\n",
    "print(s.rindex('l'))  # Returns the index of the last occurrence of character from the right.\n",
    "print(s.index('hi'))  # Raises ValueError if not found in the string.\n",
    "\n",
    "# Note:\n",
    "# - find() and index() are similar in functionality.\n",
    "# - The key difference is: find() returns -1 if the substring is not found, while index() raises a ValueError.\n"
   ]
  },
  {
   "cell_type": "code",
   "execution_count": 24,
   "id": "073ed3ee",
   "metadata": {},
   "outputs": [
    {
     "name": "stdout",
     "output_type": "stream",
     "text": [
      "h--o world!!\n",
      "hello world!!\n"
     ]
    }
   ],
   "source": [
    "# replace method - will return new string with replace char\n",
    "\n",
    "print(s.replace('ell','--')) # will not change anything in original list\n",
    "print(s)"
   ]
  },
  {
   "cell_type": "code",
   "execution_count": null,
   "id": "9d2381e8",
   "metadata": {},
   "outputs": [],
   "source": []
  },
  {
   "cell_type": "markdown",
   "id": "31e0f640",
   "metadata": {},
   "source": [
    "### startswith() and endswith()"
   ]
  },
  {
   "cell_type": "code",
   "execution_count": 25,
   "id": "816bdd5d",
   "metadata": {},
   "outputs": [
    {
     "name": "stdout",
     "output_type": "stream",
     "text": [
      "True\n",
      "False\n",
      "True\n",
      "False\n"
     ]
    }
   ],
   "source": [
    "s = 'hello world!!'\n",
    "print(s.endswith('!!'))\n",
    "print(s.endswith('jh'))\n",
    "print(s.startswith('hello'))\n",
    "print(s.startswith('hj'))"
   ]
  },
  {
   "cell_type": "code",
   "execution_count": null,
   "id": "1a6e7519",
   "metadata": {},
   "outputs": [],
   "source": []
  },
  {
   "cell_type": "markdown",
   "id": "423cc79b",
   "metadata": {},
   "source": [
    "### String Formatting"
   ]
  },
  {
   "cell_type": "code",
   "execution_count": 26,
   "id": "1ea9ad7f",
   "metadata": {},
   "outputs": [
    {
     "name": "stdout",
     "output_type": "stream",
     "text": [
      "Hi my name is nikshit and surname is Vora\n",
      "Hi my name is nikshit and surname is Vora\n",
      "Hi my name is Vora and surname is nikshit\n",
      "Hi my name is nikshit and surname is Vora\n",
      "Hi my name is nikshit and surname is Vora\n"
     ]
    }
   ],
   "source": [
    "name = 'nikshit'\n",
    "surname = 'Vora'\n",
    "\n",
    "# method 1 -> order is important\n",
    "print('Hi my name is {} and surname is {}'.format(name,surname))\n",
    "\n",
    "# method 2 -> order is important\n",
    "print('Hi my name is {0} and surname is {1}'.format(name,surname))\n",
    "print('Hi my name is {1} and surname is {0}'.format(name,surname))\n",
    "\n",
    "# method 3  -> using f string method, in bracket can give variable name\n",
    "print(f'Hi my name is {name} and surname is {surname}')\n",
    "\n",
    "# method 4 -> using comma ,\n",
    "print('Hi my name is',name,'and surname is',surname)"
   ]
  },
  {
   "cell_type": "code",
   "execution_count": null,
   "id": "1831a230",
   "metadata": {},
   "outputs": [],
   "source": []
  },
  {
   "cell_type": "markdown",
   "id": "47ef45b9",
   "metadata": {},
   "source": [
    "### isfunction()"
   ]
  },
  {
   "cell_type": "code",
   "execution_count": 27,
   "id": "856f17a2",
   "metadata": {},
   "outputs": [
    {
     "name": "stdout",
     "output_type": "stream",
     "text": [
      "False\n",
      "True\n"
     ]
    }
   ],
   "source": [
    "s1 = 'Hello World'\n",
    "s2 = 'HelloWorld'\n",
    "\n",
    "print(s1.isalpha()) # return True if all char in A-Z or a-z\n",
    "print(s2.isalpha())"
   ]
  },
  {
   "cell_type": "code",
   "execution_count": 28,
   "id": "9f8d360c",
   "metadata": {},
   "outputs": [
    {
     "name": "stdout",
     "output_type": "stream",
     "text": [
      "False\n",
      "True\n"
     ]
    }
   ],
   "source": [
    "# return True if all char are letters/digit.\n",
    "s1 = 'Hello! 123'\n",
    "s2 = 'Hello123'\n",
    "print(s1.isalnum())\n",
    "print(s2.isalnum())"
   ]
  },
  {
   "cell_type": "code",
   "execution_count": 29,
   "id": "be4200ed",
   "metadata": {},
   "outputs": [
    {
     "data": {
      "text/plain": [
       "True"
      ]
     },
     "execution_count": 29,
     "metadata": {},
     "output_type": "execute_result"
    }
   ],
   "source": [
    "# return True if only digits\n",
    "s = '123'\n",
    "s.isdigit()"
   ]
  },
  {
   "cell_type": "code",
   "execution_count": 30,
   "id": "948aa32c",
   "metadata": {},
   "outputs": [
    {
     "name": "stdout",
     "output_type": "stream",
     "text": [
      "False\n",
      "True\n"
     ]
    }
   ],
   "source": [
    "# to check valid identifiers\n",
    "print('first-name'.isidentifier())  # invalid\n",
    "print('first_name'.isidentifier())  # valid "
   ]
  },
  {
   "cell_type": "code",
   "execution_count": null,
   "id": "6d21a6e6",
   "metadata": {},
   "outputs": [],
   "source": []
  },
  {
   "cell_type": "markdown",
   "id": "1b8e47e5",
   "metadata": {},
   "source": [
    "### Split & Join"
   ]
  },
  {
   "cell_type": "code",
   "execution_count": 31,
   "id": "39af5cb0",
   "metadata": {},
   "outputs": [
    {
     "data": {
      "text/plain": [
       "['Hi', 'My', 'name', 'is', 'nikshit']"
      ]
     },
     "execution_count": 31,
     "metadata": {},
     "output_type": "execute_result"
    }
   ],
   "source": [
    "# split() - to split string into word of list.\n",
    "s = 'Hi My name is nikshit'\n",
    "s.split() # default is space"
   ]
  },
  {
   "cell_type": "code",
   "execution_count": 32,
   "id": "de739893",
   "metadata": {},
   "outputs": [
    {
     "data": {
      "text/plain": [
       "['H', ' My name ', 's n', 'ksh', 't']"
      ]
     },
     "execution_count": 32,
     "metadata": {},
     "output_type": "execute_result"
    }
   ],
   "source": [
    "s = 'Hi My name is nikshit'\n",
    "s.split('i')  # split based on char"
   ]
  },
  {
   "cell_type": "code",
   "execution_count": 33,
   "id": "5d7fc1bb",
   "metadata": {},
   "outputs": [
    {
     "name": "stdout",
     "output_type": "stream",
     "text": [
      "('H', 'i', ' My name is nikshit')\n",
      "('Hi My name is niksh', 'i', 't')\n"
     ]
    }
   ],
   "source": [
    "# .partition() - split a string into three parts based on the first occurrence of a specified separator.\n",
    "s = 'Hi My name is nikshit'\n",
    "print(s.partition('i'))  # left side first occurence\n",
    "print(s.rpartition('i'))  # right side first occurence"
   ]
  },
  {
   "cell_type": "code",
   "execution_count": 34,
   "id": "12d50226",
   "metadata": {},
   "outputs": [
    {
     "data": {
      "text/plain": [
       "\"Hi-/I'm-/Niksht\""
      ]
     },
     "execution_count": 34,
     "metadata": {},
     "output_type": "execute_result"
    }
   ],
   "source": [
    "# join() - to join list into string\n",
    "lst = ['Hi',\"I'm\",'Niksht']\n",
    "'-/'.join(lst)"
   ]
  },
  {
   "cell_type": "code",
   "execution_count": null,
   "id": "d1663e5c",
   "metadata": {},
   "outputs": [],
   "source": []
  },
  {
   "cell_type": "markdown",
   "id": "e1b3e978",
   "metadata": {},
   "source": [
    "### Strip()"
   ]
  },
  {
   "cell_type": "code",
   "execution_count": 35,
   "id": "f552e059",
   "metadata": {},
   "outputs": [
    {
     "name": "stdout",
     "output_type": "stream",
     "text": [
      "Data Science\n",
      "Data Science      \n",
      "     Data Science\n",
      "     Data Science      \n"
     ]
    }
   ],
   "source": [
    "# strip() - to remove unnecessary white spaces before and after string. (return new string, will not change original)\n",
    "s = '     Data Science      '\n",
    "print(s.strip())  # remove whitespaces from both side\n",
    "print(s.lstrip())  # remove whitespaces from left side\n",
    "print(s.rstrip())  # remove whitespaces from right side\n",
    "print(s)"
   ]
  },
  {
   "cell_type": "code",
   "execution_count": 36,
   "id": "ecfd78ff",
   "metadata": {},
   "outputs": [
    {
     "name": "stdout",
     "output_type": "stream",
     "text": [
      "*******Hello World!! ++++++++\n",
      "Hello World!! ++++++++\n",
      "*******Hello World!! \n",
      "*******Hello World!! ++++++++\n",
      "*******Hello World!! \n",
      "*******Hello World!! ++++++++\n"
     ]
    }
   ],
   "source": [
    "# strip() - remove specified char from string before/after.\n",
    "s = '*******Hello World!! ++++++++'\n",
    "print(s.strip())\n",
    "print(s.strip('*'))\n",
    "print(s.strip('+'))\n",
    "print(s.lstrip('+'))\n",
    "print(s.rstrip('+'))\n",
    "print(s)"
   ]
  },
  {
   "cell_type": "code",
   "execution_count": null,
   "id": "6649562c",
   "metadata": {},
   "outputs": [],
   "source": []
  },
  {
   "cell_type": "markdown",
   "id": "22bd23d4",
   "metadata": {},
   "source": [
    "### String Alignment"
   ]
  },
  {
   "cell_type": "code",
   "execution_count": null,
   "id": "41bb4621",
   "metadata": {},
   "outputs": [
    {
     "name": "stdout",
     "output_type": "stream",
     "text": [
      "                      Hello                       \n",
      "----------------------Hello-----------------------\n",
      "Hello                                             \n",
      "Hello*********************************************\n",
      "                                             Hello\n",
      "_____________________________________________Hello\n"
     ]
    }
   ],
   "source": [
    "s = 'Hello'\n",
    "\n",
    "print(s.center(50))  # center-align a string within a specified width\n",
    "print(s.center(50,'-'))\n",
    "\n",
    "print(s.ljust(50))  # left-align a string within a specified width by padding it with spaces (or a custom character)\n",
    "print(s.ljust(50,'*'))\n",
    "\n",
    "print(s.rjust(50))\n",
    "print(s.rjust(50,'_'))"
   ]
  },
  {
   "cell_type": "code",
   "execution_count": null,
   "id": "0380c686",
   "metadata": {},
   "outputs": [],
   "source": []
  },
  {
   "cell_type": "markdown",
   "id": "d85b18b9",
   "metadata": {},
   "source": [
    "### Programming in Strings"
   ]
  },
  {
   "cell_type": "markdown",
   "id": "32d70da8",
   "metadata": {},
   "source": [
    "##### Find the length of given string without using len() function"
   ]
  },
  {
   "cell_type": "code",
   "execution_count": 38,
   "id": "eb446eb3",
   "metadata": {},
   "outputs": [
    {
     "name": "stdout",
     "output_type": "stream",
     "text": [
      "Hello! How are you..?\n",
      "21\n"
     ]
    }
   ],
   "source": [
    "s = input('enter the string.')\n",
    "counter = 0\n",
    "for i in s:\n",
    "    counter+=1\n",
    "print(s)\n",
    "print(counter)"
   ]
  },
  {
   "cell_type": "markdown",
   "id": "3ee6cca0",
   "metadata": {},
   "source": [
    "##### Extract user name from E-mail.."
   ]
  },
  {
   "cell_type": "code",
   "execution_count": 39,
   "id": "81817664",
   "metadata": {},
   "outputs": [
    {
     "name": "stdout",
     "output_type": "stream",
     "text": [
      "nikvora@gmail.com\n",
      "nikvora\n"
     ]
    }
   ],
   "source": [
    "s = input('enter your email - ')\n",
    "p = s.index('@')\n",
    "print(s)\n",
    "print(s[:p])"
   ]
  },
  {
   "cell_type": "markdown",
   "id": "8482dbbe",
   "metadata": {},
   "source": [
    "##### Count the Frequency of particular Char in provided string.."
   ]
  },
  {
   "cell_type": "code",
   "execution_count": 41,
   "id": "17a2ee4d",
   "metadata": {},
   "outputs": [
    {
     "name": "stdout",
     "output_type": "stream",
     "text": [
      "Hello, I'm learning Python..\n",
      "e\n",
      "frequency 2\n"
     ]
    }
   ],
   "source": [
    "s = input('enter the string - ')\n",
    "term = input('what would you like to search for - ')\n",
    "counter = 0\n",
    "for i in s:\n",
    "    if i==term:\n",
    "        counter+=1\n",
    "print(s)\n",
    "print(term)\n",
    "print('frequency' , counter)"
   ]
  },
  {
   "cell_type": "markdown",
   "id": "9ddba1a0",
   "metadata": {},
   "source": [
    "##### Remove char from given string.."
   ]
  },
  {
   "cell_type": "code",
   "execution_count": 43,
   "id": "34ac1331",
   "metadata": {},
   "outputs": [
    {
     "name": "stdout",
     "output_type": "stream",
     "text": [
      "Hello ! How are you..?\n",
      "H\n",
      "ello ! ow are you..?\n"
     ]
    }
   ],
   "source": [
    "s = input('enter the string.')\n",
    "term = input('what would you like to remove..')\n",
    "result = ''\n",
    "for i in s:\n",
    "    if i!= term:\n",
    "        result = result + i\n",
    "print(s)\n",
    "print(term)\n",
    "print(result)"
   ]
  },
  {
   "cell_type": "markdown",
   "id": "142cc5c4",
   "metadata": {},
   "source": [
    "##### Palindrome string or not."
   ]
  },
  {
   "cell_type": "code",
   "execution_count": 44,
   "id": "09007977",
   "metadata": {},
   "outputs": [
    {
     "name": "stdout",
     "output_type": "stream",
     "text": [
      "malayalam\n",
      "palindrome\n"
     ]
    }
   ],
   "source": [
    "s = input('enter the string.')\n",
    "flag = True\n",
    "for i in range(0,len(s)//2):\n",
    "    if s[i]!=s[len(s)-i-1]:\n",
    "        flag = False\n",
    "        print(s)\n",
    "        print('not palindrome..')\n",
    "        break\n",
    "        \n",
    "if flag:\n",
    "    print(s)\n",
    "    print('palindrome')"
   ]
  },
  {
   "cell_type": "markdown",
   "id": "d760e044",
   "metadata": {},
   "source": [
    "##### Write a programme to create list of words from string"
   ]
  },
  {
   "cell_type": "code",
   "execution_count": 45,
   "id": "5a1ee41f",
   "metadata": {},
   "outputs": [
    {
     "name": "stdout",
     "output_type": "stream",
     "text": [
      "Hello World!!\n",
      "['Hello', 'World!!']\n"
     ]
    }
   ],
   "source": [
    "s = input('enter the string.')\n",
    "lst = []\n",
    "temp = ''\n",
    "for i in s:\n",
    "    if i != ' ':\n",
    "        temp+=i\n",
    "    else:\n",
    "        lst.append(temp)\n",
    "        temp = ''\n",
    "lst.append(temp)\n",
    "print(s)\n",
    "print(lst)\n",
    "        "
   ]
  },
  {
   "cell_type": "markdown",
   "id": "06e1518a",
   "metadata": {},
   "source": [
    "##### Write a python programme to convert a string to title case without using title case.."
   ]
  },
  {
   "cell_type": "code",
   "execution_count": 46,
   "id": "08514fb7",
   "metadata": {},
   "outputs": [
    {
     "name": "stdout",
     "output_type": "stream",
     "text": [
      "Hello, How are you..?\n",
      "Hello, How Are You..?\n"
     ]
    }
   ],
   "source": [
    "s = input('enter the string.')\n",
    "l = []\n",
    "for i in s.split():\n",
    "    l.append(i[0].upper() + i[1:].lower())\n",
    "print(s)\n",
    "print(' '.join(l))    "
   ]
  },
  {
   "cell_type": "markdown",
   "id": "c670f98a",
   "metadata": {},
   "source": [
    "##### Write a programme that can convert an integer to string.."
   ]
  },
  {
   "cell_type": "code",
   "execution_count": 47,
   "id": "ca3d3fb2",
   "metadata": {},
   "outputs": [
    {
     "name": "stdout",
     "output_type": "stream",
     "text": [
      "67854\n",
      "<class 'str'>\n"
     ]
    }
   ],
   "source": [
    "number  = int(input('enter the number: '))\n",
    "digits = '0123456789'\n",
    "result = ''\n",
    "while number!=0:\n",
    "    result =  digits[number%10] + result\n",
    "    number = number//10\n",
    "print(result)\n",
    "print(type(result))"
   ]
  },
  {
   "cell_type": "markdown",
   "id": "9a50af45",
   "metadata": {},
   "source": [
    "##### Largest non repeating string"
   ]
  },
  {
   "cell_type": "code",
   "execution_count": 48,
   "id": "8574e521",
   "metadata": {},
   "outputs": [
    {
     "name": "stdout",
     "output_type": "stream",
     "text": [
      "abc abcd abcdefg abcdefghijk abc abcdefg abcdefghijklmno\n",
      "abcdefghijklmno\n"
     ]
    }
   ],
   "source": [
    "s = 'abc abcd abcdefg abcdefghijk abc abcdefg abcdefghijklmno'\n",
    "lss_temp = ''\n",
    "lss_final = ''\n",
    "\n",
    "for i in s:\n",
    "    if i not in lss_temp:\n",
    "        lss_temp+=i\n",
    "    else:\n",
    "        lss_temp = i\n",
    "\n",
    "    if len(lss_temp) > len(lss_final):\n",
    "        lss_final = lss_temp\n",
    "        \n",
    "print(s)\n",
    "print(lss_final)\n"
   ]
  },
  {
   "cell_type": "markdown",
   "id": "36b28a89",
   "metadata": {},
   "source": [
    "##### Run-Length decode"
   ]
  },
  {
   "cell_type": "code",
   "execution_count": 49,
   "id": "92a314cc",
   "metadata": {},
   "outputs": [
    {
     "name": "stdout",
     "output_type": "stream",
     "text": [
      "\n",
      "abcabcabcabcabcabcabcabcabcabc\n",
      "bababababababababababa\n",
      "cjcjcjcjcj\n",
      "oo\n"
     ]
    }
   ],
   "source": [
    "s = '111abc10ba11cj5oo'\n",
    "\n",
    "i = 0\n",
    "temp_letter = ''\n",
    "temp_number = ''\n",
    "\n",
    "while i < len(s):\n",
    "    # extract alphabet\n",
    "\n",
    "    if s[i].isalpha():\n",
    "        temp_letter = ''\n",
    "        while i< len(s) and s[i].isalpha():\n",
    "            temp_letter += s[i]\n",
    "            i+=1\n",
    "\n",
    "    # extract numbers\n",
    "    temp_number = ''      \n",
    "    while i< len(s) and s[i].isdigit():\n",
    "        temp_number += s[i]\n",
    "        i+=1\n",
    "\n",
    "    # print pattern\n",
    "    temp_number = 1 if temp_number == '' else int(temp_number)\n",
    "    print(temp_letter* temp_number)"
   ]
  },
  {
   "cell_type": "code",
   "execution_count": null,
   "id": "31dab812",
   "metadata": {},
   "outputs": [],
   "source": []
  }
 ],
 "metadata": {
  "kernelspec": {
   "display_name": "Python 3",
   "language": "python",
   "name": "python3"
  },
  "language_info": {
   "codemirror_mode": {
    "name": "ipython",
    "version": 3
   },
   "file_extension": ".py",
   "mimetype": "text/x-python",
   "name": "python",
   "nbconvert_exporter": "python",
   "pygments_lexer": "ipython3",
   "version": "3.11.2"
  }
 },
 "nbformat": 4,
 "nbformat_minor": 5
}
