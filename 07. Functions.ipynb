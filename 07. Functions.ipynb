{
 "cells": [
  {
   "cell_type": "markdown",
   "id": "455c24b4",
   "metadata": {},
   "source": [
    "# Python Function"
   ]
  },
  {
   "cell_type": "markdown",
   "id": "8d00fb13",
   "metadata": {},
   "source": [
    "A function is a block of organized, reusable code designed to perform a specific task. Functions help in:\n",
    "\n",
    "- Modularity: Breaking down complex problems into smaller, manageable parts.\n",
    "- Reusability: Writing code once and using it multiple times, reducing redundancy.\n",
    "- Readability: Making code easier to understand and maintain.\n",
    "- Debugging: Isolating issues becomes easier when code is structured into functions."
   ]
  },
  {
   "cell_type": "markdown",
   "id": "b4431fbf",
   "metadata": {},
   "source": [
    "### Types of Function\n",
    "\n",
    "1. Built-in-Function : readily avilable in programming language. ex. print(), min(), max()\n",
    "2. Functions defined in built-in Modules: need to be imported explicitly with module. ex. math.sqrt(), datetime.now()\n",
    "3. User-defined functions: created by programmer. "
   ]
  },
  {
   "cell_type": "code",
   "execution_count": 1,
   "id": "de9c60c5",
   "metadata": {},
   "outputs": [
    {
     "name": "stdout",
     "output_type": "stream",
     "text": [
      "Hello World!\n",
      "12.0\n"
     ]
    }
   ],
   "source": [
    "# 1. buil-in-fucntion:\n",
    "print('Hello World!')\n",
    "\n",
    "# 2. function defined in built in modules\n",
    "import math # need to import module first\n",
    "print(math.sqrt(144))"
   ]
  },
  {
   "cell_type": "code",
   "execution_count": 2,
   "id": "1684dee4",
   "metadata": {},
   "outputs": [],
   "source": [
    "# 3. user defined functions\n",
    "\n",
    "def is_even(num):  # 'num' is the parameter.\n",
    "    \"\"\"\n",
    "    This function returns whether the given number is odd or even.\n",
    "    \n",
    "    Input: Any valid integer\n",
    "    Output: 'odd' or 'even'\n",
    "    \n",
    "    Created on: 9th Feb, 2025\n",
    "    Created by: Nikshit Vora\n",
    "    \"\"\"\n",
    "    if type(num) == int:\n",
    "        if num % 2 == 0:\n",
    "            return 'even'\n",
    "        else:\n",
    "            return 'odd'\n",
    "    else:\n",
    "        return 'input - any valid integer.'"
   ]
  },
  {
   "cell_type": "code",
   "execution_count": 3,
   "id": "24981d14",
   "metadata": {},
   "outputs": [
    {
     "data": {
      "text/plain": [
       "'odd'"
      ]
     },
     "execution_count": 3,
     "metadata": {},
     "output_type": "execute_result"
    }
   ],
   "source": [
    "# calling function\n",
    "\n",
    "is_even(7)   # input 7 is called argument."
   ]
  },
  {
   "cell_type": "code",
   "execution_count": 4,
   "id": "13d2b52e",
   "metadata": {},
   "outputs": [
    {
     "data": {
      "text/plain": [
       "'input - any valid integer.'"
      ]
     },
     "execution_count": 4,
     "metadata": {},
     "output_type": "execute_result"
    }
   ],
   "source": [
    "# string input\n",
    "is_even('sd')"
   ]
  },
  {
   "cell_type": "code",
   "execution_count": 5,
   "id": "c82c31d0",
   "metadata": {},
   "outputs": [
    {
     "name": "stdout",
     "output_type": "stream",
     "text": [
      "\n",
      "    This function returns whether the given number is odd or even.\n",
      "\n",
      "    Input: Any valid integer\n",
      "    Output: 'odd' or 'even'\n",
      "\n",
      "    Created on: 9th Feb, 2025\n",
      "    Created by: Nikshit Vora\n",
      "    \n"
     ]
    }
   ],
   "source": [
    "# doc string of function - Short description of what the function does.\n",
    "\n",
    "print(is_even.__doc__)"
   ]
  },
  {
   "cell_type": "code",
   "execution_count": 6,
   "id": "cfd24f1e",
   "metadata": {},
   "outputs": [
    {
     "name": "stdout",
     "output_type": "stream",
     "text": [
      "0 even\n",
      "1 odd\n",
      "2 even\n",
      "3 odd\n",
      "4 even\n",
      "5 odd\n",
      "6 even\n",
      "7 odd\n",
      "8 even\n",
      "9 odd\n"
     ]
    }
   ],
   "source": [
    "# using function in loop\n",
    "\n",
    "for i in range(10):\n",
    "    x = is_even(i)\n",
    "    print(i, x)"
   ]
  },
  {
   "cell_type": "code",
   "execution_count": 7,
   "id": "a38f09f0",
   "metadata": {},
   "outputs": [
    {
     "name": "stdout",
     "output_type": "stream",
     "text": [
      "\n",
      "    This function returns whether the given number is odd or even.\n",
      "\n",
      "    Input: Any valid integer\n",
      "    Output: 'odd' or 'even'\n",
      "\n",
      "    Created on: 9th Feb, 2025\n",
      "    Created by: Nikshit Vora\n",
      "    \n"
     ]
    }
   ],
   "source": [
    "# to access the documentation of the function\n",
    "print(is_even.__doc__)"
   ]
  },
  {
   "cell_type": "code",
   "execution_count": null,
   "id": "dcef8507",
   "metadata": {},
   "outputs": [],
   "source": []
  },
  {
   "cell_type": "markdown",
   "id": "b83a0a0a",
   "metadata": {},
   "source": [
    "### Pass by Reference vs Pass by Value"
   ]
  },
  {
   "cell_type": "markdown",
   "id": "bef0c89b",
   "metadata": {},
   "source": [
    "Pass by value:\n",
    "\n",
    "- A copy of the actual value is passed to the function.\n",
    "- Changes made to the parameter inside the function do not affect the original variable."
   ]
  },
  {
   "cell_type": "code",
   "execution_count": 8,
   "id": "26e86261",
   "metadata": {},
   "outputs": [
    {
     "name": "stdout",
     "output_type": "stream",
     "text": [
      "15\n",
      "5\n"
     ]
    }
   ],
   "source": [
    "def modify(x):\n",
    "    x = x + 10\n",
    "    return x\n",
    "\n",
    "a = 5\n",
    "print(modify(a))  # Output: 15\n",
    "print(a)  # Output: 5  (original value unchanged)"
   ]
  },
  {
   "cell_type": "markdown",
   "id": "f8212354",
   "metadata": {},
   "source": [
    "Pass by Reference:\n",
    "\n",
    "- A reference (or address) to the actual variable is passed to the function.\n",
    "- Changes made to the parameter do affect the original variable."
   ]
  },
  {
   "cell_type": "code",
   "execution_count": 9,
   "id": "71f6a279",
   "metadata": {},
   "outputs": [
    {
     "name": "stdout",
     "output_type": "stream",
     "text": [
      "[1, 2, 3, 4]\n"
     ]
    }
   ],
   "source": [
    "def modify_list(lst):\n",
    "    lst.append(4)\n",
    "\n",
    "my_list = [1, 2, 3]\n",
    "modify_list(my_list)\n",
    "print(my_list)  # Output: [1, 2, 3, 4] (original list modified)\n"
   ]
  },
  {
   "cell_type": "markdown",
   "id": "d21ccfb9",
   "metadata": {},
   "source": [
    "In Python:\n",
    "- Immutable types (like int, float, str, tuple) behave like pass by value.\n",
    "- Mutable types (like list, dict, set) behave like pass by reference."
   ]
  },
  {
   "cell_type": "code",
   "execution_count": null,
   "id": "809272b4",
   "metadata": {},
   "outputs": [],
   "source": []
  },
  {
   "cell_type": "markdown",
   "id": "df4ebe15",
   "metadata": {},
   "source": [
    "### Types of Arguments"
   ]
  },
  {
   "cell_type": "markdown",
   "id": "cfe462ff",
   "metadata": {},
   "source": [
    "1. Default arguments\n",
    "2. Positional arguments\n",
    "3. Keyword arguments\n",
    "4. Positional only arguments\n",
    "5. Keyword only arguments"
   ]
  },
  {
   "cell_type": "code",
   "execution_count": 10,
   "id": "78c87039",
   "metadata": {},
   "outputs": [
    {
     "name": "stdout",
     "output_type": "stream",
     "text": [
      "64\n",
      "9\n"
     ]
    }
   ],
   "source": [
    "# 1. Default arguments: assign default value to a parameter in the function definition.\n",
    "\n",
    "def power(a,b=2):\n",
    "    return a**b\n",
    "\n",
    "print(power(4,3))  # overrides default value of b\n",
    "print(power(3))    # use default b "
   ]
  },
  {
   "cell_type": "code",
   "execution_count": 11,
   "id": "1e497027",
   "metadata": {},
   "outputs": [
    {
     "name": "stdout",
     "output_type": "stream",
     "text": [
      "Hello Nikshit, you are 25 years old.\n",
      "Hello 25, you are Nikshit years old.\n"
     ]
    }
   ],
   "source": [
    "# 2. Positional arguments : Values are assigned to parameters in the order they are passed.\n",
    "\n",
    "def greet(name, age):\n",
    "    return f\"Hello {name}, you are {age} years old.\"\n",
    "\n",
    "print(greet(\"Nikshit\", 25))  # order is important.\n",
    "print(greet(25,'Nikshit'))\n"
   ]
  },
  {
   "cell_type": "code",
   "execution_count": 12,
   "id": "cce13047",
   "metadata": {},
   "outputs": [
    {
     "data": {
      "text/plain": [
       "'Hello Nikshit, you are 23 years old.'"
      ]
     },
     "execution_count": 12,
     "metadata": {},
     "output_type": "execute_result"
    }
   ],
   "source": [
    "# 3. Keyword arguments: we can specify the parameter name during the function call.\n",
    "\n",
    "greet(age=23,name='Nikshit')"
   ]
  },
  {
   "cell_type": "code",
   "execution_count": 13,
   "id": "4764dc82",
   "metadata": {},
   "outputs": [
    {
     "name": "stdout",
     "output_type": "stream",
     "text": [
      "8\n"
     ]
    }
   ],
   "source": [
    "# 4. Positional only arguments: all parameters before the slash(/) are positional-only.\n",
    "# can not use parameter name to assign values.\n",
    "def power(a,b,/):\n",
    "    return a**b\n",
    "\n",
    "print(power(2,3))"
   ]
  },
  {
   "cell_type": "code",
   "execution_count": 14,
   "id": "deedcf95",
   "metadata": {},
   "outputs": [
    {
     "ename": "TypeError",
     "evalue": "power() got some positional-only arguments passed as keyword arguments: 'a, b'",
     "output_type": "error",
     "traceback": [
      "\u001b[31m---------------------------------------------------------------------------\u001b[39m",
      "\u001b[31mTypeError\u001b[39m                                 Traceback (most recent call last)",
      "\u001b[36mCell\u001b[39m\u001b[36m \u001b[39m\u001b[32mIn[14]\u001b[39m\u001b[32m, line 2\u001b[39m\n\u001b[32m      1\u001b[39m \u001b[38;5;66;03m# parameter name can not be used in case of positional only arguments.\u001b[39;00m\n\u001b[32m----> \u001b[39m\u001b[32m2\u001b[39m \u001b[38;5;28mprint\u001b[39m(\u001b[43mpower\u001b[49m\u001b[43m(\u001b[49m\u001b[43ma\u001b[49m\u001b[43m=\u001b[49m\u001b[32;43m5\u001b[39;49m\u001b[43m,\u001b[49m\u001b[43mb\u001b[49m\u001b[43m=\u001b[49m\u001b[32;43m7\u001b[39;49m\u001b[43m)\u001b[49m) \n",
      "\u001b[31mTypeError\u001b[39m: power() got some positional-only arguments passed as keyword arguments: 'a, b'"
     ]
    }
   ],
   "source": [
    "# parameter name can not be used in case of positional only arguments.\n",
    "print(power(a=5,b=7)) "
   ]
  },
  {
   "cell_type": "code",
   "execution_count": 15,
   "id": "18ed95bc",
   "metadata": {},
   "outputs": [
    {
     "name": "stdout",
     "output_type": "stream",
     "text": [
      "8\n"
     ]
    }
   ],
   "source": [
    "# 5. Keyword only arguments: It must be specified using their names when calling the function.\n",
    "# All parameters after * are treated as keyword-only. \n",
    "\n",
    "def power(*,a,b):\n",
    "    return a**b\n",
    "\n",
    "print(power(a=2,b=3)) # to improve readability, reduce errors."
   ]
  },
  {
   "cell_type": "code",
   "execution_count": 16,
   "id": "ec79cc25",
   "metadata": {},
   "outputs": [
    {
     "ename": "TypeError",
     "evalue": "power() takes 0 positional arguments but 2 were given",
     "output_type": "error",
     "traceback": [
      "\u001b[31m---------------------------------------------------------------------------\u001b[39m",
      "\u001b[31mTypeError\u001b[39m                                 Traceback (most recent call last)",
      "\u001b[36mCell\u001b[39m\u001b[36m \u001b[39m\u001b[32mIn[16]\u001b[39m\u001b[32m, line 2\u001b[39m\n\u001b[32m      1\u001b[39m \u001b[38;5;66;03m# can not use function without specifying parameter name in case keyword only arguments.\u001b[39;00m\n\u001b[32m----> \u001b[39m\u001b[32m2\u001b[39m \u001b[43mpower\u001b[49m\u001b[43m(\u001b[49m\u001b[32;43m2\u001b[39;49m\u001b[43m,\u001b[49m\u001b[32;43m3\u001b[39;49m\u001b[43m)\u001b[49m \n",
      "\u001b[31mTypeError\u001b[39m: power() takes 0 positional arguments but 2 were given"
     ]
    }
   ],
   "source": [
    "# can not use function without specifying parameter name in case keyword only arguments.\n",
    "power(2,3) "
   ]
  },
  {
   "cell_type": "code",
   "execution_count": 17,
   "id": "71e55223",
   "metadata": {},
   "outputs": [
    {
     "name": "stdout",
     "output_type": "stream",
     "text": [
      "4 5 6 6 7 90\n"
     ]
    }
   ],
   "source": [
    "# order of arguments\n",
    "\n",
    "# positional-only -> positional or keyword -> default -> keyword-only -> keyword-only default\n",
    "def func(a,b,/,c,d=4,*,e,f=6):\n",
    "    print(a,b,c,d,e,f)\n",
    "\n",
    "func(4,5,c=6,d=6,e=7,f=90)"
   ]
  },
  {
   "cell_type": "code",
   "execution_count": null,
   "id": "ac2f1ddf",
   "metadata": {},
   "outputs": [],
   "source": []
  },
  {
   "cell_type": "markdown",
   "id": "60801b2a",
   "metadata": {},
   "source": [
    "### Variable Length Arguments"
   ]
  },
  {
   "cell_type": "markdown",
   "id": "da60fd06",
   "metadata": {},
   "source": [
    "1. *args : to pass a variable number of positional arguments.\n",
    "2. **kwargs : to pass a variable number of keyword arguments."
   ]
  },
  {
   "cell_type": "code",
   "execution_count": 18,
   "id": "ece813a2",
   "metadata": {},
   "outputs": [
    {
     "name": "stdout",
     "output_type": "stream",
     "text": [
      "(2,)\n",
      "2\n",
      "(3, 4, 5)\n",
      "60\n"
     ]
    }
   ],
   "source": [
    "# *args\n",
    "\n",
    "def multiply(*args):\n",
    "    print(args)  # args is treated as a tuple.\n",
    "    \n",
    "    product = 1\n",
    "    for i in args:\n",
    "        product = product*i \n",
    "    \n",
    "    return product\n",
    "\n",
    "print(multiply(2))\n",
    "print(multiply(3,4,5)) # can be passed any number of arguments."
   ]
  },
  {
   "cell_type": "code",
   "execution_count": 19,
   "id": "c9154b0e",
   "metadata": {},
   "outputs": [
    {
     "name": "stdout",
     "output_type": "stream",
     "text": [
      "{'india': 'delhi', 'shri_lanka': 'columbo', 'nepal': 'kathmandu'}\n",
      "india -> delhi\n",
      "shri_lanka -> columbo\n",
      "nepal -> kathmandu\n"
     ]
    }
   ],
   "source": [
    "# **kwargs : \n",
    "\n",
    "def display(**kwargs):\n",
    "    print(kwargs)  # kwargs is treated as a dictionary.\n",
    "    \n",
    "    for key,value in kwargs.items():\n",
    "        print(key,'->',value)\n",
    "\n",
    "display(india = 'delhi',shri_lanka = 'columbo', nepal = 'kathmandu')"
   ]
  },
  {
   "cell_type": "code",
   "execution_count": 20,
   "id": "604c7ad9",
   "metadata": {},
   "outputs": [
    {
     "name": "stdout",
     "output_type": "stream",
     "text": [
      "(1, 2, 3) {'c': 4, 'd': 5, 'e': 6}\n"
     ]
    }
   ],
   "source": [
    "# positional variable --> keyword variable\n",
    "def func(*arg,**kwargs):\n",
    "    print(arg,kwargs)\n",
    "\n",
    "func(1,2,3,c=4,d=5,e=6)"
   ]
  },
  {
   "cell_type": "code",
   "execution_count": null,
   "id": "d5e1c053",
   "metadata": {},
   "outputs": [],
   "source": []
  },
  {
   "cell_type": "markdown",
   "id": "7c46c0d8",
   "metadata": {},
   "source": [
    "### Order of Python Function Arguments"
   ]
  },
  {
   "cell_type": "code",
   "execution_count": 21,
   "id": "a3195a0c",
   "metadata": {},
   "outputs": [
    {
     "name": "stdout",
     "output_type": "stream",
     "text": [
      "1 2 4 6 (8, 9, 9, 70) 78 90 {'g': 89, 'h': 90}\n"
     ]
    }
   ],
   "source": [
    "# positional only --> positional/keyword --> default --> *args --> keyword only --> keyword only with defaults --> kwargs\n",
    "\n",
    "def func(a,b,/,c,d=4,*args,e,f=6,**kwargs):\n",
    "    print(a,b,c,d,args,e,f,kwargs)\n",
    "\n",
    "func(1,2,4,6,8,9,9,70,e=78,f=90,g=89,h=90)\n",
    "    "
   ]
  },
  {
   "cell_type": "code",
   "execution_count": null,
   "id": "88c56871",
   "metadata": {},
   "outputs": [],
   "source": []
  },
  {
   "cell_type": "markdown",
   "id": "0c91e91a",
   "metadata": {},
   "source": [
    "### Without Return Statement"
   ]
  },
  {
   "cell_type": "code",
   "execution_count": 22,
   "id": "863ef03e",
   "metadata": {},
   "outputs": [
    {
     "name": "stdout",
     "output_type": "stream",
     "text": [
      "8\n",
      "None\n"
     ]
    }
   ],
   "source": [
    "# if we dont have return inside function, it will return None... None is default..\n",
    "def power(a=1,b=1):\n",
    "    print(a**b)\n",
    "    \n",
    "print(power(2,3))   "
   ]
  },
  {
   "cell_type": "code",
   "execution_count": 23,
   "id": "1842d0c0",
   "metadata": {},
   "outputs": [
    {
     "name": "stdout",
     "output_type": "stream",
     "text": [
      "None\n",
      "[1, 2, 3, 4]\n"
     ]
    }
   ],
   "source": [
    "l = [1,2,3]\n",
    "print(l.append(4))\n",
    "print(l)"
   ]
  },
  {
   "cell_type": "code",
   "execution_count": null,
   "id": "31917f8e",
   "metadata": {},
   "outputs": [],
   "source": []
  },
  {
   "cell_type": "markdown",
   "id": "b1d0d4d0",
   "metadata": {},
   "source": [
    "### Variable Scope"
   ]
  },
  {
   "cell_type": "markdown",
   "id": "f6a75c19",
   "metadata": {},
   "source": [
    "Python look for variable in following order:\n",
    "1. Local\n",
    "2. Enclosing\n",
    "3. Global\n",
    "4. Built-in"
   ]
  },
  {
   "cell_type": "markdown",
   "id": "a6b74077",
   "metadata": {},
   "source": [
    "Global scope:\n",
    "- Variables defined outside all functions.\n",
    "- Accessible throughout the program, including inside functions."
   ]
  },
  {
   "cell_type": "code",
   "execution_count": 24,
   "id": "b6fdca86",
   "metadata": {},
   "outputs": [
    {
     "name": "stdout",
     "output_type": "stream",
     "text": [
      "15\n",
      "5\n"
     ]
    }
   ],
   "source": [
    "x = 5  # Global variable\n",
    "\n",
    "def f1():\n",
    "    print(x+10)   # Accessing global variable\n",
    "\n",
    "f1()\n",
    "print(x)"
   ]
  },
  {
   "cell_type": "code",
   "execution_count": 25,
   "id": "f8d6bcb4",
   "metadata": {},
   "outputs": [
    {
     "ename": "UnboundLocalError",
     "evalue": "cannot access local variable 'x' where it is not associated with a value",
     "output_type": "error",
     "traceback": [
      "\u001b[31m---------------------------------------------------------------------------\u001b[39m",
      "\u001b[31mUnboundLocalError\u001b[39m                         Traceback (most recent call last)",
      "\u001b[36mCell\u001b[39m\u001b[36m \u001b[39m\u001b[32mIn[25]\u001b[39m\u001b[32m, line 9\u001b[39m\n\u001b[32m      6\u001b[39m     x = x + \u001b[32m10\u001b[39m   \u001b[38;5;66;03m# changing global variable\u001b[39;00m\n\u001b[32m      7\u001b[39m     \u001b[38;5;28mprint\u001b[39m(x)\n\u001b[32m----> \u001b[39m\u001b[32m9\u001b[39m \u001b[43mf1\u001b[49m\u001b[43m(\u001b[49m\u001b[43m)\u001b[49m\n\u001b[32m     10\u001b[39m \u001b[38;5;28mprint\u001b[39m(x)\n",
      "\u001b[36mCell\u001b[39m\u001b[36m \u001b[39m\u001b[32mIn[25]\u001b[39m\u001b[32m, line 6\u001b[39m, in \u001b[36mf1\u001b[39m\u001b[34m()\u001b[39m\n\u001b[32m      5\u001b[39m \u001b[38;5;28;01mdef\u001b[39;00m\u001b[38;5;250m \u001b[39m\u001b[34mf1\u001b[39m():\n\u001b[32m----> \u001b[39m\u001b[32m6\u001b[39m     x = \u001b[43mx\u001b[49m + \u001b[32m10\u001b[39m   \u001b[38;5;66;03m# changing global variable\u001b[39;00m\n\u001b[32m      7\u001b[39m     \u001b[38;5;28mprint\u001b[39m(x)\n",
      "\u001b[31mUnboundLocalError\u001b[39m: cannot access local variable 'x' where it is not associated with a value"
     ]
    }
   ],
   "source": [
    "# global variable can not be changed inside function\n",
    "\n",
    "x = 5  # Global variable\n",
    "\n",
    "def f1():\n",
    "    x = x + 10   # changing global variable\n",
    "    print(x)\n",
    "\n",
    "f1()\n",
    "print(x)"
   ]
  },
  {
   "cell_type": "code",
   "execution_count": 26,
   "id": "518b7444",
   "metadata": {},
   "outputs": [
    {
     "name": "stdout",
     "output_type": "stream",
     "text": [
      "15\n",
      "15\n"
     ]
    }
   ],
   "source": [
    "# global keyword:\n",
    "\n",
    "x = 5  # Global variable\n",
    "\n",
    "def f1():\n",
    "    global x  # declaring x as global variable\n",
    "    x = x + 10   # changing global variable\n",
    "    print(x)\n",
    "\n",
    "f1()\n",
    "print(x)"
   ]
  },
  {
   "cell_type": "code",
   "execution_count": null,
   "id": "2ee585bf",
   "metadata": {},
   "outputs": [],
   "source": []
  },
  {
   "cell_type": "markdown",
   "id": "26944d0a",
   "metadata": {},
   "source": [
    "Local Scope:\n",
    "- Variables defined inside a function.\n",
    "- Accessible only within that function."
   ]
  },
  {
   "cell_type": "code",
   "execution_count": 27,
   "id": "d84ade86",
   "metadata": {},
   "outputs": [
    {
     "name": "stdout",
     "output_type": "stream",
     "text": [
      "11.5\n",
      "5\n"
     ]
    }
   ],
   "source": [
    "x = 5  # Global variable\n",
    "\n",
    "def f1():\n",
    "    x = 1.5   # Local variable\n",
    "    print(x+10)   # Accessing Local variable\n",
    "\n",
    "f1()\n",
    "print(x)"
   ]
  },
  {
   "cell_type": "code",
   "execution_count": null,
   "id": "7c72767c",
   "metadata": {},
   "outputs": [],
   "source": []
  },
  {
   "cell_type": "markdown",
   "id": "300f93d2",
   "metadata": {},
   "source": [
    "Enclosing Scope:\n",
    "- Applies to nested functions.\n",
    "- The inner function can access variables from the outer (enclosing) function."
   ]
  },
  {
   "cell_type": "code",
   "execution_count": 28,
   "id": "fff8abcc",
   "metadata": {},
   "outputs": [
    {
     "name": "stdout",
     "output_type": "stream",
     "text": [
      "5\n"
     ]
    }
   ],
   "source": [
    "def outer():\n",
    "    x = 5  # local variable (outer function)\n",
    "\n",
    "    def inner():\n",
    "        print(x)  # inner function can access variable from outer function.\n",
    "\n",
    "    inner()\n",
    "\n",
    "outer()\n"
   ]
  },
  {
   "cell_type": "code",
   "execution_count": 29,
   "id": "96dd56bf",
   "metadata": {},
   "outputs": [
    {
     "ename": "UnboundLocalError",
     "evalue": "cannot access local variable 'x' where it is not associated with a value",
     "output_type": "error",
     "traceback": [
      "\u001b[31m---------------------------------------------------------------------------\u001b[39m",
      "\u001b[31mUnboundLocalError\u001b[39m                         Traceback (most recent call last)",
      "\u001b[36mCell\u001b[39m\u001b[36m \u001b[39m\u001b[32mIn[29]\u001b[39m\u001b[32m, line 9\u001b[39m\n\u001b[32m      6\u001b[39m         \u001b[38;5;28mprint\u001b[39m(x)  \u001b[38;5;66;03m# inner function can not modify the outer functions variable.\u001b[39;00m\n\u001b[32m      7\u001b[39m     inner()\n\u001b[32m----> \u001b[39m\u001b[32m9\u001b[39m \u001b[43mouter\u001b[49m\u001b[43m(\u001b[49m\u001b[43m)\u001b[49m\n",
      "\u001b[36mCell\u001b[39m\u001b[36m \u001b[39m\u001b[32mIn[29]\u001b[39m\u001b[32m, line 7\u001b[39m, in \u001b[36mouter\u001b[39m\u001b[34m()\u001b[39m\n\u001b[32m      5\u001b[39m     x = x + \u001b[32m9\u001b[39m\n\u001b[32m      6\u001b[39m     \u001b[38;5;28mprint\u001b[39m(x)  \u001b[38;5;66;03m# inner function can not modify the outer functions variable.\u001b[39;00m\n\u001b[32m----> \u001b[39m\u001b[32m7\u001b[39m \u001b[43minner\u001b[49m\u001b[43m(\u001b[49m\u001b[43m)\u001b[49m\n",
      "\u001b[36mCell\u001b[39m\u001b[36m \u001b[39m\u001b[32mIn[29]\u001b[39m\u001b[32m, line 5\u001b[39m, in \u001b[36mouter.<locals>.inner\u001b[39m\u001b[34m()\u001b[39m\n\u001b[32m      4\u001b[39m \u001b[38;5;28;01mdef\u001b[39;00m\u001b[38;5;250m \u001b[39m\u001b[34minner\u001b[39m():\n\u001b[32m----> \u001b[39m\u001b[32m5\u001b[39m     x = \u001b[43mx\u001b[49m + \u001b[32m9\u001b[39m\n\u001b[32m      6\u001b[39m     \u001b[38;5;28mprint\u001b[39m(x)\n",
      "\u001b[31mUnboundLocalError\u001b[39m: cannot access local variable 'x' where it is not associated with a value"
     ]
    }
   ],
   "source": [
    "def outer():\n",
    "    x = 5  # local variable (outer function)\n",
    "\n",
    "    def inner():\n",
    "        x = x + 9\n",
    "        print(x)  # inner function can not modify the outer functions variable.\n",
    "    inner()\n",
    "\n",
    "outer()"
   ]
  },
  {
   "cell_type": "code",
   "execution_count": 30,
   "id": "b85dc8e6",
   "metadata": {},
   "outputs": [
    {
     "name": "stdout",
     "output_type": "stream",
     "text": [
      "14\n"
     ]
    }
   ],
   "source": [
    "def outer():\n",
    "    x = 5  # local variable (outer function)\n",
    "\n",
    "    def inner():\n",
    "        nonlocal x  # nonlocal keyword: to access and modify\n",
    "        x = x + 9\n",
    "        print(x)  # inner function can not modify the outer functions variable.\n",
    "    inner()\n",
    "\n",
    "outer()"
   ]
  },
  {
   "cell_type": "code",
   "execution_count": null,
   "id": "01299b2a",
   "metadata": {},
   "outputs": [],
   "source": []
  },
  {
   "cell_type": "markdown",
   "id": "a55ae032",
   "metadata": {},
   "source": [
    "Built-in Scope:\n",
    "- It contains names that are predefined and always available in any Python program, without needing to import anything.\n",
    "-  print(), len(), sum(), max(), min(), type(), etc."
   ]
  },
  {
   "cell_type": "code",
   "execution_count": 31,
   "id": "0f6656ee",
   "metadata": {},
   "outputs": [
    {
     "name": "stdout",
     "output_type": "stream",
     "text": [
      "13\n",
      "6\n"
     ]
    }
   ],
   "source": [
    "# Built in scope:\n",
    "print(len('Hello world!!'))\n",
    "print(sum([1,2,3]))"
   ]
  },
  {
   "cell_type": "code",
   "execution_count": null,
   "id": "ee6e3e48",
   "metadata": {},
   "outputs": [],
   "source": []
  },
  {
   "cell_type": "markdown",
   "id": "0554c513",
   "metadata": {},
   "source": [
    "### Functions are 1st Class Citizens."
   ]
  },
  {
   "cell_type": "markdown",
   "id": "cc33b50f",
   "metadata": {},
   "source": [
    "Functions are treated like any other objects (int,string, lists etc.)  \n",
    "\n",
    "It can be\n",
    "- assigned to variables.\n",
    "- passed as arguments.\n",
    "- returned from another function\n",
    "- strored in collection "
   ]
  },
  {
   "cell_type": "code",
   "execution_count": 32,
   "id": "2f0c35c6",
   "metadata": {},
   "outputs": [
    {
     "name": "stdout",
     "output_type": "stream",
     "text": [
      "<class 'function'>\n",
      "2744178898912\n"
     ]
    }
   ],
   "source": [
    "# type and id\n",
    "def square(num):\n",
    "    return num**2\n",
    "\n",
    "print(type(square))  # type of function\n",
    "print(id(square)) # where it is stored"
   ]
  },
  {
   "cell_type": "code",
   "execution_count": 33,
   "id": "fb4156fa",
   "metadata": {},
   "outputs": [
    {
     "data": {
      "text/plain": [
       "9"
      ]
     },
     "execution_count": 33,
     "metadata": {},
     "output_type": "execute_result"
    }
   ],
   "source": [
    "# reassingning the result of function to variable.\n",
    "x = square(3)\n",
    "x"
   ]
  },
  {
   "cell_type": "code",
   "execution_count": 34,
   "id": "b24a81ff",
   "metadata": {},
   "outputs": [
    {
     "data": {
      "text/plain": [
       "2744178898912"
      ]
     },
     "execution_count": 34,
     "metadata": {},
     "output_type": "execute_result"
    }
   ],
   "source": [
    "# functions can be assigned to variables. \n",
    "x = square\n",
    "\n",
    "x(5) # calling x\n",
    "id(x)"
   ]
  },
  {
   "cell_type": "code",
   "execution_count": 35,
   "id": "824cd609",
   "metadata": {},
   "outputs": [
    {
     "data": {
      "text/plain": [
       "25"
      ]
     },
     "execution_count": 35,
     "metadata": {},
     "output_type": "execute_result"
    }
   ],
   "source": [
    "# function can be passed as arguments.\n",
    "\n",
    "def num_square(num):\n",
    "    return num**2\n",
    "\n",
    "def call_function(f,x):\n",
    "    return f(x)\n",
    "\n",
    "call_function(num_square,5)"
   ]
  },
  {
   "cell_type": "code",
   "execution_count": 36,
   "id": "c92c6ebb",
   "metadata": {},
   "outputs": [
    {
     "name": "stdout",
     "output_type": "stream",
     "text": [
      "this is inner function\n"
     ]
    }
   ],
   "source": [
    "# functions can be returned from another function.\n",
    "\n",
    "def outer():\n",
    "    def inner():\n",
    "        return 'this is inner function'\n",
    "    return inner\n",
    "\n",
    "x = outer() # x = inner\n",
    "print(x())"
   ]
  },
  {
   "cell_type": "code",
   "execution_count": 37,
   "id": "16b405be",
   "metadata": {},
   "outputs": [
    {
     "name": "stdout",
     "output_type": "stream",
     "text": [
      "[1, 2, 3, 4, <function square at 0x0000027EEDCEF7E0>]\n",
      "100\n"
     ]
    }
   ],
   "source": [
    "# functions can be stored in collection.\n",
    "l = [1,2,3,4,square]\n",
    "print(l)\n",
    "print(l[-1](10))"
   ]
  },
  {
   "cell_type": "code",
   "execution_count": 38,
   "id": "aab0b73e",
   "metadata": {},
   "outputs": [
    {
     "data": {
      "text/plain": [
       "{<function __main__.square(num)>}"
      ]
     },
     "execution_count": 38,
     "metadata": {},
     "output_type": "execute_result"
    }
   ],
   "source": [
    "s = {square}  # function is immutalbe, because we can not store mutable items in set...\n",
    "s"
   ]
  },
  {
   "cell_type": "code",
   "execution_count": 39,
   "id": "28dfa415",
   "metadata": {},
   "outputs": [],
   "source": [
    "# deleting function\n",
    "del square"
   ]
  },
  {
   "cell_type": "code",
   "execution_count": 40,
   "id": "663cedc8",
   "metadata": {},
   "outputs": [
    {
     "name": "stdout",
     "output_type": "stream",
     "text": [
      "7\n"
     ]
    }
   ],
   "source": [
    "# returning function\n",
    "def f():\n",
    "    def x(a,b):\n",
    "        return a+b\n",
    "    return x\n",
    "var1 = f()\n",
    "print(var1(3,4))\n"
   ]
  },
  {
   "cell_type": "code",
   "execution_count": 41,
   "id": "2da883cb",
   "metadata": {},
   "outputs": [
    {
     "name": "stdout",
     "output_type": "stream",
     "text": [
      "inside f2\n",
      "inside f1.\n",
      "None\n"
     ]
    }
   ],
   "source": [
    "# function as argument\n",
    "def f1():\n",
    "    print('inside f1.')\n",
    "def f2(z):\n",
    "    print('inside f2')\n",
    "    return z()\n",
    "print(f2(f1))"
   ]
  },
  {
   "cell_type": "code",
   "execution_count": null,
   "id": "8a4486dc",
   "metadata": {},
   "outputs": [],
   "source": []
  },
  {
   "cell_type": "markdown",
   "id": "4eb2deba",
   "metadata": {},
   "source": [
    "### Lambda Function"
   ]
  },
  {
   "cell_type": "code",
   "execution_count": 42,
   "id": "9911676a",
   "metadata": {},
   "outputs": [
    {
     "data": {
      "text/plain": [
       "49"
      ]
     },
     "execution_count": 42,
     "metadata": {},
     "output_type": "execute_result"
    }
   ],
   "source": [
    "# small, anonymous function defined using lambda keyword.\n",
    "# they are used with Higher Order Function (HOF).\n",
    "\n",
    "square = lambda x:x**2\n",
    "square(7)"
   ]
  },
  {
   "cell_type": "code",
   "execution_count": 43,
   "id": "9077d5be",
   "metadata": {},
   "outputs": [
    {
     "data": {
      "text/plain": [
       "7"
      ]
     },
     "execution_count": 43,
     "metadata": {},
     "output_type": "execute_result"
    }
   ],
   "source": [
    "num_sum = lambda x,y:x+y\n",
    "num_sum(2,5)"
   ]
  },
  {
   "cell_type": "code",
   "execution_count": 44,
   "id": "bdc4f320",
   "metadata": {},
   "outputs": [
    {
     "data": {
      "text/plain": [
       "False"
      ]
     },
     "execution_count": 44,
     "metadata": {},
     "output_type": "execute_result"
    }
   ],
   "source": [
    "a_check = lambda x: 'a' in x\n",
    "a_check('nikshit')"
   ]
  },
  {
   "cell_type": "code",
   "execution_count": 45,
   "id": "786edfb8",
   "metadata": {},
   "outputs": [
    {
     "data": {
      "text/plain": [
       "'even'"
      ]
     },
     "execution_count": 45,
     "metadata": {},
     "output_type": "execute_result"
    }
   ],
   "source": [
    "odd_even = lambda x : 'even' if x%2==0 else 'odd'\n",
    "odd_even(6)"
   ]
  },
  {
   "cell_type": "markdown",
   "id": "25418f34",
   "metadata": {},
   "source": [
    "Higher Order Function (HOF):\n",
    "- Takes one or more functions as arguments\n",
    "- Returns a function as its result."
   ]
  },
  {
   "cell_type": "code",
   "execution_count": 46,
   "id": "b9ee02c8",
   "metadata": {},
   "outputs": [
    {
     "name": "stdout",
     "output_type": "stream",
     "text": [
      "[1, 4, 9, 16, 25, 36, 49]\n"
     ]
    }
   ],
   "source": [
    "def square(x):\n",
    "    return x**2\n",
    "\n",
    "# HOF function: takes a function and a list \n",
    "def transform(function,list_input):   \n",
    "    output = []\n",
    "    for i in list_input:\n",
    "        output.append(function(i))   # square will be used for each i\n",
    "    print(output)\n",
    "\n",
    "l = [1,2,3,4,5,6,7]\n",
    "transform(square,l)"
   ]
  },
  {
   "cell_type": "code",
   "execution_count": 47,
   "id": "5b91b70f",
   "metadata": {},
   "outputs": [
    {
     "name": "stdout",
     "output_type": "stream",
     "text": [
      "[1, 4, 9, 16, 25, 36]\n"
     ]
    }
   ],
   "source": [
    "l = [1,2,3,4,5,6] # using lambda function\n",
    "transform(lambda x: x**2,l)"
   ]
  },
  {
   "cell_type": "code",
   "execution_count": 48,
   "id": "2700f80e",
   "metadata": {},
   "outputs": [
    {
     "name": "stdout",
     "output_type": "stream",
     "text": [
      "[1, 8, 27, 64, 125, 216]\n"
     ]
    }
   ],
   "source": [
    "l = [1,2,3,4,5,6]\n",
    "transform(lambda x: x**3,l)"
   ]
  },
  {
   "cell_type": "code",
   "execution_count": null,
   "id": "c50097dd",
   "metadata": {},
   "outputs": [],
   "source": []
  },
  {
   "cell_type": "markdown",
   "id": "a46d0c6a",
   "metadata": {},
   "source": [
    "### map"
   ]
  },
  {
   "cell_type": "code",
   "execution_count": 49,
   "id": "8ec57180",
   "metadata": {},
   "outputs": [
    {
     "name": "stdout",
     "output_type": "stream",
     "text": [
      "[1, 4, 9, 16, 25, 36]\n"
     ]
    }
   ],
   "source": [
    "# map(fucntion,iterable) : to apply a function to each item in an iterable (like a list or tuple).\n",
    "# return a new iterable (a map object) with the results.\n",
    "\n",
    "x = map(lambda x: x**2,[1,2,3,4,5,6])\n",
    "print(list(x))"
   ]
  },
  {
   "cell_type": "code",
   "execution_count": 50,
   "id": "de5081b9",
   "metadata": {},
   "outputs": [
    {
     "data": {
      "text/plain": [
       "['odd', 'even', 'odd', 'even', 'odd', 'even']"
      ]
     },
     "execution_count": 50,
     "metadata": {},
     "output_type": "execute_result"
    }
   ],
   "source": [
    "l = [1,2,3,4,5,6]\n",
    "list(map(lambda x: 'even' if x%2==0 else 'odd',l))"
   ]
  },
  {
   "cell_type": "code",
   "execution_count": null,
   "id": "ed34203d",
   "metadata": {},
   "outputs": [],
   "source": []
  },
  {
   "cell_type": "markdown",
   "id": "8b38d459",
   "metadata": {},
   "source": [
    "### filter"
   ]
  },
  {
   "cell_type": "code",
   "execution_count": 51,
   "id": "b34fb197",
   "metadata": {},
   "outputs": [
    {
     "data": {
      "text/plain": [
       "[6, 7, 8, 9, 10]"
      ]
     },
     "execution_count": 51,
     "metadata": {},
     "output_type": "execute_result"
    }
   ],
   "source": [
    "# to filter elements from an iterable (like a list or tuple) based on a function that returns True or False.\n",
    "list(filter(lambda x: x>5,[1,2,3,4,5,6,7,8,9,10]))"
   ]
  },
  {
   "cell_type": "code",
   "execution_count": 52,
   "id": "95856821",
   "metadata": {},
   "outputs": [
    {
     "data": {
      "text/plain": [
       "['apple']"
      ]
     },
     "execution_count": 52,
     "metadata": {},
     "output_type": "execute_result"
    }
   ],
   "source": [
    "fruits = ['apple','guava','cherry']\n",
    "list(filter(lambda x: x.startswith('a'),fruits))"
   ]
  },
  {
   "cell_type": "code",
   "execution_count": null,
   "id": "4da528bf",
   "metadata": {},
   "outputs": [],
   "source": []
  },
  {
   "cell_type": "markdown",
   "id": "f310f85b",
   "metadata": {},
   "source": [
    "### reduce"
   ]
  },
  {
   "cell_type": "code",
   "execution_count": 53,
   "id": "ddf92ac3",
   "metadata": {},
   "outputs": [
    {
     "data": {
      "text/plain": [
       "55"
      ]
     },
     "execution_count": 53,
     "metadata": {},
     "output_type": "execute_result"
    }
   ],
   "source": [
    "# to apply a function cumulatively to the items of an iterable, reducing the iterable to a single value. \n",
    "# It’s part of the functools module.\n",
    "\n",
    "import functools\n",
    "functools.reduce(lambda x,y:x+y,[1,2,3,4,5,6,7,8,9,10])"
   ]
  },
  {
   "cell_type": "code",
   "execution_count": 54,
   "id": "e524dd08",
   "metadata": {},
   "outputs": [
    {
     "data": {
      "text/plain": [
       "2"
      ]
     },
     "execution_count": 54,
     "metadata": {},
     "output_type": "execute_result"
    }
   ],
   "source": [
    "# find min\n",
    "functools.reduce(lambda x,y: x if x<y else y, [55,2,3,4,5,6,7,8,98])"
   ]
  },
  {
   "cell_type": "code",
   "execution_count": 55,
   "id": "d5a88498",
   "metadata": {},
   "outputs": [
    {
     "data": {
      "text/plain": [
       "98"
      ]
     },
     "execution_count": 55,
     "metadata": {},
     "output_type": "execute_result"
    }
   ],
   "source": [
    "# find max\n",
    "functools.reduce(lambda x,y: x if x>y else y, [55,2,3,4,5,6,7,8,98])"
   ]
  },
  {
   "cell_type": "code",
   "execution_count": 56,
   "id": "e6f53c3d",
   "metadata": {},
   "outputs": [
    {
     "name": "stdout",
     "output_type": "stream",
     "text": [
      "16\n"
     ]
    }
   ],
   "source": [
    "from functools import reduce\n",
    "\n",
    "numbers = [1, 2, 3]\n",
    "result = reduce(lambda x, y: x + y, numbers, 10)\n",
    "print(result)  # Output: 16 (10 + 1 + 2 + 3)"
   ]
  },
  {
   "cell_type": "code",
   "execution_count": null,
   "id": "b0812477",
   "metadata": {},
   "outputs": [],
   "source": []
  },
  {
   "cell_type": "markdown",
   "id": "18784224",
   "metadata": {},
   "source": [
    "### Recursive function"
   ]
  },
  {
   "cell_type": "code",
   "execution_count": 57,
   "id": "ff76168c",
   "metadata": {},
   "outputs": [
    {
     "data": {
      "text/plain": [
       "12"
      ]
     },
     "execution_count": 57,
     "metadata": {},
     "output_type": "execute_result"
    }
   ],
   "source": [
    "3*4"
   ]
  },
  {
   "cell_type": "markdown",
   "id": "4a4d3d59",
   "metadata": {},
   "source": [
    "- function that calls itself in order to solve a problem"
   ]
  },
  {
   "cell_type": "code",
   "execution_count": 58,
   "id": "fcd7d416",
   "metadata": {},
   "outputs": [
    {
     "data": {
      "text/plain": [
       "30"
      ]
     },
     "execution_count": 58,
     "metadata": {},
     "output_type": "execute_result"
    }
   ],
   "source": [
    "# multiplication function\n",
    "\n",
    "def mul(a,b):\n",
    "    if b==1:\n",
    "        return a\n",
    "    else:\n",
    "        return a + mul(a,b-1)\n",
    "mul(5,6)"
   ]
  },
  {
   "cell_type": "code",
   "execution_count": 59,
   "id": "45328b6f",
   "metadata": {},
   "outputs": [
    {
     "data": {
      "text/plain": [
       "120"
      ]
     },
     "execution_count": 59,
     "metadata": {},
     "output_type": "execute_result"
    }
   ],
   "source": [
    "# factorial\n",
    "\n",
    "def factorial(num):\n",
    "    if num==1:\n",
    "        return 1\n",
    "    else:\n",
    "        return num*factorial(num-1)\n",
    "factorial(5)"
   ]
  },
  {
   "cell_type": "code",
   "execution_count": 60,
   "id": "cc154751",
   "metadata": {},
   "outputs": [
    {
     "data": {
      "text/plain": [
       "'not palindrome'"
      ]
     },
     "execution_count": 60,
     "metadata": {},
     "output_type": "execute_result"
    }
   ],
   "source": [
    "# palindrome string\n",
    "\n",
    "def is_palin(text):\n",
    "    if len(text) <= 1:\n",
    "        return 'palindrome'\n",
    "    else:\n",
    "        if text[0]==text[-1]:\n",
    "            return is_palin(text[1:-1])\n",
    "        else:\n",
    "            return 'not palindrome'\n",
    "        \n",
    "is_palin('python')          \n",
    "            "
   ]
  },
  {
   "cell_type": "code",
   "execution_count": 61,
   "id": "96a3e165",
   "metadata": {},
   "outputs": [
    {
     "data": {
      "text/plain": [
       "8"
      ]
     },
     "execution_count": 61,
     "metadata": {},
     "output_type": "execute_result"
    }
   ],
   "source": [
    "# fibonacci seris.. rabbit problem\n",
    "\n",
    "def fib(m):\n",
    "    if m<=1:\n",
    "        return m\n",
    "    else:\n",
    "        return fib(m-1) + fib(m-2)\n",
    "        \n",
    "fib(6)\n",
    "    "
   ]
  },
  {
   "cell_type": "markdown",
   "id": "f8f3e583",
   "metadata": {},
   "source": [
    "Memoization: \n",
    "- It is a technique used to optimize recursive functions by caching previously computed results. \n",
    "- This prevents the function from recalculating the same values multiple times, significantly improving performance—especially in problems like Fibonacci, dynamic programming, and tree traversal."
   ]
  },
  {
   "cell_type": "code",
   "execution_count": 62,
   "id": "a1a3e681",
   "metadata": {},
   "outputs": [
    {
     "data": {
      "text/plain": [
       "139423224561697880139724382870407283950070256587697307264108962948325571622863290691557658876222521294125"
      ]
     },
     "execution_count": 62,
     "metadata": {},
     "output_type": "execute_result"
    }
   ],
   "source": [
    "def fibonacci(n, memo={}):\n",
    "    if n in memo:\n",
    "        return memo[n]\n",
    "    if n <= 1:\n",
    "        return n\n",
    "    memo[n] = fibonacci(n - 1, memo) + fibonacci(n - 2, memo)\n",
    "    return memo[n]\n",
    "\n",
    "fibonacci(500)"
   ]
  },
  {
   "cell_type": "code",
   "execution_count": 64,
   "id": "0b656ad0",
   "metadata": {},
   "outputs": [
    {
     "name": "stdout",
     "output_type": "stream",
     "text": [
      "[[], [3], [2], [2, 3], [1], [1, 3], [1, 2], [1, 2, 3]]\n"
     ]
    }
   ],
   "source": [
    "def power_set(l):\n",
    "    if len(l) == 0:\n",
    "        return [[]]\n",
    "    else:\n",
    "        subsets = power_set(l[1:])\n",
    "        return subsets + [[l[0]] + subset for subset in subsets]\n",
    "\n",
    "print(power_set([1, 2, 3]))\n"
   ]
  },
  {
   "cell_type": "code",
   "execution_count": null,
   "id": "e1058d85",
   "metadata": {},
   "outputs": [],
   "source": []
  }
 ],
 "metadata": {
  "kernelspec": {
   "display_name": "Python 3",
   "language": "python",
   "name": "python3"
  },
  "language_info": {
   "codemirror_mode": {
    "name": "ipython",
    "version": 3
   },
   "file_extension": ".py",
   "mimetype": "text/x-python",
   "name": "python",
   "nbconvert_exporter": "python",
   "pygments_lexer": "ipython3",
   "version": "3.11.2"
  }
 },
 "nbformat": 4,
 "nbformat_minor": 5
}
